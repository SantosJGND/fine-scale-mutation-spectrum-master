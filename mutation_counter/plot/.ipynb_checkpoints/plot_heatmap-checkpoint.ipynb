{
 "cells": [
  {
   "cell_type": "code",
   "execution_count": 1,
   "metadata": {},
   "outputs": [
    {
     "data": {
      "text/html": [
       "        <script type=\"text/javascript\">\n",
       "        window.PlotlyConfig = {MathJaxConfig: 'local'};\n",
       "        if (window.MathJax) {MathJax.Hub.Config({SVG: {font: \"STIX-Web\"}});}\n",
       "        if (typeof require !== 'undefined') {\n",
       "        require.undef(\"plotly\");\n",
       "        requirejs.config({\n",
       "            paths: {\n",
       "                'plotly': ['https://cdn.plot.ly/plotly-latest.min']\n",
       "            }\n",
       "        });\n",
       "        require(['plotly'], function(Plotly) {\n",
       "            window._Plotly = Plotly;\n",
       "        });\n",
       "        }\n",
       "        </script>\n",
       "        "
      ]
     },
     "metadata": {},
     "output_type": "display_data"
    }
   ],
   "source": [
    "import sys\n",
    "import argparse\n",
    "import numpy as np\n",
    "from scipy.stats import chi2_contingency\n",
    "from itertools import product\n",
    "import itertools as it\n",
    "\n",
    "from _plotly_future_ import v4_subplots\n",
    "import plotly.graph_objs as go\n",
    "from plotly.offline import download_plotlyjs, init_notebook_mode, plot, iplot\n",
    "from plotly.graph_objs import *\n",
    "\n",
    "from ipywidgets import interact, interactive, fixed, interact_manual\n",
    "import ipywidgets as widgets\n",
    "init_notebook_mode(connected=True)\n",
    "\n"
   ]
  },
  {
   "cell_type": "markdown",
   "metadata": {},
   "source": [
    "# Mutation study\n",
    "\n",
    "### Population pairs and other arguments\n"
   ]
  },
  {
   "cell_type": "code",
   "execution_count": 2,
   "metadata": {},
   "outputs": [],
   "source": [
    "\n",
    "comp = {\n",
    "    'A': 'T',\n",
    "    'C': 'G',\n",
    "    'G': 'C',\n",
    "    'T': 'A',\n",
    "}\n",
    "ypos, ylabel = [], []\n",
    "\n",
    "mut_index = {}\n",
    "row, col = 0, 0\n",
    "\n",
    "labels= []\n",
    "\n",
    "for b2, d in [('A', 'T'), ('A', 'C'), ('A', 'G'),\n",
    "              ('C', 'T'), ('C', 'G'), ('C', 'A')]:\n",
    "    \n",
    "    for b1 in 'ACGT':\n",
    "        row_lab= []\n",
    "        col = 0\n",
    "        ypos.append(row+0.5)\n",
    "        if b1 == 'T' and b2 == 'C' and d == 'A':\n",
    "            ylabel.append('5\\'-'+b1)\n",
    "        elif b1 == 'C':\n",
    "            ylabel.append(b2+r'$\\to$'+d+r'  '+b1)\n",
    "        else:\n",
    "            ylabel.append(b1)\n",
    "        for b3 in 'ACGT':\n",
    "            mut_index[(b1+b2+b3, d)] = (row, col)\n",
    "            \n",
    "            mut_index[(comp[b3]+comp[b2]+comp[b1], comp[d])] = (row, col)\n",
    "            row_lab.append('_'.join([b1+b2+b3, d]))\n",
    "            \n",
    "            col += 1\n",
    "        labels.append(row_lab)\n",
    "        row += 1\n",
    "\n"
   ]
  },
  {
   "cell_type": "markdown",
   "metadata": {},
   "source": [
    "## Analysis parameters and input "
   ]
  },
  {
   "cell_type": "code",
   "execution_count": 32,
   "metadata": {},
   "outputs": [],
   "source": [
    "from plot_utilities import Population, frequency_breakdown, heatmap, make_titles\n",
    "\n",
    "pops= ['littoralis', 'brevicaudus', 'tcheliensis', 'lasiotis', 'mulatta', 'CH']\n",
    "\n",
    "focus= 'brevicaudus'\n",
    "population_pairs= [[focus,x] for x in pops]\n",
    "population_pairs= list(it.chain(*population_pairs))\n",
    "\n",
    "#population_pairs= ['k3', 'k1']\n",
    "\n",
    "align= 'rheMac10'\n",
    "vcf_data= 'vcf_data'\n",
    "chromosomes= list(range(1,21))\n",
    "chromosomes= [str(x) for x in chromosomes]\n",
    "#chromosomes= [\"1\"]\n",
    "individually= False\n",
    "exclude= True\n",
    "p_value= 1e-5\n",
    "frequency_range= [0.05,0.95]\n"
   ]
  },
  {
   "cell_type": "markdown",
   "metadata": {},
   "source": [
    "### Processing parameters"
   ]
  },
  {
   "cell_type": "code",
   "execution_count": 33,
   "metadata": {},
   "outputs": [],
   "source": [
    "\n",
    "\n",
    "pop_pair_names= zip(population_pairs[::2],\n",
    "                           population_pairs[1::2])\n",
    "\n",
    "pop_pair_names= ['-'.join(list(x)) for x in pop_pair_names]\n",
    "\n",
    "population_pairs= zip(population_pairs[::2],\n",
    "                           population_pairs[1::2])\n",
    "\n",
    "for chromosome in chromosomes:\n",
    "    assert chromosome == 'X' or int(chromosome) in range(1, 23)\n",
    "if individually:\n",
    "    chromosome_groups = [[chromosome] for chromosome in chromosomes]\n",
    "else:\n",
    "    chromosome_groups = [chromosomes]\n",
    "\n"
   ]
  },
  {
   "cell_type": "markdown",
   "metadata": {},
   "source": [
    "### Extract counts by kmer, compare across population pairs"
   ]
  },
  {
   "cell_type": "code",
   "execution_count": 34,
   "metadata": {
    "scrolled": false
   },
   "outputs": [
    {
     "name": "stdout",
     "output_type": "stream",
     "text": [
      "['cpgIslandExtUnmasked.txt.gz', 'nestedRepeats.txt.gz', 'microsat.txt.gz']\n"
     ]
    }
   ],
   "source": [
    "\n",
    "heatmaps = [\n",
    "    heatmap(\n",
    "        chromosomes, population_pair, frequency_range, exclude, p_value, align, vcf_data\n",
    "    ) for chromosomes, population_pair in product(chromosome_groups,\n",
    "                                                  population_pairs)\n",
    "]\n",
    "\n",
    "ratio_grids, significant_indices = zip(*heatmaps)\n",
    "\n",
    "plot_title, column_titles = make_titles(\n",
    "    chromosome_groups, population_pairs, frequency_range, exclude, p_value\n",
    ")\n",
    "\n",
    "from plot_utilities import read_exclude\n",
    "\n",
    "files= read_exclude()\n",
    "print(files)"
   ]
  },
  {
   "cell_type": "markdown",
   "metadata": {},
   "source": [
    "## Plot"
   ]
  },
  {
   "cell_type": "code",
   "execution_count": 35,
   "metadata": {},
   "outputs": [
    {
     "data": {
      "application/vnd.plotly.v1+json": {
       "config": {
        "linkText": "Export to plot.ly",
        "plotlyServerURL": "https://plot.ly",
        "showLink": false
       },
       "data": [
        {
         "text": [
          [
           "AAA_T",
           "AAC_T",
           "AAG_T",
           "AAT_T"
          ],
          [
           "CAA_T",
           "CAC_T",
           "CAG_T",
           "CAT_T"
          ],
          [
           "GAA_T",
           "GAC_T",
           "GAG_T",
           "GAT_T"
          ],
          [
           "TAA_T",
           "TAC_T",
           "TAG_T",
           "TAT_T"
          ],
          [
           "AAA_C",
           "AAC_C",
           "AAG_C",
           "AAT_C"
          ],
          [
           "CAA_C",
           "CAC_C",
           "CAG_C",
           "CAT_C"
          ],
          [
           "GAA_C",
           "GAC_C",
           "GAG_C",
           "GAT_C"
          ],
          [
           "TAA_C",
           "TAC_C",
           "TAG_C",
           "TAT_C"
          ],
          [
           "AAA_G",
           "AAC_G",
           "AAG_G",
           "AAT_G"
          ],
          [
           "CAA_G",
           "CAC_G",
           "CAG_G",
           "CAT_G"
          ],
          [
           "GAA_G",
           "GAC_G",
           "GAG_G",
           "GAT_G"
          ],
          [
           "TAA_G",
           "TAC_G",
           "TAG_G",
           "TAT_G"
          ],
          [
           "ACA_T",
           "ACC_T",
           "ACG_T",
           "ACT_T"
          ],
          [
           "CCA_T",
           "CCC_T",
           "CCG_T",
           "CCT_T"
          ],
          [
           "GCA_T",
           "GCC_T",
           "GCG_T",
           "GCT_T"
          ],
          [
           "TCA_T",
           "TCC_T",
           "TCG_T",
           "TCT_T"
          ],
          [
           "ACA_G",
           "ACC_G",
           "ACG_G",
           "ACT_G"
          ],
          [
           "CCA_G",
           "CCC_G",
           "CCG_G",
           "CCT_G"
          ],
          [
           "GCA_G",
           "GCC_G",
           "GCG_G",
           "GCT_G"
          ],
          [
           "TCA_G",
           "TCC_G",
           "TCG_G",
           "TCT_G"
          ],
          [
           "ACA_A",
           "ACC_A",
           "ACG_A",
           "ACT_A"
          ],
          [
           "CCA_A",
           "CCC_A",
           "CCG_A",
           "CCT_A"
          ],
          [
           "GCA_A",
           "GCC_A",
           "GCG_A",
           "GCT_A"
          ],
          [
           "TCA_A",
           "TCC_A",
           "TCG_A",
           "TCT_A"
          ]
         ],
         "type": "heatmap",
         "uid": "28e3512f-f7c7-4ebb-af7a-def06c32e573",
         "xaxis": "x",
         "yaxis": "y",
         "z": [
          [
           0.998824608066958,
           0.9856427530332874,
           0.9732852957191611,
           1.0098280729623392
          ],
          [
           1.0005652363091975,
           1.0020042998924508,
           0.9858585246613828,
           1.0025379474386802
          ],
          [
           1.008059885466618,
           0.9891538030623467,
           0.9867643076917264,
           0.9838725973691353
          ],
          [
           1.0253623662583395,
           0.9827480244849677,
           0.9868827580126931,
           1.0120546132521857
          ],
          [
           0.9968247381330899,
           0.9888971472426015,
           1.0146277938487887,
           0.9935141612952134
          ],
          [
           1.0082497638071433,
           1.008927143198469,
           1.0170825324846886,
           0.9967853944631804
          ],
          [
           0.9952058420167615,
           1.0002060819911873,
           0.998826277526976,
           1.005736107790642
          ],
          [
           0.9922132884097639,
           0.9883665893704454,
           1.0225417790855575,
           0.9976030175078683
          ],
          [
           0.9956413682489546,
           0.9948077487173074,
           0.9790162517447937,
           1.0066398274805965
          ],
          [
           0.9963791779733653,
           0.98366532250501,
           0.9937273818646496,
           0.9927038038436808
          ],
          [
           0.9885910973494432,
           0.9936947032808696,
           0.9890147637770851,
           0.995326051144671
          ],
          [
           0.9941399074374221,
           0.998166620948792,
           0.9876037721735257,
           0.9973823785351746
          ],
          [
           1.0009723581513403,
           1.0011613073107828,
           1.0210239447851075,
           0.9903787946317069
          ],
          [
           1.003501998101322,
           0.9985189553003654,
           1.0204432669377463,
           1.0042075506166404
          ],
          [
           1.0004328047186644,
           1.0036557110452924,
           1.0204208572374833,
           0.9969478462519399
          ],
          [
           0.9998792875537293,
           1.006535930399659,
           1.0187273787126816,
           0.9984468206334167
          ],
          [
           0.9902533597643942,
           1.0101182287491461,
           0.9688386855104597,
           1.0003791567351505
          ],
          [
           1.002190443645724,
           1.019642791468596,
           1.0161887567770544,
           1.016092590899895
          ],
          [
           0.98398040750931,
           0.9941576649644688,
           0.9861902356046578,
           0.9924490681657971
          ],
          [
           0.9910944121946063,
           1.0011091187606809,
           0.9622181557673953,
           0.9934408437339096
          ],
          [
           0.9963601742088591,
           1.0037904154405652,
           0.9633382137552504,
           0.9944675208312264
          ],
          [
           0.9664226048009542,
           0.9962266547584253,
           0.9688085468572964,
           0.9840321131674437
          ],
          [
           0.9940671122196616,
           1.0173899843735978,
           0.9680421284649526,
           1.0046854501317806
          ],
          [
           0.9945700435566683,
           0.9979474053894217,
           0.9756710901112589,
           1.0045124757963924
          ]
         ],
         "zmax": 1.15,
         "zmin": 0.85
        },
        {
         "line": {
          "color": "white",
          "width": 3
         },
         "mode": "markers",
         "showlegend": false,
         "type": "scatter",
         "uid": "d7de05a4-3379-497f-836c-1b6f8b415f52",
         "x": [
          2,
          2
         ],
         "xaxis": "x",
         "y": [
          12,
          13
         ],
         "yaxis": "y"
        },
        {
         "line": {
          "color": "black",
          "width": 2
         },
         "mode": "lines",
         "showlegend": false,
         "type": "scatter",
         "uid": "9d841e98-844d-4d4b-b2b2-579a22b1dcc7",
         "x": [
          -0.5,
          3.5
         ],
         "xaxis": "x",
         "y": [
          3.5,
          3.5
         ],
         "yaxis": "y"
        },
        {
         "line": {
          "color": "black",
          "width": 2
         },
         "mode": "lines",
         "showlegend": false,
         "type": "scatter",
         "uid": "4100b2c3-407d-4fb9-9083-03341e744522",
         "x": [
          -0.5,
          3.5
         ],
         "xaxis": "x",
         "y": [
          7.5,
          7.5
         ],
         "yaxis": "y"
        },
        {
         "line": {
          "color": "black",
          "width": 2
         },
         "mode": "lines",
         "showlegend": false,
         "type": "scatter",
         "uid": "bdb59794-e537-4db6-b992-5c75464c7d01",
         "x": [
          -0.5,
          3.5
         ],
         "xaxis": "x",
         "y": [
          11.5,
          11.5
         ],
         "yaxis": "y"
        },
        {
         "line": {
          "color": "black",
          "width": 2
         },
         "mode": "lines",
         "showlegend": false,
         "type": "scatter",
         "uid": "e9bc4d41-8b32-4607-aacf-87782e4912ae",
         "x": [
          -0.5,
          3.5
         ],
         "xaxis": "x",
         "y": [
          15.5,
          15.5
         ],
         "yaxis": "y"
        },
        {
         "line": {
          "color": "black",
          "width": 2
         },
         "mode": "lines",
         "showlegend": false,
         "type": "scatter",
         "uid": "abee8ae9-ab0a-4bcb-8ba8-e3f8fd8c5882",
         "x": [
          -0.5,
          3.5
         ],
         "xaxis": "x",
         "y": [
          19.5,
          19.5
         ],
         "yaxis": "y"
        },
        {
         "text": [
          [
           "AAA_T",
           "AAC_T",
           "AAG_T",
           "AAT_T"
          ],
          [
           "CAA_T",
           "CAC_T",
           "CAG_T",
           "CAT_T"
          ],
          [
           "GAA_T",
           "GAC_T",
           "GAG_T",
           "GAT_T"
          ],
          [
           "TAA_T",
           "TAC_T",
           "TAG_T",
           "TAT_T"
          ],
          [
           "AAA_C",
           "AAC_C",
           "AAG_C",
           "AAT_C"
          ],
          [
           "CAA_C",
           "CAC_C",
           "CAG_C",
           "CAT_C"
          ],
          [
           "GAA_C",
           "GAC_C",
           "GAG_C",
           "GAT_C"
          ],
          [
           "TAA_C",
           "TAC_C",
           "TAG_C",
           "TAT_C"
          ],
          [
           "AAA_G",
           "AAC_G",
           "AAG_G",
           "AAT_G"
          ],
          [
           "CAA_G",
           "CAC_G",
           "CAG_G",
           "CAT_G"
          ],
          [
           "GAA_G",
           "GAC_G",
           "GAG_G",
           "GAT_G"
          ],
          [
           "TAA_G",
           "TAC_G",
           "TAG_G",
           "TAT_G"
          ],
          [
           "ACA_T",
           "ACC_T",
           "ACG_T",
           "ACT_T"
          ],
          [
           "CCA_T",
           "CCC_T",
           "CCG_T",
           "CCT_T"
          ],
          [
           "GCA_T",
           "GCC_T",
           "GCG_T",
           "GCT_T"
          ],
          [
           "TCA_T",
           "TCC_T",
           "TCG_T",
           "TCT_T"
          ],
          [
           "ACA_G",
           "ACC_G",
           "ACG_G",
           "ACT_G"
          ],
          [
           "CCA_G",
           "CCC_G",
           "CCG_G",
           "CCT_G"
          ],
          [
           "GCA_G",
           "GCC_G",
           "GCG_G",
           "GCT_G"
          ],
          [
           "TCA_G",
           "TCC_G",
           "TCG_G",
           "TCT_G"
          ],
          [
           "ACA_A",
           "ACC_A",
           "ACG_A",
           "ACT_A"
          ],
          [
           "CCA_A",
           "CCC_A",
           "CCG_A",
           "CCT_A"
          ],
          [
           "GCA_A",
           "GCC_A",
           "GCG_A",
           "GCT_A"
          ],
          [
           "TCA_A",
           "TCC_A",
           "TCG_A",
           "TCT_A"
          ]
         ],
         "type": "heatmap",
         "uid": "ba5918ce-ec6e-46f9-91e0-5d60998d9cb0",
         "xaxis": "x2",
         "yaxis": "y2",
         "z": [
          [
           1,
           1,
           1,
           1
          ],
          [
           1,
           1,
           1,
           1
          ],
          [
           1,
           1,
           1,
           1
          ],
          [
           1,
           1,
           1,
           1
          ],
          [
           1,
           1,
           1,
           1
          ],
          [
           1,
           1,
           1,
           1
          ],
          [
           1,
           1,
           1,
           1
          ],
          [
           1,
           1,
           1,
           1
          ],
          [
           1,
           1,
           1,
           1
          ],
          [
           1,
           1,
           1,
           1
          ],
          [
           1,
           1,
           1,
           1
          ],
          [
           1,
           1,
           1,
           1
          ],
          [
           1,
           1,
           1,
           1
          ],
          [
           1,
           1,
           1,
           1
          ],
          [
           1,
           1,
           1,
           1
          ],
          [
           1,
           1,
           1,
           1
          ],
          [
           1,
           1,
           1,
           1
          ],
          [
           1,
           1,
           1,
           1
          ],
          [
           1,
           1,
           1,
           1
          ],
          [
           1,
           1,
           1,
           1
          ],
          [
           1,
           1,
           1,
           1
          ],
          [
           1,
           1,
           1,
           1
          ],
          [
           1,
           1,
           1,
           1
          ],
          [
           1,
           1,
           1,
           1
          ]
         ],
         "zmax": 1.15,
         "zmin": 0.85
        },
        {
         "line": {
          "color": "black",
          "width": 2
         },
         "mode": "lines",
         "showlegend": false,
         "type": "scatter",
         "uid": "d28a955f-b9c0-4f37-83fb-267f98c928fe",
         "x": [
          -0.5,
          3.5
         ],
         "xaxis": "x2",
         "y": [
          3.5,
          3.5
         ],
         "yaxis": "y2"
        },
        {
         "line": {
          "color": "black",
          "width": 2
         },
         "mode": "lines",
         "showlegend": false,
         "type": "scatter",
         "uid": "946290a5-5a4a-4a7b-8f9f-f87aa279a090",
         "x": [
          -0.5,
          3.5
         ],
         "xaxis": "x2",
         "y": [
          7.5,
          7.5
         ],
         "yaxis": "y2"
        },
        {
         "line": {
          "color": "black",
          "width": 2
         },
         "mode": "lines",
         "showlegend": false,
         "type": "scatter",
         "uid": "669d31e7-f593-4fec-b637-dd9c0b431e67",
         "x": [
          -0.5,
          3.5
         ],
         "xaxis": "x2",
         "y": [
          11.5,
          11.5
         ],
         "yaxis": "y2"
        },
        {
         "line": {
          "color": "black",
          "width": 2
         },
         "mode": "lines",
         "showlegend": false,
         "type": "scatter",
         "uid": "d0d08e58-cc02-4370-a063-7a435d5f62ad",
         "x": [
          -0.5,
          3.5
         ],
         "xaxis": "x2",
         "y": [
          15.5,
          15.5
         ],
         "yaxis": "y2"
        },
        {
         "line": {
          "color": "black",
          "width": 2
         },
         "mode": "lines",
         "showlegend": false,
         "type": "scatter",
         "uid": "c65570ca-ae7e-4ac7-b6f6-d8309e803f45",
         "x": [
          -0.5,
          3.5
         ],
         "xaxis": "x2",
         "y": [
          19.5,
          19.5
         ],
         "yaxis": "y2"
        },
        {
         "text": [
          [
           "AAA_T",
           "AAC_T",
           "AAG_T",
           "AAT_T"
          ],
          [
           "CAA_T",
           "CAC_T",
           "CAG_T",
           "CAT_T"
          ],
          [
           "GAA_T",
           "GAC_T",
           "GAG_T",
           "GAT_T"
          ],
          [
           "TAA_T",
           "TAC_T",
           "TAG_T",
           "TAT_T"
          ],
          [
           "AAA_C",
           "AAC_C",
           "AAG_C",
           "AAT_C"
          ],
          [
           "CAA_C",
           "CAC_C",
           "CAG_C",
           "CAT_C"
          ],
          [
           "GAA_C",
           "GAC_C",
           "GAG_C",
           "GAT_C"
          ],
          [
           "TAA_C",
           "TAC_C",
           "TAG_C",
           "TAT_C"
          ],
          [
           "AAA_G",
           "AAC_G",
           "AAG_G",
           "AAT_G"
          ],
          [
           "CAA_G",
           "CAC_G",
           "CAG_G",
           "CAT_G"
          ],
          [
           "GAA_G",
           "GAC_G",
           "GAG_G",
           "GAT_G"
          ],
          [
           "TAA_G",
           "TAC_G",
           "TAG_G",
           "TAT_G"
          ],
          [
           "ACA_T",
           "ACC_T",
           "ACG_T",
           "ACT_T"
          ],
          [
           "CCA_T",
           "CCC_T",
           "CCG_T",
           "CCT_T"
          ],
          [
           "GCA_T",
           "GCC_T",
           "GCG_T",
           "GCT_T"
          ],
          [
           "TCA_T",
           "TCC_T",
           "TCG_T",
           "TCT_T"
          ],
          [
           "ACA_G",
           "ACC_G",
           "ACG_G",
           "ACT_G"
          ],
          [
           "CCA_G",
           "CCC_G",
           "CCG_G",
           "CCT_G"
          ],
          [
           "GCA_G",
           "GCC_G",
           "GCG_G",
           "GCT_G"
          ],
          [
           "TCA_G",
           "TCC_G",
           "TCG_G",
           "TCT_G"
          ],
          [
           "ACA_A",
           "ACC_A",
           "ACG_A",
           "ACT_A"
          ],
          [
           "CCA_A",
           "CCC_A",
           "CCG_A",
           "CCT_A"
          ],
          [
           "GCA_A",
           "GCC_A",
           "GCG_A",
           "GCT_A"
          ],
          [
           "TCA_A",
           "TCC_A",
           "TCG_A",
           "TCT_A"
          ]
         ],
         "type": "heatmap",
         "uid": "29dffc7b-3612-4d86-b944-2eef3f9ba0ef",
         "xaxis": "x3",
         "yaxis": "y3",
         "z": [
          [
           0.9760451526670547,
           0.9728225871843307,
           0.9876076562210296,
           0.9869292466891175
          ],
          [
           0.9854113490781925,
           1.0122327788350542,
           0.9902194633248826,
           0.9903674082058151
          ],
          [
           1.0057761024110947,
           0.9733690948072578,
           0.9930312814433945,
           0.9741424804777109
          ],
          [
           0.9864834595943743,
           0.9882838704794038,
           0.9696791378919097,
           0.981220450062029
          ],
          [
           0.9864267895468838,
           0.9967334959369892,
           0.9962838848896207,
           0.9774575442640592
          ],
          [
           0.9953375828613048,
           1.0176705600906173,
           1.0082194145311716,
           1.0001187881236442
          ],
          [
           0.9956874553412842,
           1.0154499179554377,
           1.0093483915377748,
           1.0123238999098896
          ],
          [
           0.9927508688310368,
           0.9988826018240596,
           1.0016974804212035,
           0.9999263732286245
          ],
          [
           0.9947755099465286,
           0.9987058934821148,
           0.9927461046076709,
           0.9995930867754167
          ],
          [
           1.0151051406420053,
           1.0138034062421468,
           1.0165556172721406,
           1.0034749037659805
          ],
          [
           1.0018773541231314,
           1.010102374569471,
           1.006286398717217,
           1.0089099416985872
          ],
          [
           0.9974853297923132,
           0.9969190812316877,
           0.9990038160402895,
           0.9901890730656101
          ],
          [
           0.9883809345100295,
           0.9980456873991156,
           1.0087745193738842,
           0.9877484276223318
          ],
          [
           1.0024565778464556,
           1.007718201797712,
           1.0248080449250014,
           1.0025966856687718
          ],
          [
           0.9966096330097113,
           1.008961555187656,
           1.0148778353527856,
           0.996493096638539
          ],
          [
           0.9852035149520092,
           1.004604726452074,
           1.006136171920736,
           0.9907349495840588
          ],
          [
           0.9997620956216147,
           1.0203611872863583,
           1.0091745257353781,
           0.9907051064339025
          ],
          [
           0.9952319036623811,
           1.0324020483516634,
           1.0497868132483257,
           1.0068498302171145
          ],
          [
           0.9982956913884299,
           1.0029903314417548,
           1.0239462532372068,
           0.9956231731943598
          ],
          [
           0.9960011363658213,
           1.0060972612940176,
           0.9928207590558265,
           0.9876635076524705
          ],
          [
           0.9939790993642167,
           0.9981146976982412,
           0.9871195095625789,
           0.9869984010947593
          ],
          [
           0.9925975535751059,
           1.0417537516401452,
           1.0148076389960725,
           0.9943078139502498
          ],
          [
           0.9918595046219175,
           1.0205133311172887,
           0.9907335932560568,
           0.9957937182642687
          ],
          [
           0.9793651732237535,
           1.0105445272091114,
           0.9932575717527594,
           0.9756897520318274
          ]
         ],
         "zmax": 1.15,
         "zmin": 0.85
        },
        {
         "line": {
          "color": "white",
          "width": 3
         },
         "mode": "markers",
         "showlegend": false,
         "type": "scatter",
         "uid": "7a27c69c-a9ea-4f95-af82-fbbcd36beddb",
         "x": [
          2
         ],
         "xaxis": "x3",
         "y": [
          13
         ],
         "yaxis": "y3"
        },
        {
         "line": {
          "color": "black",
          "width": 2
         },
         "mode": "lines",
         "showlegend": false,
         "type": "scatter",
         "uid": "e0c913d2-4dab-445d-8e07-c320d0681473",
         "x": [
          -0.5,
          3.5
         ],
         "xaxis": "x3",
         "y": [
          3.5,
          3.5
         ],
         "yaxis": "y3"
        },
        {
         "line": {
          "color": "black",
          "width": 2
         },
         "mode": "lines",
         "showlegend": false,
         "type": "scatter",
         "uid": "45e0b654-61d5-411d-9eda-c8b35e5afe78",
         "x": [
          -0.5,
          3.5
         ],
         "xaxis": "x3",
         "y": [
          7.5,
          7.5
         ],
         "yaxis": "y3"
        },
        {
         "line": {
          "color": "black",
          "width": 2
         },
         "mode": "lines",
         "showlegend": false,
         "type": "scatter",
         "uid": "4d5fe2dc-1f6b-42bc-a9e9-3e8401f88d6b",
         "x": [
          -0.5,
          3.5
         ],
         "xaxis": "x3",
         "y": [
          11.5,
          11.5
         ],
         "yaxis": "y3"
        },
        {
         "line": {
          "color": "black",
          "width": 2
         },
         "mode": "lines",
         "showlegend": false,
         "type": "scatter",
         "uid": "7791607b-10fe-48a1-9933-ced1461e7a53",
         "x": [
          -0.5,
          3.5
         ],
         "xaxis": "x3",
         "y": [
          15.5,
          15.5
         ],
         "yaxis": "y3"
        },
        {
         "line": {
          "color": "black",
          "width": 2
         },
         "mode": "lines",
         "showlegend": false,
         "type": "scatter",
         "uid": "014ed973-8d80-4de2-8548-7d6190f9aec4",
         "x": [
          -0.5,
          3.5
         ],
         "xaxis": "x3",
         "y": [
          19.5,
          19.5
         ],
         "yaxis": "y3"
        },
        {
         "text": [
          [
           "AAA_T",
           "AAC_T",
           "AAG_T",
           "AAT_T"
          ],
          [
           "CAA_T",
           "CAC_T",
           "CAG_T",
           "CAT_T"
          ],
          [
           "GAA_T",
           "GAC_T",
           "GAG_T",
           "GAT_T"
          ],
          [
           "TAA_T",
           "TAC_T",
           "TAG_T",
           "TAT_T"
          ],
          [
           "AAA_C",
           "AAC_C",
           "AAG_C",
           "AAT_C"
          ],
          [
           "CAA_C",
           "CAC_C",
           "CAG_C",
           "CAT_C"
          ],
          [
           "GAA_C",
           "GAC_C",
           "GAG_C",
           "GAT_C"
          ],
          [
           "TAA_C",
           "TAC_C",
           "TAG_C",
           "TAT_C"
          ],
          [
           "AAA_G",
           "AAC_G",
           "AAG_G",
           "AAT_G"
          ],
          [
           "CAA_G",
           "CAC_G",
           "CAG_G",
           "CAT_G"
          ],
          [
           "GAA_G",
           "GAC_G",
           "GAG_G",
           "GAT_G"
          ],
          [
           "TAA_G",
           "TAC_G",
           "TAG_G",
           "TAT_G"
          ],
          [
           "ACA_T",
           "ACC_T",
           "ACG_T",
           "ACT_T"
          ],
          [
           "CCA_T",
           "CCC_T",
           "CCG_T",
           "CCT_T"
          ],
          [
           "GCA_T",
           "GCC_T",
           "GCG_T",
           "GCT_T"
          ],
          [
           "TCA_T",
           "TCC_T",
           "TCG_T",
           "TCT_T"
          ],
          [
           "ACA_G",
           "ACC_G",
           "ACG_G",
           "ACT_G"
          ],
          [
           "CCA_G",
           "CCC_G",
           "CCG_G",
           "CCT_G"
          ],
          [
           "GCA_G",
           "GCC_G",
           "GCG_G",
           "GCT_G"
          ],
          [
           "TCA_G",
           "TCC_G",
           "TCG_G",
           "TCT_G"
          ],
          [
           "ACA_A",
           "ACC_A",
           "ACG_A",
           "ACT_A"
          ],
          [
           "CCA_A",
           "CCC_A",
           "CCG_A",
           "CCT_A"
          ],
          [
           "GCA_A",
           "GCC_A",
           "GCG_A",
           "GCT_A"
          ],
          [
           "TCA_A",
           "TCC_A",
           "TCG_A",
           "TCT_A"
          ]
         ],
         "type": "heatmap",
         "uid": "180611e9-34d0-4061-bdcc-68bb27eb1a24",
         "xaxis": "x4",
         "yaxis": "y4",
         "z": [
          [
           0.9925952604639957,
           0.971777861918545,
           0.9752753238388177,
           1.006238471973837
          ],
          [
           0.9913168525233412,
           1.001674085097409,
           0.982906040042061,
           1.0001051036540465
          ],
          [
           1.011711810740383,
           0.9931590770949847,
           0.9830190469594913,
           0.975742681527983
          ],
          [
           1.0162283487780512,
           0.9802615999200723,
           0.9728393390116399,
           1.0149459112384784
          ],
          [
           0.9931391242408232,
           0.984624185387457,
           1.0290270146256792,
           0.9883782476988319
          ],
          [
           1.0021087140177336,
           1.01192695228324,
           1.0271756846645907,
           0.9905479849893422
          ],
          [
           0.9860589004106398,
           0.983103910407792,
           1.0046670671048517,
           1.0019810666902271
          ],
          [
           0.9886010881023459,
           0.9774455360639174,
           1.0235044685940442,
           0.9889910013148402
          ],
          [
           0.9882376604046195,
           0.9872901170155112,
           0.9674630302913092,
           1.0089580109547667
          ],
          [
           0.9897517303128157,
           0.9775104583389251,
           0.9858373806882171,
           0.9823434536369755
          ],
          [
           0.9767980763216905,
           0.9840139968246303,
           0.9777948864598687,
           0.9903573663980157
          ],
          [
           0.9893658498604911,
           0.9903704368825017,
           0.9752595248353579,
           0.9940625565993736
          ],
          [
           1.001955941911913,
           1.0047928579838648,
           1.0229649902093065,
           0.9873172959911856
          ],
          [
           1.0083344328523987,
           1.005414464484538,
           1.030657503170476,
           1.0091810923173066
          ],
          [
           1.0020169830536496,
           1.0156374888876207,
           1.0345493955661142,
           1.003652648254406
          ],
          [
           1.0056137977676936,
           1.0152902592886315,
           1.029478596668299,
           1.0070637300240948
          ],
          [
           0.9818479835787381,
           1.0055667380728146,
           0.9610132432153123,
           0.9972743227920314
          ],
          [
           1.00836746470093,
           1.0426618575570954,
           1.0469284204790503,
           1.027550930751047
          ],
          [
           0.978068019800352,
           0.9992594980282915,
           0.9717797340134309,
           0.992759384108472
          ],
          [
           0.9885477765561465,
           1.005529571108664,
           0.9641180915343004,
           0.9980388952351881
          ],
          [
           0.9974453781514264,
           1.010287600519159,
           0.9505644618259831,
           0.9989504558018304
          ],
          [
           0.9710056428588844,
           1.0132954033881931,
           0.9505401558661876,
           0.9814869621614811
          ],
          [
           1.00260939934217,
           1.0335094328400942,
           0.9637889845947806,
           1.0028119841612069
          ],
          [
           0.9921862750449849,
           1.0091004446538643,
           0.9646434019303157,
           1.0123659737239283
          ]
         ],
         "zmax": 1.15,
         "zmin": 0.85
        },
        {
         "line": {
          "color": "white",
          "width": 3
         },
         "mode": "markers",
         "showlegend": false,
         "type": "scatter",
         "uid": "b73591f8-6774-4128-a874-c562527a048b",
         "x": [
          2,
          3,
          2,
          2,
          2,
          2
         ],
         "xaxis": "x4",
         "y": [
          8,
          9,
          12,
          13,
          14,
          15
         ],
         "yaxis": "y4"
        },
        {
         "line": {
          "color": "black",
          "width": 2
         },
         "mode": "lines",
         "showlegend": false,
         "type": "scatter",
         "uid": "c89064ba-befb-41fe-ac35-ba67c9579094",
         "x": [
          -0.5,
          3.5
         ],
         "xaxis": "x4",
         "y": [
          3.5,
          3.5
         ],
         "yaxis": "y4"
        },
        {
         "line": {
          "color": "black",
          "width": 2
         },
         "mode": "lines",
         "showlegend": false,
         "type": "scatter",
         "uid": "716ac13e-e3d2-4ed9-b7ad-fc66ff6c09c1",
         "x": [
          -0.5,
          3.5
         ],
         "xaxis": "x4",
         "y": [
          7.5,
          7.5
         ],
         "yaxis": "y4"
        },
        {
         "line": {
          "color": "black",
          "width": 2
         },
         "mode": "lines",
         "showlegend": false,
         "type": "scatter",
         "uid": "60bd5c76-7d11-467b-8d81-a752e5203e1e",
         "x": [
          -0.5,
          3.5
         ],
         "xaxis": "x4",
         "y": [
          11.5,
          11.5
         ],
         "yaxis": "y4"
        },
        {
         "line": {
          "color": "black",
          "width": 2
         },
         "mode": "lines",
         "showlegend": false,
         "type": "scatter",
         "uid": "acf3b7a9-5cca-4b5b-9779-2847695f5556",
         "x": [
          -0.5,
          3.5
         ],
         "xaxis": "x4",
         "y": [
          15.5,
          15.5
         ],
         "yaxis": "y4"
        },
        {
         "line": {
          "color": "black",
          "width": 2
         },
         "mode": "lines",
         "showlegend": false,
         "type": "scatter",
         "uid": "7b1a39fe-b1c1-4db3-ac85-ee82d10fe4a6",
         "x": [
          -0.5,
          3.5
         ],
         "xaxis": "x4",
         "y": [
          19.5,
          19.5
         ],
         "yaxis": "y4"
        },
        {
         "text": [
          [
           "AAA_T",
           "AAC_T",
           "AAG_T",
           "AAT_T"
          ],
          [
           "CAA_T",
           "CAC_T",
           "CAG_T",
           "CAT_T"
          ],
          [
           "GAA_T",
           "GAC_T",
           "GAG_T",
           "GAT_T"
          ],
          [
           "TAA_T",
           "TAC_T",
           "TAG_T",
           "TAT_T"
          ],
          [
           "AAA_C",
           "AAC_C",
           "AAG_C",
           "AAT_C"
          ],
          [
           "CAA_C",
           "CAC_C",
           "CAG_C",
           "CAT_C"
          ],
          [
           "GAA_C",
           "GAC_C",
           "GAG_C",
           "GAT_C"
          ],
          [
           "TAA_C",
           "TAC_C",
           "TAG_C",
           "TAT_C"
          ],
          [
           "AAA_G",
           "AAC_G",
           "AAG_G",
           "AAT_G"
          ],
          [
           "CAA_G",
           "CAC_G",
           "CAG_G",
           "CAT_G"
          ],
          [
           "GAA_G",
           "GAC_G",
           "GAG_G",
           "GAT_G"
          ],
          [
           "TAA_G",
           "TAC_G",
           "TAG_G",
           "TAT_G"
          ],
          [
           "ACA_T",
           "ACC_T",
           "ACG_T",
           "ACT_T"
          ],
          [
           "CCA_T",
           "CCC_T",
           "CCG_T",
           "CCT_T"
          ],
          [
           "GCA_T",
           "GCC_T",
           "GCG_T",
           "GCT_T"
          ],
          [
           "TCA_T",
           "TCC_T",
           "TCG_T",
           "TCT_T"
          ],
          [
           "ACA_G",
           "ACC_G",
           "ACG_G",
           "ACT_G"
          ],
          [
           "CCA_G",
           "CCC_G",
           "CCG_G",
           "CCT_G"
          ],
          [
           "GCA_G",
           "GCC_G",
           "GCG_G",
           "GCT_G"
          ],
          [
           "TCA_G",
           "TCC_G",
           "TCG_G",
           "TCT_G"
          ],
          [
           "ACA_A",
           "ACC_A",
           "ACG_A",
           "ACT_A"
          ],
          [
           "CCA_A",
           "CCC_A",
           "CCG_A",
           "CCT_A"
          ],
          [
           "GCA_A",
           "GCC_A",
           "GCG_A",
           "GCT_A"
          ],
          [
           "TCA_A",
           "TCC_A",
           "TCG_A",
           "TCT_A"
          ]
         ],
         "type": "heatmap",
         "uid": "6cf0cbe1-5492-48de-b9ab-fea6479a88f2",
         "xaxis": "x5",
         "yaxis": "y5",
         "z": [
          [
           1.0010665289986473,
           0.9872180398953376,
           1.0153327270980674,
           1.0044802414430334
          ],
          [
           1.0003320732675602,
           1.0095224998379047,
           0.9800267848202732,
           0.9680410148219016
          ],
          [
           1.0145142104314062,
           0.9829330838722116,
           0.9909118411149853,
           0.9621637019396744
          ],
          [
           1.03087350035885,
           0.9895421258749897,
           0.9752756922463773,
           0.993443943361274
          ],
          [
           0.9957439279973312,
           1.0194831039221235,
           0.9745672079683542,
           1.002719888971185
          ],
          [
           1.005916099288615,
           1.0065569796682594,
           0.9801344944415746,
           0.9990860333528752
          ],
          [
           1.0242554348818957,
           1.0718862884608498,
           0.9743031236109455,
           1.0432854557498445
          ],
          [
           1.024753449254396,
           1.0460165253397482,
           1.0041584548505718,
           1.0549283737617265
          ],
          [
           1.029079927202759,
           1.0152810725675914,
           1.029838022444366,
           0.9948977043523635
          ],
          [
           1.0552922488413772,
           1.053513659127449,
           1.0452206288428987,
           1.0307508214227608
          ],
          [
           1.0262411372673612,
           1.0377288401440872,
           1.0320977567245935,
           1.0247563506330468
          ],
          [
           1.0289998792844979,
           1.0204735477683624,
           1.0397759884963398,
           1.0090060773346632
          ],
          [
           0.982945803159986,
           0.9741970385840991,
           0.9956113904353837,
           1.0020422372329867
          ],
          [
           0.9737275209187598,
           0.9810273835198737,
           0.9881096585131183,
           0.9728385284157947
          ],
          [
           0.9688909656111587,
           0.9699750851908564,
           0.9813859292725995,
           0.9651713503760436
          ],
          [
           0.9670848363638505,
           0.9773274752759419,
           0.972587324483741,
           0.9633756808805389
          ],
          [
           1.0356250512401297,
           1.0168097214336886,
           1.0933770482996095,
           0.9909945329996994
          ],
          [
           0.9445092563828207,
           0.9610897759963744,
           1.0201750971196712,
           0.956490512774715
          ],
          [
           1.0273887665130483,
           0.9940734416853109,
           1.1054065223384042,
           0.982723417069916
          ],
          [
           0.9980891630440063,
           0.9791693294801038,
           1.0373105730202694,
           0.9694542518875304
          ],
          [
           1.0092632281482672,
           0.9732218755789587,
           1.0525221954798745,
           0.9919964275669075
          ],
          [
           0.9946132604592485,
           0.9968365582665908,
           1.0998865565692535,
           0.999325965142806
          ],
          [
           0.9787856268239815,
           0.9698115404322672,
           1.012935204752605,
           0.9733485265520917
          ],
          [
           0.9835601586411784,
           0.9470342005992332,
           1.061377427973303,
           0.9548583498007042
          ]
         ],
         "zmax": 1.15,
         "zmin": 0.85
        },
        {
         "line": {
          "color": "white",
          "width": 3
         },
         "mode": "markers",
         "showlegend": false,
         "type": "scatter",
         "uid": "36ce5be2-7ea4-47ea-ab46-752c1379320c",
         "x": [
          3,
          0,
          2,
          0,
          1,
          2,
          3,
          1,
          0,
          2,
          0,
          3,
          0,
          1,
          3,
          0,
          2,
          3,
          2,
          2,
          2,
          1,
          3
         ],
         "xaxis": "x5",
         "y": [
          7,
          8,
          8,
          9,
          9,
          9,
          9,
          10,
          11,
          11,
          13,
          13,
          14,
          14,
          14,
          15,
          15,
          15,
          16,
          18,
          21,
          23,
          23
         ],
         "yaxis": "y5"
        },
        {
         "line": {
          "color": "black",
          "width": 2
         },
         "mode": "lines",
         "showlegend": false,
         "type": "scatter",
         "uid": "e3802fe7-7e57-4833-94c5-b87ae76ae44a",
         "x": [
          -0.5,
          3.5
         ],
         "xaxis": "x5",
         "y": [
          3.5,
          3.5
         ],
         "yaxis": "y5"
        },
        {
         "line": {
          "color": "black",
          "width": 2
         },
         "mode": "lines",
         "showlegend": false,
         "type": "scatter",
         "uid": "f49f3cf5-7086-4355-b0ec-1b045bf37186",
         "x": [
          -0.5,
          3.5
         ],
         "xaxis": "x5",
         "y": [
          7.5,
          7.5
         ],
         "yaxis": "y5"
        },
        {
         "line": {
          "color": "black",
          "width": 2
         },
         "mode": "lines",
         "showlegend": false,
         "type": "scatter",
         "uid": "0ca957dc-d275-4355-a100-6fd4842bbeb4",
         "x": [
          -0.5,
          3.5
         ],
         "xaxis": "x5",
         "y": [
          11.5,
          11.5
         ],
         "yaxis": "y5"
        },
        {
         "line": {
          "color": "black",
          "width": 2
         },
         "mode": "lines",
         "showlegend": false,
         "type": "scatter",
         "uid": "bb7daafb-0e7f-4126-9f2c-95b3e016d124",
         "x": [
          -0.5,
          3.5
         ],
         "xaxis": "x5",
         "y": [
          15.5,
          15.5
         ],
         "yaxis": "y5"
        },
        {
         "line": {
          "color": "black",
          "width": 2
         },
         "mode": "lines",
         "showlegend": false,
         "type": "scatter",
         "uid": "df016fd0-4295-4312-91b2-da0c194e203d",
         "x": [
          -0.5,
          3.5
         ],
         "xaxis": "x5",
         "y": [
          19.5,
          19.5
         ],
         "yaxis": "y5"
        },
        {
         "text": [
          [
           "AAA_T",
           "AAC_T",
           "AAG_T",
           "AAT_T"
          ],
          [
           "CAA_T",
           "CAC_T",
           "CAG_T",
           "CAT_T"
          ],
          [
           "GAA_T",
           "GAC_T",
           "GAG_T",
           "GAT_T"
          ],
          [
           "TAA_T",
           "TAC_T",
           "TAG_T",
           "TAT_T"
          ],
          [
           "AAA_C",
           "AAC_C",
           "AAG_C",
           "AAT_C"
          ],
          [
           "CAA_C",
           "CAC_C",
           "CAG_C",
           "CAT_C"
          ],
          [
           "GAA_C",
           "GAC_C",
           "GAG_C",
           "GAT_C"
          ],
          [
           "TAA_C",
           "TAC_C",
           "TAG_C",
           "TAT_C"
          ],
          [
           "AAA_G",
           "AAC_G",
           "AAG_G",
           "AAT_G"
          ],
          [
           "CAA_G",
           "CAC_G",
           "CAG_G",
           "CAT_G"
          ],
          [
           "GAA_G",
           "GAC_G",
           "GAG_G",
           "GAT_G"
          ],
          [
           "TAA_G",
           "TAC_G",
           "TAG_G",
           "TAT_G"
          ],
          [
           "ACA_T",
           "ACC_T",
           "ACG_T",
           "ACT_T"
          ],
          [
           "CCA_T",
           "CCC_T",
           "CCG_T",
           "CCT_T"
          ],
          [
           "GCA_T",
           "GCC_T",
           "GCG_T",
           "GCT_T"
          ],
          [
           "TCA_T",
           "TCC_T",
           "TCG_T",
           "TCT_T"
          ],
          [
           "ACA_G",
           "ACC_G",
           "ACG_G",
           "ACT_G"
          ],
          [
           "CCA_G",
           "CCC_G",
           "CCG_G",
           "CCT_G"
          ],
          [
           "GCA_G",
           "GCC_G",
           "GCG_G",
           "GCT_G"
          ],
          [
           "TCA_G",
           "TCC_G",
           "TCG_G",
           "TCT_G"
          ],
          [
           "ACA_A",
           "ACC_A",
           "ACG_A",
           "ACT_A"
          ],
          [
           "CCA_A",
           "CCC_A",
           "CCG_A",
           "CCT_A"
          ],
          [
           "GCA_A",
           "GCC_A",
           "GCG_A",
           "GCT_A"
          ],
          [
           "TCA_A",
           "TCC_A",
           "TCG_A",
           "TCT_A"
          ]
         ],
         "type": "heatmap",
         "uid": "c3f0b793-d66e-48ca-9ea3-4489476f4995",
         "xaxis": "x6",
         "yaxis": "y6",
         "z": [
          [
           null,
           null,
           null,
           null
          ],
          [
           null,
           null,
           null,
           null
          ],
          [
           null,
           null,
           null,
           null
          ],
          [
           null,
           null,
           null,
           null
          ],
          [
           null,
           null,
           null,
           null
          ],
          [
           null,
           null,
           null,
           null
          ],
          [
           null,
           null,
           null,
           null
          ],
          [
           null,
           null,
           null,
           null
          ],
          [
           null,
           null,
           null,
           null
          ],
          [
           null,
           null,
           null,
           null
          ],
          [
           null,
           null,
           null,
           null
          ],
          [
           null,
           null,
           null,
           null
          ],
          [
           null,
           null,
           null,
           null
          ],
          [
           null,
           null,
           null,
           null
          ],
          [
           null,
           null,
           null,
           null
          ],
          [
           null,
           null,
           null,
           null
          ],
          [
           null,
           null,
           null,
           null
          ],
          [
           null,
           null,
           null,
           null
          ],
          [
           null,
           null,
           null,
           null
          ],
          [
           null,
           null,
           null,
           null
          ],
          [
           null,
           null,
           null,
           null
          ],
          [
           null,
           null,
           null,
           null
          ],
          [
           null,
           null,
           null,
           null
          ],
          [
           null,
           null,
           null,
           null
          ]
         ],
         "zmax": 1.15,
         "zmin": 0.85
        },
        {
         "line": {
          "color": "white",
          "width": 3
         },
         "mode": "markers",
         "showlegend": false,
         "type": "scatter",
         "uid": "b9139487-6628-44a8-be89-fefa2b409c17",
         "x": [
          0,
          1,
          2,
          3,
          0,
          1,
          2,
          3,
          0,
          1,
          2,
          3,
          0,
          1,
          2,
          3,
          0,
          1,
          2,
          3,
          0,
          1,
          2,
          3,
          0,
          1,
          2,
          3,
          0,
          1,
          2,
          3,
          0,
          1,
          2,
          3,
          0,
          1,
          2,
          3,
          0,
          1,
          2,
          3,
          0,
          1,
          2,
          3,
          0,
          1,
          2,
          3,
          0,
          1,
          2,
          3,
          0,
          1,
          2,
          3,
          0,
          1,
          2,
          3,
          0,
          1,
          2,
          3,
          0,
          1,
          2,
          3,
          0,
          1,
          2,
          3,
          0,
          1,
          2,
          3,
          0,
          1,
          2,
          3,
          0,
          1,
          2,
          3,
          0,
          1,
          2,
          3,
          0,
          1,
          2,
          3
         ],
         "xaxis": "x6",
         "y": [
          0,
          0,
          0,
          0,
          1,
          1,
          1,
          1,
          2,
          2,
          2,
          2,
          3,
          3,
          3,
          3,
          4,
          4,
          4,
          4,
          5,
          5,
          5,
          5,
          6,
          6,
          6,
          6,
          7,
          7,
          7,
          7,
          8,
          8,
          8,
          8,
          9,
          9,
          9,
          9,
          10,
          10,
          10,
          10,
          11,
          11,
          11,
          11,
          12,
          12,
          12,
          12,
          13,
          13,
          13,
          13,
          14,
          14,
          14,
          14,
          15,
          15,
          15,
          15,
          16,
          16,
          16,
          16,
          17,
          17,
          17,
          17,
          18,
          18,
          18,
          18,
          19,
          19,
          19,
          19,
          20,
          20,
          20,
          20,
          21,
          21,
          21,
          21,
          22,
          22,
          22,
          22,
          23,
          23,
          23,
          23
         ],
         "yaxis": "y6"
        },
        {
         "line": {
          "color": "black",
          "width": 2
         },
         "mode": "lines",
         "showlegend": false,
         "type": "scatter",
         "uid": "cf1efc37-7a39-41fe-b6b9-a1714e1a9a09",
         "x": [
          -0.5,
          3.5
         ],
         "xaxis": "x6",
         "y": [
          3.5,
          3.5
         ],
         "yaxis": "y6"
        },
        {
         "line": {
          "color": "black",
          "width": 2
         },
         "mode": "lines",
         "showlegend": false,
         "type": "scatter",
         "uid": "0a5afef2-8c27-46bc-a857-8cc8c61bed68",
         "x": [
          -0.5,
          3.5
         ],
         "xaxis": "x6",
         "y": [
          7.5,
          7.5
         ],
         "yaxis": "y6"
        },
        {
         "line": {
          "color": "black",
          "width": 2
         },
         "mode": "lines",
         "showlegend": false,
         "type": "scatter",
         "uid": "6f2015d7-054f-45b9-88e1-b66bc9a4e1ce",
         "x": [
          -0.5,
          3.5
         ],
         "xaxis": "x6",
         "y": [
          11.5,
          11.5
         ],
         "yaxis": "y6"
        },
        {
         "line": {
          "color": "black",
          "width": 2
         },
         "mode": "lines",
         "showlegend": false,
         "type": "scatter",
         "uid": "b0b91051-5ab0-4e73-afb1-86ae0fcfbf0e",
         "x": [
          -0.5,
          3.5
         ],
         "xaxis": "x6",
         "y": [
          15.5,
          15.5
         ],
         "yaxis": "y6"
        },
        {
         "line": {
          "color": "black",
          "width": 2
         },
         "mode": "lines",
         "showlegend": false,
         "type": "scatter",
         "uid": "8816f5ff-e54c-4c6d-a845-08c0b4eee06a",
         "x": [
          -0.5,
          3.5
         ],
         "xaxis": "x6",
         "y": [
          19.5,
          19.5
         ],
         "yaxis": "y6"
        }
       ],
       "layout": {
        "annotations": [
         {
          "font": {
           "size": 16
          },
          "showarrow": false,
          "text": "brevicaudus-littoralis",
          "x": 0.14444444444444446,
          "xanchor": "center",
          "xref": "paper",
          "y": 1,
          "yanchor": "bottom",
          "yref": "paper"
         },
         {
          "font": {
           "size": 16
          },
          "showarrow": false,
          "text": "brevicaudus-brevicaudus",
          "x": 0.5,
          "xanchor": "center",
          "xref": "paper",
          "y": 1,
          "yanchor": "bottom",
          "yref": "paper"
         },
         {
          "font": {
           "size": 16
          },
          "showarrow": false,
          "text": "brevicaudus-tcheliensis",
          "x": 0.8555555555555556,
          "xanchor": "center",
          "xref": "paper",
          "y": 1,
          "yanchor": "bottom",
          "yref": "paper"
         },
         {
          "font": {
           "size": 16
          },
          "showarrow": false,
          "text": "brevicaudus-lasiotis",
          "x": 0.14444444444444446,
          "xanchor": "center",
          "xref": "paper",
          "y": 0.375,
          "yanchor": "bottom",
          "yref": "paper"
         },
         {
          "font": {
           "size": 16
          },
          "showarrow": false,
          "text": "brevicaudus-mulatta",
          "x": 0.5,
          "xanchor": "center",
          "xref": "paper",
          "y": 0.375,
          "yanchor": "bottom",
          "yref": "paper"
         },
         {
          "font": {
           "size": 16
          },
          "showarrow": false,
          "text": "brevicaudus-CH",
          "x": 0.8555555555555556,
          "xanchor": "center",
          "xref": "paper",
          "y": 0.375,
          "yanchor": "bottom",
          "yref": "paper"
         }
        ],
        "height": 1100,
        "title": {
         "text": " Chromosomes 1 2 3 4 5 6 7 8 9 10 11 12 13 14 15 16 17 18 19 20 0.05 <= f <= 0.95 p < 1.0e-05"
        },
        "width": 900,
        "xaxis": {
         "anchor": "y",
         "domain": [
          0,
          0.2888888888888889
         ],
         "title": {
          "text": "A\t\t\t\t\t\t\t\tC\t\t\t\t\t\t\t\tG\t\t\t\t\t\t\t\tT"
         }
        },
        "xaxis2": {
         "anchor": "y2",
         "domain": [
          0.35555555555555557,
          0.6444444444444445
         ],
         "title": {
          "text": "A\t\t\t\t\t\t\t\tC\t\t\t\t\t\t\t\tG\t\t\t\t\t\t\t\tT"
         }
        },
        "xaxis3": {
         "anchor": "y3",
         "domain": [
          0.7111111111111111,
          1
         ],
         "title": {
          "text": "A\t\t\t\t\t\t\t\tC\t\t\t\t\t\t\t\tG\t\t\t\t\t\t\t\tT"
         }
        },
        "xaxis4": {
         "anchor": "y4",
         "domain": [
          0,
          0.2888888888888889
         ],
         "title": {
          "text": "A\t\t\t\t\t\t\t\tC\t\t\t\t\t\t\t\tG\t\t\t\t\t\t\t\tT"
         }
        },
        "xaxis5": {
         "anchor": "y5",
         "domain": [
          0.35555555555555557,
          0.6444444444444445
         ],
         "title": {
          "text": "A\t\t\t\t\t\t\t\tC\t\t\t\t\t\t\t\tG\t\t\t\t\t\t\t\tT"
         }
        },
        "xaxis6": {
         "anchor": "y6",
         "domain": [
          0.7111111111111111,
          1
         ],
         "title": {
          "text": "A\t\t\t\t\t\t\t\tC\t\t\t\t\t\t\t\tG\t\t\t\t\t\t\t\tT"
         }
        },
        "yaxis": {
         "anchor": "x",
         "domain": [
          0.625,
          1
         ],
         "range": [
          -0.5,
          24
         ],
         "title": {
          "text": "A-T\t\t\t\t\t\tA-C\t\t\t\t\t\tA-G\t\t\t\t\t\tC-T\t\t\t\t\t\tC-G\t\t\t\t\t\tC-A"
         }
        },
        "yaxis2": {
         "anchor": "x2",
         "domain": [
          0.625,
          1
         ]
        },
        "yaxis3": {
         "anchor": "x3",
         "domain": [
          0.625,
          1
         ]
        },
        "yaxis4": {
         "anchor": "x4",
         "domain": [
          0,
          0.375
         ],
         "range": [
          -0.5,
          24
         ],
         "title": {
          "text": "A-T\t\t\t\t\t\tA-C\t\t\t\t\t\tA-G\t\t\t\t\t\tC-T\t\t\t\t\t\tC-G\t\t\t\t\t\tC-A"
         }
        },
        "yaxis5": {
         "anchor": "x5",
         "domain": [
          0,
          0.375
         ]
        },
        "yaxis6": {
         "anchor": "x6",
         "domain": [
          0,
          0.375
         ]
        }
       }
      },
      "text/html": [
       "<div>\n",
       "        \n",
       "        \n",
       "            <div id=\"6e5c7e90-3f75-4051-a9a1-87acc45da74d\" class=\"plotly-graph-div\" style=\"height:1100px; width:900px;\"></div>\n",
       "            <script type=\"text/javascript\">\n",
       "                require([\"plotly\"], function(Plotly) {\n",
       "                    window.PLOTLYENV=window.PLOTLYENV || {};\n",
       "                    window.PLOTLYENV.BASE_URL='https://plot.ly';\n",
       "                    \n",
       "                if (document.getElementById(\"6e5c7e90-3f75-4051-a9a1-87acc45da74d\")) {\n",
       "                    Plotly.newPlot(\n",
       "                        '6e5c7e90-3f75-4051-a9a1-87acc45da74d',\n",
       "                        [{\"text\": [[\"AAA_T\", \"AAC_T\", \"AAG_T\", \"AAT_T\"], [\"CAA_T\", \"CAC_T\", \"CAG_T\", \"CAT_T\"], [\"GAA_T\", \"GAC_T\", \"GAG_T\", \"GAT_T\"], [\"TAA_T\", \"TAC_T\", \"TAG_T\", \"TAT_T\"], [\"AAA_C\", \"AAC_C\", \"AAG_C\", \"AAT_C\"], [\"CAA_C\", \"CAC_C\", \"CAG_C\", \"CAT_C\"], [\"GAA_C\", \"GAC_C\", \"GAG_C\", \"GAT_C\"], [\"TAA_C\", \"TAC_C\", \"TAG_C\", \"TAT_C\"], [\"AAA_G\", \"AAC_G\", \"AAG_G\", \"AAT_G\"], [\"CAA_G\", \"CAC_G\", \"CAG_G\", \"CAT_G\"], [\"GAA_G\", \"GAC_G\", \"GAG_G\", \"GAT_G\"], [\"TAA_G\", \"TAC_G\", \"TAG_G\", \"TAT_G\"], [\"ACA_T\", \"ACC_T\", \"ACG_T\", \"ACT_T\"], [\"CCA_T\", \"CCC_T\", \"CCG_T\", \"CCT_T\"], [\"GCA_T\", \"GCC_T\", \"GCG_T\", \"GCT_T\"], [\"TCA_T\", \"TCC_T\", \"TCG_T\", \"TCT_T\"], [\"ACA_G\", \"ACC_G\", \"ACG_G\", \"ACT_G\"], [\"CCA_G\", \"CCC_G\", \"CCG_G\", \"CCT_G\"], [\"GCA_G\", \"GCC_G\", \"GCG_G\", \"GCT_G\"], [\"TCA_G\", \"TCC_G\", \"TCG_G\", \"TCT_G\"], [\"ACA_A\", \"ACC_A\", \"ACG_A\", \"ACT_A\"], [\"CCA_A\", \"CCC_A\", \"CCG_A\", \"CCT_A\"], [\"GCA_A\", \"GCC_A\", \"GCG_A\", \"GCT_A\"], [\"TCA_A\", \"TCC_A\", \"TCG_A\", \"TCT_A\"]], \"type\": \"heatmap\", \"uid\": \"28e3512f-f7c7-4ebb-af7a-def06c32e573\", \"xaxis\": \"x\", \"yaxis\": \"y\", \"z\": [[0.998824608066958, 0.9856427530332874, 0.9732852957191611, 1.0098280729623392], [1.0005652363091975, 1.0020042998924508, 0.9858585246613828, 1.0025379474386802], [1.008059885466618, 0.9891538030623467, 0.9867643076917264, 0.9838725973691353], [1.0253623662583395, 0.9827480244849677, 0.9868827580126931, 1.0120546132521857], [0.9968247381330899, 0.9888971472426015, 1.0146277938487887, 0.9935141612952134], [1.0082497638071433, 1.008927143198469, 1.0170825324846886, 0.9967853944631804], [0.9952058420167615, 1.0002060819911873, 0.998826277526976, 1.005736107790642], [0.9922132884097639, 0.9883665893704454, 1.0225417790855575, 0.9976030175078683], [0.9956413682489546, 0.9948077487173074, 0.9790162517447937, 1.0066398274805965], [0.9963791779733653, 0.98366532250501, 0.9937273818646496, 0.9927038038436808], [0.9885910973494432, 0.9936947032808696, 0.9890147637770851, 0.995326051144671], [0.9941399074374221, 0.998166620948792, 0.9876037721735257, 0.9973823785351746], [1.0009723581513403, 1.0011613073107828, 1.0210239447851075, 0.9903787946317069], [1.003501998101322, 0.9985189553003654, 1.0204432669377463, 1.0042075506166404], [1.0004328047186644, 1.0036557110452924, 1.0204208572374833, 0.9969478462519399], [0.9998792875537293, 1.006535930399659, 1.0187273787126816, 0.9984468206334167], [0.9902533597643942, 1.0101182287491461, 0.9688386855104597, 1.0003791567351505], [1.002190443645724, 1.019642791468596, 1.0161887567770544, 1.016092590899895], [0.98398040750931, 0.9941576649644688, 0.9861902356046578, 0.9924490681657971], [0.9910944121946063, 1.0011091187606809, 0.9622181557673953, 0.9934408437339096], [0.9963601742088591, 1.0037904154405652, 0.9633382137552504, 0.9944675208312264], [0.9664226048009542, 0.9962266547584253, 0.9688085468572964, 0.9840321131674437], [0.9940671122196616, 1.0173899843735978, 0.9680421284649526, 1.0046854501317806], [0.9945700435566683, 0.9979474053894217, 0.9756710901112589, 1.0045124757963924]], \"zmax\": 1.15, \"zmin\": 0.85}, {\"line\": {\"color\": \"white\", \"width\": 3}, \"mode\": \"markers\", \"showlegend\": false, \"type\": \"scatter\", \"uid\": \"d7de05a4-3379-497f-836c-1b6f8b415f52\", \"x\": [2, 2], \"xaxis\": \"x\", \"y\": [12, 13], \"yaxis\": \"y\"}, {\"line\": {\"color\": \"black\", \"width\": 2}, \"mode\": \"lines\", \"showlegend\": false, \"type\": \"scatter\", \"uid\": \"9d841e98-844d-4d4b-b2b2-579a22b1dcc7\", \"x\": [-0.5, 3.5], \"xaxis\": \"x\", \"y\": [3.5, 3.5], \"yaxis\": \"y\"}, {\"line\": {\"color\": \"black\", \"width\": 2}, \"mode\": \"lines\", \"showlegend\": false, \"type\": \"scatter\", \"uid\": \"4100b2c3-407d-4fb9-9083-03341e744522\", \"x\": [-0.5, 3.5], \"xaxis\": \"x\", \"y\": [7.5, 7.5], \"yaxis\": \"y\"}, {\"line\": {\"color\": \"black\", \"width\": 2}, \"mode\": \"lines\", \"showlegend\": false, \"type\": \"scatter\", \"uid\": \"bdb59794-e537-4db6-b992-5c75464c7d01\", \"x\": [-0.5, 3.5], \"xaxis\": \"x\", \"y\": [11.5, 11.5], \"yaxis\": \"y\"}, {\"line\": {\"color\": \"black\", \"width\": 2}, \"mode\": \"lines\", \"showlegend\": false, \"type\": \"scatter\", \"uid\": \"e9bc4d41-8b32-4607-aacf-87782e4912ae\", \"x\": [-0.5, 3.5], \"xaxis\": \"x\", \"y\": [15.5, 15.5], \"yaxis\": \"y\"}, {\"line\": {\"color\": \"black\", \"width\": 2}, \"mode\": \"lines\", \"showlegend\": false, \"type\": \"scatter\", \"uid\": \"abee8ae9-ab0a-4bcb-8ba8-e3f8fd8c5882\", \"x\": [-0.5, 3.5], \"xaxis\": \"x\", \"y\": [19.5, 19.5], \"yaxis\": \"y\"}, {\"text\": [[\"AAA_T\", \"AAC_T\", \"AAG_T\", \"AAT_T\"], [\"CAA_T\", \"CAC_T\", \"CAG_T\", \"CAT_T\"], [\"GAA_T\", \"GAC_T\", \"GAG_T\", \"GAT_T\"], [\"TAA_T\", \"TAC_T\", \"TAG_T\", \"TAT_T\"], [\"AAA_C\", \"AAC_C\", \"AAG_C\", \"AAT_C\"], [\"CAA_C\", \"CAC_C\", \"CAG_C\", \"CAT_C\"], [\"GAA_C\", \"GAC_C\", \"GAG_C\", \"GAT_C\"], [\"TAA_C\", \"TAC_C\", \"TAG_C\", \"TAT_C\"], [\"AAA_G\", \"AAC_G\", \"AAG_G\", \"AAT_G\"], [\"CAA_G\", \"CAC_G\", \"CAG_G\", \"CAT_G\"], [\"GAA_G\", \"GAC_G\", \"GAG_G\", \"GAT_G\"], [\"TAA_G\", \"TAC_G\", \"TAG_G\", \"TAT_G\"], [\"ACA_T\", \"ACC_T\", \"ACG_T\", \"ACT_T\"], [\"CCA_T\", \"CCC_T\", \"CCG_T\", \"CCT_T\"], [\"GCA_T\", \"GCC_T\", \"GCG_T\", \"GCT_T\"], [\"TCA_T\", \"TCC_T\", \"TCG_T\", \"TCT_T\"], [\"ACA_G\", \"ACC_G\", \"ACG_G\", \"ACT_G\"], [\"CCA_G\", \"CCC_G\", \"CCG_G\", \"CCT_G\"], [\"GCA_G\", \"GCC_G\", \"GCG_G\", \"GCT_G\"], [\"TCA_G\", \"TCC_G\", \"TCG_G\", \"TCT_G\"], [\"ACA_A\", \"ACC_A\", \"ACG_A\", \"ACT_A\"], [\"CCA_A\", \"CCC_A\", \"CCG_A\", \"CCT_A\"], [\"GCA_A\", \"GCC_A\", \"GCG_A\", \"GCT_A\"], [\"TCA_A\", \"TCC_A\", \"TCG_A\", \"TCT_A\"]], \"type\": \"heatmap\", \"uid\": \"ba5918ce-ec6e-46f9-91e0-5d60998d9cb0\", \"xaxis\": \"x2\", \"yaxis\": \"y2\", \"z\": [[1.0, 1.0, 1.0, 1.0], [1.0, 1.0, 1.0, 1.0], [1.0, 1.0, 1.0, 1.0], [1.0, 1.0, 1.0, 1.0], [1.0, 1.0, 1.0, 1.0], [1.0, 1.0, 1.0, 1.0], [1.0, 1.0, 1.0, 1.0], [1.0, 1.0, 1.0, 1.0], [1.0, 1.0, 1.0, 1.0], [1.0, 1.0, 1.0, 1.0], [1.0, 1.0, 1.0, 1.0], [1.0, 1.0, 1.0, 1.0], [1.0, 1.0, 1.0, 1.0], [1.0, 1.0, 1.0, 1.0], [1.0, 1.0, 1.0, 1.0], [1.0, 1.0, 1.0, 1.0], [1.0, 1.0, 1.0, 1.0], [1.0, 1.0, 1.0, 1.0], [1.0, 1.0, 1.0, 1.0], [1.0, 1.0, 1.0, 1.0], [1.0, 1.0, 1.0, 1.0], [1.0, 1.0, 1.0, 1.0], [1.0, 1.0, 1.0, 1.0], [1.0, 1.0, 1.0, 1.0]], \"zmax\": 1.15, \"zmin\": 0.85}, {\"line\": {\"color\": \"black\", \"width\": 2}, \"mode\": \"lines\", \"showlegend\": false, \"type\": \"scatter\", \"uid\": \"d28a955f-b9c0-4f37-83fb-267f98c928fe\", \"x\": [-0.5, 3.5], \"xaxis\": \"x2\", \"y\": [3.5, 3.5], \"yaxis\": \"y2\"}, {\"line\": {\"color\": \"black\", \"width\": 2}, \"mode\": \"lines\", \"showlegend\": false, \"type\": \"scatter\", \"uid\": \"946290a5-5a4a-4a7b-8f9f-f87aa279a090\", \"x\": [-0.5, 3.5], \"xaxis\": \"x2\", \"y\": [7.5, 7.5], \"yaxis\": \"y2\"}, {\"line\": {\"color\": \"black\", \"width\": 2}, \"mode\": \"lines\", \"showlegend\": false, \"type\": \"scatter\", \"uid\": \"669d31e7-f593-4fec-b637-dd9c0b431e67\", \"x\": [-0.5, 3.5], \"xaxis\": \"x2\", \"y\": [11.5, 11.5], \"yaxis\": \"y2\"}, {\"line\": {\"color\": \"black\", \"width\": 2}, \"mode\": \"lines\", \"showlegend\": false, \"type\": \"scatter\", \"uid\": \"d0d08e58-cc02-4370-a063-7a435d5f62ad\", \"x\": [-0.5, 3.5], \"xaxis\": \"x2\", \"y\": [15.5, 15.5], \"yaxis\": \"y2\"}, {\"line\": {\"color\": \"black\", \"width\": 2}, \"mode\": \"lines\", \"showlegend\": false, \"type\": \"scatter\", \"uid\": \"c65570ca-ae7e-4ac7-b6f6-d8309e803f45\", \"x\": [-0.5, 3.5], \"xaxis\": \"x2\", \"y\": [19.5, 19.5], \"yaxis\": \"y2\"}, {\"text\": [[\"AAA_T\", \"AAC_T\", \"AAG_T\", \"AAT_T\"], [\"CAA_T\", \"CAC_T\", \"CAG_T\", \"CAT_T\"], [\"GAA_T\", \"GAC_T\", \"GAG_T\", \"GAT_T\"], [\"TAA_T\", \"TAC_T\", \"TAG_T\", \"TAT_T\"], [\"AAA_C\", \"AAC_C\", \"AAG_C\", \"AAT_C\"], [\"CAA_C\", \"CAC_C\", \"CAG_C\", \"CAT_C\"], [\"GAA_C\", \"GAC_C\", \"GAG_C\", \"GAT_C\"], [\"TAA_C\", \"TAC_C\", \"TAG_C\", \"TAT_C\"], [\"AAA_G\", \"AAC_G\", \"AAG_G\", \"AAT_G\"], [\"CAA_G\", \"CAC_G\", \"CAG_G\", \"CAT_G\"], [\"GAA_G\", \"GAC_G\", \"GAG_G\", \"GAT_G\"], [\"TAA_G\", \"TAC_G\", \"TAG_G\", \"TAT_G\"], [\"ACA_T\", \"ACC_T\", \"ACG_T\", \"ACT_T\"], [\"CCA_T\", \"CCC_T\", \"CCG_T\", \"CCT_T\"], [\"GCA_T\", \"GCC_T\", \"GCG_T\", \"GCT_T\"], [\"TCA_T\", \"TCC_T\", \"TCG_T\", \"TCT_T\"], [\"ACA_G\", \"ACC_G\", \"ACG_G\", \"ACT_G\"], [\"CCA_G\", \"CCC_G\", \"CCG_G\", \"CCT_G\"], [\"GCA_G\", \"GCC_G\", \"GCG_G\", \"GCT_G\"], [\"TCA_G\", \"TCC_G\", \"TCG_G\", \"TCT_G\"], [\"ACA_A\", \"ACC_A\", \"ACG_A\", \"ACT_A\"], [\"CCA_A\", \"CCC_A\", \"CCG_A\", \"CCT_A\"], [\"GCA_A\", \"GCC_A\", \"GCG_A\", \"GCT_A\"], [\"TCA_A\", \"TCC_A\", \"TCG_A\", \"TCT_A\"]], \"type\": \"heatmap\", \"uid\": \"29dffc7b-3612-4d86-b944-2eef3f9ba0ef\", \"xaxis\": \"x3\", \"yaxis\": \"y3\", \"z\": [[0.9760451526670547, 0.9728225871843307, 0.9876076562210296, 0.9869292466891175], [0.9854113490781925, 1.0122327788350542, 0.9902194633248826, 0.9903674082058151], [1.0057761024110947, 0.9733690948072578, 0.9930312814433945, 0.9741424804777109], [0.9864834595943743, 0.9882838704794038, 0.9696791378919097, 0.981220450062029], [0.9864267895468838, 0.9967334959369892, 0.9962838848896207, 0.9774575442640592], [0.9953375828613048, 1.0176705600906173, 1.0082194145311716, 1.0001187881236442], [0.9956874553412842, 1.0154499179554377, 1.0093483915377748, 1.0123238999098896], [0.9927508688310368, 0.9988826018240596, 1.0016974804212035, 0.9999263732286245], [0.9947755099465286, 0.9987058934821148, 0.9927461046076709, 0.9995930867754167], [1.0151051406420053, 1.0138034062421468, 1.0165556172721406, 1.0034749037659805], [1.0018773541231314, 1.010102374569471, 1.006286398717217, 1.0089099416985872], [0.9974853297923132, 0.9969190812316877, 0.9990038160402895, 0.9901890730656101], [0.9883809345100295, 0.9980456873991156, 1.0087745193738842, 0.9877484276223318], [1.0024565778464556, 1.007718201797712, 1.0248080449250014, 1.0025966856687718], [0.9966096330097113, 1.008961555187656, 1.0148778353527856, 0.996493096638539], [0.9852035149520092, 1.004604726452074, 1.006136171920736, 0.9907349495840588], [0.9997620956216147, 1.0203611872863583, 1.0091745257353781, 0.9907051064339025], [0.9952319036623811, 1.0324020483516634, 1.0497868132483257, 1.0068498302171145], [0.9982956913884299, 1.0029903314417548, 1.0239462532372068, 0.9956231731943598], [0.9960011363658213, 1.0060972612940176, 0.9928207590558265, 0.9876635076524705], [0.9939790993642167, 0.9981146976982412, 0.9871195095625789, 0.9869984010947593], [0.9925975535751059, 1.0417537516401452, 1.0148076389960725, 0.9943078139502498], [0.9918595046219175, 1.0205133311172887, 0.9907335932560568, 0.9957937182642687], [0.9793651732237535, 1.0105445272091114, 0.9932575717527594, 0.9756897520318274]], \"zmax\": 1.15, \"zmin\": 0.85}, {\"line\": {\"color\": \"white\", \"width\": 3}, \"mode\": \"markers\", \"showlegend\": false, \"type\": \"scatter\", \"uid\": \"7a27c69c-a9ea-4f95-af82-fbbcd36beddb\", \"x\": [2], \"xaxis\": \"x3\", \"y\": [13], \"yaxis\": \"y3\"}, {\"line\": {\"color\": \"black\", \"width\": 2}, \"mode\": \"lines\", \"showlegend\": false, \"type\": \"scatter\", \"uid\": \"e0c913d2-4dab-445d-8e07-c320d0681473\", \"x\": [-0.5, 3.5], \"xaxis\": \"x3\", \"y\": [3.5, 3.5], \"yaxis\": \"y3\"}, {\"line\": {\"color\": \"black\", \"width\": 2}, \"mode\": \"lines\", \"showlegend\": false, \"type\": \"scatter\", \"uid\": \"45e0b654-61d5-411d-9eda-c8b35e5afe78\", \"x\": [-0.5, 3.5], \"xaxis\": \"x3\", \"y\": [7.5, 7.5], \"yaxis\": \"y3\"}, {\"line\": {\"color\": \"black\", \"width\": 2}, \"mode\": \"lines\", \"showlegend\": false, \"type\": \"scatter\", \"uid\": \"4d5fe2dc-1f6b-42bc-a9e9-3e8401f88d6b\", \"x\": [-0.5, 3.5], \"xaxis\": \"x3\", \"y\": [11.5, 11.5], \"yaxis\": \"y3\"}, {\"line\": {\"color\": \"black\", \"width\": 2}, \"mode\": \"lines\", \"showlegend\": false, \"type\": \"scatter\", \"uid\": \"7791607b-10fe-48a1-9933-ced1461e7a53\", \"x\": [-0.5, 3.5], \"xaxis\": \"x3\", \"y\": [15.5, 15.5], \"yaxis\": \"y3\"}, {\"line\": {\"color\": \"black\", \"width\": 2}, \"mode\": \"lines\", \"showlegend\": false, \"type\": \"scatter\", \"uid\": \"014ed973-8d80-4de2-8548-7d6190f9aec4\", \"x\": [-0.5, 3.5], \"xaxis\": \"x3\", \"y\": [19.5, 19.5], \"yaxis\": \"y3\"}, {\"text\": [[\"AAA_T\", \"AAC_T\", \"AAG_T\", \"AAT_T\"], [\"CAA_T\", \"CAC_T\", \"CAG_T\", \"CAT_T\"], [\"GAA_T\", \"GAC_T\", \"GAG_T\", \"GAT_T\"], [\"TAA_T\", \"TAC_T\", \"TAG_T\", \"TAT_T\"], [\"AAA_C\", \"AAC_C\", \"AAG_C\", \"AAT_C\"], [\"CAA_C\", \"CAC_C\", \"CAG_C\", \"CAT_C\"], [\"GAA_C\", \"GAC_C\", \"GAG_C\", \"GAT_C\"], [\"TAA_C\", \"TAC_C\", \"TAG_C\", \"TAT_C\"], [\"AAA_G\", \"AAC_G\", \"AAG_G\", \"AAT_G\"], [\"CAA_G\", \"CAC_G\", \"CAG_G\", \"CAT_G\"], [\"GAA_G\", \"GAC_G\", \"GAG_G\", \"GAT_G\"], [\"TAA_G\", \"TAC_G\", \"TAG_G\", \"TAT_G\"], [\"ACA_T\", \"ACC_T\", \"ACG_T\", \"ACT_T\"], [\"CCA_T\", \"CCC_T\", \"CCG_T\", \"CCT_T\"], [\"GCA_T\", \"GCC_T\", \"GCG_T\", \"GCT_T\"], [\"TCA_T\", \"TCC_T\", \"TCG_T\", \"TCT_T\"], [\"ACA_G\", \"ACC_G\", \"ACG_G\", \"ACT_G\"], [\"CCA_G\", \"CCC_G\", \"CCG_G\", \"CCT_G\"], [\"GCA_G\", \"GCC_G\", \"GCG_G\", \"GCT_G\"], [\"TCA_G\", \"TCC_G\", \"TCG_G\", \"TCT_G\"], [\"ACA_A\", \"ACC_A\", \"ACG_A\", \"ACT_A\"], [\"CCA_A\", \"CCC_A\", \"CCG_A\", \"CCT_A\"], [\"GCA_A\", \"GCC_A\", \"GCG_A\", \"GCT_A\"], [\"TCA_A\", \"TCC_A\", \"TCG_A\", \"TCT_A\"]], \"type\": \"heatmap\", \"uid\": \"180611e9-34d0-4061-bdcc-68bb27eb1a24\", \"xaxis\": \"x4\", \"yaxis\": \"y4\", \"z\": [[0.9925952604639957, 0.971777861918545, 0.9752753238388177, 1.006238471973837], [0.9913168525233412, 1.001674085097409, 0.982906040042061, 1.0001051036540465], [1.011711810740383, 0.9931590770949847, 0.9830190469594913, 0.975742681527983], [1.0162283487780512, 0.9802615999200723, 0.9728393390116399, 1.0149459112384784], [0.9931391242408232, 0.984624185387457, 1.0290270146256792, 0.9883782476988319], [1.0021087140177336, 1.01192695228324, 1.0271756846645907, 0.9905479849893422], [0.9860589004106398, 0.983103910407792, 1.0046670671048517, 1.0019810666902271], [0.9886010881023459, 0.9774455360639174, 1.0235044685940442, 0.9889910013148402], [0.9882376604046195, 0.9872901170155112, 0.9674630302913092, 1.0089580109547667], [0.9897517303128157, 0.9775104583389251, 0.9858373806882171, 0.9823434536369755], [0.9767980763216905, 0.9840139968246303, 0.9777948864598687, 0.9903573663980157], [0.9893658498604911, 0.9903704368825017, 0.9752595248353579, 0.9940625565993736], [1.001955941911913, 1.0047928579838648, 1.0229649902093065, 0.9873172959911856], [1.0083344328523987, 1.005414464484538, 1.030657503170476, 1.0091810923173066], [1.0020169830536496, 1.0156374888876207, 1.0345493955661142, 1.003652648254406], [1.0056137977676936, 1.0152902592886315, 1.029478596668299, 1.0070637300240948], [0.9818479835787381, 1.0055667380728146, 0.9610132432153123, 0.9972743227920314], [1.00836746470093, 1.0426618575570954, 1.0469284204790503, 1.027550930751047], [0.978068019800352, 0.9992594980282915, 0.9717797340134309, 0.992759384108472], [0.9885477765561465, 1.005529571108664, 0.9641180915343004, 0.9980388952351881], [0.9974453781514264, 1.010287600519159, 0.9505644618259831, 0.9989504558018304], [0.9710056428588844, 1.0132954033881931, 0.9505401558661876, 0.9814869621614811], [1.00260939934217, 1.0335094328400942, 0.9637889845947806, 1.0028119841612069], [0.9921862750449849, 1.0091004446538643, 0.9646434019303157, 1.0123659737239283]], \"zmax\": 1.15, \"zmin\": 0.85}, {\"line\": {\"color\": \"white\", \"width\": 3}, \"mode\": \"markers\", \"showlegend\": false, \"type\": \"scatter\", \"uid\": \"b73591f8-6774-4128-a874-c562527a048b\", \"x\": [2, 3, 2, 2, 2, 2], \"xaxis\": \"x4\", \"y\": [8, 9, 12, 13, 14, 15], \"yaxis\": \"y4\"}, {\"line\": {\"color\": \"black\", \"width\": 2}, \"mode\": \"lines\", \"showlegend\": false, \"type\": \"scatter\", \"uid\": \"c89064ba-befb-41fe-ac35-ba67c9579094\", \"x\": [-0.5, 3.5], \"xaxis\": \"x4\", \"y\": [3.5, 3.5], \"yaxis\": \"y4\"}, {\"line\": {\"color\": \"black\", \"width\": 2}, \"mode\": \"lines\", \"showlegend\": false, \"type\": \"scatter\", \"uid\": \"716ac13e-e3d2-4ed9-b7ad-fc66ff6c09c1\", \"x\": [-0.5, 3.5], \"xaxis\": \"x4\", \"y\": [7.5, 7.5], \"yaxis\": \"y4\"}, {\"line\": {\"color\": \"black\", \"width\": 2}, \"mode\": \"lines\", \"showlegend\": false, \"type\": \"scatter\", \"uid\": \"60bd5c76-7d11-467b-8d81-a752e5203e1e\", \"x\": [-0.5, 3.5], \"xaxis\": \"x4\", \"y\": [11.5, 11.5], \"yaxis\": \"y4\"}, {\"line\": {\"color\": \"black\", \"width\": 2}, \"mode\": \"lines\", \"showlegend\": false, \"type\": \"scatter\", \"uid\": \"acf3b7a9-5cca-4b5b-9779-2847695f5556\", \"x\": [-0.5, 3.5], \"xaxis\": \"x4\", \"y\": [15.5, 15.5], \"yaxis\": \"y4\"}, {\"line\": {\"color\": \"black\", \"width\": 2}, \"mode\": \"lines\", \"showlegend\": false, \"type\": \"scatter\", \"uid\": \"7b1a39fe-b1c1-4db3-ac85-ee82d10fe4a6\", \"x\": [-0.5, 3.5], \"xaxis\": \"x4\", \"y\": [19.5, 19.5], \"yaxis\": \"y4\"}, {\"text\": [[\"AAA_T\", \"AAC_T\", \"AAG_T\", \"AAT_T\"], [\"CAA_T\", \"CAC_T\", \"CAG_T\", \"CAT_T\"], [\"GAA_T\", \"GAC_T\", \"GAG_T\", \"GAT_T\"], [\"TAA_T\", \"TAC_T\", \"TAG_T\", \"TAT_T\"], [\"AAA_C\", \"AAC_C\", \"AAG_C\", \"AAT_C\"], [\"CAA_C\", \"CAC_C\", \"CAG_C\", \"CAT_C\"], [\"GAA_C\", \"GAC_C\", \"GAG_C\", \"GAT_C\"], [\"TAA_C\", \"TAC_C\", \"TAG_C\", \"TAT_C\"], [\"AAA_G\", \"AAC_G\", \"AAG_G\", \"AAT_G\"], [\"CAA_G\", \"CAC_G\", \"CAG_G\", \"CAT_G\"], [\"GAA_G\", \"GAC_G\", \"GAG_G\", \"GAT_G\"], [\"TAA_G\", \"TAC_G\", \"TAG_G\", \"TAT_G\"], [\"ACA_T\", \"ACC_T\", \"ACG_T\", \"ACT_T\"], [\"CCA_T\", \"CCC_T\", \"CCG_T\", \"CCT_T\"], [\"GCA_T\", \"GCC_T\", \"GCG_T\", \"GCT_T\"], [\"TCA_T\", \"TCC_T\", \"TCG_T\", \"TCT_T\"], [\"ACA_G\", \"ACC_G\", \"ACG_G\", \"ACT_G\"], [\"CCA_G\", \"CCC_G\", \"CCG_G\", \"CCT_G\"], [\"GCA_G\", \"GCC_G\", \"GCG_G\", \"GCT_G\"], [\"TCA_G\", \"TCC_G\", \"TCG_G\", \"TCT_G\"], [\"ACA_A\", \"ACC_A\", \"ACG_A\", \"ACT_A\"], [\"CCA_A\", \"CCC_A\", \"CCG_A\", \"CCT_A\"], [\"GCA_A\", \"GCC_A\", \"GCG_A\", \"GCT_A\"], [\"TCA_A\", \"TCC_A\", \"TCG_A\", \"TCT_A\"]], \"type\": \"heatmap\", \"uid\": \"6cf0cbe1-5492-48de-b9ab-fea6479a88f2\", \"xaxis\": \"x5\", \"yaxis\": \"y5\", \"z\": [[1.0010665289986473, 0.9872180398953376, 1.0153327270980674, 1.0044802414430334], [1.0003320732675602, 1.0095224998379047, 0.9800267848202732, 0.9680410148219016], [1.0145142104314062, 0.9829330838722116, 0.9909118411149853, 0.9621637019396744], [1.03087350035885, 0.9895421258749897, 0.9752756922463773, 0.993443943361274], [0.9957439279973312, 1.0194831039221235, 0.9745672079683542, 1.002719888971185], [1.005916099288615, 1.0065569796682594, 0.9801344944415746, 0.9990860333528752], [1.0242554348818957, 1.0718862884608498, 0.9743031236109455, 1.0432854557498445], [1.024753449254396, 1.0460165253397482, 1.0041584548505718, 1.0549283737617265], [1.029079927202759, 1.0152810725675914, 1.029838022444366, 0.9948977043523635], [1.0552922488413772, 1.053513659127449, 1.0452206288428987, 1.0307508214227608], [1.0262411372673612, 1.0377288401440872, 1.0320977567245935, 1.0247563506330468], [1.0289998792844979, 1.0204735477683624, 1.0397759884963398, 1.0090060773346632], [0.982945803159986, 0.9741970385840991, 0.9956113904353837, 1.0020422372329867], [0.9737275209187598, 0.9810273835198737, 0.9881096585131183, 0.9728385284157947], [0.9688909656111587, 0.9699750851908564, 0.9813859292725995, 0.9651713503760436], [0.9670848363638505, 0.9773274752759419, 0.972587324483741, 0.9633756808805389], [1.0356250512401297, 1.0168097214336886, 1.0933770482996095, 0.9909945329996994], [0.9445092563828207, 0.9610897759963744, 1.0201750971196712, 0.956490512774715], [1.0273887665130483, 0.9940734416853109, 1.1054065223384042, 0.982723417069916], [0.9980891630440063, 0.9791693294801038, 1.0373105730202694, 0.9694542518875304], [1.0092632281482672, 0.9732218755789587, 1.0525221954798745, 0.9919964275669075], [0.9946132604592485, 0.9968365582665908, 1.0998865565692535, 0.999325965142806], [0.9787856268239815, 0.9698115404322672, 1.012935204752605, 0.9733485265520917], [0.9835601586411784, 0.9470342005992332, 1.061377427973303, 0.9548583498007042]], \"zmax\": 1.15, \"zmin\": 0.85}, {\"line\": {\"color\": \"white\", \"width\": 3}, \"mode\": \"markers\", \"showlegend\": false, \"type\": \"scatter\", \"uid\": \"36ce5be2-7ea4-47ea-ab46-752c1379320c\", \"x\": [3, 0, 2, 0, 1, 2, 3, 1, 0, 2, 0, 3, 0, 1, 3, 0, 2, 3, 2, 2, 2, 1, 3], \"xaxis\": \"x5\", \"y\": [7, 8, 8, 9, 9, 9, 9, 10, 11, 11, 13, 13, 14, 14, 14, 15, 15, 15, 16, 18, 21, 23, 23], \"yaxis\": \"y5\"}, {\"line\": {\"color\": \"black\", \"width\": 2}, \"mode\": \"lines\", \"showlegend\": false, \"type\": \"scatter\", \"uid\": \"e3802fe7-7e57-4833-94c5-b87ae76ae44a\", \"x\": [-0.5, 3.5], \"xaxis\": \"x5\", \"y\": [3.5, 3.5], \"yaxis\": \"y5\"}, {\"line\": {\"color\": \"black\", \"width\": 2}, \"mode\": \"lines\", \"showlegend\": false, \"type\": \"scatter\", \"uid\": \"f49f3cf5-7086-4355-b0ec-1b045bf37186\", \"x\": [-0.5, 3.5], \"xaxis\": \"x5\", \"y\": [7.5, 7.5], \"yaxis\": \"y5\"}, {\"line\": {\"color\": \"black\", \"width\": 2}, \"mode\": \"lines\", \"showlegend\": false, \"type\": \"scatter\", \"uid\": \"0ca957dc-d275-4355-a100-6fd4842bbeb4\", \"x\": [-0.5, 3.5], \"xaxis\": \"x5\", \"y\": [11.5, 11.5], \"yaxis\": \"y5\"}, {\"line\": {\"color\": \"black\", \"width\": 2}, \"mode\": \"lines\", \"showlegend\": false, \"type\": \"scatter\", \"uid\": \"bb7daafb-0e7f-4126-9f2c-95b3e016d124\", \"x\": [-0.5, 3.5], \"xaxis\": \"x5\", \"y\": [15.5, 15.5], \"yaxis\": \"y5\"}, {\"line\": {\"color\": \"black\", \"width\": 2}, \"mode\": \"lines\", \"showlegend\": false, \"type\": \"scatter\", \"uid\": \"df016fd0-4295-4312-91b2-da0c194e203d\", \"x\": [-0.5, 3.5], \"xaxis\": \"x5\", \"y\": [19.5, 19.5], \"yaxis\": \"y5\"}, {\"text\": [[\"AAA_T\", \"AAC_T\", \"AAG_T\", \"AAT_T\"], [\"CAA_T\", \"CAC_T\", \"CAG_T\", \"CAT_T\"], [\"GAA_T\", \"GAC_T\", \"GAG_T\", \"GAT_T\"], [\"TAA_T\", \"TAC_T\", \"TAG_T\", \"TAT_T\"], [\"AAA_C\", \"AAC_C\", \"AAG_C\", \"AAT_C\"], [\"CAA_C\", \"CAC_C\", \"CAG_C\", \"CAT_C\"], [\"GAA_C\", \"GAC_C\", \"GAG_C\", \"GAT_C\"], [\"TAA_C\", \"TAC_C\", \"TAG_C\", \"TAT_C\"], [\"AAA_G\", \"AAC_G\", \"AAG_G\", \"AAT_G\"], [\"CAA_G\", \"CAC_G\", \"CAG_G\", \"CAT_G\"], [\"GAA_G\", \"GAC_G\", \"GAG_G\", \"GAT_G\"], [\"TAA_G\", \"TAC_G\", \"TAG_G\", \"TAT_G\"], [\"ACA_T\", \"ACC_T\", \"ACG_T\", \"ACT_T\"], [\"CCA_T\", \"CCC_T\", \"CCG_T\", \"CCT_T\"], [\"GCA_T\", \"GCC_T\", \"GCG_T\", \"GCT_T\"], [\"TCA_T\", \"TCC_T\", \"TCG_T\", \"TCT_T\"], [\"ACA_G\", \"ACC_G\", \"ACG_G\", \"ACT_G\"], [\"CCA_G\", \"CCC_G\", \"CCG_G\", \"CCT_G\"], [\"GCA_G\", \"GCC_G\", \"GCG_G\", \"GCT_G\"], [\"TCA_G\", \"TCC_G\", \"TCG_G\", \"TCT_G\"], [\"ACA_A\", \"ACC_A\", \"ACG_A\", \"ACT_A\"], [\"CCA_A\", \"CCC_A\", \"CCG_A\", \"CCT_A\"], [\"GCA_A\", \"GCC_A\", \"GCG_A\", \"GCT_A\"], [\"TCA_A\", \"TCC_A\", \"TCG_A\", \"TCT_A\"]], \"type\": \"heatmap\", \"uid\": \"c3f0b793-d66e-48ca-9ea3-4489476f4995\", \"xaxis\": \"x6\", \"yaxis\": \"y6\", \"z\": [[null, null, null, null], [null, null, null, null], [null, null, null, null], [null, null, null, null], [null, null, null, null], [null, null, null, null], [null, null, null, null], [null, null, null, null], [null, null, null, null], [null, null, null, null], [null, null, null, null], [null, null, null, null], [null, null, null, null], [null, null, null, null], [null, null, null, null], [null, null, null, null], [null, null, null, null], [null, null, null, null], [null, null, null, null], [null, null, null, null], [null, null, null, null], [null, null, null, null], [null, null, null, null], [null, null, null, null]], \"zmax\": 1.15, \"zmin\": 0.85}, {\"line\": {\"color\": \"white\", \"width\": 3}, \"mode\": \"markers\", \"showlegend\": false, \"type\": \"scatter\", \"uid\": \"b9139487-6628-44a8-be89-fefa2b409c17\", \"x\": [0, 1, 2, 3, 0, 1, 2, 3, 0, 1, 2, 3, 0, 1, 2, 3, 0, 1, 2, 3, 0, 1, 2, 3, 0, 1, 2, 3, 0, 1, 2, 3, 0, 1, 2, 3, 0, 1, 2, 3, 0, 1, 2, 3, 0, 1, 2, 3, 0, 1, 2, 3, 0, 1, 2, 3, 0, 1, 2, 3, 0, 1, 2, 3, 0, 1, 2, 3, 0, 1, 2, 3, 0, 1, 2, 3, 0, 1, 2, 3, 0, 1, 2, 3, 0, 1, 2, 3, 0, 1, 2, 3, 0, 1, 2, 3], \"xaxis\": \"x6\", \"y\": [0, 0, 0, 0, 1, 1, 1, 1, 2, 2, 2, 2, 3, 3, 3, 3, 4, 4, 4, 4, 5, 5, 5, 5, 6, 6, 6, 6, 7, 7, 7, 7, 8, 8, 8, 8, 9, 9, 9, 9, 10, 10, 10, 10, 11, 11, 11, 11, 12, 12, 12, 12, 13, 13, 13, 13, 14, 14, 14, 14, 15, 15, 15, 15, 16, 16, 16, 16, 17, 17, 17, 17, 18, 18, 18, 18, 19, 19, 19, 19, 20, 20, 20, 20, 21, 21, 21, 21, 22, 22, 22, 22, 23, 23, 23, 23], \"yaxis\": \"y6\"}, {\"line\": {\"color\": \"black\", \"width\": 2}, \"mode\": \"lines\", \"showlegend\": false, \"type\": \"scatter\", \"uid\": \"cf1efc37-7a39-41fe-b6b9-a1714e1a9a09\", \"x\": [-0.5, 3.5], \"xaxis\": \"x6\", \"y\": [3.5, 3.5], \"yaxis\": \"y6\"}, {\"line\": {\"color\": \"black\", \"width\": 2}, \"mode\": \"lines\", \"showlegend\": false, \"type\": \"scatter\", \"uid\": \"0a5afef2-8c27-46bc-a857-8cc8c61bed68\", \"x\": [-0.5, 3.5], \"xaxis\": \"x6\", \"y\": [7.5, 7.5], \"yaxis\": \"y6\"}, {\"line\": {\"color\": \"black\", \"width\": 2}, \"mode\": \"lines\", \"showlegend\": false, \"type\": \"scatter\", \"uid\": \"6f2015d7-054f-45b9-88e1-b66bc9a4e1ce\", \"x\": [-0.5, 3.5], \"xaxis\": \"x6\", \"y\": [11.5, 11.5], \"yaxis\": \"y6\"}, {\"line\": {\"color\": \"black\", \"width\": 2}, \"mode\": \"lines\", \"showlegend\": false, \"type\": \"scatter\", \"uid\": \"b0b91051-5ab0-4e73-afb1-86ae0fcfbf0e\", \"x\": [-0.5, 3.5], \"xaxis\": \"x6\", \"y\": [15.5, 15.5], \"yaxis\": \"y6\"}, {\"line\": {\"color\": \"black\", \"width\": 2}, \"mode\": \"lines\", \"showlegend\": false, \"type\": \"scatter\", \"uid\": \"8816f5ff-e54c-4c6d-a845-08c0b4eee06a\", \"x\": [-0.5, 3.5], \"xaxis\": \"x6\", \"y\": [19.5, 19.5], \"yaxis\": \"y6\"}],\n",
       "                        {\"annotations\": [{\"font\": {\"size\": 16}, \"showarrow\": false, \"text\": \"brevicaudus-littoralis\", \"x\": 0.14444444444444446, \"xanchor\": \"center\", \"xref\": \"paper\", \"y\": 1.0, \"yanchor\": \"bottom\", \"yref\": \"paper\"}, {\"font\": {\"size\": 16}, \"showarrow\": false, \"text\": \"brevicaudus-brevicaudus\", \"x\": 0.5, \"xanchor\": \"center\", \"xref\": \"paper\", \"y\": 1.0, \"yanchor\": \"bottom\", \"yref\": \"paper\"}, {\"font\": {\"size\": 16}, \"showarrow\": false, \"text\": \"brevicaudus-tcheliensis\", \"x\": 0.8555555555555556, \"xanchor\": \"center\", \"xref\": \"paper\", \"y\": 1.0, \"yanchor\": \"bottom\", \"yref\": \"paper\"}, {\"font\": {\"size\": 16}, \"showarrow\": false, \"text\": \"brevicaudus-lasiotis\", \"x\": 0.14444444444444446, \"xanchor\": \"center\", \"xref\": \"paper\", \"y\": 0.375, \"yanchor\": \"bottom\", \"yref\": \"paper\"}, {\"font\": {\"size\": 16}, \"showarrow\": false, \"text\": \"brevicaudus-mulatta\", \"x\": 0.5, \"xanchor\": \"center\", \"xref\": \"paper\", \"y\": 0.375, \"yanchor\": \"bottom\", \"yref\": \"paper\"}, {\"font\": {\"size\": 16}, \"showarrow\": false, \"text\": \"brevicaudus-CH\", \"x\": 0.8555555555555556, \"xanchor\": \"center\", \"xref\": \"paper\", \"y\": 0.375, \"yanchor\": \"bottom\", \"yref\": \"paper\"}], \"height\": 1100, \"title\": {\"text\": \" Chromosomes 1 2 3 4 5 6 7 8 9 10 11 12 13 14 15 16 17 18 19 20 0.05 <= f <= 0.95 p < 1.0e-05\"}, \"width\": 900, \"xaxis\": {\"anchor\": \"y\", \"domain\": [0.0, 0.2888888888888889], \"title\": {\"text\": \"A\\t\\t\\t\\t\\t\\t\\t\\tC\\t\\t\\t\\t\\t\\t\\t\\tG\\t\\t\\t\\t\\t\\t\\t\\tT\"}}, \"xaxis2\": {\"anchor\": \"y2\", \"domain\": [0.35555555555555557, 0.6444444444444445], \"title\": {\"text\": \"A\\t\\t\\t\\t\\t\\t\\t\\tC\\t\\t\\t\\t\\t\\t\\t\\tG\\t\\t\\t\\t\\t\\t\\t\\tT\"}}, \"xaxis3\": {\"anchor\": \"y3\", \"domain\": [0.7111111111111111, 1.0], \"title\": {\"text\": \"A\\t\\t\\t\\t\\t\\t\\t\\tC\\t\\t\\t\\t\\t\\t\\t\\tG\\t\\t\\t\\t\\t\\t\\t\\tT\"}}, \"xaxis4\": {\"anchor\": \"y4\", \"domain\": [0.0, 0.2888888888888889], \"title\": {\"text\": \"A\\t\\t\\t\\t\\t\\t\\t\\tC\\t\\t\\t\\t\\t\\t\\t\\tG\\t\\t\\t\\t\\t\\t\\t\\tT\"}}, \"xaxis5\": {\"anchor\": \"y5\", \"domain\": [0.35555555555555557, 0.6444444444444445], \"title\": {\"text\": \"A\\t\\t\\t\\t\\t\\t\\t\\tC\\t\\t\\t\\t\\t\\t\\t\\tG\\t\\t\\t\\t\\t\\t\\t\\tT\"}}, \"xaxis6\": {\"anchor\": \"y6\", \"domain\": [0.7111111111111111, 1.0], \"title\": {\"text\": \"A\\t\\t\\t\\t\\t\\t\\t\\tC\\t\\t\\t\\t\\t\\t\\t\\tG\\t\\t\\t\\t\\t\\t\\t\\tT\"}}, \"yaxis\": {\"anchor\": \"x\", \"domain\": [0.625, 1.0], \"range\": [-0.5, 24], \"title\": {\"text\": \"A-T\\t\\t\\t\\t\\t\\tA-C\\t\\t\\t\\t\\t\\tA-G\\t\\t\\t\\t\\t\\tC-T\\t\\t\\t\\t\\t\\tC-G\\t\\t\\t\\t\\t\\tC-A\"}}, \"yaxis2\": {\"anchor\": \"x2\", \"domain\": [0.625, 1.0]}, \"yaxis3\": {\"anchor\": \"x3\", \"domain\": [0.625, 1.0]}, \"yaxis4\": {\"anchor\": \"x4\", \"domain\": [0.0, 0.375], \"range\": [-0.5, 24], \"title\": {\"text\": \"A-T\\t\\t\\t\\t\\t\\tA-C\\t\\t\\t\\t\\t\\tA-G\\t\\t\\t\\t\\t\\tC-T\\t\\t\\t\\t\\t\\tC-G\\t\\t\\t\\t\\t\\tC-A\"}}, \"yaxis5\": {\"anchor\": \"x5\", \"domain\": [0.0, 0.375]}, \"yaxis6\": {\"anchor\": \"x6\", \"domain\": [0.0, 0.375]}},\n",
       "                        {\"showLink\": false, \"linkText\": \"Export to plot.ly\", \"plotlyServerURL\": \"https://plot.ly\", \"responsive\": true}\n",
       "                    ).then(function(){\n",
       "                            \n",
       "var gd = document.getElementById('6e5c7e90-3f75-4051-a9a1-87acc45da74d');\n",
       "var x = new MutationObserver(function (mutations, observer) {{\n",
       "        var display = window.getComputedStyle(gd).display;\n",
       "        if (!display || display === 'none') {{\n",
       "            console.log([gd, 'removed!']);\n",
       "            Plotly.purge(gd);\n",
       "            observer.disconnect();\n",
       "        }}\n",
       "}});\n",
       "\n",
       "// Listen for the removal of the full notebook cells\n",
       "var notebookContainer = gd.closest('#notebook-container');\n",
       "if (notebookContainer) {{\n",
       "    x.observe(notebookContainer, {childList: true});\n",
       "}}\n",
       "\n",
       "// Listen for the clearing of the current output cell\n",
       "var outputEl = gd.closest('.output');\n",
       "if (outputEl) {{\n",
       "    x.observe(outputEl, {childList: true});\n",
       "}}\n",
       "\n",
       "                        })\n",
       "                };\n",
       "                });\n",
       "            </script>\n",
       "        </div>"
      ]
     },
     "metadata": {},
     "output_type": "display_data"
    }
   ],
   "source": [
    "from plotly.subplots import make_subplots\n",
    "from plotly import tools\n",
    "\n",
    "titles= pop_pair_names\n",
    "\n",
    "Ncols= 3\n",
    "Nrows= int(len(titles) / float(Ncols)) + (len(titles) % Ncols > 0)\n",
    "\n",
    "fig_subplots = tools.make_subplots(rows= Nrows, cols=Ncols,\n",
    "                             subplot_titles=tuple(titles))\n",
    "\n",
    "#####\n",
    "for gp in range(len(titles)):\n",
    "\n",
    "    pos1= int(float(gp) / Ncols) + 1\n",
    "    pos2= gp - (pos1-1)*Ncols + 1\n",
    "\n",
    "    title= titles[gp]\n",
    "    \n",
    "    ####\n",
    "    sig_idx= gp\n",
    "    fig = [go.Heatmap(\n",
    "        z= [list(x) for x in ratio_grids[sig_idx]],\n",
    "        zmin= 0.85,\n",
    "        zmax= 1.15,\n",
    "        text= labels,\n",
    "        type = 'heatmap'\n",
    "    )]\n",
    "\n",
    "    sig_fig= significant_indices[sig_idx]\n",
    "\n",
    "\n",
    "    if sum([len(x) for x in sig_fig]):\n",
    "\n",
    "        fig.append(go.Scatter(x= [int(x) for x in sig_fig[0]], y= [int(x) for x in sig_fig[1]],\n",
    "         mode='markers',line =dict(color='white',width=3),showlegend= False))\n",
    "    \n",
    "    for line in range(1,6):\n",
    "        fig.append(go.Scatter(x= [-.5,3.5], y= [-.5 + 4 * line] * 2,\n",
    "             mode='lines',line =dict(color='black',width=2),showlegend= False))\n",
    "    \n",
    "    ####\n",
    "\n",
    "    for trace1 in fig:\n",
    "        \n",
    "        fig_subplots.append_trace(trace1, pos1, pos2)\n",
    "    \n",
    "    if pos2 == 1:\n",
    "        fig_subplots.update_yaxes(range=[-.5, 24], row=pos1, col=pos2,\n",
    "                                  title= 'A-T{}A-C{}A-G{}C-T{}C-G{}C-A'.format(*['\\t'*6]*5))\n",
    "    \n",
    "    fig_subplots.update_xaxes(title= 'A{}C{}G{}T'.format(*['\\t'*8]*3))\n",
    "        #fig_subplots['layout'].update(height= 700,width= 450)\n",
    "\n",
    "\n",
    "layout= go.Layout(\n",
    "        xaxis=dict(range=[1.5, 4.5]),\n",
    "        yaxis=dict(range=[1.5, 4.5])\n",
    ")\n",
    "\n",
    "fig= go.Figure(data=fig_subplots, layout=layout)\n",
    "fig[\"layout\"].update(yaxis=dict(range=[-.5,24]))\n",
    "fig['layout'].update(height= Nrows * 550,width= 900)\n",
    "fig['layout'].update(title= plot_title)\n",
    "iplot(fig)"
   ]
  },
  {
   "cell_type": "markdown",
   "metadata": {},
   "source": [
    "**Fig. Heatmap** Chi squared test of kmer counts between 1 population versus all others. Population, frequency range, and significance threshold on individual p-values determined in section **Analysis parameters and input** at the top of the page. "
   ]
  },
  {
   "cell_type": "code",
   "execution_count": null,
   "metadata": {},
   "outputs": [],
   "source": []
  }
 ],
 "metadata": {
  "kernelspec": {
   "display_name": "Python 3",
   "language": "python",
   "name": "python3"
  },
  "language_info": {
   "codemirror_mode": {
    "name": "ipython",
    "version": 3
   },
   "file_extension": ".py",
   "mimetype": "text/x-python",
   "name": "python",
   "nbconvert_exporter": "python",
   "pygments_lexer": "ipython3",
   "version": "3.7.3"
  }
 },
 "nbformat": 4,
 "nbformat_minor": 2
}
