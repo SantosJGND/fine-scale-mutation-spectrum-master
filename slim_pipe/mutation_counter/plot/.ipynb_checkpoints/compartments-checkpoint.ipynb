{
 "cells": [
  {
   "cell_type": "code",
   "execution_count": 1,
   "metadata": {},
   "outputs": [
    {
     "data": {
      "text/html": [
       "        <script type=\"text/javascript\">\n",
       "        window.PlotlyConfig = {MathJaxConfig: 'local'};\n",
       "        if (window.MathJax) {MathJax.Hub.Config({SVG: {font: \"STIX-Web\"}});}\n",
       "        if (typeof require !== 'undefined') {\n",
       "        require.undef(\"plotly\");\n",
       "        requirejs.config({\n",
       "            paths: {\n",
       "                'plotly': ['https://cdn.plot.ly/plotly-latest.min']\n",
       "            }\n",
       "        });\n",
       "        require(['plotly'], function(Plotly) {\n",
       "            window._Plotly = Plotly;\n",
       "        });\n",
       "        }\n",
       "        </script>\n",
       "        "
      ]
     },
     "metadata": {},
     "output_type": "display_data"
    }
   ],
   "source": [
    "import sys\n",
    "import argparse\n",
    "import numpy as np\n",
    "from scipy.stats import chi2_contingency\n",
    "from itertools import product\n",
    "import itertools as it\n",
    "\n",
    "from _plotly_future_ import v4_subplots\n",
    "import plotly.graph_objs as go\n",
    "from plotly.offline import download_plotlyjs, init_notebook_mode, plot, iplot\n",
    "from plotly.graph_objs import *\n",
    "\n",
    "\n",
    "from ipywidgets import interact, interactive, fixed, interact_manual\n",
    "import ipywidgets as widgets\n",
    "init_notebook_mode(connected=True)"
   ]
  },
  {
   "cell_type": "code",
   "execution_count": 2,
   "metadata": {},
   "outputs": [],
   "source": [
    "\n",
    "\n",
    "comp = {\n",
    "    'A': 'T',\n",
    "    'C': 'G',\n",
    "    'G': 'C',\n",
    "    'T': 'A',\n",
    "}\n",
    "ypos, ylabel = [], []\n",
    "\n",
    "mut_index = {}\n",
    "row, col = 0, 0\n",
    "\n",
    "labels= []\n",
    "\n",
    "for b2, d in [('A', 'T'), ('A', 'C'), ('A', 'G'),\n",
    "              ('C', 'T'), ('C', 'G'), ('C', 'A')]:\n",
    "    \n",
    "    for b1 in 'ACGT':\n",
    "        row_lab= []\n",
    "        col = 0\n",
    "        ypos.append(row+0.5)\n",
    "        if b1 == 'T' and b2 == 'C' and d == 'A':\n",
    "            ylabel.append('5\\'-'+b1)\n",
    "        elif b1 == 'C':\n",
    "            ylabel.append(b2+r'$\\to$'+d+r'  '+b1)\n",
    "        else:\n",
    "            ylabel.append(b1)\n",
    "        for b3 in 'ACGT':\n",
    "            mut_index[(b1+b2+b3, d)] = (row, col)\n",
    "            \n",
    "            mut_index[(comp[b3]+comp[b2]+comp[b1], comp[d])] = (row, col)\n",
    "            row_lab.append('_'.join([b1+b2+b3, d]))\n",
    "            \n",
    "            col += 1\n",
    "        labels.append(row_lab)\n",
    "        row += 1\n",
    "\n"
   ]
  },
  {
   "cell_type": "code",
   "execution_count": 38,
   "metadata": {},
   "outputs": [],
   "source": [
    "from plot_utilities import Population, frequency_breakdown, heatmap, make_titles\n",
    "\n",
    "pops= ['littoralis', 'brevicaudus', 'tcheliensis', 'lasiotis', 'mulatta', 'CH']\n",
    "\n",
    "focus= 'tcheliensis'\n",
    "population_pairs= [[focus,x] for x in pops]\n",
    "population_pairs= list(it.chain(*population_pairs))\n",
    "\n",
    "#population_pairs= ['k3', 'k1']\n",
    "\n",
    "align= 'rheMac10'\n",
    "vcf_data= 'vcf_data'\n",
    "chromosomes= list(range(1,21))\n",
    "chromosomes= [str(x) for x in chromosomes]\n",
    "#chromosomes= [\"1\"]\n",
    "individually= False\n",
    "exclude= False\n",
    "p_value= 1e-5\n",
    "frequency_range= [0,1]\n"
   ]
  },
  {
   "cell_type": "code",
   "execution_count": 39,
   "metadata": {},
   "outputs": [],
   "source": [
    "\n",
    "\n",
    "pop_pair_names= zip(population_pairs[::2],\n",
    "                           population_pairs[1::2])\n",
    "\n",
    "pop_pair_names= ['-'.join(list(x)) for x in pop_pair_names]\n",
    "\n",
    "population_pairs= zip(population_pairs[::2],\n",
    "                           population_pairs[1::2])\n",
    "\n",
    "for chromosome in chromosomes:\n",
    "    assert chromosome == 'X' or int(chromosome) in range(1, 23)\n",
    "if individually:\n",
    "    chromosome_groups = [[chromosome] for chromosome in chromosomes]\n",
    "else:\n",
    "    chromosome_groups = [chromosomes]\n",
    "\n"
   ]
  },
  {
   "cell_type": "code",
   "execution_count": 40,
   "metadata": {},
   "outputs": [],
   "source": [
    "def read_exclude(dirf='../data/bed_files/',filename='files_Regexclude.txt'):\n",
    "    '''\n",
    "    read files of regions to exclude in mutation analysis. \n",
    "    list file of files in \"../bed_files/\" to read.\n",
    "    '''\n",
    "    filename= dirf + filename\n",
    "\n",
    "    with open(filename) as f:\n",
    "        files= f.readlines()\n",
    "\n",
    "    files= [x.strip() for x in files]\n",
    "\n",
    "    return files\n",
    "\n",
    "\n",
    "def frequency_breakdown(path, chromosomes, frequency_range):\n",
    "    \n",
    "    count_array = np.zeros((row, col))\n",
    "    for chrom in chromosomes:\n",
    "        infile = open(path % str(chrom))\n",
    "        lines = infile.readlines()\n",
    "        infile.close()\n",
    "\n",
    "        s = lines[1].strip('\\n').split(' ')\n",
    "        # TODO(mason) do these better.\n",
    "        start_index = 2\n",
    "        while float(start_index - 2) / (len(s) - 2) < frequency_range[0]:\n",
    "            start_index += 1\n",
    "\n",
    "        end_index = len(s) - 1\n",
    "        while float(end_index) / (len(s)-2) > frequency_range[1]:\n",
    "            end_index -= 1\n",
    "\n",
    "        for line in lines[1:]:\n",
    "            s = line.strip('\\n').split(' ')\n",
    "            for i in range(start_index, end_index):\n",
    "                count_array[mut_index[(s[0][:3], s[0][4])]] += int(s[i])\n",
    "    return count_array\n",
    "\n",
    "\n",
    "\n",
    "def compartment_heatmap(chromosomes, pop, frequency_range, exclude, p_value, short,vcf_data):\n",
    "    pop_counts = {}\n",
    "    num_variants = {}\n",
    "    outdir= '../{}_finescale_mut_spectra_vcf.{}/'.format(short,vcf_data)\n",
    "\n",
    "    files= read_exclude()\n",
    "    \n",
    "    compartments= {}\n",
    "    \n",
    "    path = (outdir + 'mut_type_v_allele_freq_' +\n",
    "            pop + '_chr%s_nosingle.txt')\n",
    "    \n",
    "    compartments[pop] = frequency_breakdown(path, chromosomes,\n",
    "                                          frequency_range)\n",
    "\n",
    "    for file in files:\n",
    "        file_name= file.split('.')[0]\n",
    "        repeats_path = (outdir + file_name + '_mut_type_v_allele_freq_' +\n",
    "                        pop + '_chr%s_nosingle.txt')\n",
    "    \n",
    "        compart= frequency_breakdown(repeats_path, chromosomes,\n",
    "                                                frequency_range)\n",
    "        \n",
    "        compartments[file_name]= compart\n",
    "        compartments[pop]-= compart\n",
    "        num_variants[file_name]= compart.sum()\n",
    "    \n",
    "    num_variants[pop] = compartments[pop].sum()\n",
    "    \n",
    "    pop_innerds= {}\n",
    "    \n",
    "    for file in files:\n",
    "        file_name= file.split('.')[0]\n",
    "        \n",
    "        ratio_grid = np.zeros((row, col))\n",
    "        sig_x, sig_y = [], []\n",
    "        for i in range(row):\n",
    "            for j in range(col):\n",
    "                chi_array= np.array([\n",
    "                        [compartments[file_name][i][j], num_variants[file_name]],\n",
    "                        [compartments[pop][i][j], num_variants[pop]]\n",
    "                    ])\n",
    "\n",
    "                _, this_pval, _, _ = chi2_contingency(\n",
    "                    chi_array\n",
    "                )\n",
    "                ratio_grid[i][j] = (compartments[file_name][i][j] * num_variants[pop] /\n",
    "                                    (num_variants[file_name] * compartments[pop][i][j]))\n",
    "                if this_pval < p_value:\n",
    "                    sig_x.append(j+0.5)\n",
    "                    sig_y.append(i+0.5)\n",
    "                \n",
    "        pop_innerds[file_name]= {\n",
    "            'grid':ratio_grid, \n",
    "            'sig': (sig_x, sig_y)\n",
    "        }\n",
    "\n",
    "    return pop_innerds\n"
   ]
  },
  {
   "cell_type": "code",
   "execution_count": 41,
   "metadata": {},
   "outputs": [
    {
     "name": "stdout",
     "output_type": "stream",
     "text": [
      "['cpgIslandExtUnmasked.txt.gz', 'nestedRepeats.txt.gz', 'microsat.txt.gz']\n"
     ]
    }
   ],
   "source": [
    "\n",
    "heat_dict= compartment_heatmap(chromosomes, focus, frequency_range, exclude, p_value, align, vcf_data)\n",
    "titles= list(heat_dict.keys())\n",
    "\n",
    "ratio_grids= [heat_dict[x]['grid'] for x in titles]\n",
    "significant_indices= [heat_dict[x]['sig'] for x in titles]\n",
    "\n",
    "plot_title, column_titles = make_titles(\n",
    "    chromosome_groups, population_pairs, frequency_range, exclude, p_value\n",
    ")\n",
    "\n",
    "from plot_utilities import read_exclude\n",
    "\n",
    "files= read_exclude()\n",
    "print(files)\n"
   ]
  },
  {
   "cell_type": "code",
   "execution_count": 42,
   "metadata": {},
   "outputs": [
    {
     "data": {
      "application/vnd.plotly.v1+json": {
       "config": {
        "linkText": "Export to plot.ly",
        "plotlyServerURL": "https://plot.ly",
        "showLink": false
       },
       "data": [
        {
         "text": [
          [
           "AAA_T",
           "AAC_T",
           "AAG_T",
           "AAT_T"
          ],
          [
           "CAA_T",
           "CAC_T",
           "CAG_T",
           "CAT_T"
          ],
          [
           "GAA_T",
           "GAC_T",
           "GAG_T",
           "GAT_T"
          ],
          [
           "TAA_T",
           "TAC_T",
           "TAG_T",
           "TAT_T"
          ],
          [
           "AAA_C",
           "AAC_C",
           "AAG_C",
           "AAT_C"
          ],
          [
           "CAA_C",
           "CAC_C",
           "CAG_C",
           "CAT_C"
          ],
          [
           "GAA_C",
           "GAC_C",
           "GAG_C",
           "GAT_C"
          ],
          [
           "TAA_C",
           "TAC_C",
           "TAG_C",
           "TAT_C"
          ],
          [
           "AAA_G",
           "AAC_G",
           "AAG_G",
           "AAT_G"
          ],
          [
           "CAA_G",
           "CAC_G",
           "CAG_G",
           "CAT_G"
          ],
          [
           "GAA_G",
           "GAC_G",
           "GAG_G",
           "GAT_G"
          ],
          [
           "TAA_G",
           "TAC_G",
           "TAG_G",
           "TAT_G"
          ],
          [
           "ACA_T",
           "ACC_T",
           "ACG_T",
           "ACT_T"
          ],
          [
           "CCA_T",
           "CCC_T",
           "CCG_T",
           "CCT_T"
          ],
          [
           "GCA_T",
           "GCC_T",
           "GCG_T",
           "GCT_T"
          ],
          [
           "TCA_T",
           "TCC_T",
           "TCG_T",
           "TCT_T"
          ],
          [
           "ACA_G",
           "ACC_G",
           "ACG_G",
           "ACT_G"
          ],
          [
           "CCA_G",
           "CCC_G",
           "CCG_G",
           "CCT_G"
          ],
          [
           "GCA_G",
           "GCC_G",
           "GCG_G",
           "GCT_G"
          ],
          [
           "TCA_G",
           "TCC_G",
           "TCG_G",
           "TCT_G"
          ],
          [
           "ACA_A",
           "ACC_A",
           "ACG_A",
           "ACT_A"
          ],
          [
           "CCA_A",
           "CCC_A",
           "CCG_A",
           "CCT_A"
          ],
          [
           "GCA_A",
           "GCC_A",
           "GCG_A",
           "GCT_A"
          ],
          [
           "TCA_A",
           "TCC_A",
           "TCG_A",
           "TCT_A"
          ]
         ],
         "type": "heatmap",
         "uid": "a7ce2d88-ae3d-4ecc-9b5a-5523b4f92376",
         "xaxis": "x",
         "yaxis": "y",
         "z": [
          [
           0.26771047512933055,
           0.575312093338693,
           0.45308715339127875,
           0.26537690773582073
          ],
          [
           0.2071805779613245,
           0.6249520434799843,
           0.6320229192948599,
           0.4110057471591426
          ],
          [
           0.51708199576333,
           1.0817163652129294,
           1.3796497430705157,
           0.5940031568259058
          ],
          [
           0.16977574900962894,
           0.5004108448489797,
           0.5197799147021485,
           0.11069021087483291
          ],
          [
           0.2332584134065673,
           0.5128717838071731,
           0.39328982555593817,
           0.32822229914810397
          ],
          [
           0.4333543867496833,
           1.1465417653008743,
           1.3882716361841134,
           0.421343304534259
          ],
          [
           0.34069079474008146,
           1.2840261209100374,
           1.6592919393986059,
           0.7765663652648639
          ],
          [
           0.27696360624477123,
           0.6134035524284925,
           0.5319145097003071,
           0.18962837722967382
          ],
          [
           0.34121033610338053,
           0.3652178775809891,
           0.5377846766239788,
           0.26726168314462684
          ],
          [
           0.7158949535322134,
           1.2948005747937563,
           1.2344829862345172,
           0.3795085520006327
          ],
          [
           0.5660198598042502,
           1.1266454333456626,
           1.1158285788065323,
           0.41007833239120606
          ],
          [
           0.32124300924517435,
           0.46638330615946805,
           0.4985944323015081,
           0.16691826765133227
          ],
          [
           0.2755463710891999,
           0.7995453371533633,
           1.402618834347007,
           0.38669374971138426
          ],
          [
           0.5906507977819208,
           1.1131764019672874,
           4.354452105412148,
           0.7770879449492762
          ],
          [
           0.6091247132135669,
           1.6462342673335777,
           4.1759098167896855,
           0.9945698147766272
          ],
          [
           0.46503788134012397,
           0.8346933328328409,
           2.2032011570230847,
           0.546476411032812
          ],
          [
           0.4875414526390438,
           0.769312782876359,
           3.8125592955686445,
           0.4920404857068082
          ],
          [
           1.456406071070391,
           1.634097620000916,
           15.731556960452679,
           1.1075059794846487
          ],
          [
           1.0365851705832958,
           1.9975958815063328,
           6.196056250609369,
           0.6733404742604814
          ],
          [
           0.5183835531954282,
           1.1171817518469782,
           6.727803503589459,
           0.44227729902148705
          ],
          [
           0.33001658121847227,
           0.6554965660725494,
           2.9006554840469336,
           0.316309283460411
          ],
          [
           0.4965105747480907,
           1.407489874931332,
           8.03991051317461,
           0.5599610417065142
          ],
          [
           0.7233344396994656,
           2.041053823730145,
           6.608926003321799,
           1.0876138145498149
          ],
          [
           0.3436266527297281,
           1.0905310494578848,
           3.89810861136975,
           0.36547532406308175
          ]
         ],
         "zmax": 1.15,
         "zmin": 0.85
        },
        {
         "line": {
          "color": "white",
          "width": 3
         },
         "mode": "markers",
         "showlegend": false,
         "type": "scatter",
         "uid": "01607b28-20f9-49c9-a060-757df16147f5",
         "x": [
          0,
          3,
          0,
          3,
          0,
          3,
          0,
          0,
          3,
          0,
          1,
          2,
          3,
          3,
          0,
          3,
          0,
          1,
          2,
          3,
          0,
          2,
          3,
          0,
          2,
          0,
          1,
          2,
          0,
          2,
          3,
          0,
          2,
          2,
          1,
          2,
          2,
          3,
          0,
          2,
          3,
          2,
          1,
          2,
          0,
          2,
          3
         ],
         "xaxis": "x",
         "y": [
          0,
          0,
          3,
          3,
          4,
          4,
          6,
          7,
          7,
          8,
          8,
          8,
          8,
          9,
          10,
          10,
          11,
          11,
          11,
          11,
          12,
          12,
          12,
          13,
          13,
          14,
          14,
          14,
          15,
          15,
          15,
          16,
          16,
          17,
          18,
          18,
          19,
          19,
          20,
          20,
          20,
          21,
          22,
          22,
          23,
          23,
          23
         ],
         "yaxis": "y"
        },
        {
         "line": {
          "color": "black",
          "width": 2
         },
         "mode": "lines",
         "showlegend": false,
         "type": "scatter",
         "uid": "6ea2b72a-fdac-42e6-97c2-305b70f55156",
         "x": [
          -0.5,
          3.5
         ],
         "xaxis": "x",
         "y": [
          3.5,
          3.5
         ],
         "yaxis": "y"
        },
        {
         "line": {
          "color": "black",
          "width": 2
         },
         "mode": "lines",
         "showlegend": false,
         "type": "scatter",
         "uid": "0300b47b-1894-4df6-a994-15bd44b51d53",
         "x": [
          -0.5,
          3.5
         ],
         "xaxis": "x",
         "y": [
          7.5,
          7.5
         ],
         "yaxis": "y"
        },
        {
         "line": {
          "color": "black",
          "width": 2
         },
         "mode": "lines",
         "showlegend": false,
         "type": "scatter",
         "uid": "cbf8188e-8633-47c9-881b-089084015572",
         "x": [
          -0.5,
          3.5
         ],
         "xaxis": "x",
         "y": [
          11.5,
          11.5
         ],
         "yaxis": "y"
        },
        {
         "line": {
          "color": "black",
          "width": 2
         },
         "mode": "lines",
         "showlegend": false,
         "type": "scatter",
         "uid": "18956f05-d037-4dcc-a5c8-f8ce88d4648c",
         "x": [
          -0.5,
          3.5
         ],
         "xaxis": "x",
         "y": [
          15.5,
          15.5
         ],
         "yaxis": "y"
        },
        {
         "line": {
          "color": "black",
          "width": 2
         },
         "mode": "lines",
         "showlegend": false,
         "type": "scatter",
         "uid": "2735ddb1-043e-4894-9849-793b3b59406e",
         "x": [
          -0.5,
          3.5
         ],
         "xaxis": "x",
         "y": [
          19.5,
          19.5
         ],
         "yaxis": "y"
        },
        {
         "text": [
          [
           "AAA_T",
           "AAC_T",
           "AAG_T",
           "AAT_T"
          ],
          [
           "CAA_T",
           "CAC_T",
           "CAG_T",
           "CAT_T"
          ],
          [
           "GAA_T",
           "GAC_T",
           "GAG_T",
           "GAT_T"
          ],
          [
           "TAA_T",
           "TAC_T",
           "TAG_T",
           "TAT_T"
          ],
          [
           "AAA_C",
           "AAC_C",
           "AAG_C",
           "AAT_C"
          ],
          [
           "CAA_C",
           "CAC_C",
           "CAG_C",
           "CAT_C"
          ],
          [
           "GAA_C",
           "GAC_C",
           "GAG_C",
           "GAT_C"
          ],
          [
           "TAA_C",
           "TAC_C",
           "TAG_C",
           "TAT_C"
          ],
          [
           "AAA_G",
           "AAC_G",
           "AAG_G",
           "AAT_G"
          ],
          [
           "CAA_G",
           "CAC_G",
           "CAG_G",
           "CAT_G"
          ],
          [
           "GAA_G",
           "GAC_G",
           "GAG_G",
           "GAT_G"
          ],
          [
           "TAA_G",
           "TAC_G",
           "TAG_G",
           "TAT_G"
          ],
          [
           "ACA_T",
           "ACC_T",
           "ACG_T",
           "ACT_T"
          ],
          [
           "CCA_T",
           "CCC_T",
           "CCG_T",
           "CCT_T"
          ],
          [
           "GCA_T",
           "GCC_T",
           "GCG_T",
           "GCT_T"
          ],
          [
           "TCA_T",
           "TCC_T",
           "TCG_T",
           "TCT_T"
          ],
          [
           "ACA_G",
           "ACC_G",
           "ACG_G",
           "ACT_G"
          ],
          [
           "CCA_G",
           "CCC_G",
           "CCG_G",
           "CCT_G"
          ],
          [
           "GCA_G",
           "GCC_G",
           "GCG_G",
           "GCT_G"
          ],
          [
           "TCA_G",
           "TCC_G",
           "TCG_G",
           "TCT_G"
          ],
          [
           "ACA_A",
           "ACC_A",
           "ACG_A",
           "ACT_A"
          ],
          [
           "CCA_A",
           "CCC_A",
           "CCG_A",
           "CCT_A"
          ],
          [
           "GCA_A",
           "GCC_A",
           "GCG_A",
           "GCT_A"
          ],
          [
           "TCA_A",
           "TCC_A",
           "TCG_A",
           "TCT_A"
          ]
         ],
         "type": "heatmap",
         "uid": "4c8b0a86-99c5-44a7-a253-93bd3913b4f8",
         "xaxis": "x2",
         "yaxis": "y2",
         "z": [
          [
           1.059070946115279,
           1.088894672368356,
           1.0243723433045784,
           1.0600683296014122
          ],
          [
           1.1001958159998735,
           0.9575287040225365,
           1.0070711405405124,
           1.0391848174871636
          ],
          [
           0.9862432742695049,
           1.029479040402787,
           0.9981348565689547,
           1.0764441514032688
          ],
          [
           0.9689727668570017,
           1.000663517601165,
           1.0640428554252255,
           1.0671691962212018
          ],
          [
           1.0112400024347137,
           1.0904058651746449,
           0.9644737211750752,
           1.0051599123452484
          ],
          [
           1.0918411393167866,
           0.9783572096733344,
           0.936454527570467,
           0.9988570798606428
          ],
          [
           0.9865222403366819,
           0.9969615985238501,
           0.9349456205347887,
           1.0144512269644779
          ],
          [
           0.9309674321337877,
           1.01697515749857,
           0.9664995582336072,
           1.0291936713091971
          ],
          [
           1.0037529802237384,
           1.0023180883334004,
           0.9782597860310233,
           0.9951876501413175
          ],
          [
           1.0448024561526494,
           0.9552037545333807,
           0.9358087054416726,
           0.9728427476096494
          ],
          [
           0.9776769972162411,
           0.992747490533353,
           0.9744827588961817,
           1.0385658267277604
          ],
          [
           0.9691812923148895,
           0.9996843510007078,
           1.0254376444243267,
           1.0268441104419495
          ],
          [
           1.0224775608788443,
           1.062937271804074,
           0.9524042461499505,
           1.0115414180949427
          ],
          [
           1.0693417899856907,
           0.9961036622600694,
           0.9528827722870815,
           0.9831288306560916
          ],
          [
           0.9897236779993478,
           0.9962008909409055,
           0.9654962397241661,
           0.9814026252403182
          ],
          [
           1.009565935808478,
           1.007396927004246,
           1.0121472718557847,
           1.0064704837283396
          ],
          [
           1.017374009495443,
           1.0237817977070882,
           0.9167523463374155,
           0.9803110689988875
          ],
          [
           1.0570021735117887,
           0.9655537479982572,
           0.8000488057957565,
           0.9542249665910043
          ],
          [
           0.9851997130058098,
           0.9707717343762815,
           0.9026732836772253,
           0.9978273719377281
          ],
          [
           0.9989733526965692,
           0.9815850207683894,
           0.9554049780492424,
           0.9869025682867261
          ],
          [
           1.062985451334964,
           1.1017448896965627,
           0.8885128457255788,
           1.02498869771995
          ],
          [
           1.1062769814792643,
           1.0179006945254063,
           0.8913451073576116,
           1.007037299994053
          ],
          [
           1.0482494301033924,
           1.0285433885179929,
           0.8765027437337545,
           1.0115113889452105
          ],
          [
           1.0199407530444973,
           1.0395624967165402,
           0.9187565822771835,
           1.0614892614575906
          ]
         ],
         "zmax": 1.15,
         "zmin": 0.85
        },
        {
         "line": {
          "color": "white",
          "width": 3
         },
         "mode": "markers",
         "showlegend": false,
         "type": "scatter",
         "uid": "c057372c-2e9e-4210-9992-0629903b610d",
         "x": [
          0,
          1,
          3,
          0,
          3,
          2,
          3,
          1,
          0,
          2,
          2,
          0,
          0,
          1,
          2,
          3,
          3,
          0,
          3,
          0,
          1,
          2,
          0,
          2,
          2,
          2,
          0,
          2,
          3,
          2,
          0,
          1,
          2,
          0,
          2,
          0,
          2,
          2,
          3
         ],
         "xaxis": "x2",
         "y": [
          0,
          0,
          0,
          1,
          2,
          3,
          3,
          4,
          5,
          5,
          6,
          7,
          9,
          9,
          9,
          9,
          10,
          11,
          11,
          12,
          12,
          12,
          13,
          13,
          14,
          16,
          17,
          17,
          17,
          18,
          20,
          20,
          20,
          21,
          21,
          22,
          22,
          23,
          23
         ],
         "yaxis": "y2"
        },
        {
         "line": {
          "color": "black",
          "width": 2
         },
         "mode": "lines",
         "showlegend": false,
         "type": "scatter",
         "uid": "23103f72-962c-420f-87be-72cd23caf5a3",
         "x": [
          -0.5,
          3.5
         ],
         "xaxis": "x2",
         "y": [
          3.5,
          3.5
         ],
         "yaxis": "y2"
        },
        {
         "line": {
          "color": "black",
          "width": 2
         },
         "mode": "lines",
         "showlegend": false,
         "type": "scatter",
         "uid": "5671c847-293a-4db3-94b5-a04e9b17560a",
         "x": [
          -0.5,
          3.5
         ],
         "xaxis": "x2",
         "y": [
          7.5,
          7.5
         ],
         "yaxis": "y2"
        },
        {
         "line": {
          "color": "black",
          "width": 2
         },
         "mode": "lines",
         "showlegend": false,
         "type": "scatter",
         "uid": "a7ff37cd-867a-4db8-9718-b541b36a0ea1",
         "x": [
          -0.5,
          3.5
         ],
         "xaxis": "x2",
         "y": [
          11.5,
          11.5
         ],
         "yaxis": "y2"
        },
        {
         "line": {
          "color": "black",
          "width": 2
         },
         "mode": "lines",
         "showlegend": false,
         "type": "scatter",
         "uid": "2b024ee8-1258-4f7a-8fe4-72813220d42c",
         "x": [
          -0.5,
          3.5
         ],
         "xaxis": "x2",
         "y": [
          15.5,
          15.5
         ],
         "yaxis": "y2"
        },
        {
         "line": {
          "color": "black",
          "width": 2
         },
         "mode": "lines",
         "showlegend": false,
         "type": "scatter",
         "uid": "c4d82c48-f011-4efd-8f9e-8edb9f3e6a2d",
         "x": [
          -0.5,
          3.5
         ],
         "xaxis": "x2",
         "y": [
          19.5,
          19.5
         ],
         "yaxis": "y2"
        },
        {
         "text": [
          [
           "AAA_T",
           "AAC_T",
           "AAG_T",
           "AAT_T"
          ],
          [
           "CAA_T",
           "CAC_T",
           "CAG_T",
           "CAT_T"
          ],
          [
           "GAA_T",
           "GAC_T",
           "GAG_T",
           "GAT_T"
          ],
          [
           "TAA_T",
           "TAC_T",
           "TAG_T",
           "TAT_T"
          ],
          [
           "AAA_C",
           "AAC_C",
           "AAG_C",
           "AAT_C"
          ],
          [
           "CAA_C",
           "CAC_C",
           "CAG_C",
           "CAT_C"
          ],
          [
           "GAA_C",
           "GAC_C",
           "GAG_C",
           "GAT_C"
          ],
          [
           "TAA_C",
           "TAC_C",
           "TAG_C",
           "TAT_C"
          ],
          [
           "AAA_G",
           "AAC_G",
           "AAG_G",
           "AAT_G"
          ],
          [
           "CAA_G",
           "CAC_G",
           "CAG_G",
           "CAT_G"
          ],
          [
           "GAA_G",
           "GAC_G",
           "GAG_G",
           "GAT_G"
          ],
          [
           "TAA_G",
           "TAC_G",
           "TAG_G",
           "TAT_G"
          ],
          [
           "ACA_T",
           "ACC_T",
           "ACG_T",
           "ACT_T"
          ],
          [
           "CCA_T",
           "CCC_T",
           "CCG_T",
           "CCT_T"
          ],
          [
           "GCA_T",
           "GCC_T",
           "GCG_T",
           "GCT_T"
          ],
          [
           "TCA_T",
           "TCC_T",
           "TCG_T",
           "TCT_T"
          ],
          [
           "ACA_G",
           "ACC_G",
           "ACG_G",
           "ACT_G"
          ],
          [
           "CCA_G",
           "CCC_G",
           "CCG_G",
           "CCT_G"
          ],
          [
           "GCA_G",
           "GCC_G",
           "GCG_G",
           "GCT_G"
          ],
          [
           "TCA_G",
           "TCC_G",
           "TCG_G",
           "TCT_G"
          ],
          [
           "ACA_A",
           "ACC_A",
           "ACG_A",
           "ACT_A"
          ],
          [
           "CCA_A",
           "CCC_A",
           "CCG_A",
           "CCT_A"
          ],
          [
           "GCA_A",
           "GCC_A",
           "GCG_A",
           "GCT_A"
          ],
          [
           "TCA_A",
           "TCC_A",
           "TCG_A",
           "TCT_A"
          ]
         ],
         "type": "heatmap",
         "uid": "7b4d31b7-d429-498a-b431-f56a81a96211",
         "xaxis": "x3",
         "yaxis": "y3",
         "z": [
          [
           0,
           0,
           0,
           0
          ],
          [
           0,
           24.070781948393538,
           0,
           0
          ],
          [
           0,
           0,
           5.345330558709628,
           0
          ],
          [
           0,
           0,
           0,
           0
          ],
          [
           0,
           0,
           1.0425771100666545,
           0
          ],
          [
           0,
           8.787779741498627,
           0,
           0.8842476833252986
          ],
          [
           0,
           0,
           3.153740859788802,
           0
          ],
          [
           0,
           0,
           0,
           0
          ],
          [
           0,
           0,
           0,
           0
          ],
          [
           0,
           9.637783709432966,
           0,
           0.13367020213180555
          ],
          [
           0,
           0,
           1.4288472496512565,
           0
          ],
          [
           0,
           0,
           0,
           0.5899810734887048
          ],
          [
           10.058758109717932,
           0,
           0.6143146908905791,
           0
          ],
          [
           0,
           0,
           0,
           0
          ],
          [
           0,
           0,
           0,
           0
          ],
          [
           0,
           0,
           0,
           1.632813295918862
          ],
          [
           9.822467796842123,
           0,
           0,
           0
          ],
          [
           0,
           0,
           0,
           0
          ],
          [
           0,
           0,
           0,
           0
          ],
          [
           0.7679295373867447,
           0,
           0,
           2.2276334162959794
          ],
          [
           8.6188457401819,
           0,
           0,
           0
          ],
          [
           0,
           0,
           0,
           0
          ],
          [
           0,
           0,
           0,
           0
          ],
          [
           0,
           0,
           0,
           1.577830495255427
          ]
         ],
         "zmax": 1.15,
         "zmin": 0.85
        },
        {
         "line": {
          "color": "white",
          "width": 3
         },
         "mode": "markers",
         "showlegend": false,
         "type": "scatter",
         "uid": "c0f2dae2-f6b5-49e3-9cb2-57df4dfb5bd6",
         "x": [
          1,
          1,
          1,
          0,
          0,
          0
         ],
         "xaxis": "x3",
         "y": [
          1,
          5,
          9,
          12,
          16,
          20
         ],
         "yaxis": "y3"
        },
        {
         "line": {
          "color": "black",
          "width": 2
         },
         "mode": "lines",
         "showlegend": false,
         "type": "scatter",
         "uid": "cb39b811-65a6-424d-8de7-8af504593972",
         "x": [
          -0.5,
          3.5
         ],
         "xaxis": "x3",
         "y": [
          3.5,
          3.5
         ],
         "yaxis": "y3"
        },
        {
         "line": {
          "color": "black",
          "width": 2
         },
         "mode": "lines",
         "showlegend": false,
         "type": "scatter",
         "uid": "46b65abb-6315-4fda-8396-7143d58db9a0",
         "x": [
          -0.5,
          3.5
         ],
         "xaxis": "x3",
         "y": [
          7.5,
          7.5
         ],
         "yaxis": "y3"
        },
        {
         "line": {
          "color": "black",
          "width": 2
         },
         "mode": "lines",
         "showlegend": false,
         "type": "scatter",
         "uid": "91eff5f9-4dbb-45bd-87ca-b2b966ac69a7",
         "x": [
          -0.5,
          3.5
         ],
         "xaxis": "x3",
         "y": [
          11.5,
          11.5
         ],
         "yaxis": "y3"
        },
        {
         "line": {
          "color": "black",
          "width": 2
         },
         "mode": "lines",
         "showlegend": false,
         "type": "scatter",
         "uid": "291a4ee8-9a65-4eb9-a717-e68a01fd822e",
         "x": [
          -0.5,
          3.5
         ],
         "xaxis": "x3",
         "y": [
          15.5,
          15.5
         ],
         "yaxis": "y3"
        },
        {
         "line": {
          "color": "black",
          "width": 2
         },
         "mode": "lines",
         "showlegend": false,
         "type": "scatter",
         "uid": "0ca94872-bf47-4aca-a5ea-4caab89512ba",
         "x": [
          -0.5,
          3.5
         ],
         "xaxis": "x3",
         "y": [
          19.5,
          19.5
         ],
         "yaxis": "y3"
        }
       ],
       "layout": {
        "annotations": [
         {
          "font": {
           "size": 16
          },
          "showarrow": false,
          "text": "cpgIslandExtUnmasked",
          "x": 0.14444444444444446,
          "xanchor": "center",
          "xref": "paper",
          "y": 1,
          "yanchor": "bottom",
          "yref": "paper"
         },
         {
          "font": {
           "size": 16
          },
          "showarrow": false,
          "text": "nestedRepeats",
          "x": 0.5,
          "xanchor": "center",
          "xref": "paper",
          "y": 1,
          "yanchor": "bottom",
          "yref": "paper"
         },
         {
          "font": {
           "size": 16
          },
          "showarrow": false,
          "text": "microsat",
          "x": 0.8555555555555556,
          "xanchor": "center",
          "xref": "paper",
          "y": 1,
          "yanchor": "bottom",
          "yref": "paper"
         }
        ],
        "height": 550,
        "title": {
         "text": " Chromosomes 1 2 3 4 5 6 7 8 9 10 11 12 13 14 15 16 17 18 19 20 p < 1.0e-05"
        },
        "width": 900,
        "xaxis": {
         "anchor": "y",
         "domain": [
          0,
          0.2888888888888889
         ],
         "title": {
          "text": "A\t\t\t\t\t\t\t\tC\t\t\t\t\t\t\t\tG\t\t\t\t\t\t\t\tT"
         }
        },
        "xaxis2": {
         "anchor": "y2",
         "domain": [
          0.35555555555555557,
          0.6444444444444445
         ],
         "title": {
          "text": "A\t\t\t\t\t\t\t\tC\t\t\t\t\t\t\t\tG\t\t\t\t\t\t\t\tT"
         }
        },
        "xaxis3": {
         "anchor": "y3",
         "domain": [
          0.7111111111111111,
          1
         ],
         "title": {
          "text": "A\t\t\t\t\t\t\t\tC\t\t\t\t\t\t\t\tG\t\t\t\t\t\t\t\tT"
         }
        },
        "yaxis": {
         "anchor": "x",
         "domain": [
          0,
          1
         ],
         "range": [
          -0.5,
          24
         ],
         "title": {
          "text": "A-T\t\t\t\t\t\tA-C\t\t\t\t\t\tA-G\t\t\t\t\t\tC-T\t\t\t\t\t\tC-G\t\t\t\t\t\tC-A"
         }
        },
        "yaxis2": {
         "anchor": "x2",
         "domain": [
          0,
          1
         ]
        },
        "yaxis3": {
         "anchor": "x3",
         "domain": [
          0,
          1
         ]
        }
       }
      },
      "text/html": [
       "<div>\n",
       "        \n",
       "        \n",
       "            <div id=\"4baebe63-2d92-4f0c-8767-db500c637e8d\" class=\"plotly-graph-div\" style=\"height:550px; width:900px;\"></div>\n",
       "            <script type=\"text/javascript\">\n",
       "                require([\"plotly\"], function(Plotly) {\n",
       "                    window.PLOTLYENV=window.PLOTLYENV || {};\n",
       "                    window.PLOTLYENV.BASE_URL='https://plot.ly';\n",
       "                    \n",
       "                if (document.getElementById(\"4baebe63-2d92-4f0c-8767-db500c637e8d\")) {\n",
       "                    Plotly.newPlot(\n",
       "                        '4baebe63-2d92-4f0c-8767-db500c637e8d',\n",
       "                        [{\"text\": [[\"AAA_T\", \"AAC_T\", \"AAG_T\", \"AAT_T\"], [\"CAA_T\", \"CAC_T\", \"CAG_T\", \"CAT_T\"], [\"GAA_T\", \"GAC_T\", \"GAG_T\", \"GAT_T\"], [\"TAA_T\", \"TAC_T\", \"TAG_T\", \"TAT_T\"], [\"AAA_C\", \"AAC_C\", \"AAG_C\", \"AAT_C\"], [\"CAA_C\", \"CAC_C\", \"CAG_C\", \"CAT_C\"], [\"GAA_C\", \"GAC_C\", \"GAG_C\", \"GAT_C\"], [\"TAA_C\", \"TAC_C\", \"TAG_C\", \"TAT_C\"], [\"AAA_G\", \"AAC_G\", \"AAG_G\", \"AAT_G\"], [\"CAA_G\", \"CAC_G\", \"CAG_G\", \"CAT_G\"], [\"GAA_G\", \"GAC_G\", \"GAG_G\", \"GAT_G\"], [\"TAA_G\", \"TAC_G\", \"TAG_G\", \"TAT_G\"], [\"ACA_T\", \"ACC_T\", \"ACG_T\", \"ACT_T\"], [\"CCA_T\", \"CCC_T\", \"CCG_T\", \"CCT_T\"], [\"GCA_T\", \"GCC_T\", \"GCG_T\", \"GCT_T\"], [\"TCA_T\", \"TCC_T\", \"TCG_T\", \"TCT_T\"], [\"ACA_G\", \"ACC_G\", \"ACG_G\", \"ACT_G\"], [\"CCA_G\", \"CCC_G\", \"CCG_G\", \"CCT_G\"], [\"GCA_G\", \"GCC_G\", \"GCG_G\", \"GCT_G\"], [\"TCA_G\", \"TCC_G\", \"TCG_G\", \"TCT_G\"], [\"ACA_A\", \"ACC_A\", \"ACG_A\", \"ACT_A\"], [\"CCA_A\", \"CCC_A\", \"CCG_A\", \"CCT_A\"], [\"GCA_A\", \"GCC_A\", \"GCG_A\", \"GCT_A\"], [\"TCA_A\", \"TCC_A\", \"TCG_A\", \"TCT_A\"]], \"type\": \"heatmap\", \"uid\": \"a7ce2d88-ae3d-4ecc-9b5a-5523b4f92376\", \"xaxis\": \"x\", \"yaxis\": \"y\", \"z\": [[0.26771047512933055, 0.575312093338693, 0.45308715339127875, 0.26537690773582073], [0.2071805779613245, 0.6249520434799843, 0.6320229192948599, 0.4110057471591426], [0.51708199576333, 1.0817163652129294, 1.3796497430705157, 0.5940031568259058], [0.16977574900962894, 0.5004108448489797, 0.5197799147021485, 0.11069021087483291], [0.2332584134065673, 0.5128717838071731, 0.39328982555593817, 0.32822229914810397], [0.4333543867496833, 1.1465417653008743, 1.3882716361841134, 0.421343304534259], [0.34069079474008146, 1.2840261209100374, 1.6592919393986059, 0.7765663652648639], [0.27696360624477123, 0.6134035524284925, 0.5319145097003071, 0.18962837722967382], [0.34121033610338053, 0.3652178775809891, 0.5377846766239788, 0.26726168314462684], [0.7158949535322134, 1.2948005747937563, 1.2344829862345172, 0.3795085520006327], [0.5660198598042502, 1.1266454333456626, 1.1158285788065323, 0.41007833239120606], [0.32124300924517435, 0.46638330615946805, 0.4985944323015081, 0.16691826765133227], [0.2755463710891999, 0.7995453371533633, 1.402618834347007, 0.38669374971138426], [0.5906507977819208, 1.1131764019672874, 4.354452105412148, 0.7770879449492762], [0.6091247132135669, 1.6462342673335777, 4.1759098167896855, 0.9945698147766272], [0.46503788134012397, 0.8346933328328409, 2.2032011570230847, 0.546476411032812], [0.4875414526390438, 0.769312782876359, 3.8125592955686445, 0.4920404857068082], [1.456406071070391, 1.634097620000916, 15.731556960452679, 1.1075059794846487], [1.0365851705832958, 1.9975958815063328, 6.196056250609369, 0.6733404742604814], [0.5183835531954282, 1.1171817518469782, 6.727803503589459, 0.44227729902148705], [0.33001658121847227, 0.6554965660725494, 2.9006554840469336, 0.316309283460411], [0.4965105747480907, 1.407489874931332, 8.03991051317461, 0.5599610417065142], [0.7233344396994656, 2.041053823730145, 6.608926003321799, 1.0876138145498149], [0.3436266527297281, 1.0905310494578848, 3.89810861136975, 0.36547532406308175]], \"zmax\": 1.15, \"zmin\": 0.85}, {\"line\": {\"color\": \"white\", \"width\": 3}, \"mode\": \"markers\", \"showlegend\": false, \"type\": \"scatter\", \"uid\": \"01607b28-20f9-49c9-a060-757df16147f5\", \"x\": [0, 3, 0, 3, 0, 3, 0, 0, 3, 0, 1, 2, 3, 3, 0, 3, 0, 1, 2, 3, 0, 2, 3, 0, 2, 0, 1, 2, 0, 2, 3, 0, 2, 2, 1, 2, 2, 3, 0, 2, 3, 2, 1, 2, 0, 2, 3], \"xaxis\": \"x\", \"y\": [0, 0, 3, 3, 4, 4, 6, 7, 7, 8, 8, 8, 8, 9, 10, 10, 11, 11, 11, 11, 12, 12, 12, 13, 13, 14, 14, 14, 15, 15, 15, 16, 16, 17, 18, 18, 19, 19, 20, 20, 20, 21, 22, 22, 23, 23, 23], \"yaxis\": \"y\"}, {\"line\": {\"color\": \"black\", \"width\": 2}, \"mode\": \"lines\", \"showlegend\": false, \"type\": \"scatter\", \"uid\": \"6ea2b72a-fdac-42e6-97c2-305b70f55156\", \"x\": [-0.5, 3.5], \"xaxis\": \"x\", \"y\": [3.5, 3.5], \"yaxis\": \"y\"}, {\"line\": {\"color\": \"black\", \"width\": 2}, \"mode\": \"lines\", \"showlegend\": false, \"type\": \"scatter\", \"uid\": \"0300b47b-1894-4df6-a994-15bd44b51d53\", \"x\": [-0.5, 3.5], \"xaxis\": \"x\", \"y\": [7.5, 7.5], \"yaxis\": \"y\"}, {\"line\": {\"color\": \"black\", \"width\": 2}, \"mode\": \"lines\", \"showlegend\": false, \"type\": \"scatter\", \"uid\": \"cbf8188e-8633-47c9-881b-089084015572\", \"x\": [-0.5, 3.5], \"xaxis\": \"x\", \"y\": [11.5, 11.5], \"yaxis\": \"y\"}, {\"line\": {\"color\": \"black\", \"width\": 2}, \"mode\": \"lines\", \"showlegend\": false, \"type\": \"scatter\", \"uid\": \"18956f05-d037-4dcc-a5c8-f8ce88d4648c\", \"x\": [-0.5, 3.5], \"xaxis\": \"x\", \"y\": [15.5, 15.5], \"yaxis\": \"y\"}, {\"line\": {\"color\": \"black\", \"width\": 2}, \"mode\": \"lines\", \"showlegend\": false, \"type\": \"scatter\", \"uid\": \"2735ddb1-043e-4894-9849-793b3b59406e\", \"x\": [-0.5, 3.5], \"xaxis\": \"x\", \"y\": [19.5, 19.5], \"yaxis\": \"y\"}, {\"text\": [[\"AAA_T\", \"AAC_T\", \"AAG_T\", \"AAT_T\"], [\"CAA_T\", \"CAC_T\", \"CAG_T\", \"CAT_T\"], [\"GAA_T\", \"GAC_T\", \"GAG_T\", \"GAT_T\"], [\"TAA_T\", \"TAC_T\", \"TAG_T\", \"TAT_T\"], [\"AAA_C\", \"AAC_C\", \"AAG_C\", \"AAT_C\"], [\"CAA_C\", \"CAC_C\", \"CAG_C\", \"CAT_C\"], [\"GAA_C\", \"GAC_C\", \"GAG_C\", \"GAT_C\"], [\"TAA_C\", \"TAC_C\", \"TAG_C\", \"TAT_C\"], [\"AAA_G\", \"AAC_G\", \"AAG_G\", \"AAT_G\"], [\"CAA_G\", \"CAC_G\", \"CAG_G\", \"CAT_G\"], [\"GAA_G\", \"GAC_G\", \"GAG_G\", \"GAT_G\"], [\"TAA_G\", \"TAC_G\", \"TAG_G\", \"TAT_G\"], [\"ACA_T\", \"ACC_T\", \"ACG_T\", \"ACT_T\"], [\"CCA_T\", \"CCC_T\", \"CCG_T\", \"CCT_T\"], [\"GCA_T\", \"GCC_T\", \"GCG_T\", \"GCT_T\"], [\"TCA_T\", \"TCC_T\", \"TCG_T\", \"TCT_T\"], [\"ACA_G\", \"ACC_G\", \"ACG_G\", \"ACT_G\"], [\"CCA_G\", \"CCC_G\", \"CCG_G\", \"CCT_G\"], [\"GCA_G\", \"GCC_G\", \"GCG_G\", \"GCT_G\"], [\"TCA_G\", \"TCC_G\", \"TCG_G\", \"TCT_G\"], [\"ACA_A\", \"ACC_A\", \"ACG_A\", \"ACT_A\"], [\"CCA_A\", \"CCC_A\", \"CCG_A\", \"CCT_A\"], [\"GCA_A\", \"GCC_A\", \"GCG_A\", \"GCT_A\"], [\"TCA_A\", \"TCC_A\", \"TCG_A\", \"TCT_A\"]], \"type\": \"heatmap\", \"uid\": \"4c8b0a86-99c5-44a7-a253-93bd3913b4f8\", \"xaxis\": \"x2\", \"yaxis\": \"y2\", \"z\": [[1.059070946115279, 1.088894672368356, 1.0243723433045784, 1.0600683296014122], [1.1001958159998735, 0.9575287040225365, 1.0070711405405124, 1.0391848174871636], [0.9862432742695049, 1.029479040402787, 0.9981348565689547, 1.0764441514032688], [0.9689727668570017, 1.000663517601165, 1.0640428554252255, 1.0671691962212018], [1.0112400024347137, 1.0904058651746449, 0.9644737211750752, 1.0051599123452484], [1.0918411393167866, 0.9783572096733344, 0.936454527570467, 0.9988570798606428], [0.9865222403366819, 0.9969615985238501, 0.9349456205347887, 1.0144512269644779], [0.9309674321337877, 1.01697515749857, 0.9664995582336072, 1.0291936713091971], [1.0037529802237384, 1.0023180883334004, 0.9782597860310233, 0.9951876501413175], [1.0448024561526494, 0.9552037545333807, 0.9358087054416726, 0.9728427476096494], [0.9776769972162411, 0.992747490533353, 0.9744827588961817, 1.0385658267277604], [0.9691812923148895, 0.9996843510007078, 1.0254376444243267, 1.0268441104419495], [1.0224775608788443, 1.062937271804074, 0.9524042461499505, 1.0115414180949427], [1.0693417899856907, 0.9961036622600694, 0.9528827722870815, 0.9831288306560916], [0.9897236779993478, 0.9962008909409055, 0.9654962397241661, 0.9814026252403182], [1.009565935808478, 1.007396927004246, 1.0121472718557847, 1.0064704837283396], [1.017374009495443, 1.0237817977070882, 0.9167523463374155, 0.9803110689988875], [1.0570021735117887, 0.9655537479982572, 0.8000488057957565, 0.9542249665910043], [0.9851997130058098, 0.9707717343762815, 0.9026732836772253, 0.9978273719377281], [0.9989733526965692, 0.9815850207683894, 0.9554049780492424, 0.9869025682867261], [1.062985451334964, 1.1017448896965627, 0.8885128457255788, 1.02498869771995], [1.1062769814792643, 1.0179006945254063, 0.8913451073576116, 1.007037299994053], [1.0482494301033924, 1.0285433885179929, 0.8765027437337545, 1.0115113889452105], [1.0199407530444973, 1.0395624967165402, 0.9187565822771835, 1.0614892614575906]], \"zmax\": 1.15, \"zmin\": 0.85}, {\"line\": {\"color\": \"white\", \"width\": 3}, \"mode\": \"markers\", \"showlegend\": false, \"type\": \"scatter\", \"uid\": \"c057372c-2e9e-4210-9992-0629903b610d\", \"x\": [0, 1, 3, 0, 3, 2, 3, 1, 0, 2, 2, 0, 0, 1, 2, 3, 3, 0, 3, 0, 1, 2, 0, 2, 2, 2, 0, 2, 3, 2, 0, 1, 2, 0, 2, 0, 2, 2, 3], \"xaxis\": \"x2\", \"y\": [0, 0, 0, 1, 2, 3, 3, 4, 5, 5, 6, 7, 9, 9, 9, 9, 10, 11, 11, 12, 12, 12, 13, 13, 14, 16, 17, 17, 17, 18, 20, 20, 20, 21, 21, 22, 22, 23, 23], \"yaxis\": \"y2\"}, {\"line\": {\"color\": \"black\", \"width\": 2}, \"mode\": \"lines\", \"showlegend\": false, \"type\": \"scatter\", \"uid\": \"23103f72-962c-420f-87be-72cd23caf5a3\", \"x\": [-0.5, 3.5], \"xaxis\": \"x2\", \"y\": [3.5, 3.5], \"yaxis\": \"y2\"}, {\"line\": {\"color\": \"black\", \"width\": 2}, \"mode\": \"lines\", \"showlegend\": false, \"type\": \"scatter\", \"uid\": \"5671c847-293a-4db3-94b5-a04e9b17560a\", \"x\": [-0.5, 3.5], \"xaxis\": \"x2\", \"y\": [7.5, 7.5], \"yaxis\": \"y2\"}, {\"line\": {\"color\": \"black\", \"width\": 2}, \"mode\": \"lines\", \"showlegend\": false, \"type\": \"scatter\", \"uid\": \"a7ff37cd-867a-4db8-9718-b541b36a0ea1\", \"x\": [-0.5, 3.5], \"xaxis\": \"x2\", \"y\": [11.5, 11.5], \"yaxis\": \"y2\"}, {\"line\": {\"color\": \"black\", \"width\": 2}, \"mode\": \"lines\", \"showlegend\": false, \"type\": \"scatter\", \"uid\": \"2b024ee8-1258-4f7a-8fe4-72813220d42c\", \"x\": [-0.5, 3.5], \"xaxis\": \"x2\", \"y\": [15.5, 15.5], \"yaxis\": \"y2\"}, {\"line\": {\"color\": \"black\", \"width\": 2}, \"mode\": \"lines\", \"showlegend\": false, \"type\": \"scatter\", \"uid\": \"c4d82c48-f011-4efd-8f9e-8edb9f3e6a2d\", \"x\": [-0.5, 3.5], \"xaxis\": \"x2\", \"y\": [19.5, 19.5], \"yaxis\": \"y2\"}, {\"text\": [[\"AAA_T\", \"AAC_T\", \"AAG_T\", \"AAT_T\"], [\"CAA_T\", \"CAC_T\", \"CAG_T\", \"CAT_T\"], [\"GAA_T\", \"GAC_T\", \"GAG_T\", \"GAT_T\"], [\"TAA_T\", \"TAC_T\", \"TAG_T\", \"TAT_T\"], [\"AAA_C\", \"AAC_C\", \"AAG_C\", \"AAT_C\"], [\"CAA_C\", \"CAC_C\", \"CAG_C\", \"CAT_C\"], [\"GAA_C\", \"GAC_C\", \"GAG_C\", \"GAT_C\"], [\"TAA_C\", \"TAC_C\", \"TAG_C\", \"TAT_C\"], [\"AAA_G\", \"AAC_G\", \"AAG_G\", \"AAT_G\"], [\"CAA_G\", \"CAC_G\", \"CAG_G\", \"CAT_G\"], [\"GAA_G\", \"GAC_G\", \"GAG_G\", \"GAT_G\"], [\"TAA_G\", \"TAC_G\", \"TAG_G\", \"TAT_G\"], [\"ACA_T\", \"ACC_T\", \"ACG_T\", \"ACT_T\"], [\"CCA_T\", \"CCC_T\", \"CCG_T\", \"CCT_T\"], [\"GCA_T\", \"GCC_T\", \"GCG_T\", \"GCT_T\"], [\"TCA_T\", \"TCC_T\", \"TCG_T\", \"TCT_T\"], [\"ACA_G\", \"ACC_G\", \"ACG_G\", \"ACT_G\"], [\"CCA_G\", \"CCC_G\", \"CCG_G\", \"CCT_G\"], [\"GCA_G\", \"GCC_G\", \"GCG_G\", \"GCT_G\"], [\"TCA_G\", \"TCC_G\", \"TCG_G\", \"TCT_G\"], [\"ACA_A\", \"ACC_A\", \"ACG_A\", \"ACT_A\"], [\"CCA_A\", \"CCC_A\", \"CCG_A\", \"CCT_A\"], [\"GCA_A\", \"GCC_A\", \"GCG_A\", \"GCT_A\"], [\"TCA_A\", \"TCC_A\", \"TCG_A\", \"TCT_A\"]], \"type\": \"heatmap\", \"uid\": \"7b4d31b7-d429-498a-b431-f56a81a96211\", \"xaxis\": \"x3\", \"yaxis\": \"y3\", \"z\": [[0.0, 0.0, 0.0, 0.0], [0.0, 24.070781948393538, 0.0, 0.0], [0.0, 0.0, 5.345330558709628, 0.0], [0.0, 0.0, 0.0, 0.0], [0.0, 0.0, 1.0425771100666545, 0.0], [0.0, 8.787779741498627, 0.0, 0.8842476833252986], [0.0, 0.0, 3.153740859788802, 0.0], [0.0, 0.0, 0.0, 0.0], [0.0, 0.0, 0.0, 0.0], [0.0, 9.637783709432966, 0.0, 0.13367020213180555], [0.0, 0.0, 1.4288472496512565, 0.0], [0.0, 0.0, 0.0, 0.5899810734887048], [10.058758109717932, 0.0, 0.6143146908905791, 0.0], [0.0, 0.0, 0.0, 0.0], [0.0, 0.0, 0.0, 0.0], [0.0, 0.0, 0.0, 1.632813295918862], [9.822467796842123, 0.0, 0.0, 0.0], [0.0, 0.0, 0.0, 0.0], [0.0, 0.0, 0.0, 0.0], [0.7679295373867447, 0.0, 0.0, 2.2276334162959794], [8.6188457401819, 0.0, 0.0, 0.0], [0.0, 0.0, 0.0, 0.0], [0.0, 0.0, 0.0, 0.0], [0.0, 0.0, 0.0, 1.577830495255427]], \"zmax\": 1.15, \"zmin\": 0.85}, {\"line\": {\"color\": \"white\", \"width\": 3}, \"mode\": \"markers\", \"showlegend\": false, \"type\": \"scatter\", \"uid\": \"c0f2dae2-f6b5-49e3-9cb2-57df4dfb5bd6\", \"x\": [1, 1, 1, 0, 0, 0], \"xaxis\": \"x3\", \"y\": [1, 5, 9, 12, 16, 20], \"yaxis\": \"y3\"}, {\"line\": {\"color\": \"black\", \"width\": 2}, \"mode\": \"lines\", \"showlegend\": false, \"type\": \"scatter\", \"uid\": \"cb39b811-65a6-424d-8de7-8af504593972\", \"x\": [-0.5, 3.5], \"xaxis\": \"x3\", \"y\": [3.5, 3.5], \"yaxis\": \"y3\"}, {\"line\": {\"color\": \"black\", \"width\": 2}, \"mode\": \"lines\", \"showlegend\": false, \"type\": \"scatter\", \"uid\": \"46b65abb-6315-4fda-8396-7143d58db9a0\", \"x\": [-0.5, 3.5], \"xaxis\": \"x3\", \"y\": [7.5, 7.5], \"yaxis\": \"y3\"}, {\"line\": {\"color\": \"black\", \"width\": 2}, \"mode\": \"lines\", \"showlegend\": false, \"type\": \"scatter\", \"uid\": \"91eff5f9-4dbb-45bd-87ca-b2b966ac69a7\", \"x\": [-0.5, 3.5], \"xaxis\": \"x3\", \"y\": [11.5, 11.5], \"yaxis\": \"y3\"}, {\"line\": {\"color\": \"black\", \"width\": 2}, \"mode\": \"lines\", \"showlegend\": false, \"type\": \"scatter\", \"uid\": \"291a4ee8-9a65-4eb9-a717-e68a01fd822e\", \"x\": [-0.5, 3.5], \"xaxis\": \"x3\", \"y\": [15.5, 15.5], \"yaxis\": \"y3\"}, {\"line\": {\"color\": \"black\", \"width\": 2}, \"mode\": \"lines\", \"showlegend\": false, \"type\": \"scatter\", \"uid\": \"0ca94872-bf47-4aca-a5ea-4caab89512ba\", \"x\": [-0.5, 3.5], \"xaxis\": \"x3\", \"y\": [19.5, 19.5], \"yaxis\": \"y3\"}],\n",
       "                        {\"annotations\": [{\"font\": {\"size\": 16}, \"showarrow\": false, \"text\": \"cpgIslandExtUnmasked\", \"x\": 0.14444444444444446, \"xanchor\": \"center\", \"xref\": \"paper\", \"y\": 1.0, \"yanchor\": \"bottom\", \"yref\": \"paper\"}, {\"font\": {\"size\": 16}, \"showarrow\": false, \"text\": \"nestedRepeats\", \"x\": 0.5, \"xanchor\": \"center\", \"xref\": \"paper\", \"y\": 1.0, \"yanchor\": \"bottom\", \"yref\": \"paper\"}, {\"font\": {\"size\": 16}, \"showarrow\": false, \"text\": \"microsat\", \"x\": 0.8555555555555556, \"xanchor\": \"center\", \"xref\": \"paper\", \"y\": 1.0, \"yanchor\": \"bottom\", \"yref\": \"paper\"}], \"height\": 550, \"title\": {\"text\": \" Chromosomes 1 2 3 4 5 6 7 8 9 10 11 12 13 14 15 16 17 18 19 20 p < 1.0e-05\"}, \"width\": 900, \"xaxis\": {\"anchor\": \"y\", \"domain\": [0.0, 0.2888888888888889], \"title\": {\"text\": \"A\\t\\t\\t\\t\\t\\t\\t\\tC\\t\\t\\t\\t\\t\\t\\t\\tG\\t\\t\\t\\t\\t\\t\\t\\tT\"}}, \"xaxis2\": {\"anchor\": \"y2\", \"domain\": [0.35555555555555557, 0.6444444444444445], \"title\": {\"text\": \"A\\t\\t\\t\\t\\t\\t\\t\\tC\\t\\t\\t\\t\\t\\t\\t\\tG\\t\\t\\t\\t\\t\\t\\t\\tT\"}}, \"xaxis3\": {\"anchor\": \"y3\", \"domain\": [0.7111111111111111, 1.0], \"title\": {\"text\": \"A\\t\\t\\t\\t\\t\\t\\t\\tC\\t\\t\\t\\t\\t\\t\\t\\tG\\t\\t\\t\\t\\t\\t\\t\\tT\"}}, \"yaxis\": {\"anchor\": \"x\", \"domain\": [0.0, 1.0], \"range\": [-0.5, 24], \"title\": {\"text\": \"A-T\\t\\t\\t\\t\\t\\tA-C\\t\\t\\t\\t\\t\\tA-G\\t\\t\\t\\t\\t\\tC-T\\t\\t\\t\\t\\t\\tC-G\\t\\t\\t\\t\\t\\tC-A\"}}, \"yaxis2\": {\"anchor\": \"x2\", \"domain\": [0.0, 1.0]}, \"yaxis3\": {\"anchor\": \"x3\", \"domain\": [0.0, 1.0]}},\n",
       "                        {\"showLink\": false, \"linkText\": \"Export to plot.ly\", \"plotlyServerURL\": \"https://plot.ly\", \"responsive\": true}\n",
       "                    ).then(function(){\n",
       "                            \n",
       "var gd = document.getElementById('4baebe63-2d92-4f0c-8767-db500c637e8d');\n",
       "var x = new MutationObserver(function (mutations, observer) {{\n",
       "        var display = window.getComputedStyle(gd).display;\n",
       "        if (!display || display === 'none') {{\n",
       "            console.log([gd, 'removed!']);\n",
       "            Plotly.purge(gd);\n",
       "            observer.disconnect();\n",
       "        }}\n",
       "}});\n",
       "\n",
       "// Listen for the removal of the full notebook cells\n",
       "var notebookContainer = gd.closest('#notebook-container');\n",
       "if (notebookContainer) {{\n",
       "    x.observe(notebookContainer, {childList: true});\n",
       "}}\n",
       "\n",
       "// Listen for the clearing of the current output cell\n",
       "var outputEl = gd.closest('.output');\n",
       "if (outputEl) {{\n",
       "    x.observe(outputEl, {childList: true});\n",
       "}}\n",
       "\n",
       "                        })\n",
       "                };\n",
       "                });\n",
       "            </script>\n",
       "        </div>"
      ]
     },
     "metadata": {},
     "output_type": "display_data"
    }
   ],
   "source": [
    "from plotly.subplots import make_subplots\n",
    "from plotly import tools\n",
    "\n",
    "titles= list(heat_dict.keys())\n",
    "\n",
    "Ncols= 3\n",
    "Nrows= int(len(titles) / float(Ncols)) + (len(titles) % Ncols > 0)\n",
    "\n",
    "fig_subplots = tools.make_subplots(rows= Nrows, cols=Ncols,\n",
    "                             subplot_titles=tuple(titles))\n",
    "\n",
    "#####\n",
    "for gp in range(len(titles)):\n",
    "\n",
    "    pos1= int(float(gp) / Ncols) + 1\n",
    "    pos2= gp - (pos1-1)*Ncols + 1\n",
    "\n",
    "    title= titles[gp]\n",
    "    \n",
    "    ####\n",
    "    sig_idx= gp\n",
    "    fig = [go.Heatmap(\n",
    "        z= [list(x) for x in ratio_grids[sig_idx]],\n",
    "        zmin= 0.85,\n",
    "        zmax= 1.15,\n",
    "        text= labels,\n",
    "        type = 'heatmap'\n",
    "    )]\n",
    "\n",
    "    sig_fig= significant_indices[sig_idx]\n",
    "\n",
    "\n",
    "    if sum([len(x) for x in sig_fig]):\n",
    "\n",
    "        fig.append(go.Scatter(x= [int(x) for x in sig_fig[0]], y= [int(x) for x in sig_fig[1]],\n",
    "         mode='markers',line =dict(color='white',width=3),showlegend= False))\n",
    "    \n",
    "    for line in range(1,6):\n",
    "        fig.append(go.Scatter(x= [-.5,3.5], y= [-.5 + 4 * line] * 2,\n",
    "             mode='lines',line =dict(color='black',width=2),showlegend= False))\n",
    "    \n",
    "    ####\n",
    "\n",
    "    for trace1 in fig:\n",
    "        \n",
    "        fig_subplots.append_trace(trace1, pos1, pos2)\n",
    "    \n",
    "    if pos2 == 1:\n",
    "        fig_subplots.update_yaxes(range=[-.5, 24], row=pos1, col=pos2,\n",
    "                                  title= 'A-T{}A-C{}A-G{}C-T{}C-G{}C-A'.format(*['\\t'*6]*5))\n",
    "    \n",
    "    fig_subplots.update_xaxes(title= 'A{}C{}G{}T'.format(*['\\t'*8]*3))\n",
    "        #fig_subplots['layout'].update(height= 700,width= 450)\n",
    "\n",
    "\n",
    "layout= go.Layout(\n",
    "        xaxis=dict(range=[1.5, 4.5]),\n",
    "        yaxis=dict(range=[1.5, 4.5])\n",
    ")\n",
    "\n",
    "fig= go.Figure(data=fig_subplots, layout=layout)\n",
    "fig[\"layout\"].update(yaxis=dict(range=[-.5,24]))\n",
    "fig['layout'].update(height= Nrows * 550,width= 900)\n",
    "fig['layout'].update(title= plot_title)\n",
    "iplot(fig)"
   ]
  },
  {
   "cell_type": "code",
   "execution_count": null,
   "metadata": {},
   "outputs": [],
   "source": []
  }
 ],
 "metadata": {
  "kernelspec": {
   "display_name": "Python 3",
   "language": "python",
   "name": "python3"
  },
  "language_info": {
   "codemirror_mode": {
    "name": "ipython",
    "version": 3
   },
   "file_extension": ".py",
   "mimetype": "text/x-python",
   "name": "python",
   "nbconvert_exporter": "python",
   "pygments_lexer": "ipython3",
   "version": "3.7.3"
  }
 },
 "nbformat": 4,
 "nbformat_minor": 2
}
