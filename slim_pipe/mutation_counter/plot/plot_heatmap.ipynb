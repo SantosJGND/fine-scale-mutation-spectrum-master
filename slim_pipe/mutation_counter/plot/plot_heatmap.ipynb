{
 "cells": [
  {
   "cell_type": "code",
   "execution_count": 5,
   "metadata": {},
   "outputs": [
    {
     "data": {
      "text/html": [
       "        <script type=\"text/javascript\">\n",
       "        window.PlotlyConfig = {MathJaxConfig: 'local'};\n",
       "        if (window.MathJax) {MathJax.Hub.Config({SVG: {font: \"STIX-Web\"}});}\n",
       "        if (typeof require !== 'undefined') {\n",
       "        require.undef(\"plotly\");\n",
       "        requirejs.config({\n",
       "            paths: {\n",
       "                'plotly': ['https://cdn.plot.ly/plotly-latest.min']\n",
       "            }\n",
       "        });\n",
       "        require(['plotly'], function(Plotly) {\n",
       "            window._Plotly = Plotly;\n",
       "        });\n",
       "        }\n",
       "        </script>\n",
       "        "
      ]
     },
     "metadata": {},
     "output_type": "display_data"
    }
   ],
   "source": [
    "import sys\n",
    "import argparse\n",
    "import numpy as np\n",
    "from scipy.stats import chi2_contingency\n",
    "from itertools import product\n",
    "import itertools as it\n",
    "\n",
    "from _plotly_future_ import v4_subplots\n",
    "import plotly.graph_objs as go\n",
    "from plotly.offline import download_plotlyjs, init_notebook_mode, plot, iplot\n",
    "from plotly.graph_objs import *\n",
    "\n",
    "from ipywidgets import interact, interactive, fixed, interact_manual\n",
    "import ipywidgets as widgets\n",
    "init_notebook_mode(connected=True)\n",
    "\n"
   ]
  },
  {
   "cell_type": "markdown",
   "metadata": {},
   "source": [
    "# Mutation study\n",
    "\n",
    "### Population pairs and other arguments\n"
   ]
  },
  {
   "cell_type": "code",
   "execution_count": 6,
   "metadata": {},
   "outputs": [],
   "source": [
    "\n",
    "comp = {\n",
    "    'A': 'T',\n",
    "    'C': 'G',\n",
    "    'G': 'C',\n",
    "    'T': 'A',\n",
    "}\n",
    "ypos, ylabel = [], []\n",
    "\n",
    "mut_index = {}\n",
    "row, col = 0, 0\n",
    "\n",
    "labels= []\n",
    "\n",
    "for b2, d in [('A', 'T'), ('A', 'C'), ('A', 'G'),\n",
    "              ('C', 'T'), ('C', 'G'), ('C', 'A')]:\n",
    "    \n",
    "    for b1 in 'ACGT':\n",
    "        row_lab= []\n",
    "        col = 0\n",
    "        ypos.append(row+0.5)\n",
    "        if b1 == 'T' and b2 == 'C' and d == 'A':\n",
    "            ylabel.append('5\\'-'+b1)\n",
    "        elif b1 == 'C':\n",
    "            ylabel.append(b2+r'$\\to$'+d+r'  '+b1)\n",
    "        else:\n",
    "            ylabel.append(b1)\n",
    "        for b3 in 'ACGT':\n",
    "            mut_index[(b1+b2+b3, d)] = (row, col)\n",
    "            \n",
    "            mut_index[(comp[b3]+comp[b2]+comp[b1], comp[d])] = (row, col)\n",
    "            row_lab.append('_'.join([b1+b2+b3, d]))\n",
    "            \n",
    "            col += 1\n",
    "        labels.append(row_lab)\n",
    "        row += 1\n",
    "\n"
   ]
  },
  {
   "cell_type": "markdown",
   "metadata": {},
   "source": [
    "## Analysis parameters and input "
   ]
  },
  {
   "cell_type": "code",
   "execution_count": 7,
   "metadata": {},
   "outputs": [],
   "source": [
    "from plot_utilities import Population, frequency_breakdown, heatmap, make_titles\n",
    "\n",
    "main_dir= '/mnt/d/GitHub/fine-scale-mutation-spectrum-master/slim_pipe/'\n",
    "log_dir= main_dir\n",
    "sims_dir= main_dir + 'mutation_counter/data/sims/'\n",
    "muted_dir= main_dir + 'mutation_counter/data/mutation_count/'\n",
    "\n",
    "muted= log_dir + 'muted.log'\n",
    "\n",
    "with open(muted,'r') as fp:\n",
    "    available= fp.readlines()\n",
    "\n",
    "available= [x.strip() for x in available]\n",
    "sim= available[0]\n",
    "\n",
    "sim_dir= sims_dir + '{}/'.format(sim)\n",
    "ID_file= sim_dir + \"ind_assignments.txt\"\n",
    "\n",
    "pops= []\n",
    "with open(ID_file,'r') as sample_id_lines:\n",
    "    for line in sample_id_lines:\n",
    "        line= str.encode(line)\n",
    "        sample_id, population = line.split()[:2]\n",
    "        pops.append(population.decode())\n",
    "\n",
    "pops= list(set(pops))\n",
    "\n",
    "focus= pops[0]\n",
    "population_pairs= [[focus,x] for x in pops]\n",
    "population_pairs= list(it.chain(*population_pairs))\n",
    "\n",
    "#population_pairs= ['k3', 'k1']\n",
    "\n",
    "align= sim\n",
    "vcf_data= 'vcf_data'\n",
    "\n",
    "chromosomes= [sim.split('.')[0].split('C')[1]]\n",
    "\n",
    "individually= False\n",
    "exclude= False\n",
    "p_value= 1e-5\n",
    "frequency_range= [0,1]\n"
   ]
  },
  {
   "cell_type": "markdown",
   "metadata": {},
   "source": [
    "### Processing parameters"
   ]
  },
  {
   "cell_type": "code",
   "execution_count": 8,
   "metadata": {},
   "outputs": [],
   "source": [
    "\n",
    "pop_pair_names= zip(population_pairs[::2],\n",
    "                           population_pairs[1::2])\n",
    "\n",
    "pop_pair_names= ['-'.join(list(x)) for x in pop_pair_names]\n",
    "\n",
    "population_pairs= zip(population_pairs[::2],\n",
    "                           population_pairs[1::2])\n",
    "\n",
    "for chromosome in chromosomes:\n",
    "    assert chromosome == 'X' or int(chromosome) in range(1, 23)\n",
    "if individually:\n",
    "    chromosome_groups = [[chromosome] for chromosome in chromosomes]\n",
    "else:\n",
    "    chromosome_groups = [chromosomes]\n"
   ]
  },
  {
   "cell_type": "markdown",
   "metadata": {},
   "source": [
    "### Extract counts by kmer, compare across population pairs"
   ]
  },
  {
   "cell_type": "code",
   "execution_count": 9,
   "metadata": {
    "scrolled": false
   },
   "outputs": [
    {
     "name": "stdout",
     "output_type": "stream",
     "text": [
      "['cpgIslandExtUnmasked.txt.gz', 'nestedRepeats.txt.gz', 'microsat.txt.gz']\n"
     ]
    }
   ],
   "source": [
    "chrom_pop= list(product(chromosome_groups,list(population_pairs)))\n",
    "\n",
    "heatmaps = [\n",
    "    heatmap(\n",
    "        chromosomes, population_pair, frequency_range, exclude, \n",
    "        p_value, align, muted_dir\n",
    "    ) for chromosomes, population_pair in chrom_pop\n",
    "]\n",
    "\n",
    "ratio_grids, significant_indices = zip(*heatmaps)\n",
    "\n",
    "plot_title, column_titles = make_titles(\n",
    "    chromosome_groups, population_pairs, frequency_range, exclude, p_value\n",
    ")\n",
    "\n",
    "from plot_utilities import read_exclude\n",
    "\n",
    "files= read_exclude()\n",
    "print(files)"
   ]
  },
  {
   "cell_type": "markdown",
   "metadata": {},
   "source": [
    "## Plot"
   ]
  },
  {
   "cell_type": "code",
   "execution_count": 17,
   "metadata": {},
   "outputs": [
    {
     "data": {
      "application/vnd.plotly.v1+json": {
       "config": {
        "linkText": "Export to plot.ly",
        "plotlyServerURL": "https://plot.ly",
        "showLink": false
       },
       "data": [
        {
         "colorscale": [
          [
           0,
           "rgb(103,0,31)"
          ],
          [
           0.1,
           "rgb(178,24,43)"
          ],
          [
           0.2,
           "rgb(214,96,77)"
          ],
          [
           0.3,
           "rgb(244,165,130)"
          ],
          [
           0.4,
           "rgb(253,219,199)"
          ],
          [
           0.5,
           "rgb(247,247,247)"
          ],
          [
           0.6,
           "rgb(209,229,240)"
          ],
          [
           0.7,
           "rgb(146,197,222)"
          ],
          [
           0.8,
           "rgb(67,147,195)"
          ],
          [
           0.9,
           "rgb(33,102,172)"
          ],
          [
           1,
           "rgb(5,48,97)"
          ]
         ],
         "text": [
          [
           "AAA_T",
           "AAC_T",
           "AAG_T",
           "AAT_T"
          ],
          [
           "CAA_T",
           "CAC_T",
           "CAG_T",
           "CAT_T"
          ],
          [
           "GAA_T",
           "GAC_T",
           "GAG_T",
           "GAT_T"
          ],
          [
           "TAA_T",
           "TAC_T",
           "TAG_T",
           "TAT_T"
          ],
          [
           "AAA_C",
           "AAC_C",
           "AAG_C",
           "AAT_C"
          ],
          [
           "CAA_C",
           "CAC_C",
           "CAG_C",
           "CAT_C"
          ],
          [
           "GAA_C",
           "GAC_C",
           "GAG_C",
           "GAT_C"
          ],
          [
           "TAA_C",
           "TAC_C",
           "TAG_C",
           "TAT_C"
          ],
          [
           "AAA_G",
           "AAC_G",
           "AAG_G",
           "AAT_G"
          ],
          [
           "CAA_G",
           "CAC_G",
           "CAG_G",
           "CAT_G"
          ],
          [
           "GAA_G",
           "GAC_G",
           "GAG_G",
           "GAT_G"
          ],
          [
           "TAA_G",
           "TAC_G",
           "TAG_G",
           "TAT_G"
          ],
          [
           "ACA_T",
           "ACC_T",
           "ACG_T",
           "ACT_T"
          ],
          [
           "CCA_T",
           "CCC_T",
           "CCG_T",
           "CCT_T"
          ],
          [
           "GCA_T",
           "GCC_T",
           "GCG_T",
           "GCT_T"
          ],
          [
           "TCA_T",
           "TCC_T",
           "TCG_T",
           "TCT_T"
          ],
          [
           "ACA_G",
           "ACC_G",
           "ACG_G",
           "ACT_G"
          ],
          [
           "CCA_G",
           "CCC_G",
           "CCG_G",
           "CCT_G"
          ],
          [
           "GCA_G",
           "GCC_G",
           "GCG_G",
           "GCT_G"
          ],
          [
           "TCA_G",
           "TCC_G",
           "TCG_G",
           "TCT_G"
          ],
          [
           "ACA_A",
           "ACC_A",
           "ACG_A",
           "ACT_A"
          ],
          [
           "CCA_A",
           "CCC_A",
           "CCG_A",
           "CCT_A"
          ],
          [
           "GCA_A",
           "GCC_A",
           "GCG_A",
           "GCT_A"
          ],
          [
           "TCA_A",
           "TCC_A",
           "TCG_A",
           "TCT_A"
          ]
         ],
         "type": "heatmap",
         "xaxis": "x",
         "yaxis": "y",
         "z": [
          [
           1,
           1,
           1,
           1
          ],
          [
           1,
           1,
           1,
           1
          ],
          [
           1,
           1,
           1,
           1
          ],
          [
           1,
           1,
           1,
           1
          ],
          [
           1,
           1,
           1,
           1
          ],
          [
           1,
           1,
           1,
           1
          ],
          [
           1,
           1,
           1,
           1
          ],
          [
           1,
           1,
           1,
           1
          ],
          [
           1,
           1,
           1,
           1
          ],
          [
           1,
           1,
           1,
           1
          ],
          [
           1,
           1,
           1,
           1
          ],
          [
           1,
           1,
           1,
           1
          ],
          [
           1,
           1,
           1,
           1
          ],
          [
           1,
           1,
           1,
           1
          ],
          [
           1,
           1,
           1,
           1
          ],
          [
           1,
           1,
           1,
           1
          ],
          [
           1,
           1,
           1,
           1
          ],
          [
           1,
           1,
           1,
           1
          ],
          [
           1,
           1,
           1,
           1
          ],
          [
           1,
           1,
           1,
           1
          ],
          [
           1,
           1,
           1,
           1
          ],
          [
           1,
           1,
           1,
           1
          ],
          [
           1,
           1,
           1,
           1
          ],
          [
           1,
           1,
           1,
           1
          ]
         ],
         "zmax": 1.15,
         "zmin": 0.85
        },
        {
         "line": {
          "color": "black",
          "width": 2
         },
         "mode": "lines",
         "showlegend": false,
         "type": "scatter",
         "x": [
          -0.5,
          3.5
         ],
         "xaxis": "x",
         "y": [
          3.5,
          3.5
         ],
         "yaxis": "y"
        },
        {
         "line": {
          "color": "black",
          "width": 2
         },
         "mode": "lines",
         "showlegend": false,
         "type": "scatter",
         "x": [
          -0.5,
          3.5
         ],
         "xaxis": "x",
         "y": [
          7.5,
          7.5
         ],
         "yaxis": "y"
        },
        {
         "line": {
          "color": "black",
          "width": 2
         },
         "mode": "lines",
         "showlegend": false,
         "type": "scatter",
         "x": [
          -0.5,
          3.5
         ],
         "xaxis": "x",
         "y": [
          11.5,
          11.5
         ],
         "yaxis": "y"
        },
        {
         "line": {
          "color": "black",
          "width": 2
         },
         "mode": "lines",
         "showlegend": false,
         "type": "scatter",
         "x": [
          -0.5,
          3.5
         ],
         "xaxis": "x",
         "y": [
          15.5,
          15.5
         ],
         "yaxis": "y"
        },
        {
         "line": {
          "color": "black",
          "width": 2
         },
         "mode": "lines",
         "showlegend": false,
         "type": "scatter",
         "x": [
          -0.5,
          3.5
         ],
         "xaxis": "x",
         "y": [
          19.5,
          19.5
         ],
         "yaxis": "y"
        },
        {
         "colorscale": [
          [
           0,
           "rgb(103,0,31)"
          ],
          [
           0.1,
           "rgb(178,24,43)"
          ],
          [
           0.2,
           "rgb(214,96,77)"
          ],
          [
           0.3,
           "rgb(244,165,130)"
          ],
          [
           0.4,
           "rgb(253,219,199)"
          ],
          [
           0.5,
           "rgb(247,247,247)"
          ],
          [
           0.6,
           "rgb(209,229,240)"
          ],
          [
           0.7,
           "rgb(146,197,222)"
          ],
          [
           0.8,
           "rgb(67,147,195)"
          ],
          [
           0.9,
           "rgb(33,102,172)"
          ],
          [
           1,
           "rgb(5,48,97)"
          ]
         ],
         "text": [
          [
           "AAA_T",
           "AAC_T",
           "AAG_T",
           "AAT_T"
          ],
          [
           "CAA_T",
           "CAC_T",
           "CAG_T",
           "CAT_T"
          ],
          [
           "GAA_T",
           "GAC_T",
           "GAG_T",
           "GAT_T"
          ],
          [
           "TAA_T",
           "TAC_T",
           "TAG_T",
           "TAT_T"
          ],
          [
           "AAA_C",
           "AAC_C",
           "AAG_C",
           "AAT_C"
          ],
          [
           "CAA_C",
           "CAC_C",
           "CAG_C",
           "CAT_C"
          ],
          [
           "GAA_C",
           "GAC_C",
           "GAG_C",
           "GAT_C"
          ],
          [
           "TAA_C",
           "TAC_C",
           "TAG_C",
           "TAT_C"
          ],
          [
           "AAA_G",
           "AAC_G",
           "AAG_G",
           "AAT_G"
          ],
          [
           "CAA_G",
           "CAC_G",
           "CAG_G",
           "CAT_G"
          ],
          [
           "GAA_G",
           "GAC_G",
           "GAG_G",
           "GAT_G"
          ],
          [
           "TAA_G",
           "TAC_G",
           "TAG_G",
           "TAT_G"
          ],
          [
           "ACA_T",
           "ACC_T",
           "ACG_T",
           "ACT_T"
          ],
          [
           "CCA_T",
           "CCC_T",
           "CCG_T",
           "CCT_T"
          ],
          [
           "GCA_T",
           "GCC_T",
           "GCG_T",
           "GCT_T"
          ],
          [
           "TCA_T",
           "TCC_T",
           "TCG_T",
           "TCT_T"
          ],
          [
           "ACA_G",
           "ACC_G",
           "ACG_G",
           "ACT_G"
          ],
          [
           "CCA_G",
           "CCC_G",
           "CCG_G",
           "CCT_G"
          ],
          [
           "GCA_G",
           "GCC_G",
           "GCG_G",
           "GCT_G"
          ],
          [
           "TCA_G",
           "TCC_G",
           "TCG_G",
           "TCT_G"
          ],
          [
           "ACA_A",
           "ACC_A",
           "ACG_A",
           "ACT_A"
          ],
          [
           "CCA_A",
           "CCC_A",
           "CCG_A",
           "CCT_A"
          ],
          [
           "GCA_A",
           "GCC_A",
           "GCG_A",
           "GCT_A"
          ],
          [
           "TCA_A",
           "TCC_A",
           "TCG_A",
           "TCT_A"
          ]
         ],
         "type": "heatmap",
         "xaxis": "x2",
         "yaxis": "y2",
         "z": [
          [
           0.6685036540074278,
           0.6198852064432513,
           0.9943991853360489,
           1.010183299389002
          ],
          [
           1.623508874018039,
           1.1364562118126273,
           0.5348029232059422,
           1.3637474541751526
          ],
          [
           1.010183299389002,
           0.6494035496072156,
           0.9359051156103989,
           1.3637474541751526
          ],
          [
           0.6119379602067994,
           0.505091649694501,
           0.6993576688077706,
           0.6061099796334012
          ],
          [
           0.8953897426402518,
           0.7576374745417516,
           0.17483941720194265,
           1.3112956290145699
          ],
          [
           1.060692464358452,
           1.4463988150342528,
           0.5682281059063137,
           0.6494035496072156
          ],
          [
           0.9943991853360489,
           1.5152749490835031,
           1.3258655804480652,
           0.8523421588594705
          ],
          [
           1.3158966663093579,
           0.9741053244108234,
           1.010183299389002,
           1.25010183299389
          ],
          [
           0.9233706720977597,
           0.5682281059063137,
           1.060692464358452,
           1.0766427269803838
          ],
          [
           1.573554754817484,
           0.9470468431771895,
           0.8523421588594705,
           1.5152749490835031
          ],
          [
           0.7177618179869225,
           0.8523421588594705,
           0.9091649694501018,
           1.2627291242362526
          ],
          [
           0.7905782343044364,
           0.5682281059063137,
           0.9470468431771895,
           1.4611579866162352
          ],
          [
           1.435523635973845,
           0.4545824847250509,
           4.545824847250509,
           1.894093686354379
          ],
          [
           0.9091649694501018,
           1.2988070992144312,
           1,
           0.7576374745417516
          ],
          [
           0.6494035496072156,
           1.5152749490835031,
           0,
           1.3637474541751526
          ],
          [
           1.3987153376155412,
           0.6494035496072156,
           1.1364562118126273,
           2.2729124236252547
          ],
          [
           0.5682281059063137,
           1.1364562118126273,
           0,
           1.4463988150342528
          ],
          [
           0.8741970860097134,
           0.3788187372708758,
           1,
           0.5682281059063137
          ],
          [
           1.2627291242362526,
           1.010183299389002,
           1.704684317718941,
           0.7576374745417516
          ],
          [
           0.8658713994762874,
           1.0331420107387521,
           2.2729124236252547,
           1.0766427269803838
          ],
          [
           0.9741053244108234,
           1.1364562118126273,
           1,
           0.8523421588594705
          ],
          [
           0.8741970860097134,
           0.28411405295315684,
           0.7576374745417516,
           0.6198852064432513
          ],
          [
           1.2397704128865026,
           1.5152749490835031,
           2.2729124236252547,
           2.2729124236252547
          ],
          [
           1.2988070992144312,
           0.6818737270875763,
           1,
           1.5152749490835031
          ]
         ],
         "zmax": 1.15,
         "zmin": 0.85
        },
        {
         "line": {
          "color": "black",
          "width": 2
         },
         "mode": "lines",
         "showlegend": false,
         "type": "scatter",
         "x": [
          -0.5,
          3.5
         ],
         "xaxis": "x2",
         "y": [
          3.5,
          3.5
         ],
         "yaxis": "y2"
        },
        {
         "line": {
          "color": "black",
          "width": 2
         },
         "mode": "lines",
         "showlegend": false,
         "type": "scatter",
         "x": [
          -0.5,
          3.5
         ],
         "xaxis": "x2",
         "y": [
          7.5,
          7.5
         ],
         "yaxis": "y2"
        },
        {
         "line": {
          "color": "black",
          "width": 2
         },
         "mode": "lines",
         "showlegend": false,
         "type": "scatter",
         "x": [
          -0.5,
          3.5
         ],
         "xaxis": "x2",
         "y": [
          11.5,
          11.5
         ],
         "yaxis": "y2"
        },
        {
         "line": {
          "color": "black",
          "width": 2
         },
         "mode": "lines",
         "showlegend": false,
         "type": "scatter",
         "x": [
          -0.5,
          3.5
         ],
         "xaxis": "x2",
         "y": [
          15.5,
          15.5
         ],
         "yaxis": "y2"
        },
        {
         "line": {
          "color": "black",
          "width": 2
         },
         "mode": "lines",
         "showlegend": false,
         "type": "scatter",
         "x": [
          -0.5,
          3.5
         ],
         "xaxis": "x2",
         "y": [
          19.5,
          19.5
         ],
         "yaxis": "y2"
        }
       ],
       "layout": {
        "annotations": [
         {
          "font": {
           "size": 16
          },
          "showarrow": false,
          "text": "pop1-pop1",
          "x": 0.14444444444444446,
          "xanchor": "center",
          "xref": "paper",
          "y": 1,
          "yanchor": "bottom",
          "yref": "paper"
         },
         {
          "font": {
           "size": 16
          },
          "showarrow": false,
          "text": "pop1-pop0",
          "x": 0.5,
          "xanchor": "center",
          "xref": "paper",
          "y": 1,
          "yanchor": "bottom",
          "yref": "paper"
         }
        ],
        "height": 550,
        "template": {
         "data": {
          "bar": [
           {
            "error_x": {
             "color": "#2a3f5f"
            },
            "error_y": {
             "color": "#2a3f5f"
            },
            "marker": {
             "line": {
              "color": "#E5ECF6",
              "width": 0.5
             }
            },
            "type": "bar"
           }
          ],
          "barpolar": [
           {
            "marker": {
             "line": {
              "color": "#E5ECF6",
              "width": 0.5
             }
            },
            "type": "barpolar"
           }
          ],
          "carpet": [
           {
            "aaxis": {
             "endlinecolor": "#2a3f5f",
             "gridcolor": "white",
             "linecolor": "white",
             "minorgridcolor": "white",
             "startlinecolor": "#2a3f5f"
            },
            "baxis": {
             "endlinecolor": "#2a3f5f",
             "gridcolor": "white",
             "linecolor": "white",
             "minorgridcolor": "white",
             "startlinecolor": "#2a3f5f"
            },
            "type": "carpet"
           }
          ],
          "choropleth": [
           {
            "colorbar": {
             "outlinewidth": 0,
             "ticks": ""
            },
            "type": "choropleth"
           }
          ],
          "contour": [
           {
            "colorbar": {
             "outlinewidth": 0,
             "ticks": ""
            },
            "colorscale": [
             [
              0,
              "#0d0887"
             ],
             [
              0.1111111111111111,
              "#46039f"
             ],
             [
              0.2222222222222222,
              "#7201a8"
             ],
             [
              0.3333333333333333,
              "#9c179e"
             ],
             [
              0.4444444444444444,
              "#bd3786"
             ],
             [
              0.5555555555555556,
              "#d8576b"
             ],
             [
              0.6666666666666666,
              "#ed7953"
             ],
             [
              0.7777777777777778,
              "#fb9f3a"
             ],
             [
              0.8888888888888888,
              "#fdca26"
             ],
             [
              1,
              "#f0f921"
             ]
            ],
            "type": "contour"
           }
          ],
          "contourcarpet": [
           {
            "colorbar": {
             "outlinewidth": 0,
             "ticks": ""
            },
            "type": "contourcarpet"
           }
          ],
          "heatmap": [
           {
            "colorbar": {
             "outlinewidth": 0,
             "ticks": ""
            },
            "colorscale": [
             [
              0,
              "#0d0887"
             ],
             [
              0.1111111111111111,
              "#46039f"
             ],
             [
              0.2222222222222222,
              "#7201a8"
             ],
             [
              0.3333333333333333,
              "#9c179e"
             ],
             [
              0.4444444444444444,
              "#bd3786"
             ],
             [
              0.5555555555555556,
              "#d8576b"
             ],
             [
              0.6666666666666666,
              "#ed7953"
             ],
             [
              0.7777777777777778,
              "#fb9f3a"
             ],
             [
              0.8888888888888888,
              "#fdca26"
             ],
             [
              1,
              "#f0f921"
             ]
            ],
            "type": "heatmap"
           }
          ],
          "heatmapgl": [
           {
            "colorbar": {
             "outlinewidth": 0,
             "ticks": ""
            },
            "colorscale": [
             [
              0,
              "#0d0887"
             ],
             [
              0.1111111111111111,
              "#46039f"
             ],
             [
              0.2222222222222222,
              "#7201a8"
             ],
             [
              0.3333333333333333,
              "#9c179e"
             ],
             [
              0.4444444444444444,
              "#bd3786"
             ],
             [
              0.5555555555555556,
              "#d8576b"
             ],
             [
              0.6666666666666666,
              "#ed7953"
             ],
             [
              0.7777777777777778,
              "#fb9f3a"
             ],
             [
              0.8888888888888888,
              "#fdca26"
             ],
             [
              1,
              "#f0f921"
             ]
            ],
            "type": "heatmapgl"
           }
          ],
          "histogram": [
           {
            "marker": {
             "colorbar": {
              "outlinewidth": 0,
              "ticks": ""
             }
            },
            "type": "histogram"
           }
          ],
          "histogram2d": [
           {
            "colorbar": {
             "outlinewidth": 0,
             "ticks": ""
            },
            "colorscale": [
             [
              0,
              "#0d0887"
             ],
             [
              0.1111111111111111,
              "#46039f"
             ],
             [
              0.2222222222222222,
              "#7201a8"
             ],
             [
              0.3333333333333333,
              "#9c179e"
             ],
             [
              0.4444444444444444,
              "#bd3786"
             ],
             [
              0.5555555555555556,
              "#d8576b"
             ],
             [
              0.6666666666666666,
              "#ed7953"
             ],
             [
              0.7777777777777778,
              "#fb9f3a"
             ],
             [
              0.8888888888888888,
              "#fdca26"
             ],
             [
              1,
              "#f0f921"
             ]
            ],
            "type": "histogram2d"
           }
          ],
          "histogram2dcontour": [
           {
            "colorbar": {
             "outlinewidth": 0,
             "ticks": ""
            },
            "colorscale": [
             [
              0,
              "#0d0887"
             ],
             [
              0.1111111111111111,
              "#46039f"
             ],
             [
              0.2222222222222222,
              "#7201a8"
             ],
             [
              0.3333333333333333,
              "#9c179e"
             ],
             [
              0.4444444444444444,
              "#bd3786"
             ],
             [
              0.5555555555555556,
              "#d8576b"
             ],
             [
              0.6666666666666666,
              "#ed7953"
             ],
             [
              0.7777777777777778,
              "#fb9f3a"
             ],
             [
              0.8888888888888888,
              "#fdca26"
             ],
             [
              1,
              "#f0f921"
             ]
            ],
            "type": "histogram2dcontour"
           }
          ],
          "mesh3d": [
           {
            "colorbar": {
             "outlinewidth": 0,
             "ticks": ""
            },
            "type": "mesh3d"
           }
          ],
          "parcoords": [
           {
            "line": {
             "colorbar": {
              "outlinewidth": 0,
              "ticks": ""
             }
            },
            "type": "parcoords"
           }
          ],
          "pie": [
           {
            "automargin": true,
            "type": "pie"
           }
          ],
          "scatter": [
           {
            "marker": {
             "colorbar": {
              "outlinewidth": 0,
              "ticks": ""
             }
            },
            "type": "scatter"
           }
          ],
          "scatter3d": [
           {
            "line": {
             "colorbar": {
              "outlinewidth": 0,
              "ticks": ""
             }
            },
            "marker": {
             "colorbar": {
              "outlinewidth": 0,
              "ticks": ""
             }
            },
            "type": "scatter3d"
           }
          ],
          "scattercarpet": [
           {
            "marker": {
             "colorbar": {
              "outlinewidth": 0,
              "ticks": ""
             }
            },
            "type": "scattercarpet"
           }
          ],
          "scattergeo": [
           {
            "marker": {
             "colorbar": {
              "outlinewidth": 0,
              "ticks": ""
             }
            },
            "type": "scattergeo"
           }
          ],
          "scattergl": [
           {
            "marker": {
             "colorbar": {
              "outlinewidth": 0,
              "ticks": ""
             }
            },
            "type": "scattergl"
           }
          ],
          "scattermapbox": [
           {
            "marker": {
             "colorbar": {
              "outlinewidth": 0,
              "ticks": ""
             }
            },
            "type": "scattermapbox"
           }
          ],
          "scatterpolar": [
           {
            "marker": {
             "colorbar": {
              "outlinewidth": 0,
              "ticks": ""
             }
            },
            "type": "scatterpolar"
           }
          ],
          "scatterpolargl": [
           {
            "marker": {
             "colorbar": {
              "outlinewidth": 0,
              "ticks": ""
             }
            },
            "type": "scatterpolargl"
           }
          ],
          "scatterternary": [
           {
            "marker": {
             "colorbar": {
              "outlinewidth": 0,
              "ticks": ""
             }
            },
            "type": "scatterternary"
           }
          ],
          "surface": [
           {
            "colorbar": {
             "outlinewidth": 0,
             "ticks": ""
            },
            "colorscale": [
             [
              0,
              "#0d0887"
             ],
             [
              0.1111111111111111,
              "#46039f"
             ],
             [
              0.2222222222222222,
              "#7201a8"
             ],
             [
              0.3333333333333333,
              "#9c179e"
             ],
             [
              0.4444444444444444,
              "#bd3786"
             ],
             [
              0.5555555555555556,
              "#d8576b"
             ],
             [
              0.6666666666666666,
              "#ed7953"
             ],
             [
              0.7777777777777778,
              "#fb9f3a"
             ],
             [
              0.8888888888888888,
              "#fdca26"
             ],
             [
              1,
              "#f0f921"
             ]
            ],
            "type": "surface"
           }
          ],
          "table": [
           {
            "cells": {
             "fill": {
              "color": "#EBF0F8"
             },
             "line": {
              "color": "white"
             }
            },
            "header": {
             "fill": {
              "color": "#C8D4E3"
             },
             "line": {
              "color": "white"
             }
            },
            "type": "table"
           }
          ]
         },
         "layout": {
          "annotationdefaults": {
           "arrowcolor": "#2a3f5f",
           "arrowhead": 0,
           "arrowwidth": 1
          },
          "coloraxis": {
           "colorbar": {
            "outlinewidth": 0,
            "ticks": ""
           }
          },
          "colorscale": {
           "diverging": [
            [
             0,
             "#8e0152"
            ],
            [
             0.1,
             "#c51b7d"
            ],
            [
             0.2,
             "#de77ae"
            ],
            [
             0.3,
             "#f1b6da"
            ],
            [
             0.4,
             "#fde0ef"
            ],
            [
             0.5,
             "#f7f7f7"
            ],
            [
             0.6,
             "#e6f5d0"
            ],
            [
             0.7,
             "#b8e186"
            ],
            [
             0.8,
             "#7fbc41"
            ],
            [
             0.9,
             "#4d9221"
            ],
            [
             1,
             "#276419"
            ]
           ],
           "sequential": [
            [
             0,
             "#0d0887"
            ],
            [
             0.1111111111111111,
             "#46039f"
            ],
            [
             0.2222222222222222,
             "#7201a8"
            ],
            [
             0.3333333333333333,
             "#9c179e"
            ],
            [
             0.4444444444444444,
             "#bd3786"
            ],
            [
             0.5555555555555556,
             "#d8576b"
            ],
            [
             0.6666666666666666,
             "#ed7953"
            ],
            [
             0.7777777777777778,
             "#fb9f3a"
            ],
            [
             0.8888888888888888,
             "#fdca26"
            ],
            [
             1,
             "#f0f921"
            ]
           ],
           "sequentialminus": [
            [
             0,
             "#0d0887"
            ],
            [
             0.1111111111111111,
             "#46039f"
            ],
            [
             0.2222222222222222,
             "#7201a8"
            ],
            [
             0.3333333333333333,
             "#9c179e"
            ],
            [
             0.4444444444444444,
             "#bd3786"
            ],
            [
             0.5555555555555556,
             "#d8576b"
            ],
            [
             0.6666666666666666,
             "#ed7953"
            ],
            [
             0.7777777777777778,
             "#fb9f3a"
            ],
            [
             0.8888888888888888,
             "#fdca26"
            ],
            [
             1,
             "#f0f921"
            ]
           ]
          },
          "colorway": [
           "#636efa",
           "#EF553B",
           "#00cc96",
           "#ab63fa",
           "#FFA15A",
           "#19d3f3",
           "#FF6692",
           "#B6E880",
           "#FF97FF",
           "#FECB52"
          ],
          "font": {
           "color": "#2a3f5f"
          },
          "geo": {
           "bgcolor": "white",
           "lakecolor": "white",
           "landcolor": "#E5ECF6",
           "showlakes": true,
           "showland": true,
           "subunitcolor": "white"
          },
          "hoverlabel": {
           "align": "left"
          },
          "hovermode": "closest",
          "mapbox": {
           "style": "light"
          },
          "paper_bgcolor": "white",
          "plot_bgcolor": "#E5ECF6",
          "polar": {
           "angularaxis": {
            "gridcolor": "white",
            "linecolor": "white",
            "ticks": ""
           },
           "bgcolor": "#E5ECF6",
           "radialaxis": {
            "gridcolor": "white",
            "linecolor": "white",
            "ticks": ""
           }
          },
          "scene": {
           "xaxis": {
            "backgroundcolor": "#E5ECF6",
            "gridcolor": "white",
            "gridwidth": 2,
            "linecolor": "white",
            "showbackground": true,
            "ticks": "",
            "zerolinecolor": "white"
           },
           "yaxis": {
            "backgroundcolor": "#E5ECF6",
            "gridcolor": "white",
            "gridwidth": 2,
            "linecolor": "white",
            "showbackground": true,
            "ticks": "",
            "zerolinecolor": "white"
           },
           "zaxis": {
            "backgroundcolor": "#E5ECF6",
            "gridcolor": "white",
            "gridwidth": 2,
            "linecolor": "white",
            "showbackground": true,
            "ticks": "",
            "zerolinecolor": "white"
           }
          },
          "shapedefaults": {
           "line": {
            "color": "#2a3f5f"
           }
          },
          "ternary": {
           "aaxis": {
            "gridcolor": "white",
            "linecolor": "white",
            "ticks": ""
           },
           "baxis": {
            "gridcolor": "white",
            "linecolor": "white",
            "ticks": ""
           },
           "bgcolor": "#E5ECF6",
           "caxis": {
            "gridcolor": "white",
            "linecolor": "white",
            "ticks": ""
           }
          },
          "title": {
           "x": 0.05
          },
          "xaxis": {
           "automargin": true,
           "gridcolor": "white",
           "linecolor": "white",
           "ticks": "",
           "title": {
            "standoff": 15
           },
           "zerolinecolor": "white",
           "zerolinewidth": 2
          },
          "yaxis": {
           "automargin": true,
           "gridcolor": "white",
           "linecolor": "white",
           "ticks": "",
           "title": {
            "standoff": 15
           },
           "zerolinecolor": "white",
           "zerolinewidth": 2
          }
         }
        },
        "title": {
         "text": " Chromosome 10 p < 1.0e-05"
        },
        "width": 900,
        "xaxis": {
         "anchor": "y",
         "domain": [
          0,
          0.2888888888888889
         ],
         "title": {
          "text": "A\t\t\t\t\t\t\t\tC\t\t\t\t\t\t\t\tG\t\t\t\t\t\t\t\tT"
         }
        },
        "xaxis2": {
         "anchor": "y2",
         "domain": [
          0.35555555555555557,
          0.6444444444444445
         ],
         "title": {
          "text": "A\t\t\t\t\t\t\t\tC\t\t\t\t\t\t\t\tG\t\t\t\t\t\t\t\tT"
         }
        },
        "xaxis3": {
         "anchor": "y3",
         "domain": [
          0.7111111111111111,
          1
         ],
         "title": {
          "text": "A\t\t\t\t\t\t\t\tC\t\t\t\t\t\t\t\tG\t\t\t\t\t\t\t\tT"
         }
        },
        "yaxis": {
         "anchor": "x",
         "domain": [
          0,
          1
         ],
         "range": [
          -0.5,
          24
         ],
         "title": {
          "text": "A-T\t\t\t\t\t\tA-C\t\t\t\t\t\tA-G\t\t\t\t\t\tC-T\t\t\t\t\t\tC-G\t\t\t\t\t\tC-A"
         }
        },
        "yaxis2": {
         "anchor": "x2",
         "domain": [
          0,
          1
         ]
        },
        "yaxis3": {
         "anchor": "x3",
         "domain": [
          0,
          1
         ]
        }
       }
      },
      "text/html": [
       "<div>\n",
       "        \n",
       "        \n",
       "            <div id=\"86f4ee65-723e-4270-abc8-c15ede51995d\" class=\"plotly-graph-div\" style=\"height:550px; width:900px;\"></div>\n",
       "            <script type=\"text/javascript\">\n",
       "                require([\"plotly\"], function(Plotly) {\n",
       "                    window.PLOTLYENV=window.PLOTLYENV || {};\n",
       "                    \n",
       "                if (document.getElementById(\"86f4ee65-723e-4270-abc8-c15ede51995d\")) {\n",
       "                    Plotly.newPlot(\n",
       "                        '86f4ee65-723e-4270-abc8-c15ede51995d',\n",
       "                        [{\"colorscale\": [[0.0, \"rgb(103,0,31)\"], [0.1, \"rgb(178,24,43)\"], [0.2, \"rgb(214,96,77)\"], [0.3, \"rgb(244,165,130)\"], [0.4, \"rgb(253,219,199)\"], [0.5, \"rgb(247,247,247)\"], [0.6, \"rgb(209,229,240)\"], [0.7, \"rgb(146,197,222)\"], [0.8, \"rgb(67,147,195)\"], [0.9, \"rgb(33,102,172)\"], [1.0, \"rgb(5,48,97)\"]], \"text\": [[\"AAA_T\", \"AAC_T\", \"AAG_T\", \"AAT_T\"], [\"CAA_T\", \"CAC_T\", \"CAG_T\", \"CAT_T\"], [\"GAA_T\", \"GAC_T\", \"GAG_T\", \"GAT_T\"], [\"TAA_T\", \"TAC_T\", \"TAG_T\", \"TAT_T\"], [\"AAA_C\", \"AAC_C\", \"AAG_C\", \"AAT_C\"], [\"CAA_C\", \"CAC_C\", \"CAG_C\", \"CAT_C\"], [\"GAA_C\", \"GAC_C\", \"GAG_C\", \"GAT_C\"], [\"TAA_C\", \"TAC_C\", \"TAG_C\", \"TAT_C\"], [\"AAA_G\", \"AAC_G\", \"AAG_G\", \"AAT_G\"], [\"CAA_G\", \"CAC_G\", \"CAG_G\", \"CAT_G\"], [\"GAA_G\", \"GAC_G\", \"GAG_G\", \"GAT_G\"], [\"TAA_G\", \"TAC_G\", \"TAG_G\", \"TAT_G\"], [\"ACA_T\", \"ACC_T\", \"ACG_T\", \"ACT_T\"], [\"CCA_T\", \"CCC_T\", \"CCG_T\", \"CCT_T\"], [\"GCA_T\", \"GCC_T\", \"GCG_T\", \"GCT_T\"], [\"TCA_T\", \"TCC_T\", \"TCG_T\", \"TCT_T\"], [\"ACA_G\", \"ACC_G\", \"ACG_G\", \"ACT_G\"], [\"CCA_G\", \"CCC_G\", \"CCG_G\", \"CCT_G\"], [\"GCA_G\", \"GCC_G\", \"GCG_G\", \"GCT_G\"], [\"TCA_G\", \"TCC_G\", \"TCG_G\", \"TCT_G\"], [\"ACA_A\", \"ACC_A\", \"ACG_A\", \"ACT_A\"], [\"CCA_A\", \"CCC_A\", \"CCG_A\", \"CCT_A\"], [\"GCA_A\", \"GCC_A\", \"GCG_A\", \"GCT_A\"], [\"TCA_A\", \"TCC_A\", \"TCG_A\", \"TCT_A\"]], \"type\": \"heatmap\", \"xaxis\": \"x\", \"yaxis\": \"y\", \"z\": [[1.0, 1.0, 1.0, 1.0], [1.0, 1.0, 1.0, 1.0], [1.0, 1.0, 1.0, 1.0], [1.0, 1.0, 1.0, 1.0], [1.0, 1.0, 1.0, 1.0], [1.0, 1.0, 1.0, 1.0], [1.0, 1.0, 1.0, 1.0], [1.0, 1.0, 1.0, 1.0], [1.0, 1.0, 1.0, 1.0], [1.0, 1.0, 1.0, 1.0], [1.0, 1.0, 1.0, 1.0], [1.0, 1.0, 1.0, 1.0], [1.0, 1.0, 1.0, 1.0], [1.0, 1.0, 1.0, 1.0], [1.0, 1.0, 1.0, 1.0], [1.0, 1.0, 1.0, 1.0], [1.0, 1.0, 1.0, 1.0], [1.0, 1.0, 1.0, 1.0], [1.0, 1.0, 1.0, 1.0], [1.0, 1.0, 1.0, 1.0], [1.0, 1.0, 1.0, 1.0], [1.0, 1.0, 1.0, 1.0], [1.0, 1.0, 1.0, 1.0], [1.0, 1.0, 1.0, 1.0]], \"zmax\": 1.15, \"zmin\": 0.85}, {\"line\": {\"color\": \"black\", \"width\": 2}, \"mode\": \"lines\", \"showlegend\": false, \"type\": \"scatter\", \"x\": [-0.5, 3.5], \"xaxis\": \"x\", \"y\": [3.5, 3.5], \"yaxis\": \"y\"}, {\"line\": {\"color\": \"black\", \"width\": 2}, \"mode\": \"lines\", \"showlegend\": false, \"type\": \"scatter\", \"x\": [-0.5, 3.5], \"xaxis\": \"x\", \"y\": [7.5, 7.5], \"yaxis\": \"y\"}, {\"line\": {\"color\": \"black\", \"width\": 2}, \"mode\": \"lines\", \"showlegend\": false, \"type\": \"scatter\", \"x\": [-0.5, 3.5], \"xaxis\": \"x\", \"y\": [11.5, 11.5], \"yaxis\": \"y\"}, {\"line\": {\"color\": \"black\", \"width\": 2}, \"mode\": \"lines\", \"showlegend\": false, \"type\": \"scatter\", \"x\": [-0.5, 3.5], \"xaxis\": \"x\", \"y\": [15.5, 15.5], \"yaxis\": \"y\"}, {\"line\": {\"color\": \"black\", \"width\": 2}, \"mode\": \"lines\", \"showlegend\": false, \"type\": \"scatter\", \"x\": [-0.5, 3.5], \"xaxis\": \"x\", \"y\": [19.5, 19.5], \"yaxis\": \"y\"}, {\"colorscale\": [[0.0, \"rgb(103,0,31)\"], [0.1, \"rgb(178,24,43)\"], [0.2, \"rgb(214,96,77)\"], [0.3, \"rgb(244,165,130)\"], [0.4, \"rgb(253,219,199)\"], [0.5, \"rgb(247,247,247)\"], [0.6, \"rgb(209,229,240)\"], [0.7, \"rgb(146,197,222)\"], [0.8, \"rgb(67,147,195)\"], [0.9, \"rgb(33,102,172)\"], [1.0, \"rgb(5,48,97)\"]], \"text\": [[\"AAA_T\", \"AAC_T\", \"AAG_T\", \"AAT_T\"], [\"CAA_T\", \"CAC_T\", \"CAG_T\", \"CAT_T\"], [\"GAA_T\", \"GAC_T\", \"GAG_T\", \"GAT_T\"], [\"TAA_T\", \"TAC_T\", \"TAG_T\", \"TAT_T\"], [\"AAA_C\", \"AAC_C\", \"AAG_C\", \"AAT_C\"], [\"CAA_C\", \"CAC_C\", \"CAG_C\", \"CAT_C\"], [\"GAA_C\", \"GAC_C\", \"GAG_C\", \"GAT_C\"], [\"TAA_C\", \"TAC_C\", \"TAG_C\", \"TAT_C\"], [\"AAA_G\", \"AAC_G\", \"AAG_G\", \"AAT_G\"], [\"CAA_G\", \"CAC_G\", \"CAG_G\", \"CAT_G\"], [\"GAA_G\", \"GAC_G\", \"GAG_G\", \"GAT_G\"], [\"TAA_G\", \"TAC_G\", \"TAG_G\", \"TAT_G\"], [\"ACA_T\", \"ACC_T\", \"ACG_T\", \"ACT_T\"], [\"CCA_T\", \"CCC_T\", \"CCG_T\", \"CCT_T\"], [\"GCA_T\", \"GCC_T\", \"GCG_T\", \"GCT_T\"], [\"TCA_T\", \"TCC_T\", \"TCG_T\", \"TCT_T\"], [\"ACA_G\", \"ACC_G\", \"ACG_G\", \"ACT_G\"], [\"CCA_G\", \"CCC_G\", \"CCG_G\", \"CCT_G\"], [\"GCA_G\", \"GCC_G\", \"GCG_G\", \"GCT_G\"], [\"TCA_G\", \"TCC_G\", \"TCG_G\", \"TCT_G\"], [\"ACA_A\", \"ACC_A\", \"ACG_A\", \"ACT_A\"], [\"CCA_A\", \"CCC_A\", \"CCG_A\", \"CCT_A\"], [\"GCA_A\", \"GCC_A\", \"GCG_A\", \"GCT_A\"], [\"TCA_A\", \"TCC_A\", \"TCG_A\", \"TCT_A\"]], \"type\": \"heatmap\", \"xaxis\": \"x2\", \"yaxis\": \"y2\", \"z\": [[0.6685036540074278, 0.6198852064432513, 0.9943991853360489, 1.010183299389002], [1.623508874018039, 1.1364562118126273, 0.5348029232059422, 1.3637474541751526], [1.010183299389002, 0.6494035496072156, 0.9359051156103989, 1.3637474541751526], [0.6119379602067994, 0.505091649694501, 0.6993576688077706, 0.6061099796334012], [0.8953897426402518, 0.7576374745417516, 0.17483941720194265, 1.3112956290145699], [1.060692464358452, 1.4463988150342528, 0.5682281059063137, 0.6494035496072156], [0.9943991853360489, 1.5152749490835031, 1.3258655804480652, 0.8523421588594705], [1.3158966663093579, 0.9741053244108234, 1.010183299389002, 1.25010183299389], [0.9233706720977597, 0.5682281059063137, 1.060692464358452, 1.0766427269803838], [1.573554754817484, 0.9470468431771895, 0.8523421588594705, 1.5152749490835031], [0.7177618179869225, 0.8523421588594705, 0.9091649694501018, 1.2627291242362526], [0.7905782343044364, 0.5682281059063137, 0.9470468431771895, 1.4611579866162352], [1.435523635973845, 0.4545824847250509, 4.545824847250509, 1.894093686354379], [0.9091649694501018, 1.2988070992144312, 1.0, 0.7576374745417516], [0.6494035496072156, 1.5152749490835031, 0.0, 1.3637474541751526], [1.3987153376155412, 0.6494035496072156, 1.1364562118126273, 2.2729124236252547], [0.5682281059063137, 1.1364562118126273, 0.0, 1.4463988150342528], [0.8741970860097134, 0.3788187372708758, 1.0, 0.5682281059063137], [1.2627291242362526, 1.010183299389002, 1.704684317718941, 0.7576374745417516], [0.8658713994762874, 1.0331420107387521, 2.2729124236252547, 1.0766427269803838], [0.9741053244108234, 1.1364562118126273, 1.0, 0.8523421588594705], [0.8741970860097134, 0.28411405295315684, 0.7576374745417516, 0.6198852064432513], [1.2397704128865026, 1.5152749490835031, 2.2729124236252547, 2.2729124236252547], [1.2988070992144312, 0.6818737270875763, 1.0, 1.5152749490835031]], \"zmax\": 1.15, \"zmin\": 0.85}, {\"line\": {\"color\": \"black\", \"width\": 2}, \"mode\": \"lines\", \"showlegend\": false, \"type\": \"scatter\", \"x\": [-0.5, 3.5], \"xaxis\": \"x2\", \"y\": [3.5, 3.5], \"yaxis\": \"y2\"}, {\"line\": {\"color\": \"black\", \"width\": 2}, \"mode\": \"lines\", \"showlegend\": false, \"type\": \"scatter\", \"x\": [-0.5, 3.5], \"xaxis\": \"x2\", \"y\": [7.5, 7.5], \"yaxis\": \"y2\"}, {\"line\": {\"color\": \"black\", \"width\": 2}, \"mode\": \"lines\", \"showlegend\": false, \"type\": \"scatter\", \"x\": [-0.5, 3.5], \"xaxis\": \"x2\", \"y\": [11.5, 11.5], \"yaxis\": \"y2\"}, {\"line\": {\"color\": \"black\", \"width\": 2}, \"mode\": \"lines\", \"showlegend\": false, \"type\": \"scatter\", \"x\": [-0.5, 3.5], \"xaxis\": \"x2\", \"y\": [15.5, 15.5], \"yaxis\": \"y2\"}, {\"line\": {\"color\": \"black\", \"width\": 2}, \"mode\": \"lines\", \"showlegend\": false, \"type\": \"scatter\", \"x\": [-0.5, 3.5], \"xaxis\": \"x2\", \"y\": [19.5, 19.5], \"yaxis\": \"y2\"}],\n",
       "                        {\"annotations\": [{\"font\": {\"size\": 16}, \"showarrow\": false, \"text\": \"pop1-pop1\", \"x\": 0.14444444444444446, \"xanchor\": \"center\", \"xref\": \"paper\", \"y\": 1.0, \"yanchor\": \"bottom\", \"yref\": \"paper\"}, {\"font\": {\"size\": 16}, \"showarrow\": false, \"text\": \"pop1-pop0\", \"x\": 0.5, \"xanchor\": \"center\", \"xref\": \"paper\", \"y\": 1.0, \"yanchor\": \"bottom\", \"yref\": \"paper\"}], \"height\": 550, \"template\": {\"data\": {\"bar\": [{\"error_x\": {\"color\": \"#2a3f5f\"}, \"error_y\": {\"color\": \"#2a3f5f\"}, \"marker\": {\"line\": {\"color\": \"#E5ECF6\", \"width\": 0.5}}, \"type\": \"bar\"}], \"barpolar\": [{\"marker\": {\"line\": {\"color\": \"#E5ECF6\", \"width\": 0.5}}, \"type\": \"barpolar\"}], \"carpet\": [{\"aaxis\": {\"endlinecolor\": \"#2a3f5f\", \"gridcolor\": \"white\", \"linecolor\": \"white\", \"minorgridcolor\": \"white\", \"startlinecolor\": \"#2a3f5f\"}, \"baxis\": {\"endlinecolor\": \"#2a3f5f\", \"gridcolor\": \"white\", \"linecolor\": \"white\", \"minorgridcolor\": \"white\", \"startlinecolor\": \"#2a3f5f\"}, \"type\": \"carpet\"}], \"choropleth\": [{\"colorbar\": {\"outlinewidth\": 0, \"ticks\": \"\"}, \"type\": \"choropleth\"}], \"contour\": [{\"colorbar\": {\"outlinewidth\": 0, \"ticks\": \"\"}, \"colorscale\": [[0.0, \"#0d0887\"], [0.1111111111111111, \"#46039f\"], [0.2222222222222222, \"#7201a8\"], [0.3333333333333333, \"#9c179e\"], [0.4444444444444444, \"#bd3786\"], [0.5555555555555556, \"#d8576b\"], [0.6666666666666666, \"#ed7953\"], [0.7777777777777778, \"#fb9f3a\"], [0.8888888888888888, \"#fdca26\"], [1.0, \"#f0f921\"]], \"type\": \"contour\"}], \"contourcarpet\": [{\"colorbar\": {\"outlinewidth\": 0, \"ticks\": \"\"}, \"type\": \"contourcarpet\"}], \"heatmap\": [{\"colorbar\": {\"outlinewidth\": 0, \"ticks\": \"\"}, \"colorscale\": [[0.0, \"#0d0887\"], [0.1111111111111111, \"#46039f\"], [0.2222222222222222, \"#7201a8\"], [0.3333333333333333, \"#9c179e\"], [0.4444444444444444, \"#bd3786\"], [0.5555555555555556, \"#d8576b\"], [0.6666666666666666, \"#ed7953\"], [0.7777777777777778, \"#fb9f3a\"], [0.8888888888888888, \"#fdca26\"], [1.0, \"#f0f921\"]], \"type\": \"heatmap\"}], \"heatmapgl\": [{\"colorbar\": {\"outlinewidth\": 0, \"ticks\": \"\"}, \"colorscale\": [[0.0, \"#0d0887\"], [0.1111111111111111, \"#46039f\"], [0.2222222222222222, \"#7201a8\"], [0.3333333333333333, \"#9c179e\"], [0.4444444444444444, \"#bd3786\"], [0.5555555555555556, \"#d8576b\"], [0.6666666666666666, \"#ed7953\"], [0.7777777777777778, \"#fb9f3a\"], [0.8888888888888888, \"#fdca26\"], [1.0, \"#f0f921\"]], \"type\": \"heatmapgl\"}], \"histogram\": [{\"marker\": {\"colorbar\": {\"outlinewidth\": 0, \"ticks\": \"\"}}, \"type\": \"histogram\"}], \"histogram2d\": [{\"colorbar\": {\"outlinewidth\": 0, \"ticks\": \"\"}, \"colorscale\": [[0.0, \"#0d0887\"], [0.1111111111111111, \"#46039f\"], [0.2222222222222222, \"#7201a8\"], [0.3333333333333333, \"#9c179e\"], [0.4444444444444444, \"#bd3786\"], [0.5555555555555556, \"#d8576b\"], [0.6666666666666666, \"#ed7953\"], [0.7777777777777778, \"#fb9f3a\"], [0.8888888888888888, \"#fdca26\"], [1.0, \"#f0f921\"]], \"type\": \"histogram2d\"}], \"histogram2dcontour\": [{\"colorbar\": {\"outlinewidth\": 0, \"ticks\": \"\"}, \"colorscale\": [[0.0, \"#0d0887\"], [0.1111111111111111, \"#46039f\"], [0.2222222222222222, \"#7201a8\"], [0.3333333333333333, \"#9c179e\"], [0.4444444444444444, \"#bd3786\"], [0.5555555555555556, \"#d8576b\"], [0.6666666666666666, \"#ed7953\"], [0.7777777777777778, \"#fb9f3a\"], [0.8888888888888888, \"#fdca26\"], [1.0, \"#f0f921\"]], \"type\": \"histogram2dcontour\"}], \"mesh3d\": [{\"colorbar\": {\"outlinewidth\": 0, \"ticks\": \"\"}, \"type\": \"mesh3d\"}], \"parcoords\": [{\"line\": {\"colorbar\": {\"outlinewidth\": 0, \"ticks\": \"\"}}, \"type\": \"parcoords\"}], \"pie\": [{\"automargin\": true, \"type\": \"pie\"}], \"scatter\": [{\"marker\": {\"colorbar\": {\"outlinewidth\": 0, \"ticks\": \"\"}}, \"type\": \"scatter\"}], \"scatter3d\": [{\"line\": {\"colorbar\": {\"outlinewidth\": 0, \"ticks\": \"\"}}, \"marker\": {\"colorbar\": {\"outlinewidth\": 0, \"ticks\": \"\"}}, \"type\": \"scatter3d\"}], \"scattercarpet\": [{\"marker\": {\"colorbar\": {\"outlinewidth\": 0, \"ticks\": \"\"}}, \"type\": \"scattercarpet\"}], \"scattergeo\": [{\"marker\": {\"colorbar\": {\"outlinewidth\": 0, \"ticks\": \"\"}}, \"type\": \"scattergeo\"}], \"scattergl\": [{\"marker\": {\"colorbar\": {\"outlinewidth\": 0, \"ticks\": \"\"}}, \"type\": \"scattergl\"}], \"scattermapbox\": [{\"marker\": {\"colorbar\": {\"outlinewidth\": 0, \"ticks\": \"\"}}, \"type\": \"scattermapbox\"}], \"scatterpolar\": [{\"marker\": {\"colorbar\": {\"outlinewidth\": 0, \"ticks\": \"\"}}, \"type\": \"scatterpolar\"}], \"scatterpolargl\": [{\"marker\": {\"colorbar\": {\"outlinewidth\": 0, \"ticks\": \"\"}}, \"type\": \"scatterpolargl\"}], \"scatterternary\": [{\"marker\": {\"colorbar\": {\"outlinewidth\": 0, \"ticks\": \"\"}}, \"type\": \"scatterternary\"}], \"surface\": [{\"colorbar\": {\"outlinewidth\": 0, \"ticks\": \"\"}, \"colorscale\": [[0.0, \"#0d0887\"], [0.1111111111111111, \"#46039f\"], [0.2222222222222222, \"#7201a8\"], [0.3333333333333333, \"#9c179e\"], [0.4444444444444444, \"#bd3786\"], [0.5555555555555556, \"#d8576b\"], [0.6666666666666666, \"#ed7953\"], [0.7777777777777778, \"#fb9f3a\"], [0.8888888888888888, \"#fdca26\"], [1.0, \"#f0f921\"]], \"type\": \"surface\"}], \"table\": [{\"cells\": {\"fill\": {\"color\": \"#EBF0F8\"}, \"line\": {\"color\": \"white\"}}, \"header\": {\"fill\": {\"color\": \"#C8D4E3\"}, \"line\": {\"color\": \"white\"}}, \"type\": \"table\"}]}, \"layout\": {\"annotationdefaults\": {\"arrowcolor\": \"#2a3f5f\", \"arrowhead\": 0, \"arrowwidth\": 1}, \"coloraxis\": {\"colorbar\": {\"outlinewidth\": 0, \"ticks\": \"\"}}, \"colorscale\": {\"diverging\": [[0, \"#8e0152\"], [0.1, \"#c51b7d\"], [0.2, \"#de77ae\"], [0.3, \"#f1b6da\"], [0.4, \"#fde0ef\"], [0.5, \"#f7f7f7\"], [0.6, \"#e6f5d0\"], [0.7, \"#b8e186\"], [0.8, \"#7fbc41\"], [0.9, \"#4d9221\"], [1, \"#276419\"]], \"sequential\": [[0.0, \"#0d0887\"], [0.1111111111111111, \"#46039f\"], [0.2222222222222222, \"#7201a8\"], [0.3333333333333333, \"#9c179e\"], [0.4444444444444444, \"#bd3786\"], [0.5555555555555556, \"#d8576b\"], [0.6666666666666666, \"#ed7953\"], [0.7777777777777778, \"#fb9f3a\"], [0.8888888888888888, \"#fdca26\"], [1.0, \"#f0f921\"]], \"sequentialminus\": [[0.0, \"#0d0887\"], [0.1111111111111111, \"#46039f\"], [0.2222222222222222, \"#7201a8\"], [0.3333333333333333, \"#9c179e\"], [0.4444444444444444, \"#bd3786\"], [0.5555555555555556, \"#d8576b\"], [0.6666666666666666, \"#ed7953\"], [0.7777777777777778, \"#fb9f3a\"], [0.8888888888888888, \"#fdca26\"], [1.0, \"#f0f921\"]]}, \"colorway\": [\"#636efa\", \"#EF553B\", \"#00cc96\", \"#ab63fa\", \"#FFA15A\", \"#19d3f3\", \"#FF6692\", \"#B6E880\", \"#FF97FF\", \"#FECB52\"], \"font\": {\"color\": \"#2a3f5f\"}, \"geo\": {\"bgcolor\": \"white\", \"lakecolor\": \"white\", \"landcolor\": \"#E5ECF6\", \"showlakes\": true, \"showland\": true, \"subunitcolor\": \"white\"}, \"hoverlabel\": {\"align\": \"left\"}, \"hovermode\": \"closest\", \"mapbox\": {\"style\": \"light\"}, \"paper_bgcolor\": \"white\", \"plot_bgcolor\": \"#E5ECF6\", \"polar\": {\"angularaxis\": {\"gridcolor\": \"white\", \"linecolor\": \"white\", \"ticks\": \"\"}, \"bgcolor\": \"#E5ECF6\", \"radialaxis\": {\"gridcolor\": \"white\", \"linecolor\": \"white\", \"ticks\": \"\"}}, \"scene\": {\"xaxis\": {\"backgroundcolor\": \"#E5ECF6\", \"gridcolor\": \"white\", \"gridwidth\": 2, \"linecolor\": \"white\", \"showbackground\": true, \"ticks\": \"\", \"zerolinecolor\": \"white\"}, \"yaxis\": {\"backgroundcolor\": \"#E5ECF6\", \"gridcolor\": \"white\", \"gridwidth\": 2, \"linecolor\": \"white\", \"showbackground\": true, \"ticks\": \"\", \"zerolinecolor\": \"white\"}, \"zaxis\": {\"backgroundcolor\": \"#E5ECF6\", \"gridcolor\": \"white\", \"gridwidth\": 2, \"linecolor\": \"white\", \"showbackground\": true, \"ticks\": \"\", \"zerolinecolor\": \"white\"}}, \"shapedefaults\": {\"line\": {\"color\": \"#2a3f5f\"}}, \"ternary\": {\"aaxis\": {\"gridcolor\": \"white\", \"linecolor\": \"white\", \"ticks\": \"\"}, \"baxis\": {\"gridcolor\": \"white\", \"linecolor\": \"white\", \"ticks\": \"\"}, \"bgcolor\": \"#E5ECF6\", \"caxis\": {\"gridcolor\": \"white\", \"linecolor\": \"white\", \"ticks\": \"\"}}, \"title\": {\"x\": 0.05}, \"xaxis\": {\"automargin\": true, \"gridcolor\": \"white\", \"linecolor\": \"white\", \"ticks\": \"\", \"title\": {\"standoff\": 15}, \"zerolinecolor\": \"white\", \"zerolinewidth\": 2}, \"yaxis\": {\"automargin\": true, \"gridcolor\": \"white\", \"linecolor\": \"white\", \"ticks\": \"\", \"title\": {\"standoff\": 15}, \"zerolinecolor\": \"white\", \"zerolinewidth\": 2}}}, \"title\": {\"text\": \" Chromosome 10 p < 1.0e-05\"}, \"width\": 900, \"xaxis\": {\"anchor\": \"y\", \"domain\": [0.0, 0.2888888888888889], \"title\": {\"text\": \"A\\t\\t\\t\\t\\t\\t\\t\\tC\\t\\t\\t\\t\\t\\t\\t\\tG\\t\\t\\t\\t\\t\\t\\t\\tT\"}}, \"xaxis2\": {\"anchor\": \"y2\", \"domain\": [0.35555555555555557, 0.6444444444444445], \"title\": {\"text\": \"A\\t\\t\\t\\t\\t\\t\\t\\tC\\t\\t\\t\\t\\t\\t\\t\\tG\\t\\t\\t\\t\\t\\t\\t\\tT\"}}, \"xaxis3\": {\"anchor\": \"y3\", \"domain\": [0.7111111111111111, 1.0], \"title\": {\"text\": \"A\\t\\t\\t\\t\\t\\t\\t\\tC\\t\\t\\t\\t\\t\\t\\t\\tG\\t\\t\\t\\t\\t\\t\\t\\tT\"}}, \"yaxis\": {\"anchor\": \"x\", \"domain\": [0.0, 1.0], \"range\": [-0.5, 24], \"title\": {\"text\": \"A-T\\t\\t\\t\\t\\t\\tA-C\\t\\t\\t\\t\\t\\tA-G\\t\\t\\t\\t\\t\\tC-T\\t\\t\\t\\t\\t\\tC-G\\t\\t\\t\\t\\t\\tC-A\"}}, \"yaxis2\": {\"anchor\": \"x2\", \"domain\": [0.0, 1.0]}, \"yaxis3\": {\"anchor\": \"x3\", \"domain\": [0.0, 1.0]}},\n",
       "                        {\"responsive\": true}\n",
       "                    ).then(function(){\n",
       "                            \n",
       "var gd = document.getElementById('86f4ee65-723e-4270-abc8-c15ede51995d');\n",
       "var x = new MutationObserver(function (mutations, observer) {{\n",
       "        var display = window.getComputedStyle(gd).display;\n",
       "        if (!display || display === 'none') {{\n",
       "            console.log([gd, 'removed!']);\n",
       "            Plotly.purge(gd);\n",
       "            observer.disconnect();\n",
       "        }}\n",
       "}});\n",
       "\n",
       "// Listen for the removal of the full notebook cells\n",
       "var notebookContainer = gd.closest('#notebook-container');\n",
       "if (notebookContainer) {{\n",
       "    x.observe(notebookContainer, {childList: true});\n",
       "}}\n",
       "\n",
       "// Listen for the clearing of the current output cell\n",
       "var outputEl = gd.closest('.output');\n",
       "if (outputEl) {{\n",
       "    x.observe(outputEl, {childList: true});\n",
       "}}\n",
       "\n",
       "                        })\n",
       "                };\n",
       "                });\n",
       "            </script>\n",
       "        </div>"
      ]
     },
     "metadata": {},
     "output_type": "display_data"
    }
   ],
   "source": [
    "from plotly.subplots import make_subplots\n",
    "from plotly import tools\n",
    "\n",
    "titles= pop_pair_names\n",
    "\n",
    "Ncols= 3\n",
    "Nrows= int(len(titles) / float(Ncols)) + (len(titles) % Ncols > 0)\n",
    "\n",
    "fig_subplots = make_subplots(rows= Nrows, cols=Ncols,\n",
    "                             subplot_titles=tuple(titles))\n",
    "\n",
    "#####\n",
    "for gp in range(len(titles)):\n",
    "\n",
    "    pos1= int(float(gp) / Ncols) + 1\n",
    "    pos2= gp - (pos1-1)*Ncols + 1\n",
    "\n",
    "    title= titles[gp]\n",
    "    \n",
    "    ####\n",
    "    sig_idx= gp\n",
    "    fig = [go.Heatmap(\n",
    "        z= [list(x) for x in ratio_grids[sig_idx]],\n",
    "        zmin= 0.85,\n",
    "        zmax= 1.15,\n",
    "        text= labels,\n",
    "        type = 'heatmap',\n",
    "        colorscale= 'RdBu'\n",
    "    )]\n",
    "\n",
    "    sig_fig= significant_indices[sig_idx]\n",
    "\n",
    "\n",
    "    if sum([len(x) for x in sig_fig]):\n",
    "\n",
    "        fig.append(go.Scatter(x= [int(x) for x in sig_fig[0]], y= [int(x) for x in sig_fig[1]],\n",
    "         mode='markers',line =dict(color='white',width=3),showlegend= False))\n",
    "    \n",
    "    for line in range(1,6):\n",
    "        fig.append(go.Scatter(x= [-.5,3.5], y= [-.5 + 4 * line] * 2,\n",
    "             mode='lines',line =dict(color='black',width=2),showlegend= False))\n",
    "    \n",
    "    ####\n",
    "\n",
    "    for trace1 in fig:\n",
    "        \n",
    "        fig_subplots.append_trace(trace1, pos1, pos2)\n",
    "    \n",
    "    if pos2 == 1:\n",
    "        fig_subplots.update_yaxes(range=[-.5, 24], row=pos1, col=pos2,\n",
    "                                  title= 'A-T{}A-C{}A-G{}C-T{}C-G{}C-A'.format(*['\\t'*6]*5))\n",
    "    \n",
    "    fig_subplots.update_xaxes(title= 'A{}C{}G{}T'.format(*['\\t'*8]*3))\n",
    "\n",
    "\n",
    "layout= go.Layout(\n",
    "        xaxis=dict(range=[1.5, 4.5]),\n",
    "        yaxis=dict(range=[1.5, 4.5])\n",
    ")\n",
    "\n",
    "fig= go.Figure(data=fig_subplots, layout=layout)\n",
    "fig[\"layout\"].update(yaxis=dict(range=[-.5,24]))\n",
    "fig['layout'].update(height= Nrows * 550,width= 900)\n",
    "fig['layout'].update(title= plot_title)\n",
    "iplot(fig)"
   ]
  },
  {
   "cell_type": "markdown",
   "metadata": {},
   "source": [
    "**Fig. Heatmap** Chi squared test of kmer counts between 1 population versus all others. Population, frequency range, and significance threshold on individual p-values determined in section **Analysis parameters and input** at the top of the page. "
   ]
  },
  {
   "cell_type": "code",
   "execution_count": null,
   "metadata": {},
   "outputs": [],
   "source": []
  }
 ],
 "metadata": {
  "kernelspec": {
   "display_name": "Python 3",
   "language": "python",
   "name": "python3"
  },
  "language_info": {
   "codemirror_mode": {
    "name": "ipython",
    "version": 3
   },
   "file_extension": ".py",
   "mimetype": "text/x-python",
   "name": "python",
   "nbconvert_exporter": "python",
   "pygments_lexer": "ipython3",
   "version": "3.6.9"
  }
 },
 "nbformat": 4,
 "nbformat_minor": 2
}
