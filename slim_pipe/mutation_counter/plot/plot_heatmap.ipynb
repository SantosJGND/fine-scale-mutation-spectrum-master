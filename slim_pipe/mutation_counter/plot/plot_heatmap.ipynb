{
 "cells": [
  {
   "cell_type": "code",
   "execution_count": 1,
   "metadata": {},
   "outputs": [
    {
     "data": {
      "text/html": [
       "        <script type=\"text/javascript\">\n",
       "        window.PlotlyConfig = {MathJaxConfig: 'local'};\n",
       "        if (window.MathJax) {MathJax.Hub.Config({SVG: {font: \"STIX-Web\"}});}\n",
       "        if (typeof require !== 'undefined') {\n",
       "        require.undef(\"plotly\");\n",
       "        requirejs.config({\n",
       "            paths: {\n",
       "                'plotly': ['https://cdn.plot.ly/plotly-latest.min']\n",
       "            }\n",
       "        });\n",
       "        require(['plotly'], function(Plotly) {\n",
       "            window._Plotly = Plotly;\n",
       "        });\n",
       "        }\n",
       "        </script>\n",
       "        "
      ]
     },
     "metadata": {},
     "output_type": "display_data"
    }
   ],
   "source": [
    "import sys\n",
    "import argparse\n",
    "import numpy as np\n",
    "from scipy.stats import chi2_contingency\n",
    "from itertools import product\n",
    "import itertools as it\n",
    "\n",
    "from _plotly_future_ import v4_subplots\n",
    "import plotly.graph_objs as go\n",
    "from plotly.offline import download_plotlyjs, init_notebook_mode, plot, iplot\n",
    "from plotly.graph_objs import *\n",
    "\n",
    "from ipywidgets import interact, interactive, fixed, interact_manual\n",
    "import ipywidgets as widgets\n",
    "init_notebook_mode(connected=True)\n",
    "\n"
   ]
  },
  {
   "cell_type": "markdown",
   "metadata": {},
   "source": [
    "# Mutation study\n",
    "\n",
    "### Population pairs and other arguments\n"
   ]
  },
  {
   "cell_type": "code",
   "execution_count": 2,
   "metadata": {},
   "outputs": [],
   "source": [
    "\n",
    "comp = {\n",
    "    'A': 'T',\n",
    "    'C': 'G',\n",
    "    'G': 'C',\n",
    "    'T': 'A',\n",
    "}\n",
    "ypos, ylabel = [], []\n",
    "\n",
    "mut_index = {}\n",
    "row, col = 0, 0\n",
    "\n",
    "labels= []\n",
    "\n",
    "for b2, d in [('A', 'T'), ('A', 'C'), ('A', 'G'),\n",
    "              ('C', 'T'), ('C', 'G'), ('C', 'A')]:\n",
    "    \n",
    "    for b1 in 'ACGT':\n",
    "        row_lab= []\n",
    "        col = 0\n",
    "        ypos.append(row+0.5)\n",
    "        if b1 == 'T' and b2 == 'C' and d == 'A':\n",
    "            ylabel.append('5\\'-'+b1)\n",
    "        elif b1 == 'C':\n",
    "            ylabel.append(b2+r'$\\to$'+d+r'  '+b1)\n",
    "        else:\n",
    "            ylabel.append(b1)\n",
    "        for b3 in 'ACGT':\n",
    "            mut_index[(b1+b2+b3, d)] = (row, col)\n",
    "            \n",
    "            mut_index[(comp[b3]+comp[b2]+comp[b1], comp[d])] = (row, col)\n",
    "            row_lab.append('_'.join([b1+b2+b3, d]))\n",
    "            \n",
    "            col += 1\n",
    "        labels.append(row_lab)\n",
    "        row += 1\n",
    "\n"
   ]
  },
  {
   "cell_type": "markdown",
   "metadata": {},
   "source": [
    "## Analysis parameters and input "
   ]
  },
  {
   "cell_type": "code",
   "execution_count": 6,
   "metadata": {},
   "outputs": [],
   "source": [
    "from plot_utilities import Population, frequency_breakdown, heatmap, make_titles\n",
    "\n",
    "ID_file= \"C:/Users/floyd/Desktop/AZ/SuzLab/SLiM/mutation_counter/count/ind_assignments.txt\"\n",
    "\n",
    "pops= []\n",
    "with open(ID_file,'r') as sample_id_lines:\n",
    "    for line in sample_id_lines:\n",
    "        line= str.encode(line)\n",
    "        sample_id, population = line.split()[:2]\n",
    "        pops.append(population.decode())\n",
    "\n",
    "pops= list(set(pops))\n",
    "\n",
    "focus= 'EA'\n",
    "population_pairs= [[focus,x] for x in pops]\n",
    "population_pairs= list(it.chain(*population_pairs))\n",
    "\n",
    "#population_pairs= ['k3', 'k1']\n",
    "\n",
    "align= 'GravelMB18'\n",
    "vcf_data= 'vcf_data'\n",
    "chromosomes= list(range(1,21))\n",
    "chromosomes= [str(x) for x in chromosomes]\n",
    "chromosomes= [\"1\"]\n",
    "individually= False\n",
    "exclude= False\n",
    "p_value= 1e-5\n",
    "frequency_range= [0,1]\n"
   ]
  },
  {
   "cell_type": "markdown",
   "metadata": {},
   "source": [
    "### Processing parameters"
   ]
  },
  {
   "cell_type": "code",
   "execution_count": 7,
   "metadata": {},
   "outputs": [],
   "source": [
    "\n",
    "\n",
    "pop_pair_names= zip(population_pairs[::2],\n",
    "                           population_pairs[1::2])\n",
    "\n",
    "pop_pair_names= ['-'.join(list(x)) for x in pop_pair_names]\n",
    "\n",
    "population_pairs= zip(population_pairs[::2],\n",
    "                           population_pairs[1::2])\n",
    "\n",
    "for chromosome in chromosomes:\n",
    "    assert chromosome == 'X' or int(chromosome) in range(1, 23)\n",
    "if individually:\n",
    "    chromosome_groups = [[chromosome] for chromosome in chromosomes]\n",
    "else:\n",
    "    chromosome_groups = [chromosomes]\n",
    "\n"
   ]
  },
  {
   "cell_type": "markdown",
   "metadata": {},
   "source": [
    "### Extract counts by kmer, compare across population pairs"
   ]
  },
  {
   "cell_type": "code",
   "execution_count": 8,
   "metadata": {
    "scrolled": false
   },
   "outputs": [
    {
     "name": "stdout",
     "output_type": "stream",
     "text": [
      "['cpgIslandExtUnmasked.txt.gz', 'nestedRepeats.txt.gz', 'microsat.txt.gz']\n"
     ]
    }
   ],
   "source": [
    "\n",
    "heatmaps = [\n",
    "    heatmap(\n",
    "        chromosomes, population_pair, frequency_range, exclude, p_value, align, vcf_data\n",
    "    ) for chromosomes, population_pair in product(chromosome_groups,\n",
    "                                                  population_pairs)\n",
    "]\n",
    "\n",
    "ratio_grids, significant_indices = zip(*heatmaps)\n",
    "\n",
    "plot_title, column_titles = make_titles(\n",
    "    chromosome_groups, population_pairs, frequency_range, exclude, p_value\n",
    ")\n",
    "\n",
    "from plot_utilities import read_exclude\n",
    "\n",
    "files= read_exclude()\n",
    "print(files)"
   ]
  },
  {
   "cell_type": "markdown",
   "metadata": {},
   "source": [
    "## Plot"
   ]
  },
  {
   "cell_type": "code",
   "execution_count": 9,
   "metadata": {},
   "outputs": [
    {
     "data": {
      "application/vnd.plotly.v1+json": {
       "config": {
        "linkText": "Export to plot.ly",
        "plotlyServerURL": "https://plot.ly",
        "showLink": false
       },
       "data": [
        {
         "text": [
          [
           "AAA_T",
           "AAC_T",
           "AAG_T",
           "AAT_T"
          ],
          [
           "CAA_T",
           "CAC_T",
           "CAG_T",
           "CAT_T"
          ],
          [
           "GAA_T",
           "GAC_T",
           "GAG_T",
           "GAT_T"
          ],
          [
           "TAA_T",
           "TAC_T",
           "TAG_T",
           "TAT_T"
          ],
          [
           "AAA_C",
           "AAC_C",
           "AAG_C",
           "AAT_C"
          ],
          [
           "CAA_C",
           "CAC_C",
           "CAG_C",
           "CAT_C"
          ],
          [
           "GAA_C",
           "GAC_C",
           "GAG_C",
           "GAT_C"
          ],
          [
           "TAA_C",
           "TAC_C",
           "TAG_C",
           "TAT_C"
          ],
          [
           "AAA_G",
           "AAC_G",
           "AAG_G",
           "AAT_G"
          ],
          [
           "CAA_G",
           "CAC_G",
           "CAG_G",
           "CAT_G"
          ],
          [
           "GAA_G",
           "GAC_G",
           "GAG_G",
           "GAT_G"
          ],
          [
           "TAA_G",
           "TAC_G",
           "TAG_G",
           "TAT_G"
          ],
          [
           "ACA_T",
           "ACC_T",
           "ACG_T",
           "ACT_T"
          ],
          [
           "CCA_T",
           "CCC_T",
           "CCG_T",
           "CCT_T"
          ],
          [
           "GCA_T",
           "GCC_T",
           "GCG_T",
           "GCT_T"
          ],
          [
           "TCA_T",
           "TCC_T",
           "TCG_T",
           "TCT_T"
          ],
          [
           "ACA_G",
           "ACC_G",
           "ACG_G",
           "ACT_G"
          ],
          [
           "CCA_G",
           "CCC_G",
           "CCG_G",
           "CCT_G"
          ],
          [
           "GCA_G",
           "GCC_G",
           "GCG_G",
           "GCT_G"
          ],
          [
           "TCA_G",
           "TCC_G",
           "TCG_G",
           "TCT_G"
          ],
          [
           "ACA_A",
           "ACC_A",
           "ACG_A",
           "ACT_A"
          ],
          [
           "CCA_A",
           "CCC_A",
           "CCG_A",
           "CCT_A"
          ],
          [
           "GCA_A",
           "GCC_A",
           "GCG_A",
           "GCT_A"
          ],
          [
           "TCA_A",
           "TCC_A",
           "TCG_A",
           "TCT_A"
          ]
         ],
         "type": "heatmap",
         "uid": "5c24c10b-dad3-477c-9156-dff2f345e848",
         "xaxis": "x",
         "yaxis": "y",
         "z": [
          [
           1,
           1,
           1,
           1
          ],
          [
           1,
           1,
           1,
           1
          ],
          [
           1,
           1,
           1,
           1
          ],
          [
           1,
           1,
           1,
           1
          ],
          [
           1,
           1,
           1,
           1
          ],
          [
           1,
           1,
           1,
           1
          ],
          [
           1,
           1,
           1,
           1
          ],
          [
           1,
           1,
           1,
           1
          ],
          [
           1,
           1,
           1,
           1
          ],
          [
           1,
           1,
           1,
           1
          ],
          [
           1,
           1,
           1,
           1
          ],
          [
           1,
           1,
           1,
           1
          ],
          [
           1,
           1,
           1,
           1
          ],
          [
           1,
           1,
           1,
           1
          ],
          [
           1,
           1,
           1,
           1
          ],
          [
           1,
           1,
           1,
           1
          ],
          [
           1,
           1,
           1,
           1
          ],
          [
           1,
           1,
           1,
           1
          ],
          [
           1,
           1,
           1,
           1
          ],
          [
           1,
           1,
           1,
           1
          ],
          [
           1,
           1,
           1,
           1
          ],
          [
           1,
           1,
           1,
           1
          ],
          [
           1,
           1,
           1,
           1
          ],
          [
           1,
           1,
           1,
           1
          ]
         ],
         "zmax": 1.15,
         "zmin": 0.85
        },
        {
         "line": {
          "color": "black",
          "width": 2
         },
         "mode": "lines",
         "showlegend": false,
         "type": "scatter",
         "uid": "036e5b16-6290-4f13-a5af-a7c87f79d6cb",
         "x": [
          -0.5,
          3.5
         ],
         "xaxis": "x",
         "y": [
          3.5,
          3.5
         ],
         "yaxis": "y"
        },
        {
         "line": {
          "color": "black",
          "width": 2
         },
         "mode": "lines",
         "showlegend": false,
         "type": "scatter",
         "uid": "38788101-6d93-4461-b75f-01ebd598dbb2",
         "x": [
          -0.5,
          3.5
         ],
         "xaxis": "x",
         "y": [
          7.5,
          7.5
         ],
         "yaxis": "y"
        },
        {
         "line": {
          "color": "black",
          "width": 2
         },
         "mode": "lines",
         "showlegend": false,
         "type": "scatter",
         "uid": "576dd96b-c342-430c-b9d8-62fba3cc2582",
         "x": [
          -0.5,
          3.5
         ],
         "xaxis": "x",
         "y": [
          11.5,
          11.5
         ],
         "yaxis": "y"
        },
        {
         "line": {
          "color": "black",
          "width": 2
         },
         "mode": "lines",
         "showlegend": false,
         "type": "scatter",
         "uid": "2915c058-b5be-4202-a921-46a6e6d2fb6e",
         "x": [
          -0.5,
          3.5
         ],
         "xaxis": "x",
         "y": [
          15.5,
          15.5
         ],
         "yaxis": "y"
        },
        {
         "line": {
          "color": "black",
          "width": 2
         },
         "mode": "lines",
         "showlegend": false,
         "type": "scatter",
         "uid": "ba7ee904-fa3a-4489-a42d-bad305f91af7",
         "x": [
          -0.5,
          3.5
         ],
         "xaxis": "x",
         "y": [
          19.5,
          19.5
         ],
         "yaxis": "y"
        },
        {
         "text": [
          [
           "AAA_T",
           "AAC_T",
           "AAG_T",
           "AAT_T"
          ],
          [
           "CAA_T",
           "CAC_T",
           "CAG_T",
           "CAT_T"
          ],
          [
           "GAA_T",
           "GAC_T",
           "GAG_T",
           "GAT_T"
          ],
          [
           "TAA_T",
           "TAC_T",
           "TAG_T",
           "TAT_T"
          ],
          [
           "AAA_C",
           "AAC_C",
           "AAG_C",
           "AAT_C"
          ],
          [
           "CAA_C",
           "CAC_C",
           "CAG_C",
           "CAT_C"
          ],
          [
           "GAA_C",
           "GAC_C",
           "GAG_C",
           "GAT_C"
          ],
          [
           "TAA_C",
           "TAC_C",
           "TAG_C",
           "TAT_C"
          ],
          [
           "AAA_G",
           "AAC_G",
           "AAG_G",
           "AAT_G"
          ],
          [
           "CAA_G",
           "CAC_G",
           "CAG_G",
           "CAT_G"
          ],
          [
           "GAA_G",
           "GAC_G",
           "GAG_G",
           "GAT_G"
          ],
          [
           "TAA_G",
           "TAC_G",
           "TAG_G",
           "TAT_G"
          ],
          [
           "ACA_T",
           "ACC_T",
           "ACG_T",
           "ACT_T"
          ],
          [
           "CCA_T",
           "CCC_T",
           "CCG_T",
           "CCT_T"
          ],
          [
           "GCA_T",
           "GCC_T",
           "GCG_T",
           "GCT_T"
          ],
          [
           "TCA_T",
           "TCC_T",
           "TCG_T",
           "TCT_T"
          ],
          [
           "ACA_G",
           "ACC_G",
           "ACG_G",
           "ACT_G"
          ],
          [
           "CCA_G",
           "CCC_G",
           "CCG_G",
           "CCT_G"
          ],
          [
           "GCA_G",
           "GCC_G",
           "GCG_G",
           "GCT_G"
          ],
          [
           "TCA_G",
           "TCC_G",
           "TCG_G",
           "TCT_G"
          ],
          [
           "ACA_A",
           "ACC_A",
           "ACG_A",
           "ACT_A"
          ],
          [
           "CCA_A",
           "CCC_A",
           "CCG_A",
           "CCT_A"
          ],
          [
           "GCA_A",
           "GCC_A",
           "GCG_A",
           "GCT_A"
          ],
          [
           "TCA_A",
           "TCC_A",
           "TCG_A",
           "TCT_A"
          ]
         ],
         "type": "heatmap",
         "uid": "bd6a3699-9a69-4822-8be3-3f890d665c4d",
         "xaxis": "x2",
         "yaxis": "y2",
         "z": [
          [
           0.9467348544453187,
           1.4493224932249322,
           1.2542213883677298,
           1.397560975609756
          ],
          [
           0.8152439024390243,
           1.0869918699186991,
           0.8152439024390243,
           0.942059620596206
          ],
          [
           0.6423133776792314,
           0.5434959349593496,
           0.9058265582655827,
           1.6304878048780487
          ],
          [
           0.9058265582655827,
           1.0869918699186991,
           0.7764227642276422,
           1.4493224932249322
          ],
          [
           1.0869918699186991,
           1.0033771106941838,
           0.679369918699187,
           0.9317073170731708
          ],
          [
           0.6340785907859079,
           0.9387657058388765,
           0.9387657058388765,
           1.2422764227642276
          ],
          [
           0.7699525745257453,
           2.0532068654019873,
           0.942059620596206,
           0.9881744271988174
          ],
          [
           1.5810790835181079,
           1.9022357723577237,
           0.8695934959349594,
           1.7081300813008131
          ],
          [
           1.0530233739837398,
           1.3285456187895213,
           1.0869918699186991,
           1.5217886178861788
          ],
          [
           1.2542213883677298,
           0.7672883787661406,
           1.0352303523035231,
           0.4940872135994087
          ],
          [
           1.2681571815718158,
           2.3913821138211384,
           0.7764227642276422,
           1.8116531165311653
          ],
          [
           1.413089430894309,
           0.9058265582655827,
           1.0869918699186991,
           1.2542213883677298
          ],
          [
           0.5797289972899728,
           1.0869918699186991,
           0.679369918699187,
           0.698780487804878
          ],
          [
           1.0869918699186991,
           1.0869918699186991,
           1.4493224932249322,
           1.0266034327009936
          ],
          [
           0.9881744271988174,
           1.4214509068167605,
           1.7391869918699188,
           1.1775745257452574
          ],
          [
           1.413089430894309,
           1.2681571815718158,
           0.7246612466124661,
           1.0266034327009936
          ],
          [
           1.2228658536585366,
           0.6689180737961226,
           0.9317073170731708,
           0.6521951219512195
          ],
          [
           1.0352303523035231,
           0.8152439024390243,
           2.1739837398373982,
           0.7608943089430894
          ],
          [
           0.8281842818428184,
           1.0869918699186991,
           0.5434959349593496,
           1.0869918699186991
          ],
          [
           0.6689180737961226,
           0.800941377834831,
           2.1739837398373982,
           1.0266034327009936
          ],
          [
           1.1905149051490516,
           0.9662149954832882,
           0.6038843721770552,
           0.9511178861788618
          ],
          [
           0.9591104734576757,
           1.0190548780487805,
           1.0869918699186991,
           0.7943402126328956
          ],
          [
           0.9511178861788618,
           1.1364005912786401,
           1.0869918699186991,
           0.8361475922451532
          ],
          [
           0.6211382113821138,
           0.5754662840746054,
           0.7246612466124661,
           1.5446726572528884
          ]
         ],
         "zmax": 1.15,
         "zmin": 0.85
        },
        {
         "line": {
          "color": "black",
          "width": 2
         },
         "mode": "lines",
         "showlegend": false,
         "type": "scatter",
         "uid": "16c36723-145a-48a0-a09c-4ec272193740",
         "x": [
          -0.5,
          3.5
         ],
         "xaxis": "x2",
         "y": [
          3.5,
          3.5
         ],
         "yaxis": "y2"
        },
        {
         "line": {
          "color": "black",
          "width": 2
         },
         "mode": "lines",
         "showlegend": false,
         "type": "scatter",
         "uid": "db2e39e8-0e06-4f6e-98b9-60d495b6be1f",
         "x": [
          -0.5,
          3.5
         ],
         "xaxis": "x2",
         "y": [
          7.5,
          7.5
         ],
         "yaxis": "y2"
        },
        {
         "line": {
          "color": "black",
          "width": 2
         },
         "mode": "lines",
         "showlegend": false,
         "type": "scatter",
         "uid": "00ed79cd-dbfd-4ace-98d9-8a66055bdb6f",
         "x": [
          -0.5,
          3.5
         ],
         "xaxis": "x2",
         "y": [
          11.5,
          11.5
         ],
         "yaxis": "y2"
        },
        {
         "line": {
          "color": "black",
          "width": 2
         },
         "mode": "lines",
         "showlegend": false,
         "type": "scatter",
         "uid": "7876743c-af49-4fff-8b94-0716618f40e4",
         "x": [
          -0.5,
          3.5
         ],
         "xaxis": "x2",
         "y": [
          15.5,
          15.5
         ],
         "yaxis": "y2"
        },
        {
         "line": {
          "color": "black",
          "width": 2
         },
         "mode": "lines",
         "showlegend": false,
         "type": "scatter",
         "uid": "0e21d76f-7617-4287-96af-2a56de346fea",
         "x": [
          -0.5,
          3.5
         ],
         "xaxis": "x2",
         "y": [
          19.5,
          19.5
         ],
         "yaxis": "y2"
        },
        {
         "text": [
          [
           "AAA_T",
           "AAC_T",
           "AAG_T",
           "AAT_T"
          ],
          [
           "CAA_T",
           "CAC_T",
           "CAG_T",
           "CAT_T"
          ],
          [
           "GAA_T",
           "GAC_T",
           "GAG_T",
           "GAT_T"
          ],
          [
           "TAA_T",
           "TAC_T",
           "TAG_T",
           "TAT_T"
          ],
          [
           "AAA_C",
           "AAC_C",
           "AAG_C",
           "AAT_C"
          ],
          [
           "CAA_C",
           "CAC_C",
           "CAG_C",
           "CAT_C"
          ],
          [
           "GAA_C",
           "GAC_C",
           "GAG_C",
           "GAT_C"
          ],
          [
           "TAA_C",
           "TAC_C",
           "TAG_C",
           "TAT_C"
          ],
          [
           "AAA_G",
           "AAC_G",
           "AAG_G",
           "AAT_G"
          ],
          [
           "CAA_G",
           "CAC_G",
           "CAG_G",
           "CAT_G"
          ],
          [
           "GAA_G",
           "GAC_G",
           "GAG_G",
           "GAT_G"
          ],
          [
           "TAA_G",
           "TAC_G",
           "TAG_G",
           "TAT_G"
          ],
          [
           "ACA_T",
           "ACC_T",
           "ACG_T",
           "ACT_T"
          ],
          [
           "CCA_T",
           "CCC_T",
           "CCG_T",
           "CCT_T"
          ],
          [
           "GCA_T",
           "GCC_T",
           "GCG_T",
           "GCT_T"
          ],
          [
           "TCA_T",
           "TCC_T",
           "TCG_T",
           "TCT_T"
          ],
          [
           "ACA_G",
           "ACC_G",
           "ACG_G",
           "ACT_G"
          ],
          [
           "CCA_G",
           "CCC_G",
           "CCG_G",
           "CCT_G"
          ],
          [
           "GCA_G",
           "GCC_G",
           "GCG_G",
           "GCT_G"
          ],
          [
           "TCA_G",
           "TCC_G",
           "TCG_G",
           "TCT_G"
          ],
          [
           "ACA_A",
           "ACC_A",
           "ACG_A",
           "ACT_A"
          ],
          [
           "CCA_A",
           "CCC_A",
           "CCG_A",
           "CCT_A"
          ],
          [
           "GCA_A",
           "GCC_A",
           "GCG_A",
           "GCT_A"
          ],
          [
           "TCA_A",
           "TCC_A",
           "TCG_A",
           "TCT_A"
          ]
         ],
         "type": "heatmap",
         "uid": "f19b964f-6db2-4007-9786-a4a81f8fb6b0",
         "xaxis": "x3",
         "yaxis": "y3",
         "z": [
          [
           0.8213389449469336,
           1.7455879704664146,
           1.0001246727340731,
           1.470421393841167
          ],
          [
           0.8126012965964343,
           1.0834683954619124,
           1.2189019448946516,
           0.7584278768233388
          ],
          [
           0.7141041697362605,
           0.722312263641275,
           1.1436610840986854,
           1.1737574284170718
          ],
          [
           0.9480348460291734,
           1.8057806591031875,
           0.8512965964343598,
           1.3994800108049703
          ],
          [
           0.9286871961102107,
           0.875109088642314,
           1.015751620745543,
           0.7739059967585089
          ],
          [
           1.44462452728255,
           0.7141041697362605,
           0.7879770148813909,
           1.0834683954619124
          ],
          [
           0.6997400054024852,
           1.0834683954619124,
           0.86677471636953,
           0.8864741417415648
          ],
          [
           1.1327169588919994,
           1.6252025931928686,
           1.0834683954619124,
           1.7799837925445705
          ],
          [
           0.9649640397082658,
           1.565009904556096,
           0.8512965964343598,
           1.73354943273906
          ],
          [
           1.5001870091011096,
           1.210935265516255,
           1.0060777957860616,
           0.7633527331663474
          ],
          [
           0.8577458130740141,
           1.73354943273906,
           0.748109130199892,
           1.8057806591031875
          ],
          [
           1.3543354943273906,
           1.0834683954619124,
           0.722312263641275,
           1.0001246727340731
          ],
          [
           0.9390059427336575,
           1.0342198320318257,
           0.6094509724473258,
           0.8126012965964343
          ],
          [
           0.9421464308364457,
           1.324239150009004,
           2.166936790923825,
           1.1436610840986854
          ],
          [
           0.9357227051716517,
           0.9167809500062336,
           1.300162074554295,
           1.0834683954619124
          ],
          [
           2.2211102106969207,
           1.44462452728255,
           1.2640464613722313,
           0.9931793625067531
          ],
          [
           1.0496100081037276,
           0.583406059094876,
           0.5417341977309562,
           0.6229943273905997
          ],
          [
           1.0060777957860616,
           1.1173267828200972,
           2.7086709886547813,
           0.9480348460291734
          ],
          [
           0.644921663965424,
           1.291827702281511,
           0.9480348460291734,
           0.7966679378396415
          ],
          [
           0.9584528113701534,
           0.9409067644800819,
           3.7921393841166937,
           0.8727939852332073
          ],
          [
           0.9802809292274446,
           1.0834683954619124,
           0.24077075454709165,
           0.8803180713128039
          ],
          [
           1.1790685480026695,
           1.151185170178282,
           0.7584278768233388,
           0.8959450193242737
          ],
          [
           1.151185170178282,
           0.8372255783114778,
           0.86677471636953,
           0.9167809500062336
          ],
          [
           0.722312263641275,
           0.7966679378396415,
           1.0834683954619124,
           1.3685916574255736
          ]
         ],
         "zmax": 1.15,
         "zmin": 0.85
        },
        {
         "line": {
          "color": "black",
          "width": 2
         },
         "mode": "lines",
         "showlegend": false,
         "type": "scatter",
         "uid": "32830a81-ffda-4bf4-ba21-2464b66a89aa",
         "x": [
          -0.5,
          3.5
         ],
         "xaxis": "x3",
         "y": [
          3.5,
          3.5
         ],
         "yaxis": "y3"
        },
        {
         "line": {
          "color": "black",
          "width": 2
         },
         "mode": "lines",
         "showlegend": false,
         "type": "scatter",
         "uid": "d63662ee-2e7d-4ff1-bc6f-bed5082d729b",
         "x": [
          -0.5,
          3.5
         ],
         "xaxis": "x3",
         "y": [
          7.5,
          7.5
         ],
         "yaxis": "y3"
        },
        {
         "line": {
          "color": "black",
          "width": 2
         },
         "mode": "lines",
         "showlegend": false,
         "type": "scatter",
         "uid": "8f3e4174-8bb1-4c63-b507-f03a70b11214",
         "x": [
          -0.5,
          3.5
         ],
         "xaxis": "x3",
         "y": [
          11.5,
          11.5
         ],
         "yaxis": "y3"
        },
        {
         "line": {
          "color": "black",
          "width": 2
         },
         "mode": "lines",
         "showlegend": false,
         "type": "scatter",
         "uid": "c2c7dd77-d230-4a5e-9821-22d33bd7cede",
         "x": [
          -0.5,
          3.5
         ],
         "xaxis": "x3",
         "y": [
          15.5,
          15.5
         ],
         "yaxis": "y3"
        },
        {
         "line": {
          "color": "black",
          "width": 2
         },
         "mode": "lines",
         "showlegend": false,
         "type": "scatter",
         "uid": "e090f654-1ae5-454f-82cf-717eb89bc8f0",
         "x": [
          -0.5,
          3.5
         ],
         "xaxis": "x3",
         "y": [
          19.5,
          19.5
         ],
         "yaxis": "y3"
        }
       ],
       "layout": {
        "annotations": [
         {
          "font": {
           "size": 16
          },
          "showarrow": false,
          "text": "EA-EA",
          "x": 0.14444444444444446,
          "xanchor": "center",
          "xref": "paper",
          "y": 1,
          "yanchor": "bottom",
          "yref": "paper"
         },
         {
          "font": {
           "size": 16
          },
          "showarrow": false,
          "text": "EA-Eu",
          "x": 0.5,
          "xanchor": "center",
          "xref": "paper",
          "y": 1,
          "yanchor": "bottom",
          "yref": "paper"
         },
         {
          "font": {
           "size": 16
          },
          "showarrow": false,
          "text": "EA-Af",
          "x": 0.8555555555555556,
          "xanchor": "center",
          "xref": "paper",
          "y": 1,
          "yanchor": "bottom",
          "yref": "paper"
         }
        ],
        "height": 550,
        "title": {
         "text": " Chromosome 1 p < 1.0e-05"
        },
        "width": 900,
        "xaxis": {
         "anchor": "y",
         "domain": [
          0,
          0.2888888888888889
         ],
         "title": {
          "text": "A\t\t\t\t\t\t\t\tC\t\t\t\t\t\t\t\tG\t\t\t\t\t\t\t\tT"
         }
        },
        "xaxis2": {
         "anchor": "y2",
         "domain": [
          0.35555555555555557,
          0.6444444444444445
         ],
         "title": {
          "text": "A\t\t\t\t\t\t\t\tC\t\t\t\t\t\t\t\tG\t\t\t\t\t\t\t\tT"
         }
        },
        "xaxis3": {
         "anchor": "y3",
         "domain": [
          0.7111111111111111,
          1
         ],
         "title": {
          "text": "A\t\t\t\t\t\t\t\tC\t\t\t\t\t\t\t\tG\t\t\t\t\t\t\t\tT"
         }
        },
        "yaxis": {
         "anchor": "x",
         "domain": [
          0,
          1
         ],
         "range": [
          -0.5,
          24
         ],
         "title": {
          "text": "A-T\t\t\t\t\t\tA-C\t\t\t\t\t\tA-G\t\t\t\t\t\tC-T\t\t\t\t\t\tC-G\t\t\t\t\t\tC-A"
         }
        },
        "yaxis2": {
         "anchor": "x2",
         "domain": [
          0,
          1
         ]
        },
        "yaxis3": {
         "anchor": "x3",
         "domain": [
          0,
          1
         ]
        }
       }
      },
      "text/html": [
       "<div>\n",
       "        \n",
       "        \n",
       "            <div id=\"273de098-3d58-4525-a86b-350ec64f95bb\" class=\"plotly-graph-div\" style=\"height:550px; width:900px;\"></div>\n",
       "            <script type=\"text/javascript\">\n",
       "                require([\"plotly\"], function(Plotly) {\n",
       "                    window.PLOTLYENV=window.PLOTLYENV || {};\n",
       "                    window.PLOTLYENV.BASE_URL='https://plot.ly';\n",
       "                    \n",
       "                if (document.getElementById(\"273de098-3d58-4525-a86b-350ec64f95bb\")) {\n",
       "                    Plotly.newPlot(\n",
       "                        '273de098-3d58-4525-a86b-350ec64f95bb',\n",
       "                        [{\"text\": [[\"AAA_T\", \"AAC_T\", \"AAG_T\", \"AAT_T\"], [\"CAA_T\", \"CAC_T\", \"CAG_T\", \"CAT_T\"], [\"GAA_T\", \"GAC_T\", \"GAG_T\", \"GAT_T\"], [\"TAA_T\", \"TAC_T\", \"TAG_T\", \"TAT_T\"], [\"AAA_C\", \"AAC_C\", \"AAG_C\", \"AAT_C\"], [\"CAA_C\", \"CAC_C\", \"CAG_C\", \"CAT_C\"], [\"GAA_C\", \"GAC_C\", \"GAG_C\", \"GAT_C\"], [\"TAA_C\", \"TAC_C\", \"TAG_C\", \"TAT_C\"], [\"AAA_G\", \"AAC_G\", \"AAG_G\", \"AAT_G\"], [\"CAA_G\", \"CAC_G\", \"CAG_G\", \"CAT_G\"], [\"GAA_G\", \"GAC_G\", \"GAG_G\", \"GAT_G\"], [\"TAA_G\", \"TAC_G\", \"TAG_G\", \"TAT_G\"], [\"ACA_T\", \"ACC_T\", \"ACG_T\", \"ACT_T\"], [\"CCA_T\", \"CCC_T\", \"CCG_T\", \"CCT_T\"], [\"GCA_T\", \"GCC_T\", \"GCG_T\", \"GCT_T\"], [\"TCA_T\", \"TCC_T\", \"TCG_T\", \"TCT_T\"], [\"ACA_G\", \"ACC_G\", \"ACG_G\", \"ACT_G\"], [\"CCA_G\", \"CCC_G\", \"CCG_G\", \"CCT_G\"], [\"GCA_G\", \"GCC_G\", \"GCG_G\", \"GCT_G\"], [\"TCA_G\", \"TCC_G\", \"TCG_G\", \"TCT_G\"], [\"ACA_A\", \"ACC_A\", \"ACG_A\", \"ACT_A\"], [\"CCA_A\", \"CCC_A\", \"CCG_A\", \"CCT_A\"], [\"GCA_A\", \"GCC_A\", \"GCG_A\", \"GCT_A\"], [\"TCA_A\", \"TCC_A\", \"TCG_A\", \"TCT_A\"]], \"type\": \"heatmap\", \"uid\": \"5c24c10b-dad3-477c-9156-dff2f345e848\", \"xaxis\": \"x\", \"yaxis\": \"y\", \"z\": [[1.0, 1.0, 1.0, 1.0], [1.0, 1.0, 1.0, 1.0], [1.0, 1.0, 1.0, 1.0], [1.0, 1.0, 1.0, 1.0], [1.0, 1.0, 1.0, 1.0], [1.0, 1.0, 1.0, 1.0], [1.0, 1.0, 1.0, 1.0], [1.0, 1.0, 1.0, 1.0], [1.0, 1.0, 1.0, 1.0], [1.0, 1.0, 1.0, 1.0], [1.0, 1.0, 1.0, 1.0], [1.0, 1.0, 1.0, 1.0], [1.0, 1.0, 1.0, 1.0], [1.0, 1.0, 1.0, 1.0], [1.0, 1.0, 1.0, 1.0], [1.0, 1.0, 1.0, 1.0], [1.0, 1.0, 1.0, 1.0], [1.0, 1.0, 1.0, 1.0], [1.0, 1.0, 1.0, 1.0], [1.0, 1.0, 1.0, 1.0], [1.0, 1.0, 1.0, 1.0], [1.0, 1.0, 1.0, 1.0], [1.0, 1.0, 1.0, 1.0], [1.0, 1.0, 1.0, 1.0]], \"zmax\": 1.15, \"zmin\": 0.85}, {\"line\": {\"color\": \"black\", \"width\": 2}, \"mode\": \"lines\", \"showlegend\": false, \"type\": \"scatter\", \"uid\": \"036e5b16-6290-4f13-a5af-a7c87f79d6cb\", \"x\": [-0.5, 3.5], \"xaxis\": \"x\", \"y\": [3.5, 3.5], \"yaxis\": \"y\"}, {\"line\": {\"color\": \"black\", \"width\": 2}, \"mode\": \"lines\", \"showlegend\": false, \"type\": \"scatter\", \"uid\": \"38788101-6d93-4461-b75f-01ebd598dbb2\", \"x\": [-0.5, 3.5], \"xaxis\": \"x\", \"y\": [7.5, 7.5], \"yaxis\": \"y\"}, {\"line\": {\"color\": \"black\", \"width\": 2}, \"mode\": \"lines\", \"showlegend\": false, \"type\": \"scatter\", \"uid\": \"576dd96b-c342-430c-b9d8-62fba3cc2582\", \"x\": [-0.5, 3.5], \"xaxis\": \"x\", \"y\": [11.5, 11.5], \"yaxis\": \"y\"}, {\"line\": {\"color\": \"black\", \"width\": 2}, \"mode\": \"lines\", \"showlegend\": false, \"type\": \"scatter\", \"uid\": \"2915c058-b5be-4202-a921-46a6e6d2fb6e\", \"x\": [-0.5, 3.5], \"xaxis\": \"x\", \"y\": [15.5, 15.5], \"yaxis\": \"y\"}, {\"line\": {\"color\": \"black\", \"width\": 2}, \"mode\": \"lines\", \"showlegend\": false, \"type\": \"scatter\", \"uid\": \"ba7ee904-fa3a-4489-a42d-bad305f91af7\", \"x\": [-0.5, 3.5], \"xaxis\": \"x\", \"y\": [19.5, 19.5], \"yaxis\": \"y\"}, {\"text\": [[\"AAA_T\", \"AAC_T\", \"AAG_T\", \"AAT_T\"], [\"CAA_T\", \"CAC_T\", \"CAG_T\", \"CAT_T\"], [\"GAA_T\", \"GAC_T\", \"GAG_T\", \"GAT_T\"], [\"TAA_T\", \"TAC_T\", \"TAG_T\", \"TAT_T\"], [\"AAA_C\", \"AAC_C\", \"AAG_C\", \"AAT_C\"], [\"CAA_C\", \"CAC_C\", \"CAG_C\", \"CAT_C\"], [\"GAA_C\", \"GAC_C\", \"GAG_C\", \"GAT_C\"], [\"TAA_C\", \"TAC_C\", \"TAG_C\", \"TAT_C\"], [\"AAA_G\", \"AAC_G\", \"AAG_G\", \"AAT_G\"], [\"CAA_G\", \"CAC_G\", \"CAG_G\", \"CAT_G\"], [\"GAA_G\", \"GAC_G\", \"GAG_G\", \"GAT_G\"], [\"TAA_G\", \"TAC_G\", \"TAG_G\", \"TAT_G\"], [\"ACA_T\", \"ACC_T\", \"ACG_T\", \"ACT_T\"], [\"CCA_T\", \"CCC_T\", \"CCG_T\", \"CCT_T\"], [\"GCA_T\", \"GCC_T\", \"GCG_T\", \"GCT_T\"], [\"TCA_T\", \"TCC_T\", \"TCG_T\", \"TCT_T\"], [\"ACA_G\", \"ACC_G\", \"ACG_G\", \"ACT_G\"], [\"CCA_G\", \"CCC_G\", \"CCG_G\", \"CCT_G\"], [\"GCA_G\", \"GCC_G\", \"GCG_G\", \"GCT_G\"], [\"TCA_G\", \"TCC_G\", \"TCG_G\", \"TCT_G\"], [\"ACA_A\", \"ACC_A\", \"ACG_A\", \"ACT_A\"], [\"CCA_A\", \"CCC_A\", \"CCG_A\", \"CCT_A\"], [\"GCA_A\", \"GCC_A\", \"GCG_A\", \"GCT_A\"], [\"TCA_A\", \"TCC_A\", \"TCG_A\", \"TCT_A\"]], \"type\": \"heatmap\", \"uid\": \"bd6a3699-9a69-4822-8be3-3f890d665c4d\", \"xaxis\": \"x2\", \"yaxis\": \"y2\", \"z\": [[0.9467348544453187, 1.4493224932249322, 1.2542213883677298, 1.397560975609756], [0.8152439024390243, 1.0869918699186991, 0.8152439024390243, 0.942059620596206], [0.6423133776792314, 0.5434959349593496, 0.9058265582655827, 1.6304878048780487], [0.9058265582655827, 1.0869918699186991, 0.7764227642276422, 1.4493224932249322], [1.0869918699186991, 1.0033771106941838, 0.679369918699187, 0.9317073170731708], [0.6340785907859079, 0.9387657058388765, 0.9387657058388765, 1.2422764227642276], [0.7699525745257453, 2.0532068654019873, 0.942059620596206, 0.9881744271988174], [1.5810790835181079, 1.9022357723577237, 0.8695934959349594, 1.7081300813008131], [1.0530233739837398, 1.3285456187895213, 1.0869918699186991, 1.5217886178861788], [1.2542213883677298, 0.7672883787661406, 1.0352303523035231, 0.4940872135994087], [1.2681571815718158, 2.3913821138211384, 0.7764227642276422, 1.8116531165311653], [1.413089430894309, 0.9058265582655827, 1.0869918699186991, 1.2542213883677298], [0.5797289972899728, 1.0869918699186991, 0.679369918699187, 0.698780487804878], [1.0869918699186991, 1.0869918699186991, 1.4493224932249322, 1.0266034327009936], [0.9881744271988174, 1.4214509068167605, 1.7391869918699188, 1.1775745257452574], [1.413089430894309, 1.2681571815718158, 0.7246612466124661, 1.0266034327009936], [1.2228658536585366, 0.6689180737961226, 0.9317073170731708, 0.6521951219512195], [1.0352303523035231, 0.8152439024390243, 2.1739837398373982, 0.7608943089430894], [0.8281842818428184, 1.0869918699186991, 0.5434959349593496, 1.0869918699186991], [0.6689180737961226, 0.800941377834831, 2.1739837398373982, 1.0266034327009936], [1.1905149051490516, 0.9662149954832882, 0.6038843721770552, 0.9511178861788618], [0.9591104734576757, 1.0190548780487805, 1.0869918699186991, 0.7943402126328956], [0.9511178861788618, 1.1364005912786401, 1.0869918699186991, 0.8361475922451532], [0.6211382113821138, 0.5754662840746054, 0.7246612466124661, 1.5446726572528884]], \"zmax\": 1.15, \"zmin\": 0.85}, {\"line\": {\"color\": \"black\", \"width\": 2}, \"mode\": \"lines\", \"showlegend\": false, \"type\": \"scatter\", \"uid\": \"16c36723-145a-48a0-a09c-4ec272193740\", \"x\": [-0.5, 3.5], \"xaxis\": \"x2\", \"y\": [3.5, 3.5], \"yaxis\": \"y2\"}, {\"line\": {\"color\": \"black\", \"width\": 2}, \"mode\": \"lines\", \"showlegend\": false, \"type\": \"scatter\", \"uid\": \"db2e39e8-0e06-4f6e-98b9-60d495b6be1f\", \"x\": [-0.5, 3.5], \"xaxis\": \"x2\", \"y\": [7.5, 7.5], \"yaxis\": \"y2\"}, {\"line\": {\"color\": \"black\", \"width\": 2}, \"mode\": \"lines\", \"showlegend\": false, \"type\": \"scatter\", \"uid\": \"00ed79cd-dbfd-4ace-98d9-8a66055bdb6f\", \"x\": [-0.5, 3.5], \"xaxis\": \"x2\", \"y\": [11.5, 11.5], \"yaxis\": \"y2\"}, {\"line\": {\"color\": \"black\", \"width\": 2}, \"mode\": \"lines\", \"showlegend\": false, \"type\": \"scatter\", \"uid\": \"7876743c-af49-4fff-8b94-0716618f40e4\", \"x\": [-0.5, 3.5], \"xaxis\": \"x2\", \"y\": [15.5, 15.5], \"yaxis\": \"y2\"}, {\"line\": {\"color\": \"black\", \"width\": 2}, \"mode\": \"lines\", \"showlegend\": false, \"type\": \"scatter\", \"uid\": \"0e21d76f-7617-4287-96af-2a56de346fea\", \"x\": [-0.5, 3.5], \"xaxis\": \"x2\", \"y\": [19.5, 19.5], \"yaxis\": \"y2\"}, {\"text\": [[\"AAA_T\", \"AAC_T\", \"AAG_T\", \"AAT_T\"], [\"CAA_T\", \"CAC_T\", \"CAG_T\", \"CAT_T\"], [\"GAA_T\", \"GAC_T\", \"GAG_T\", \"GAT_T\"], [\"TAA_T\", \"TAC_T\", \"TAG_T\", \"TAT_T\"], [\"AAA_C\", \"AAC_C\", \"AAG_C\", \"AAT_C\"], [\"CAA_C\", \"CAC_C\", \"CAG_C\", \"CAT_C\"], [\"GAA_C\", \"GAC_C\", \"GAG_C\", \"GAT_C\"], [\"TAA_C\", \"TAC_C\", \"TAG_C\", \"TAT_C\"], [\"AAA_G\", \"AAC_G\", \"AAG_G\", \"AAT_G\"], [\"CAA_G\", \"CAC_G\", \"CAG_G\", \"CAT_G\"], [\"GAA_G\", \"GAC_G\", \"GAG_G\", \"GAT_G\"], [\"TAA_G\", \"TAC_G\", \"TAG_G\", \"TAT_G\"], [\"ACA_T\", \"ACC_T\", \"ACG_T\", \"ACT_T\"], [\"CCA_T\", \"CCC_T\", \"CCG_T\", \"CCT_T\"], [\"GCA_T\", \"GCC_T\", \"GCG_T\", \"GCT_T\"], [\"TCA_T\", \"TCC_T\", \"TCG_T\", \"TCT_T\"], [\"ACA_G\", \"ACC_G\", \"ACG_G\", \"ACT_G\"], [\"CCA_G\", \"CCC_G\", \"CCG_G\", \"CCT_G\"], [\"GCA_G\", \"GCC_G\", \"GCG_G\", \"GCT_G\"], [\"TCA_G\", \"TCC_G\", \"TCG_G\", \"TCT_G\"], [\"ACA_A\", \"ACC_A\", \"ACG_A\", \"ACT_A\"], [\"CCA_A\", \"CCC_A\", \"CCG_A\", \"CCT_A\"], [\"GCA_A\", \"GCC_A\", \"GCG_A\", \"GCT_A\"], [\"TCA_A\", \"TCC_A\", \"TCG_A\", \"TCT_A\"]], \"type\": \"heatmap\", \"uid\": \"f19b964f-6db2-4007-9786-a4a81f8fb6b0\", \"xaxis\": \"x3\", \"yaxis\": \"y3\", \"z\": [[0.8213389449469336, 1.7455879704664146, 1.0001246727340731, 1.470421393841167], [0.8126012965964343, 1.0834683954619124, 1.2189019448946516, 0.7584278768233388], [0.7141041697362605, 0.722312263641275, 1.1436610840986854, 1.1737574284170718], [0.9480348460291734, 1.8057806591031875, 0.8512965964343598, 1.3994800108049703], [0.9286871961102107, 0.875109088642314, 1.015751620745543, 0.7739059967585089], [1.44462452728255, 0.7141041697362605, 0.7879770148813909, 1.0834683954619124], [0.6997400054024852, 1.0834683954619124, 0.86677471636953, 0.8864741417415648], [1.1327169588919994, 1.6252025931928686, 1.0834683954619124, 1.7799837925445705], [0.9649640397082658, 1.565009904556096, 0.8512965964343598, 1.73354943273906], [1.5001870091011096, 1.210935265516255, 1.0060777957860616, 0.7633527331663474], [0.8577458130740141, 1.73354943273906, 0.748109130199892, 1.8057806591031875], [1.3543354943273906, 1.0834683954619124, 0.722312263641275, 1.0001246727340731], [0.9390059427336575, 1.0342198320318257, 0.6094509724473258, 0.8126012965964343], [0.9421464308364457, 1.324239150009004, 2.166936790923825, 1.1436610840986854], [0.9357227051716517, 0.9167809500062336, 1.300162074554295, 1.0834683954619124], [2.2211102106969207, 1.44462452728255, 1.2640464613722313, 0.9931793625067531], [1.0496100081037276, 0.583406059094876, 0.5417341977309562, 0.6229943273905997], [1.0060777957860616, 1.1173267828200972, 2.7086709886547813, 0.9480348460291734], [0.644921663965424, 1.291827702281511, 0.9480348460291734, 0.7966679378396415], [0.9584528113701534, 0.9409067644800819, 3.7921393841166937, 0.8727939852332073], [0.9802809292274446, 1.0834683954619124, 0.24077075454709165, 0.8803180713128039], [1.1790685480026695, 1.151185170178282, 0.7584278768233388, 0.8959450193242737], [1.151185170178282, 0.8372255783114778, 0.86677471636953, 0.9167809500062336], [0.722312263641275, 0.7966679378396415, 1.0834683954619124, 1.3685916574255736]], \"zmax\": 1.15, \"zmin\": 0.85}, {\"line\": {\"color\": \"black\", \"width\": 2}, \"mode\": \"lines\", \"showlegend\": false, \"type\": \"scatter\", \"uid\": \"32830a81-ffda-4bf4-ba21-2464b66a89aa\", \"x\": [-0.5, 3.5], \"xaxis\": \"x3\", \"y\": [3.5, 3.5], \"yaxis\": \"y3\"}, {\"line\": {\"color\": \"black\", \"width\": 2}, \"mode\": \"lines\", \"showlegend\": false, \"type\": \"scatter\", \"uid\": \"d63662ee-2e7d-4ff1-bc6f-bed5082d729b\", \"x\": [-0.5, 3.5], \"xaxis\": \"x3\", \"y\": [7.5, 7.5], \"yaxis\": \"y3\"}, {\"line\": {\"color\": \"black\", \"width\": 2}, \"mode\": \"lines\", \"showlegend\": false, \"type\": \"scatter\", \"uid\": \"8f3e4174-8bb1-4c63-b507-f03a70b11214\", \"x\": [-0.5, 3.5], \"xaxis\": \"x3\", \"y\": [11.5, 11.5], \"yaxis\": \"y3\"}, {\"line\": {\"color\": \"black\", \"width\": 2}, \"mode\": \"lines\", \"showlegend\": false, \"type\": \"scatter\", \"uid\": \"c2c7dd77-d230-4a5e-9821-22d33bd7cede\", \"x\": [-0.5, 3.5], \"xaxis\": \"x3\", \"y\": [15.5, 15.5], \"yaxis\": \"y3\"}, {\"line\": {\"color\": \"black\", \"width\": 2}, \"mode\": \"lines\", \"showlegend\": false, \"type\": \"scatter\", \"uid\": \"e090f654-1ae5-454f-82cf-717eb89bc8f0\", \"x\": [-0.5, 3.5], \"xaxis\": \"x3\", \"y\": [19.5, 19.5], \"yaxis\": \"y3\"}],\n",
       "                        {\"annotations\": [{\"font\": {\"size\": 16}, \"showarrow\": false, \"text\": \"EA-EA\", \"x\": 0.14444444444444446, \"xanchor\": \"center\", \"xref\": \"paper\", \"y\": 1.0, \"yanchor\": \"bottom\", \"yref\": \"paper\"}, {\"font\": {\"size\": 16}, \"showarrow\": false, \"text\": \"EA-Eu\", \"x\": 0.5, \"xanchor\": \"center\", \"xref\": \"paper\", \"y\": 1.0, \"yanchor\": \"bottom\", \"yref\": \"paper\"}, {\"font\": {\"size\": 16}, \"showarrow\": false, \"text\": \"EA-Af\", \"x\": 0.8555555555555556, \"xanchor\": \"center\", \"xref\": \"paper\", \"y\": 1.0, \"yanchor\": \"bottom\", \"yref\": \"paper\"}], \"height\": 550, \"title\": {\"text\": \" Chromosome 1 p < 1.0e-05\"}, \"width\": 900, \"xaxis\": {\"anchor\": \"y\", \"domain\": [0.0, 0.2888888888888889], \"title\": {\"text\": \"A\\t\\t\\t\\t\\t\\t\\t\\tC\\t\\t\\t\\t\\t\\t\\t\\tG\\t\\t\\t\\t\\t\\t\\t\\tT\"}}, \"xaxis2\": {\"anchor\": \"y2\", \"domain\": [0.35555555555555557, 0.6444444444444445], \"title\": {\"text\": \"A\\t\\t\\t\\t\\t\\t\\t\\tC\\t\\t\\t\\t\\t\\t\\t\\tG\\t\\t\\t\\t\\t\\t\\t\\tT\"}}, \"xaxis3\": {\"anchor\": \"y3\", \"domain\": [0.7111111111111111, 1.0], \"title\": {\"text\": \"A\\t\\t\\t\\t\\t\\t\\t\\tC\\t\\t\\t\\t\\t\\t\\t\\tG\\t\\t\\t\\t\\t\\t\\t\\tT\"}}, \"yaxis\": {\"anchor\": \"x\", \"domain\": [0.0, 1.0], \"range\": [-0.5, 24], \"title\": {\"text\": \"A-T\\t\\t\\t\\t\\t\\tA-C\\t\\t\\t\\t\\t\\tA-G\\t\\t\\t\\t\\t\\tC-T\\t\\t\\t\\t\\t\\tC-G\\t\\t\\t\\t\\t\\tC-A\"}}, \"yaxis2\": {\"anchor\": \"x2\", \"domain\": [0.0, 1.0]}, \"yaxis3\": {\"anchor\": \"x3\", \"domain\": [0.0, 1.0]}},\n",
       "                        {\"showLink\": false, \"linkText\": \"Export to plot.ly\", \"plotlyServerURL\": \"https://plot.ly\", \"responsive\": true}\n",
       "                    ).then(function(){\n",
       "                            \n",
       "var gd = document.getElementById('273de098-3d58-4525-a86b-350ec64f95bb');\n",
       "var x = new MutationObserver(function (mutations, observer) {{\n",
       "        var display = window.getComputedStyle(gd).display;\n",
       "        if (!display || display === 'none') {{\n",
       "            console.log([gd, 'removed!']);\n",
       "            Plotly.purge(gd);\n",
       "            observer.disconnect();\n",
       "        }}\n",
       "}});\n",
       "\n",
       "// Listen for the removal of the full notebook cells\n",
       "var notebookContainer = gd.closest('#notebook-container');\n",
       "if (notebookContainer) {{\n",
       "    x.observe(notebookContainer, {childList: true});\n",
       "}}\n",
       "\n",
       "// Listen for the clearing of the current output cell\n",
       "var outputEl = gd.closest('.output');\n",
       "if (outputEl) {{\n",
       "    x.observe(outputEl, {childList: true});\n",
       "}}\n",
       "\n",
       "                        })\n",
       "                };\n",
       "                });\n",
       "            </script>\n",
       "        </div>"
      ]
     },
     "metadata": {},
     "output_type": "display_data"
    }
   ],
   "source": [
    "from plotly.subplots import make_subplots\n",
    "from plotly import tools\n",
    "\n",
    "titles= pop_pair_names\n",
    "\n",
    "Ncols= 3\n",
    "Nrows= int(len(titles) / float(Ncols)) + (len(titles) % Ncols > 0)\n",
    "\n",
    "fig_subplots = tools.make_subplots(rows= Nrows, cols=Ncols,\n",
    "                             subplot_titles=tuple(titles))\n",
    "\n",
    "#####\n",
    "for gp in range(len(titles)):\n",
    "\n",
    "    pos1= int(float(gp) / Ncols) + 1\n",
    "    pos2= gp - (pos1-1)*Ncols + 1\n",
    "\n",
    "    title= titles[gp]\n",
    "    \n",
    "    ####\n",
    "    sig_idx= gp\n",
    "    fig = [go.Heatmap(\n",
    "        z= [list(x) for x in ratio_grids[sig_idx]],\n",
    "        zmin= 0.85,\n",
    "        zmax= 1.15,\n",
    "        text= labels,\n",
    "        type = 'heatmap'\n",
    "    )]\n",
    "\n",
    "    sig_fig= significant_indices[sig_idx]\n",
    "\n",
    "\n",
    "    if sum([len(x) for x in sig_fig]):\n",
    "\n",
    "        fig.append(go.Scatter(x= [int(x) for x in sig_fig[0]], y= [int(x) for x in sig_fig[1]],\n",
    "         mode='markers',line =dict(color='white',width=3),showlegend= False))\n",
    "    \n",
    "    for line in range(1,6):\n",
    "        fig.append(go.Scatter(x= [-.5,3.5], y= [-.5 + 4 * line] * 2,\n",
    "             mode='lines',line =dict(color='black',width=2),showlegend= False))\n",
    "    \n",
    "    ####\n",
    "\n",
    "    for trace1 in fig:\n",
    "        \n",
    "        fig_subplots.append_trace(trace1, pos1, pos2)\n",
    "    \n",
    "    if pos2 == 1:\n",
    "        fig_subplots.update_yaxes(range=[-.5, 24], row=pos1, col=pos2,\n",
    "                                  title= 'A-T{}A-C{}A-G{}C-T{}C-G{}C-A'.format(*['\\t'*6]*5))\n",
    "    \n",
    "    fig_subplots.update_xaxes(title= 'A{}C{}G{}T'.format(*['\\t'*8]*3))\n",
    "\n",
    "\n",
    "layout= go.Layout(\n",
    "        xaxis=dict(range=[1.5, 4.5]),\n",
    "        yaxis=dict(range=[1.5, 4.5])\n",
    ")\n",
    "\n",
    "fig= go.Figure(data=fig_subplots, layout=layout)\n",
    "fig[\"layout\"].update(yaxis=dict(range=[-.5,24]))\n",
    "fig['layout'].update(height= Nrows * 550,width= 900)\n",
    "fig['layout'].update(title= plot_title)\n",
    "iplot(fig)"
   ]
  },
  {
   "cell_type": "markdown",
   "metadata": {},
   "source": [
    "**Fig. Heatmap** Chi squared test of kmer counts between 1 population versus all others. Population, frequency range, and significance threshold on individual p-values determined in section **Analysis parameters and input** at the top of the page. "
   ]
  },
  {
   "cell_type": "code",
   "execution_count": null,
   "metadata": {},
   "outputs": [],
   "source": []
  }
 ],
 "metadata": {
  "kernelspec": {
   "display_name": "Python 3",
   "language": "python",
   "name": "python3"
  },
  "language_info": {
   "codemirror_mode": {
    "name": "ipython",
    "version": 3
   },
   "file_extension": ".py",
   "mimetype": "text/x-python",
   "name": "python",
   "nbconvert_exporter": "python",
   "pygments_lexer": "ipython3",
   "version": "3.7.3"
  }
 },
 "nbformat": 4,
 "nbformat_minor": 2
}
