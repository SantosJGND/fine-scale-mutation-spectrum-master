{
 "cells": [
  {
   "cell_type": "code",
   "execution_count": 10,
   "metadata": {},
   "outputs": [
    {
     "data": {
      "text/html": [
       "        <script type=\"text/javascript\">\n",
       "        window.PlotlyConfig = {MathJaxConfig: 'local'};\n",
       "        if (window.MathJax) {MathJax.Hub.Config({SVG: {font: \"STIX-Web\"}});}\n",
       "        if (typeof require !== 'undefined') {\n",
       "        require.undef(\"plotly\");\n",
       "        requirejs.config({\n",
       "            paths: {\n",
       "                'plotly': ['https://cdn.plot.ly/plotly-latest.min']\n",
       "            }\n",
       "        });\n",
       "        require(['plotly'], function(Plotly) {\n",
       "            window._Plotly = Plotly;\n",
       "        });\n",
       "        }\n",
       "        </script>\n",
       "        "
      ]
     },
     "metadata": {},
     "output_type": "display_data"
    }
   ],
   "source": [
    "import sys\n",
    "import argparse\n",
    "import numpy as np\n",
    "from scipy.stats import chi2_contingency\n",
    "from itertools import product\n",
    "import itertools as it\n",
    "\n",
    "from _plotly_future_ import v4_subplots\n",
    "import plotly.graph_objs as go\n",
    "from plotly.offline import download_plotlyjs, init_notebook_mode, plot, iplot\n",
    "from plotly.graph_objs import *\n",
    "\n",
    "from ipywidgets import interact, interactive, fixed, interact_manual\n",
    "import ipywidgets as widgets\n",
    "init_notebook_mode(connected=True)\n",
    "    \n",
    "from datetime import datetime\n",
    "import tempfile\n",
    "import os\n",
    "import gzip \n",
    "import subprocess\n"
   ]
  },
  {
   "cell_type": "markdown",
   "metadata": {},
   "source": [
    "## Sim pipeline\n"
   ]
  },
  {
   "cell_type": "code",
   "execution_count": 11,
   "metadata": {},
   "outputs": [],
   "source": [
    "from tools.SLiM_pipe_tools import (\n",
    "    read_chrom_sizes, region_sample, region_samplev2,\n",
    "    fasta_RextractUnif, return_seqs, write_fastaEx, \n",
    "    process_recipe, SLiM_dispenserv1, \n",
    ")"
   ]
  },
  {
   "cell_type": "markdown",
   "metadata": {},
   "source": [
    ">  Establish directories"
   ]
  },
  {
   "cell_type": "code",
   "execution_count": 3,
   "metadata": {},
   "outputs": [],
   "source": [
    "## directories\n",
    "main_dir= '/mnt/d/GitHub/fine-scale-mutation-spectrum-master/slim_pipe/'\n",
    "slim_dir= '/mnt/d/GitHub/fine-scale-mutation-spectrum-master/slim_pipe/'\n",
    "fastas_dir= '/mnt/d/GitHub/fine-scale-mutation-spectrum-master/slim_pipe/Fastas/'\n",
    "##\n",
    "\n",
    "dir_data= main_dir + 'mutation_counter/data/sims/'\n",
    "count_dir= main_dir + 'mutation_counter/count/'\n",
    "dir_launch= main_dir + 'mutation_counter'\n",
    "slim_soft= slim_dir + 'sim*'\n",
    "\n",
    "summary_file= 'sims.log'\n",
    "mutlog= 'toMut.log'\n"
   ]
  },
  {
   "cell_type": "markdown",
   "metadata": {},
   "source": [
    "### Provide SLiM recipe. \n",
    "\n",
    "Written to take arguments passed on below."
   ]
  },
  {
   "cell_type": "code",
   "execution_count": 4,
   "metadata": {},
   "outputs": [],
   "source": [
    "#\n",
    "##\n",
    "##\n",
    "## SLiM recipe.\n",
    "sim_dir= main_dir + 'Recipes/Human_sims/'\n",
    "sim_recipe= 'Gravel_2011_frame_sample.slim'\n",
    "sim_recipe= sim_dir + sim_recipe\n",
    "##\n",
    "##\n",
    "#"
   ]
  },
  {
   "cell_type": "markdown",
   "metadata": {},
   "source": [
    "### Sample Fasta\n",
    "\n",
    "Choose assembly. whole genome (chr separated) file in `fasta_dir` above.\n",
    "\n",
    "- Determine here the number and length of the segments simulated, using variables `N` and `L` respectively."
   ]
  },
  {
   "cell_type": "code",
   "execution_count": 5,
   "metadata": {},
   "outputs": [],
   "source": [
    "\n",
    "assembly= 'hg38'\n",
    "\n",
    "## files & variables\n",
    "## fasta segment lengths; number of segments / sims.\n",
    "L= int(1e6)\n",
    "N= 20\n"
   ]
  },
  {
   "cell_type": "code",
   "execution_count": 6,
   "metadata": {},
   "outputs": [
    {
     "name": "stdout",
     "output_type": "stream",
     "text": [
      "{'10': 3, '15': 1, '3': 1, '2': 2, '19': 1, '17': 1, '13': 2, '8': 1, '9': 1, '16': 2, '11': 1, '6': 1, '5': 3}\n",
      "opening fasta chr: 10\n",
      "opening fasta chr: 11\n",
      "opening fasta chr: 13\n",
      "opening fasta chr: 15\n",
      "opening fasta chr: 16\n",
      "opening fasta chr: 17\n",
      "opening fasta chr: 19\n",
      "opening fasta chr: 2\n",
      "opening fasta chr: 3\n",
      "opening fasta chr: 5\n",
      "opening fasta chr: 6\n",
      "opening fasta chr: 8\n",
      "opening fasta chr: 9\n"
     ]
    }
   ],
   "source": [
    "## Read chrom_sizes file to decide where to sample files from. \n",
    "chrom_sizes= read_chrom_sizes(assembly)\n",
    "\n",
    "## Sample fasta.\n",
    "##\n",
    "fasta= fastas_dir + assembly + '.fa.gz'\n",
    "rseqs= region_samplev2(L, chrom_sizes, N, fasta)\n"
   ]
  },
  {
   "cell_type": "markdown",
   "metadata": {},
   "source": [
    "### Launch Simulations.\n",
    "\n",
    "> select batch name (suffix tag in files generated)."
   ]
  },
  {
   "cell_type": "code",
   "execution_count": 7,
   "metadata": {},
   "outputs": [],
   "source": [
    "## Simulation tag names, assembly to select from.\n",
    "batch_name= 'Gravel'"
   ]
  },
  {
   "cell_type": "markdown",
   "metadata": {},
   "source": [
    "**Cookbook**\n",
    "\n",
    "Simulations are launched using the template file `sim_recipe` (see above). These files are prepared to accept certain varibles. These are to be passed to a `SLiM_dispenser` function in dictionary format. `cook_constants_*` functions prepare this dictionary.\n",
    "\n",
    "- Below, the function `cook_constants_Gravel2sampleRange` samples two populations along a range of relative sizes, based on a recipe that takes 3 population size variables."
   ]
  },
  {
   "cell_type": "code",
   "execution_count": 8,
   "metadata": {},
   "outputs": [
    {
     "name": "stdout",
     "output_type": "stream",
     "text": [
      "launch SLiM jobs.\n"
     ]
    }
   ],
   "source": [
    "from tools.SLiM_pipe_tools import SLiM_dispenserv1\n",
    "from tools.cookbook import cook_constants_Gravel2sampleRange\n",
    "\n",
    "## Perform Simulations\n",
    "print('launch SLiM jobs.')\n",
    "\n",
    "cookargs= {\n",
    "    \"nrange\": [.05,.5], \n",
    "    \"step\": N,\n",
    "    \"Nmax\":100\n",
    "}\n",
    "\n",
    "sim_store, cookID= cook_constants_Gravel2sampleRange(rseqs,dir_data= dir_data,\n",
    "               slim_dir= slim_dir, batch_name= batch_name,**cookargs)\n",
    "\n",
    "\n",
    "SLiM_dispenserv1(sim_store, sim_recipe, cookID= cookID, slim_dir= slim_dir, batch_name= batch_name,\n",
    "                    ID= cookID, logSims= summary_file, mutlog= mutlog)"
   ]
  },
  {
   "cell_type": "markdown",
   "metadata": {},
   "source": [
    "### Launch Mutation counter. \n",
    "\n",
    "Launch the mutation counter pipeline. "
   ]
  },
  {
   "cell_type": "code",
   "execution_count": 12,
   "metadata": {},
   "outputs": [
    {
     "name": "stdout",
     "output_type": "stream",
     "text": [
      "launch mutation counter.\n"
     ]
    }
   ],
   "source": [
    "from tools.SLiM_pipe_tools import mutation_counter_launch\n",
    "\n",
    "mutlog= 'toMut.log'\n",
    "\n",
    "print('launch mutation counter.')\n",
    "mutation_counter_launch(mutlog,count_dir= count_dir, \n",
    "                        dir_launch= dir_launch,main_dir= main_dir)\n"
   ]
  },
  {
   "cell_type": "code",
   "execution_count": null,
   "metadata": {},
   "outputs": [],
   "source": []
  }
 ],
 "metadata": {
  "kernelspec": {
   "display_name": "Python 2",
   "language": "python",
   "name": "python2"
  },
  "language_info": {
   "codemirror_mode": {
    "name": "ipython",
    "version": 3
   },
   "file_extension": ".py",
   "mimetype": "text/x-python",
   "name": "python",
   "nbconvert_exporter": "python",
   "pygments_lexer": "ipython3",
   "version": "3.6.9"
  }
 },
 "nbformat": 4,
 "nbformat_minor": 2
}
