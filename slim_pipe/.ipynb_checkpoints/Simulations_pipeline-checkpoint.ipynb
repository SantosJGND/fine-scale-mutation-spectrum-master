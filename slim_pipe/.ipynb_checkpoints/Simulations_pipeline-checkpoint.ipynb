{
 "cells": [
  {
   "cell_type": "code",
   "execution_count": 1,
   "metadata": {},
   "outputs": [
    {
     "data": {
      "text/html": [
       "        <script type=\"text/javascript\">\n",
       "        window.PlotlyConfig = {MathJaxConfig: 'local'};\n",
       "        if (window.MathJax) {MathJax.Hub.Config({SVG: {font: \"STIX-Web\"}});}\n",
       "        if (typeof require !== 'undefined') {\n",
       "        require.undef(\"plotly\");\n",
       "        requirejs.config({\n",
       "            paths: {\n",
       "                'plotly': ['https://cdn.plot.ly/plotly-latest.min']\n",
       "            }\n",
       "        });\n",
       "        require(['plotly'], function(Plotly) {\n",
       "            window._Plotly = Plotly;\n",
       "        });\n",
       "        }\n",
       "        </script>\n",
       "        "
      ]
     },
     "metadata": {},
     "output_type": "display_data"
    }
   ],
   "source": [
    "import sys\n",
    "import argparse\n",
    "import numpy as np\n",
    "from scipy.stats import chi2_contingency\n",
    "from itertools import product\n",
    "import itertools as it\n",
    "\n",
    "from _plotly_future_ import v4_subplots\n",
    "import plotly.graph_objs as go\n",
    "from plotly.offline import download_plotlyjs, init_notebook_mode, plot, iplot\n",
    "from plotly.graph_objs import *\n",
    "\n",
    "from ipywidgets import interact, interactive, fixed, interact_manual\n",
    "import ipywidgets as widgets\n",
    "init_notebook_mode(connected=True)\n",
    "\n",
    "from datetime import datetime\n",
    "import tempfile\n",
    "import os\n",
    "import gzip \n",
    "import subprocess\n"
   ]
  },
  {
   "cell_type": "markdown",
   "metadata": {},
   "source": [
    "### Sim pipeline\n"
   ]
  },
  {
   "cell_type": "code",
   "execution_count": 2,
   "metadata": {},
   "outputs": [],
   "source": [
    "from tools.SLiM_pipe_tools import (\n",
    "    read_chrom_sizes, region_sample, region_samplev1,\n",
    "    fasta_Rextract, write_fastaEx, process_recipe,\n",
    "    SLiM_dispenser, \n",
    ")"
   ]
  },
  {
   "cell_type": "code",
   "execution_count": 3,
   "metadata": {},
   "outputs": [],
   "source": [
    "## directories\n",
    "main_dir= '/mnt/c/Users/floyd/Desktop/AZ/SuzLab/SLiM/'\n",
    "slim_dir= '/mnt/c/Users/floyd/Desktop/AZ/SuzLab/SLiM/'\n",
    "fastas_dir= '/mnt/c/Users/floyd/Desktop/AZ/SuzLab/SLiM/Fastas/'\n",
    "##\n",
    "\n",
    "## sub-directories.\n",
    "sim_dir= main_dir + 'Recipes/Human_sims/'\n",
    "sim_recipe= 'Gravel_2011_kmmVCF_fasta_pipe.slim'\n",
    "\n",
    "dir_data= main_dir + 'mutation_counter/data/'\n",
    "dir_vcf= dir_data + 'vcf_data/'\n",
    "count_dir= main_dir + 'mutation_counter/count/'\n",
    "dir_launch= main_dir + 'mutation_counter'\n",
    "\n",
    "summary_file= 'sims.log'\n",
    "\n",
    "#\n",
    "##\n",
    "##\n",
    "slim_soft= slim_dir + 'sim*'\n",
    "sim_recipe= sim_dir + sim_recipe\n",
    "##\n",
    "##\n",
    "#"
   ]
  },
  {
   "cell_type": "code",
   "execution_count": 4,
   "metadata": {},
   "outputs": [],
   "source": [
    "## Simulation tag names, assembly to select from.\n",
    "batch_name= 'Gravel'\n",
    "assembly= 'hg38'\n",
    "\n",
    "## files & variables\n",
    "## fasta segment lengths; number of segments / sims.\n",
    "L= int(1e4)\n",
    "N= 2\n"
   ]
  },
  {
   "cell_type": "code",
   "execution_count": null,
   "metadata": {},
   "outputs": [],
   "source": [
    "\n",
    "\n",
    "def region_samplev2(L, chrom_sizes, N, fasta_file= ''):\n",
    "    '''\n",
    "    prepare sequence dictionary: {chrom:list(start pos)}\n",
    "    provide to fasta_Rextract.\n",
    "    \n",
    "    ##\n",
    "    '''\n",
    "    \n",
    "    \n",
    "    \n",
    "    chroms= np.random.choice(list(chrom_sizes.keys()),N,replace= True)\n",
    "    chroms= sorted(chroms)\n",
    "    chroms= {z: chroms.count(z) for z in list(set(chroms))}\n",
    "    \n",
    "    seqs_store= {\n",
    "        z: np.random.randint(low= 0,high= chrom_sizes[z] - L,size= chroms[z]) for z in chroms.keys()\n",
    "    }\n",
    "    \n",
    "    seqs= fasta_Rextract(fasta_file, seqs_store, L= L)\n",
    "    \n",
    "    \n",
    "    return seqs\n",
    "\n",
    "\n",
    "\n",
    "def fasta_Rextract(fasta,seq_store,L= 10000):\n",
    "    ''' \n",
    "    Extract regions from fasta file.\n",
    "    Takes dictionary {chrom: list(start points)};\n",
    "    extracts sequences after reading each chromosome.\n",
    "    '''\n",
    "    refseqs= {x:{} for x in seq_store.keys()}\n",
    "    \n",
    "    Outfiles= {\n",
    "        x: tempfile.TemporaryFile() for x in seq_store.keys()\n",
    "    }\n",
    "    \n",
    "    d= 0\n",
    "     \n",
    "    with gzip.open(fasta,'rb') as fp:\n",
    "        for line in fp:\n",
    "            #line= line.decode()\n",
    "            if line[0:1] == b'>':\n",
    "                head= line.decode()\n",
    "                head= head.strip()\n",
    "                if d != 0:\n",
    "                    d=0\n",
    "\n",
    "                head= head[1:].split('\\t')\n",
    "                head= head[0].strip('chr')\n",
    "\n",
    "                if head in seq_store.keys():\n",
    "                    print('opening fasta chr: {}'.format(head))\n",
    "                    d= head\n",
    "                    outfile= Outfiles[d]\n",
    "                    continue\n",
    "            \n",
    "            if d != 0:\n",
    "                processed_line= line.upper().strip(b'\\n')\n",
    "                outfile.write(processed_line)\n",
    "    \n",
    "    for chrom in Outfiles.keys():\n",
    "        f= Outfiles[chrom]\n",
    "        f.seek(os.SEEK_SET)\n",
    "        result= f.read().decode()\n",
    "        f.close()\n",
    "        \n",
    "        starts= seq_store[chrom]\n",
    "        \n",
    "        for s in starts:\n",
    "            refseqs[chrom][s]= result[s:(s+L)]\n",
    "    \n",
    "    return refseqs\n",
    "\n",
    "\n"
   ]
  },
  {
   "cell_type": "code",
   "execution_count": 6,
   "metadata": {},
   "outputs": [
    {
     "name": "stdout",
     "output_type": "stream",
     "text": [
      "opening fasta chr: 14\n",
      "opening fasta chr: 21\n",
      "launch SLiM jobs.\n"
     ]
    }
   ],
   "source": [
    "\n",
    "## Read chrom_sizes file to decide where to sample files from. \n",
    "chrom_sizes= read_chrom_sizes(assembly)\n",
    "\n",
    "## Sample fasta.\n",
    "##\n",
    "fasta= fastas_dir + assembly + '.fa.gz'\n",
    "rseqs= region_samplev1(L, chrom_sizes,N, fasta)\n",
    "\n"
   ]
  },
  {
   "cell_type": "code",
   "execution_count": null,
   "metadata": {},
   "outputs": [],
   "source": [
    "## Perform Simulations\n",
    "print('launch SLiM jobs.')\n",
    "SLiM_dispenser(rseqs,sim_recipe,dir_data= dir_data, dir_vcf= dir_vcf, \n",
    "               slim_dir= slim_dir, logSims= summary_file,\n",
    "               mutlog= mutlog,batch_name= batch_name)\n"
   ]
  },
  {
   "cell_type": "code",
   "execution_count": 29,
   "metadata": {},
   "outputs": [
    {
     "name": "stdout",
     "output_type": "stream",
     "text": [
      "launch mutation counter.\n",
      "['GravelC14.44356243']\n"
     ]
    }
   ],
   "source": [
    "from tools.SLiM_pipe_tools import mutation_counter_launch\n",
    "\n",
    "mutlog= 'toMut.log'\n",
    "\n",
    "print('launch mutation counter.')\n",
    "mutation_counter_launch(mutlog,count_dir= count_dir, \n",
    "                        dir_launch= dir_launch,main_dir= main_dir)\n"
   ]
  },
  {
   "cell_type": "code",
   "execution_count": null,
   "metadata": {},
   "outputs": [],
   "source": []
  }
 ],
 "metadata": {
  "kernelspec": {
   "display_name": "Python 2",
   "language": "python",
   "name": "python2"
  },
  "language_info": {
   "codemirror_mode": {
    "name": "ipython",
    "version": 3
   },
   "file_extension": ".py",
   "mimetype": "text/x-python",
   "name": "python",
   "nbconvert_exporter": "python",
   "pygments_lexer": "ipython3",
   "version": "3.6.9"
  }
 },
 "nbformat": 4,
 "nbformat_minor": 2
}
