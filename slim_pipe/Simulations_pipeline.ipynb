{
 "cells": [
  {
   "cell_type": "code",
   "execution_count": 1,
   "metadata": {},
   "outputs": [
    {
     "data": {
      "text/html": [
       "        <script type=\"text/javascript\">\n",
       "        window.PlotlyConfig = {MathJaxConfig: 'local'};\n",
       "        if (window.MathJax) {MathJax.Hub.Config({SVG: {font: \"STIX-Web\"}});}\n",
       "        if (typeof require !== 'undefined') {\n",
       "        require.undef(\"plotly\");\n",
       "        requirejs.config({\n",
       "            paths: {\n",
       "                'plotly': ['https://cdn.plot.ly/plotly-latest.min']\n",
       "            }\n",
       "        });\n",
       "        require(['plotly'], function(Plotly) {\n",
       "            window._Plotly = Plotly;\n",
       "        });\n",
       "        }\n",
       "        </script>\n",
       "        "
      ]
     },
     "metadata": {},
     "output_type": "display_data"
    }
   ],
   "source": [
    "import sys\n",
    "import argparse\n",
    "import numpy as np\n",
    "from scipy.stats import chi2_contingency\n",
    "from itertools import product\n",
    "import itertools as it\n",
    "\n",
    "from _plotly_future_ import v4_subplots\n",
    "import plotly.graph_objs as go\n",
    "from plotly.offline import download_plotlyjs, init_notebook_mode, plot, iplot\n",
    "from plotly.graph_objs import *\n",
    "\n",
    "from ipywidgets import interact, interactive, fixed, interact_manual\n",
    "import ipywidgets as widgets\n",
    "init_notebook_mode(connected=True)\n",
    "    \n",
    "from datetime import datetime\n",
    "import tempfile\n",
    "import os\n",
    "import gzip \n",
    "import subprocess\n"
   ]
  },
  {
   "cell_type": "markdown",
   "metadata": {},
   "source": [
    "## Sim pipeline\n"
   ]
  },
  {
   "cell_type": "code",
   "execution_count": 2,
   "metadata": {},
   "outputs": [],
   "source": [
    "from tools.SLiM_pipe_tools import (\n",
    "    read_chrom_sizes, region_sample, region_samplev2,\n",
    "    fasta_RextractUnif, return_seqs, write_fastaEx, \n",
    "    process_recipe, SLiM_dispenserv1, \n",
    ")"
   ]
  },
  {
   "cell_type": "markdown",
   "metadata": {},
   "source": [
    ">  Establish directories"
   ]
  },
  {
   "cell_type": "code",
   "execution_count": 3,
   "metadata": {},
   "outputs": [],
   "source": [
    "## directories\n",
    "main_dir= '/mnt/d/GitHub/fine-scale-mutation-spectrum-master/slim_pipe/'\n",
    "slim_dir= '/mnt/d/GitHub/fine-scale-mutation-spectrum-master/slim_pipe/'\n",
    "fastas_dir= '/mnt/d/GitHub/fine-scale-mutation-spectrum-master/slim_pipe/Fastas/'\n",
    "##\n",
    "\n",
    "dir_data= main_dir + 'mutation_counter/data/sims/'\n",
    "count_dir= main_dir + 'mutation_counter/count/'\n",
    "dir_launch= main_dir + 'mutation_counter'\n",
    "slim_soft= slim_dir + 'sim*'\n",
    "\n",
    "summary_file= 'sims.log'\n",
    "mutlog= 'toMut.log'\n"
   ]
  },
  {
   "cell_type": "markdown",
   "metadata": {},
   "source": [
    "### Provide SLiM recipe. \n",
    "\n",
    "Written to take arguments passed on below."
   ]
  },
  {
   "cell_type": "code",
   "execution_count": 4,
   "metadata": {},
   "outputs": [],
   "source": [
    "#\n",
    "##\n",
    "##\n",
    "## SLiM recipe.\n",
    "sim_dir= main_dir + 'Recipes/Human_sims/'\n",
    "sim_recipe= 'Gravel_2011_frame_sample.slim'\n",
    "sim_recipe= sim_dir + sim_recipe\n",
    "##\n",
    "##\n",
    "#"
   ]
  },
  {
   "cell_type": "markdown",
   "metadata": {},
   "source": [
    "### Sample Fasta\n",
    "\n",
    "Choose assembly. whole genome (chr separated) file in `fasta_dir` above.\n",
    "\n",
    "- Determine here the number and length of the segments simulated, using variables `N` and `L` respectively."
   ]
  },
  {
   "cell_type": "code",
   "execution_count": 5,
   "metadata": {},
   "outputs": [],
   "source": [
    "\n",
    "assembly= 'hg38'\n",
    "\n",
    "## files & variables\n",
    "## fasta segment lengths; number of segments / sims.\n",
    "L= int(5e6)\n",
    "N= 2\n"
   ]
  },
  {
   "cell_type": "code",
   "execution_count": 35,
   "metadata": {},
   "outputs": [
    {
     "name": "stdout",
     "output_type": "stream",
     "text": [
      "{'16': 1, '12': 1}\n",
      "opening fasta chr: 12\n",
      "opening fasta chr: 16\n"
     ]
    }
   ],
   "source": [
    "## Read chrom_sizes file to decide where to sample files from. \n",
    "chrom_sizes= read_chrom_sizes(assembly)\n",
    "\n",
    "## Sample fasta.\n",
    "##\n",
    "fasta= fastas_dir + assembly + '.fa.gz'\n",
    "rseqs= region_samplev2(L, chrom_sizes, N, fasta)\n"
   ]
  },
  {
   "cell_type": "markdown",
   "metadata": {},
   "source": [
    "### Launch Simulations.\n",
    "\n",
    "> select batch name (suffix tag in files generated)."
   ]
  },
  {
   "cell_type": "code",
   "execution_count": 36,
   "metadata": {},
   "outputs": [],
   "source": [
    "## Simulation tag names, assembly to select from.\n",
    "batch_name= 'Gravel'"
   ]
  },
  {
   "cell_type": "markdown",
   "metadata": {},
   "source": [
    "**Cookbook**\n",
    "\n",
    "Simulations are launched using the template file `sim_recipe` (see above). These files are prepared to accept certain varibles. These are to be passed to a `SLiM_dispenser` function in dictionary format. `cook_constants_*` functions prepare this dictionary.\n",
    "\n",
    "- Below, the function `cook_constants_Gravel2sampleRange` samples two populations along a range of relative sizes, based on a recipe that takes 3 population size variables."
   ]
  },
  {
   "cell_type": "code",
   "execution_count": 38,
   "metadata": {},
   "outputs": [
    {
     "name": "stdout",
     "output_type": "stream",
     "text": [
      "launch SLiM jobs.\n"
     ]
    }
   ],
   "source": [
    "from tools.SLiM_pipe_tools import SLiM_dispenserv1\n",
    "from tools.cookbook import cook_constants_Gravel2sampleRange\n",
    "\n",
    "## Perform Simulations\n",
    "print('launch SLiM jobs.')\n",
    "\n",
    "cookargs= {\n",
    "    \"nrange\": [.05,.5], \n",
    "    \"step\": N,\n",
    "    \"Nmax\":100\n",
    "}\n",
    "\n",
    "sim_store, cookID= cook_constants_Gravel2sampleRange(rseqs,dir_data= dir_data,\n",
    "               slim_dir= slim_dir, batch_name= batch_name,**cookargs)\n",
    "\n",
    "\n",
    "SLiM_dispenserv1(sim_store, sim_recipe, cookID= cookID, slim_dir= slim_dir, batch_name= batch_name,\n",
    "                    ID= cookID, L= L, logSims= summary_file, mutlog= mutlog)"
   ]
  },
  {
   "cell_type": "markdown",
   "metadata": {},
   "source": [
    "### Launch Mutation counter. \n"
   ]
  },
  {
   "cell_type": "code",
   "execution_count": 41,
   "metadata": {},
   "outputs": [
    {
     "name": "stdout",
     "output_type": "stream",
     "text": [
      "launch mutation counter.\n"
     ]
    }
   ],
   "source": [
    "from tools.SLiM_pipe_tools import mutation_counter_launch\n",
    "\n",
    "mutlog= 'toMut.log'\n",
    "\n",
    "print('launch mutation counter.')\n",
    "mutation_counter_launch(mutlog,count_dir= count_dir, \n",
    "                        dir_launch= dir_launch,main_dir= main_dir)\n"
   ]
  },
  {
   "cell_type": "markdown",
   "metadata": {},
   "source": [
    "## Data analysis\n",
    "\n",
    "So, we calculated mutation type counts for each population and compared them accross simulations. We are interested to see if sampling could have an impact on the variance of count differences. \n",
    "\n",
    "The function `heatmap` returns a matrix of count proportions across types for each pairwise comparison. We will calculate the variance of each matrix, and plot it against the relative sampling across populations"
   ]
  },
  {
   "cell_type": "markdown",
   "metadata": {},
   "source": [
    "### Mutation profile \n",
    "\n",
    "- Extract mutation counts from mutation counter output\n",
    "- Compare populations across mutation types using Chi2\n",
    "- return matrix of **proportions or p-vals** (*) _per_ population comparison _per_ simulation.\n",
    "\n",
    "The `data` dictionary below stores grids and respective significance indicators per simulation. "
   ]
  },
  {
   "cell_type": "code",
   "execution_count": 8,
   "metadata": {},
   "outputs": [],
   "source": [
    "from tools.plot_utilities import Population, frequency_breakdown, heatmap\n",
    "from tools.compare_utilities import get_available_muts, deploy_count,pops_from_sim\n",
    "\n",
    "### set up dirs.\n",
    "main_dir= '/mnt/d/GitHub/fine-scale-mutation-spectrum-master/slim_pipe/'\n",
    "log_dir= main_dir\n",
    "sims_dir= main_dir + 'mutation_counter/data/sims/'\n",
    "muted_dir= main_dir + 'mutation_counter/data/mutation_count/'\n",
    "\n",
    "muted= log_dir + 'muted.log'\n",
    "\n",
    "### read log of available counts,\n",
    "### set parameters for comparison.\n",
    "extract= 'pval'\n",
    "available= get_available_muts(muted)\n",
    "individually= False\n",
    "exclude= False\n",
    "p_value= 1e-5\n",
    "frequency_range= [0,1]\n",
    "\n",
    "data= deploy_count(available, frequency_range= frequency_range, p_value= p_value,\n",
    "                                                muted_dir= muted_dir, sims_dir= sims_dir,extract= extract)\n"
   ]
  },
  {
   "cell_type": "code",
   "execution_count": 9,
   "metadata": {},
   "outputs": [],
   "source": [
    "\n",
    "### 1. extract grids\n",
    "grids= [data[s]['grids'] for s in available]\n",
    "grids= list(it.chain(*grids))\n",
    "\n",
    "## mask infinite values and compute std.\n",
    "grids= [np.ma.masked_where(a == np.inf, a) for a in grids]\n",
    "grid_mean= [np.mean(x) for x in grids] \n",
    "grid_std= [np.std(x) for x in grids]\n",
    "\n",
    "### 2. calculate proportions across smulations\n",
    "pop_assignment= [[pops_from_sim(x,sims_dir,pop_set=False)] * len(data[x]['grids']) for x in available]\n",
    "pop_assignment= list(it.chain(*pop_assignment))\n",
    "pop_proportions= [{\n",
    "    z: len([x for x in range(len(y)) if y[x]==z]) for z in list(set(y))\n",
    "} for y in pop_assignment]\n",
    "\n",
    "pop_proportions= [sorted(c.values()) for c in pop_proportions]\n",
    "pop_proportions= [x[0] / x[1] for x in pop_proportions]\n"
   ]
  },
  {
   "cell_type": "markdown",
   "metadata": {},
   "source": [
    "> plotting"
   ]
  },
  {
   "cell_type": "code",
   "execution_count": null,
   "metadata": {},
   "outputs": [
    {
     "data": {
      "text/html": [
       "        <script type=\"text/javascript\">\n",
       "        window.PlotlyConfig = {MathJaxConfig: 'local'};\n",
       "        if (window.MathJax) {MathJax.Hub.Config({SVG: {font: \"STIX-Web\"}});}\n",
       "        if (typeof require !== 'undefined') {\n",
       "        require.undef(\"plotly\");\n",
       "        requirejs.config({\n",
       "            paths: {\n",
       "                'plotly': ['https://cdn.plot.ly/plotly-latest.min']\n",
       "            }\n",
       "        });\n",
       "        require(['plotly'], function(Plotly) {\n",
       "            window._Plotly = Plotly;\n",
       "        });\n",
       "        }\n",
       "        </script>\n",
       "        "
      ]
     },
     "metadata": {},
     "output_type": "display_data"
    }
   ],
   "source": [
    "from _plotly_future_ import v4_subplots\n",
    "import plotly.graph_objs as go\n",
    "from plotly.offline import download_plotlyjs, init_notebook_mode, plot, iplot\n",
    "from plotly.graph_objs import *\n",
    "\n",
    "from ipywidgets import interact, interactive, fixed, interact_manual\n",
    "import ipywidgets as widgets\n",
    "init_notebook_mode(connected=True)\n",
    "\n",
    "####\n",
    "####\n",
    "fig= [go.Scatter(\n",
    "    x= pop_proportions,\n",
    "    y= grid_mean,\n",
    "        error_y=dict(\n",
    "            type='data', \n",
    "            array=grid_std,\n",
    "            visible=False),\n",
    "    mode= 'markers'\n",
    ")]\n",
    "\n",
    "layout= go.Layout(\n",
    "    title= 'Mutation spectrum divergence and relative sampling',\n",
    "    xaxis= dict(\n",
    "        title= 'relative sampling'\n",
    "    ),\n",
    "    yaxis= dict(\n",
    "        title= 'mean  matrix p-val',\n",
    "        range= [0,1]\n",
    "    ),\n",
    "    font=dict(\n",
    "        family=\"Courier New, monospace\",\n",
    "        size=15,\n",
    "        color=\"#7f7f7f\"\n",
    "    )\n",
    ")\n",
    "\n",
    "figure= go.Figure(data= fig,layout= layout)\n",
    "\n",
    "iplot(figure)"
   ]
  },
  {
   "cell_type": "code",
   "execution_count": null,
   "metadata": {},
   "outputs": [],
   "source": []
  }
 ],
 "metadata": {
  "kernelspec": {
   "display_name": "Python 3",
   "language": "python",
   "name": "python3"
  },
  "language_info": {
   "codemirror_mode": {
    "name": "ipython",
    "version": 3
   },
   "file_extension": ".py",
   "mimetype": "text/x-python",
   "name": "python",
   "nbconvert_exporter": "python",
   "pygments_lexer": "ipython3",
   "version": "3.6.9"
  }
 },
 "nbformat": 4,
 "nbformat_minor": 2
}
