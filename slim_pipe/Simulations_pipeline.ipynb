{
 "cells": [
  {
   "cell_type": "code",
   "execution_count": 1,
   "metadata": {},
   "outputs": [
    {
     "data": {
      "text/html": [
       "        <script type=\"text/javascript\">\n",
       "        window.PlotlyConfig = {MathJaxConfig: 'local'};\n",
       "        if (window.MathJax) {MathJax.Hub.Config({SVG: {font: \"STIX-Web\"}});}\n",
       "        if (typeof require !== 'undefined') {\n",
       "        require.undef(\"plotly\");\n",
       "        requirejs.config({\n",
       "            paths: {\n",
       "                'plotly': ['https://cdn.plot.ly/plotly-latest.min']\n",
       "            }\n",
       "        });\n",
       "        require(['plotly'], function(Plotly) {\n",
       "            window._Plotly = Plotly;\n",
       "        });\n",
       "        }\n",
       "        </script>\n",
       "        "
      ]
     },
     "metadata": {},
     "output_type": "display_data"
    }
   ],
   "source": [
    "import sys\n",
    "import argparse\n",
    "import numpy as np\n",
    "from scipy.stats import chi2_contingency\n",
    "from itertools import product\n",
    "import itertools as it\n",
    "\n",
    "from _plotly_future_ import v4_subplots\n",
    "import plotly.graph_objs as go\n",
    "from plotly.offline import download_plotlyjs, init_notebook_mode, plot, iplot\n",
    "from plotly.graph_objs import *\n",
    "\n",
    "from ipywidgets import interact, interactive, fixed, interact_manual\n",
    "import ipywidgets as widgets\n",
    "init_notebook_mode(connected=True)\n",
    "    \n",
    "from datetime import datetime\n",
    "import tempfile\n",
    "import os\n",
    "import gzip \n",
    "import subprocess\n"
   ]
  },
  {
   "cell_type": "markdown",
   "metadata": {},
   "source": [
    "## Sim pipeline\n"
   ]
  },
  {
   "cell_type": "code",
   "execution_count": 2,
   "metadata": {},
   "outputs": [],
   "source": [
    "from tools.SLiM_pipe_tools import (\n",
    "    read_chrom_sizes, region_sample, region_samplev2,\n",
    "    fasta_RextractUnif, return_seqs, write_fastaEx, \n",
    "    process_recipe, SLiM_dispenserv1, \n",
    ")"
   ]
  },
  {
   "cell_type": "markdown",
   "metadata": {},
   "source": [
    ">  Establish directories"
   ]
  },
  {
   "cell_type": "code",
   "execution_count": 3,
   "metadata": {},
   "outputs": [],
   "source": [
    "## directories\n",
    "main_dir= '/mnt/d/GitHub/fine-scale-mutation-spectrum-master/slim_pipe/'\n",
    "slim_dir= '/mnt/d/GitHub/fine-scale-mutation-spectrum-master/slim_pipe/'\n",
    "fastas_dir= '/mnt/d/GitHub/fine-scale-mutation-spectrum-master/slim_pipe/Fastas/'\n",
    "##\n",
    "\n",
    "dir_data= main_dir + 'mutation_counter/data/sims/'\n",
    "count_dir= main_dir + 'mutation_counter/count/'\n",
    "dir_launch= main_dir + 'mutation_counter'\n",
    "slim_soft= slim_dir + 'sim*'\n",
    "\n",
    "summary_file= 'sims.log'\n",
    "mutlog= 'toMut.log'\n"
   ]
  },
  {
   "cell_type": "markdown",
   "metadata": {},
   "source": [
    "### Provide SLiM recipe. \n",
    "\n",
    "Written to take arguments passed on below."
   ]
  },
  {
   "cell_type": "code",
   "execution_count": 4,
   "metadata": {},
   "outputs": [],
   "source": [
    "#\n",
    "##\n",
    "##\n",
    "## SLiM recipe.\n",
    "sim_dir= main_dir + 'Recipes/Human_sims/'\n",
    "sim_recipe= 'Gravel_2011_frame_sample.slim'\n",
    "sim_recipe= sim_dir + sim_recipe\n",
    "##\n",
    "##\n",
    "#"
   ]
  },
  {
   "cell_type": "markdown",
   "metadata": {},
   "source": [
    "### Sample Fasta\n",
    "\n",
    "Choose assembly. whole genome (chr separated) file in `fasta_dir` above.\n",
    "\n",
    "- Determine here the number and length of the segments simulated, using variables `N` and `L` respectively."
   ]
  },
  {
   "cell_type": "code",
   "execution_count": 5,
   "metadata": {},
   "outputs": [],
   "source": [
    "\n",
    "assembly= 'hg38'\n",
    "\n",
    "## files & variables\n",
    "## fasta segment lengths; number of segments / sims.\n",
    "L= int(5e6)\n",
    "N= 2\n"
   ]
  },
  {
   "cell_type": "code",
   "execution_count": 35,
   "metadata": {},
   "outputs": [
    {
     "name": "stdout",
     "output_type": "stream",
     "text": [
      "{'16': 1, '12': 1}\n",
      "opening fasta chr: 12\n",
      "opening fasta chr: 16\n"
     ]
    }
   ],
   "source": [
    "## Read chrom_sizes file to decide where to sample files from. \n",
    "chrom_sizes= read_chrom_sizes(assembly)\n",
    "\n",
    "## Sample fasta.\n",
    "##\n",
    "fasta= fastas_dir + assembly + '.fa.gz'\n",
    "rseqs= region_samplev2(L, chrom_sizes, N, fasta)\n"
   ]
  },
  {
   "cell_type": "markdown",
   "metadata": {},
   "source": [
    "### Launch Simulations.\n",
    "\n",
    "> select batch name (suffix tag in files generated)."
   ]
  },
  {
   "cell_type": "code",
   "execution_count": 36,
   "metadata": {},
   "outputs": [],
   "source": [
    "## Simulation tag names, assembly to select from.\n",
    "batch_name= 'Gravel'"
   ]
  },
  {
   "cell_type": "markdown",
   "metadata": {},
   "source": [
    "**Cookbook**\n",
    "\n",
    "Simulations are launched using the template file `sim_recipe` (see above). These files are prepared to accept certain varibles. These are to be passed to a `SLiM_dispenser` function in dictionary format. `cook_constants_*` functions prepare this dictionary.\n",
    "\n",
    "- Below, the function `cook_constants_Gravel2sampleRange` samples two populations along a range of relative sizes, based on a recipe that takes 3 population size variables."
   ]
  },
  {
   "cell_type": "code",
   "execution_count": 38,
   "metadata": {},
   "outputs": [
    {
     "name": "stdout",
     "output_type": "stream",
     "text": [
      "launch SLiM jobs.\n"
     ]
    }
   ],
   "source": [
    "from tools.SLiM_pipe_tools import SLiM_dispenserv1\n",
    "from tools.cookbook import cook_constants_Gravel2sampleRange\n",
    "\n",
    "## Perform Simulations\n",
    "print('launch SLiM jobs.')\n",
    "\n",
    "cookargs= {\n",
    "    \"nrange\": [.05,.5], \n",
    "    \"step\": N,\n",
    "    \"Nmax\":100\n",
    "}\n",
    "\n",
    "sim_store, cookID= cook_constants_Gravel2sampleRange(rseqs,dir_data= dir_data,\n",
    "               slim_dir= slim_dir, batch_name= batch_name,**cookargs)\n",
    "\n",
    "\n",
    "SLiM_dispenserv1(sim_store, sim_recipe, cookID= cookID, slim_dir= slim_dir, batch_name= batch_name,\n",
    "                    ID= cookID, L= L, logSims= summary_file, mutlog= mutlog)"
   ]
  },
  {
   "cell_type": "markdown",
   "metadata": {},
   "source": [
    "### Launch Mutation counter. \n"
   ]
  },
  {
   "cell_type": "code",
   "execution_count": 41,
   "metadata": {},
   "outputs": [
    {
     "name": "stdout",
     "output_type": "stream",
     "text": [
      "launch mutation counter.\n"
     ]
    }
   ],
   "source": [
    "from tools.SLiM_pipe_tools import mutation_counter_launch\n",
    "\n",
    "mutlog= 'toMut.log'\n",
    "\n",
    "print('launch mutation counter.')\n",
    "mutation_counter_launch(mutlog,count_dir= count_dir, \n",
    "                        dir_launch= dir_launch,main_dir= main_dir)\n"
   ]
  },
  {
   "cell_type": "markdown",
   "metadata": {},
   "source": [
    "### Mutation profile \n",
    "\n",
    "- Extract mutation counts from mutation counter output\n",
    "- Compare populations across mutation types using Chi2\n",
    "- return matrix of **proportions or p-vals** (*) _per_ population comparison _per_ simulation.\n",
    "\n",
    "The `data` dictionary below stores grids and respective significance indicators per simulation. "
   ]
  },
  {
   "cell_type": "code",
   "execution_count": 6,
   "metadata": {},
   "outputs": [],
   "source": [
    "from tools.plot_utilities import Population, frequency_breakdown, heatmap\n",
    "from tools.compare_utilities import get_available_muts, deploy_count,pops_from_sim\n",
    "\n",
    "### set up dirs.\n",
    "main_dir= '/mnt/d/GitHub/fine-scale-mutation-spectrum-master/slim_pipe/'\n",
    "log_dir= main_dir\n",
    "sims_dir= main_dir + 'mutation_counter/data/sims/'\n",
    "muted_dir= main_dir + 'mutation_counter/data/mutation_count/'\n",
    "\n",
    "muted= log_dir + 'muted.log'\n",
    "\n",
    "### read log of available counts,\n",
    "### set parameters for comparison.\n",
    "extract= 'pval'\n",
    "available= get_available_muts(muted)\n",
    "individually= False\n",
    "exclude= False\n",
    "p_value= 1e-5\n",
    "frequency_range= [0,1]\n",
    "\n",
    "data= deploy_count(available, frequency_range= frequency_range, p_value= p_value,\n",
    "                                                muted_dir= muted_dir, sims_dir= sims_dir,extract= extract)\n"
   ]
  },
  {
   "cell_type": "markdown",
   "metadata": {},
   "source": [
    "## Data analysis\n",
    "\n",
    "So, we calculated mutation type counts for each population and compared them accross simulations. We are interested to see if sampling could have an impact on the variance of count differences. \n",
    "\n",
    "The function `heatmap` returns a matrix of count proportions across types for each pairwise comparison. We will calculate the variance of each matrix, and plot it against the relative sampling across populations"
   ]
  },
  {
   "cell_type": "code",
   "execution_count": 24,
   "metadata": {},
   "outputs": [],
   "source": [
    "\n",
    "### 1. extract grids\n",
    "grids= [data[s]['grids'] for s in available]\n",
    "grids= list(it.chain(*grids))\n",
    "\n",
    "## mask infinite values and compute std.\n",
    "grids= [np.ma.masked_where(a == np.inf, a) for a in grids]\n",
    "grid_var= [np.mean(x) for x in grids]\n",
    "\n",
    "### 2. calculate proportions across smulations\n",
    "pop_assignment= [[pops_from_sim(x,sims_dir,pop_set=False)] * len(data[x]['grids']) for x in available]\n",
    "pop_assignment= list(it.chain(*pop_assignment))\n",
    "pop_proportions= [{\n",
    "    z: len([x for x in range(len(y)) if y[x]==z]) for z in list(set(y))\n",
    "} for y in pop_assignment]\n",
    "\n",
    "pop_proportions= [sorted(c.values()) for c in pop_proportions]\n",
    "pop_proportions= [x[0] / x[1] for x in pop_proportions]\n"
   ]
  },
  {
   "cell_type": "markdown",
   "metadata": {},
   "source": [
    "> plotting"
   ]
  },
  {
   "cell_type": "code",
   "execution_count": 26,
   "metadata": {},
   "outputs": [
    {
     "data": {
      "text/html": [
       "        <script type=\"text/javascript\">\n",
       "        window.PlotlyConfig = {MathJaxConfig: 'local'};\n",
       "        if (window.MathJax) {MathJax.Hub.Config({SVG: {font: \"STIX-Web\"}});}\n",
       "        if (typeof require !== 'undefined') {\n",
       "        require.undef(\"plotly\");\n",
       "        requirejs.config({\n",
       "            paths: {\n",
       "                'plotly': ['https://cdn.plot.ly/plotly-latest.min']\n",
       "            }\n",
       "        });\n",
       "        require(['plotly'], function(Plotly) {\n",
       "            window._Plotly = Plotly;\n",
       "        });\n",
       "        }\n",
       "        </script>\n",
       "        "
      ]
     },
     "metadata": {},
     "output_type": "display_data"
    },
    {
     "data": {
      "application/vnd.plotly.v1+json": {
       "config": {
        "linkText": "Export to plot.ly",
        "plotlyServerURL": "https://plot.ly",
        "showLink": false
       },
       "data": [
        {
         "mode": "markers",
         "type": "scatter",
         "x": [
          0.05263157894736842,
          0.05263157894736842,
          0.07526881720430108,
          0.07526881720430108,
          0.0989010989010989,
          0.0989010989010989,
          0.13636363636363635,
          0.13636363636363635,
          0.16279069767441862,
          0.16279069767441862,
          0.19047619047619047,
          0.19047619047619047,
          0.2345679012345679,
          0.2345679012345679,
          0.26582278481012656,
          0.26582278481012656,
          0.2987012987012987,
          0.2987012987012987,
          0.35135135135135137,
          0.35135135135135137,
          0.4492753623188406,
          0.4492753623188406,
          0.4925373134328358,
          0.4925373134328358,
          0.5384615384615384,
          0.5384615384615384,
          0.6129032258064516,
          0.6129032258064516,
          0.6666666666666666,
          0.6666666666666666,
          0.7241379310344828,
          0.7241379310344828,
          0.8181818181818182,
          0.8181818181818182,
          0.8867924528301887,
          0.8867924528301887,
          1,
          1,
          0.05263157894736842,
          0.05263157894736842,
          0.06382978723404255,
          0.06382978723404255,
          0.07526881720430108,
          0.07526881720430108,
          0.08695652173913043,
          0.08695652173913043,
          0.0989010989010989,
          0.0989010989010989,
          0.1111111111111111,
          0.1111111111111111,
          0.12359550561797752,
          0.12359550561797752,
          0.14942528735632185,
          0.14942528735632185,
          0.16279069767441862,
          0.16279069767441862,
          0.17647058823529413,
          0.17647058823529413,
          0.19047619047619047,
          0.19047619047619047,
          0.20481927710843373,
          0.20481927710843373,
          0.21951219512195122,
          0.21951219512195122,
          0.25,
          0.25,
          0.26582278481012656,
          0.26582278481012656,
          0.28205128205128205,
          0.28205128205128205,
          0.2987012987012987,
          0.2987012987012987,
          0.3157894736842105,
          0.3157894736842105,
          0.3333333333333333,
          0.3333333333333333,
          0.35135135135135137,
          0.35135135135135137,
          0.3888888888888889,
          0.3888888888888889,
          0.4084507042253521,
          0.4084507042253521,
          0.42857142857142855,
          0.42857142857142855,
          0.05263157894736842,
          0.05263157894736842,
          0.06382978723404255,
          0.06382978723404255,
          0.07526881720430108,
          0.07526881720430108,
          0.08695652173913043,
          0.08695652173913043,
          0.0989010989010989,
          0.0989010989010989,
          0.1111111111111111,
          0.1111111111111111,
          0.12359550561797752,
          0.12359550561797752,
          0.14942528735632185,
          0.14942528735632185,
          0.16279069767441862,
          0.16279069767441862,
          0.17647058823529413,
          0.17647058823529413,
          0.19047619047619047,
          0.19047619047619047,
          0.20481927710843373,
          0.20481927710843373,
          0.21951219512195122,
          0.21951219512195122,
          0.25,
          0.25,
          0.26582278481012656,
          0.26582278481012656,
          0.28205128205128205,
          0.28205128205128205,
          0.2987012987012987,
          0.2987012987012987,
          0.3157894736842105,
          0.3157894736842105,
          0.3333333333333333,
          0.3333333333333333,
          0.35135135135135137,
          0.35135135135135137,
          0.3888888888888889,
          0.3888888888888889,
          0.4084507042253521,
          0.4084507042253521,
          0.42857142857142855,
          0.42857142857142855,
          0.4492753623188406,
          0.4492753623188406,
          0.47058823529411764,
          0.47058823529411764,
          0.4925373134328358,
          0.4925373134328358,
          0.5384615384615384,
          0.5384615384615384,
          0.5625,
          0.5625,
          0.5873015873015873,
          0.5873015873015873,
          0.6129032258064516,
          0.6129032258064516,
          0.639344262295082,
          0.639344262295082,
          0.6666666666666666,
          0.6666666666666666,
          0.6949152542372882,
          0.6949152542372882,
          0.7543859649122807,
          0.7543859649122807,
          0.7857142857142857,
          0.7857142857142857,
          0.8181818181818182,
          0.8181818181818182,
          0.8518518518518519,
          0.8518518518518519,
          0.8867924528301887,
          0.8867924528301887,
          0.9230769230769231,
          0.9230769230769231,
          1,
          1,
          0.28205128205128205,
          0.28205128205128205,
          0.28205128205128205,
          0.28205128205128205,
          0.4925373134328358,
          0.4925373134328358,
          0.05263157894736842,
          0.05263157894736842,
          1,
          1
         ],
         "y": [
          0.7262701078411306,
          0.7262701078411306,
          0.7284175226578177,
          0.7284175226578177,
          0.6917036989435456,
          0.6917036989435456,
          0.7170808510141616,
          0.7170808510141616,
          0.768872534808123,
          0.768872534808123,
          0.7020656755941416,
          0.7020656755941416,
          0.7255897160161684,
          0.7255897160161684,
          0.6859860510963594,
          0.6859860510963594,
          0.6972327353657072,
          0.6972327353657072,
          0.7682937743238405,
          0.7682937743238406,
          0.7601624813575377,
          0.7601624813575377,
          0.7270118120404904,
          0.7270118120404904,
          0.751796604234379,
          0.751796604234379,
          0.761508674683971,
          0.761508674683971,
          0.6756268189628392,
          0.6756268189628392,
          0.7322903008382319,
          0.7322903008382319,
          0.7355485554155964,
          0.7355485554155964,
          0.718980907896437,
          0.718980907896437,
          0.7478876671288784,
          0.7478876671288784,
          0.6535056307978652,
          0.6535056307978652,
          0.6978869690077195,
          0.6978869690077195,
          0.6928208358112729,
          0.6928208358112729,
          0.6663863142310277,
          0.6663863142310277,
          0.6787911884622231,
          0.6787911884622231,
          0.7042357531645944,
          0.7042357531645944,
          0.6923764938046805,
          0.6923764938046806,
          0.6590003942923173,
          0.6590003942923173,
          0.7151705784460848,
          0.7151705784460848,
          0.6628326630216858,
          0.6628326630216858,
          0.7318552261978023,
          0.7318552261978023,
          0.6693999545986591,
          0.6693999545986591,
          0.7382697820960041,
          0.7382697820960041,
          0.6773749403705791,
          0.6773749403705791,
          0.6667365191735731,
          0.6667365191735731,
          0.6741071969448695,
          0.6741071969448695,
          0.7027278687501144,
          0.7027278687501144,
          0.6831925320624971,
          0.6831925320624971,
          0.675982188934685,
          0.675982188934685,
          0.6568480782987532,
          0.6568480782987532,
          0.6719778250260363,
          0.6719778250260363,
          0.6491661735338305,
          0.6491661735338305,
          0.6275087497660378,
          0.6275087497660378,
          0.6535056307978652,
          0.6535056307978652,
          0.6978869690077195,
          0.6978869690077195,
          0.6928208358112729,
          0.6928208358112729,
          0.6663863142310277,
          0.6663863142310277,
          0.6787911884622231,
          0.6787911884622231,
          0.7042357531645944,
          0.7042357531645944,
          0.6923764938046805,
          0.6923764938046806,
          0.6590003942923173,
          0.6590003942923173,
          0.7151705784460848,
          0.7151705784460848,
          0.6628326630216858,
          0.6628326630216858,
          0.7318552261978023,
          0.7318552261978023,
          0.6693999545986591,
          0.6693999545986591,
          0.7382697820960041,
          0.7382697820960041,
          0.6773749403705791,
          0.6773749403705791,
          0.6667365191735731,
          0.6667365191735731,
          0.6741071969448695,
          0.6741071969448695,
          0.7027278687501144,
          0.7027278687501144,
          0.6831925320624971,
          0.6831925320624971,
          0.675982188934685,
          0.675982188934685,
          0.6568480782987532,
          0.6568480782987532,
          0.6719778250260363,
          0.6719778250260363,
          0.6491661735338305,
          0.6491661735338305,
          0.6275087497660378,
          0.6275087497660378,
          0.66494457857471,
          0.66494457857471,
          0.6853346509886874,
          0.6853346509886874,
          0.6890681904651647,
          0.6890681904651647,
          0.6646800524755068,
          0.6646800524755069,
          0.6693463087410683,
          0.6693463087410683,
          0.673581321777693,
          0.673581321777693,
          0.6904325815178424,
          0.6904325815178424,
          0.6383024799071492,
          0.6383024799071492,
          0.6461570499825543,
          0.6461570499825543,
          0.6960202118351116,
          0.6960202118351116,
          0.6593093746071661,
          0.6593093746071661,
          0.7055113565458613,
          0.7055113565458613,
          0.6944880552793666,
          0.6944880552793666,
          0.6618318659062138,
          0.6618318659062139,
          0.6713880513829178,
          0.6713880513829178,
          0.6986222444694494,
          0.6986222444694493,
          0.701649941551811,
          0.701649941551811,
          0.6741071969448695,
          0.6741071969448695,
          0.6741071969448695,
          0.6741071969448695,
          0.6890681904651647,
          0.6890681904651647,
          0.6558132212419815,
          0.6558132212419815,
          0.6890897245327348,
          0.6890897245327348
         ]
        }
       ],
       "layout": {
        "font": {
         "color": "#7f7f7f",
         "family": "Courier New, monospace",
         "size": 15
        },
        "template": {
         "data": {
          "bar": [
           {
            "error_x": {
             "color": "#2a3f5f"
            },
            "error_y": {
             "color": "#2a3f5f"
            },
            "marker": {
             "line": {
              "color": "#E5ECF6",
              "width": 0.5
             }
            },
            "type": "bar"
           }
          ],
          "barpolar": [
           {
            "marker": {
             "line": {
              "color": "#E5ECF6",
              "width": 0.5
             }
            },
            "type": "barpolar"
           }
          ],
          "carpet": [
           {
            "aaxis": {
             "endlinecolor": "#2a3f5f",
             "gridcolor": "white",
             "linecolor": "white",
             "minorgridcolor": "white",
             "startlinecolor": "#2a3f5f"
            },
            "baxis": {
             "endlinecolor": "#2a3f5f",
             "gridcolor": "white",
             "linecolor": "white",
             "minorgridcolor": "white",
             "startlinecolor": "#2a3f5f"
            },
            "type": "carpet"
           }
          ],
          "choropleth": [
           {
            "colorbar": {
             "outlinewidth": 0,
             "ticks": ""
            },
            "type": "choropleth"
           }
          ],
          "contour": [
           {
            "colorbar": {
             "outlinewidth": 0,
             "ticks": ""
            },
            "colorscale": [
             [
              0,
              "#0d0887"
             ],
             [
              0.1111111111111111,
              "#46039f"
             ],
             [
              0.2222222222222222,
              "#7201a8"
             ],
             [
              0.3333333333333333,
              "#9c179e"
             ],
             [
              0.4444444444444444,
              "#bd3786"
             ],
             [
              0.5555555555555556,
              "#d8576b"
             ],
             [
              0.6666666666666666,
              "#ed7953"
             ],
             [
              0.7777777777777778,
              "#fb9f3a"
             ],
             [
              0.8888888888888888,
              "#fdca26"
             ],
             [
              1,
              "#f0f921"
             ]
            ],
            "type": "contour"
           }
          ],
          "contourcarpet": [
           {
            "colorbar": {
             "outlinewidth": 0,
             "ticks": ""
            },
            "type": "contourcarpet"
           }
          ],
          "heatmap": [
           {
            "colorbar": {
             "outlinewidth": 0,
             "ticks": ""
            },
            "colorscale": [
             [
              0,
              "#0d0887"
             ],
             [
              0.1111111111111111,
              "#46039f"
             ],
             [
              0.2222222222222222,
              "#7201a8"
             ],
             [
              0.3333333333333333,
              "#9c179e"
             ],
             [
              0.4444444444444444,
              "#bd3786"
             ],
             [
              0.5555555555555556,
              "#d8576b"
             ],
             [
              0.6666666666666666,
              "#ed7953"
             ],
             [
              0.7777777777777778,
              "#fb9f3a"
             ],
             [
              0.8888888888888888,
              "#fdca26"
             ],
             [
              1,
              "#f0f921"
             ]
            ],
            "type": "heatmap"
           }
          ],
          "heatmapgl": [
           {
            "colorbar": {
             "outlinewidth": 0,
             "ticks": ""
            },
            "colorscale": [
             [
              0,
              "#0d0887"
             ],
             [
              0.1111111111111111,
              "#46039f"
             ],
             [
              0.2222222222222222,
              "#7201a8"
             ],
             [
              0.3333333333333333,
              "#9c179e"
             ],
             [
              0.4444444444444444,
              "#bd3786"
             ],
             [
              0.5555555555555556,
              "#d8576b"
             ],
             [
              0.6666666666666666,
              "#ed7953"
             ],
             [
              0.7777777777777778,
              "#fb9f3a"
             ],
             [
              0.8888888888888888,
              "#fdca26"
             ],
             [
              1,
              "#f0f921"
             ]
            ],
            "type": "heatmapgl"
           }
          ],
          "histogram": [
           {
            "marker": {
             "colorbar": {
              "outlinewidth": 0,
              "ticks": ""
             }
            },
            "type": "histogram"
           }
          ],
          "histogram2d": [
           {
            "colorbar": {
             "outlinewidth": 0,
             "ticks": ""
            },
            "colorscale": [
             [
              0,
              "#0d0887"
             ],
             [
              0.1111111111111111,
              "#46039f"
             ],
             [
              0.2222222222222222,
              "#7201a8"
             ],
             [
              0.3333333333333333,
              "#9c179e"
             ],
             [
              0.4444444444444444,
              "#bd3786"
             ],
             [
              0.5555555555555556,
              "#d8576b"
             ],
             [
              0.6666666666666666,
              "#ed7953"
             ],
             [
              0.7777777777777778,
              "#fb9f3a"
             ],
             [
              0.8888888888888888,
              "#fdca26"
             ],
             [
              1,
              "#f0f921"
             ]
            ],
            "type": "histogram2d"
           }
          ],
          "histogram2dcontour": [
           {
            "colorbar": {
             "outlinewidth": 0,
             "ticks": ""
            },
            "colorscale": [
             [
              0,
              "#0d0887"
             ],
             [
              0.1111111111111111,
              "#46039f"
             ],
             [
              0.2222222222222222,
              "#7201a8"
             ],
             [
              0.3333333333333333,
              "#9c179e"
             ],
             [
              0.4444444444444444,
              "#bd3786"
             ],
             [
              0.5555555555555556,
              "#d8576b"
             ],
             [
              0.6666666666666666,
              "#ed7953"
             ],
             [
              0.7777777777777778,
              "#fb9f3a"
             ],
             [
              0.8888888888888888,
              "#fdca26"
             ],
             [
              1,
              "#f0f921"
             ]
            ],
            "type": "histogram2dcontour"
           }
          ],
          "mesh3d": [
           {
            "colorbar": {
             "outlinewidth": 0,
             "ticks": ""
            },
            "type": "mesh3d"
           }
          ],
          "parcoords": [
           {
            "line": {
             "colorbar": {
              "outlinewidth": 0,
              "ticks": ""
             }
            },
            "type": "parcoords"
           }
          ],
          "pie": [
           {
            "automargin": true,
            "type": "pie"
           }
          ],
          "scatter": [
           {
            "marker": {
             "colorbar": {
              "outlinewidth": 0,
              "ticks": ""
             }
            },
            "type": "scatter"
           }
          ],
          "scatter3d": [
           {
            "line": {
             "colorbar": {
              "outlinewidth": 0,
              "ticks": ""
             }
            },
            "marker": {
             "colorbar": {
              "outlinewidth": 0,
              "ticks": ""
             }
            },
            "type": "scatter3d"
           }
          ],
          "scattercarpet": [
           {
            "marker": {
             "colorbar": {
              "outlinewidth": 0,
              "ticks": ""
             }
            },
            "type": "scattercarpet"
           }
          ],
          "scattergeo": [
           {
            "marker": {
             "colorbar": {
              "outlinewidth": 0,
              "ticks": ""
             }
            },
            "type": "scattergeo"
           }
          ],
          "scattergl": [
           {
            "marker": {
             "colorbar": {
              "outlinewidth": 0,
              "ticks": ""
             }
            },
            "type": "scattergl"
           }
          ],
          "scattermapbox": [
           {
            "marker": {
             "colorbar": {
              "outlinewidth": 0,
              "ticks": ""
             }
            },
            "type": "scattermapbox"
           }
          ],
          "scatterpolar": [
           {
            "marker": {
             "colorbar": {
              "outlinewidth": 0,
              "ticks": ""
             }
            },
            "type": "scatterpolar"
           }
          ],
          "scatterpolargl": [
           {
            "marker": {
             "colorbar": {
              "outlinewidth": 0,
              "ticks": ""
             }
            },
            "type": "scatterpolargl"
           }
          ],
          "scatterternary": [
           {
            "marker": {
             "colorbar": {
              "outlinewidth": 0,
              "ticks": ""
             }
            },
            "type": "scatterternary"
           }
          ],
          "surface": [
           {
            "colorbar": {
             "outlinewidth": 0,
             "ticks": ""
            },
            "colorscale": [
             [
              0,
              "#0d0887"
             ],
             [
              0.1111111111111111,
              "#46039f"
             ],
             [
              0.2222222222222222,
              "#7201a8"
             ],
             [
              0.3333333333333333,
              "#9c179e"
             ],
             [
              0.4444444444444444,
              "#bd3786"
             ],
             [
              0.5555555555555556,
              "#d8576b"
             ],
             [
              0.6666666666666666,
              "#ed7953"
             ],
             [
              0.7777777777777778,
              "#fb9f3a"
             ],
             [
              0.8888888888888888,
              "#fdca26"
             ],
             [
              1,
              "#f0f921"
             ]
            ],
            "type": "surface"
           }
          ],
          "table": [
           {
            "cells": {
             "fill": {
              "color": "#EBF0F8"
             },
             "line": {
              "color": "white"
             }
            },
            "header": {
             "fill": {
              "color": "#C8D4E3"
             },
             "line": {
              "color": "white"
             }
            },
            "type": "table"
           }
          ]
         },
         "layout": {
          "annotationdefaults": {
           "arrowcolor": "#2a3f5f",
           "arrowhead": 0,
           "arrowwidth": 1
          },
          "coloraxis": {
           "colorbar": {
            "outlinewidth": 0,
            "ticks": ""
           }
          },
          "colorscale": {
           "diverging": [
            [
             0,
             "#8e0152"
            ],
            [
             0.1,
             "#c51b7d"
            ],
            [
             0.2,
             "#de77ae"
            ],
            [
             0.3,
             "#f1b6da"
            ],
            [
             0.4,
             "#fde0ef"
            ],
            [
             0.5,
             "#f7f7f7"
            ],
            [
             0.6,
             "#e6f5d0"
            ],
            [
             0.7,
             "#b8e186"
            ],
            [
             0.8,
             "#7fbc41"
            ],
            [
             0.9,
             "#4d9221"
            ],
            [
             1,
             "#276419"
            ]
           ],
           "sequential": [
            [
             0,
             "#0d0887"
            ],
            [
             0.1111111111111111,
             "#46039f"
            ],
            [
             0.2222222222222222,
             "#7201a8"
            ],
            [
             0.3333333333333333,
             "#9c179e"
            ],
            [
             0.4444444444444444,
             "#bd3786"
            ],
            [
             0.5555555555555556,
             "#d8576b"
            ],
            [
             0.6666666666666666,
             "#ed7953"
            ],
            [
             0.7777777777777778,
             "#fb9f3a"
            ],
            [
             0.8888888888888888,
             "#fdca26"
            ],
            [
             1,
             "#f0f921"
            ]
           ],
           "sequentialminus": [
            [
             0,
             "#0d0887"
            ],
            [
             0.1111111111111111,
             "#46039f"
            ],
            [
             0.2222222222222222,
             "#7201a8"
            ],
            [
             0.3333333333333333,
             "#9c179e"
            ],
            [
             0.4444444444444444,
             "#bd3786"
            ],
            [
             0.5555555555555556,
             "#d8576b"
            ],
            [
             0.6666666666666666,
             "#ed7953"
            ],
            [
             0.7777777777777778,
             "#fb9f3a"
            ],
            [
             0.8888888888888888,
             "#fdca26"
            ],
            [
             1,
             "#f0f921"
            ]
           ]
          },
          "colorway": [
           "#636efa",
           "#EF553B",
           "#00cc96",
           "#ab63fa",
           "#FFA15A",
           "#19d3f3",
           "#FF6692",
           "#B6E880",
           "#FF97FF",
           "#FECB52"
          ],
          "font": {
           "color": "#2a3f5f"
          },
          "geo": {
           "bgcolor": "white",
           "lakecolor": "white",
           "landcolor": "#E5ECF6",
           "showlakes": true,
           "showland": true,
           "subunitcolor": "white"
          },
          "hoverlabel": {
           "align": "left"
          },
          "hovermode": "closest",
          "mapbox": {
           "style": "light"
          },
          "paper_bgcolor": "white",
          "plot_bgcolor": "#E5ECF6",
          "polar": {
           "angularaxis": {
            "gridcolor": "white",
            "linecolor": "white",
            "ticks": ""
           },
           "bgcolor": "#E5ECF6",
           "radialaxis": {
            "gridcolor": "white",
            "linecolor": "white",
            "ticks": ""
           }
          },
          "scene": {
           "xaxis": {
            "backgroundcolor": "#E5ECF6",
            "gridcolor": "white",
            "gridwidth": 2,
            "linecolor": "white",
            "showbackground": true,
            "ticks": "",
            "zerolinecolor": "white"
           },
           "yaxis": {
            "backgroundcolor": "#E5ECF6",
            "gridcolor": "white",
            "gridwidth": 2,
            "linecolor": "white",
            "showbackground": true,
            "ticks": "",
            "zerolinecolor": "white"
           },
           "zaxis": {
            "backgroundcolor": "#E5ECF6",
            "gridcolor": "white",
            "gridwidth": 2,
            "linecolor": "white",
            "showbackground": true,
            "ticks": "",
            "zerolinecolor": "white"
           }
          },
          "shapedefaults": {
           "line": {
            "color": "#2a3f5f"
           }
          },
          "ternary": {
           "aaxis": {
            "gridcolor": "white",
            "linecolor": "white",
            "ticks": ""
           },
           "baxis": {
            "gridcolor": "white",
            "linecolor": "white",
            "ticks": ""
           },
           "bgcolor": "#E5ECF6",
           "caxis": {
            "gridcolor": "white",
            "linecolor": "white",
            "ticks": ""
           }
          },
          "title": {
           "x": 0.05
          },
          "xaxis": {
           "automargin": true,
           "gridcolor": "white",
           "linecolor": "white",
           "ticks": "",
           "title": {
            "standoff": 15
           },
           "zerolinecolor": "white",
           "zerolinewidth": 2
          },
          "yaxis": {
           "automargin": true,
           "gridcolor": "white",
           "linecolor": "white",
           "ticks": "",
           "title": {
            "standoff": 15
           },
           "zerolinecolor": "white",
           "zerolinewidth": 2
          }
         }
        },
        "title": {
         "text": "Mutation spectrum divergence and relative sampling"
        },
        "xaxis": {
         "title": {
          "text": "relative sampling"
         }
        },
        "yaxis": {
         "title": {
          "text": "mean  matrix p-val"
         }
        }
       }
      },
      "text/html": [
       "<div>\n",
       "        \n",
       "        \n",
       "            <div id=\"6819767a-aa72-4b28-a74d-755179c0300f\" class=\"plotly-graph-div\" style=\"height:525px; width:100%;\"></div>\n",
       "            <script type=\"text/javascript\">\n",
       "                require([\"plotly\"], function(Plotly) {\n",
       "                    window.PLOTLYENV=window.PLOTLYENV || {};\n",
       "                    \n",
       "                if (document.getElementById(\"6819767a-aa72-4b28-a74d-755179c0300f\")) {\n",
       "                    Plotly.newPlot(\n",
       "                        '6819767a-aa72-4b28-a74d-755179c0300f',\n",
       "                        [{\"mode\": \"markers\", \"type\": \"scatter\", \"x\": [0.05263157894736842, 0.05263157894736842, 0.07526881720430108, 0.07526881720430108, 0.0989010989010989, 0.0989010989010989, 0.13636363636363635, 0.13636363636363635, 0.16279069767441862, 0.16279069767441862, 0.19047619047619047, 0.19047619047619047, 0.2345679012345679, 0.2345679012345679, 0.26582278481012656, 0.26582278481012656, 0.2987012987012987, 0.2987012987012987, 0.35135135135135137, 0.35135135135135137, 0.4492753623188406, 0.4492753623188406, 0.4925373134328358, 0.4925373134328358, 0.5384615384615384, 0.5384615384615384, 0.6129032258064516, 0.6129032258064516, 0.6666666666666666, 0.6666666666666666, 0.7241379310344828, 0.7241379310344828, 0.8181818181818182, 0.8181818181818182, 0.8867924528301887, 0.8867924528301887, 1.0, 1.0, 0.05263157894736842, 0.05263157894736842, 0.06382978723404255, 0.06382978723404255, 0.07526881720430108, 0.07526881720430108, 0.08695652173913043, 0.08695652173913043, 0.0989010989010989, 0.0989010989010989, 0.1111111111111111, 0.1111111111111111, 0.12359550561797752, 0.12359550561797752, 0.14942528735632185, 0.14942528735632185, 0.16279069767441862, 0.16279069767441862, 0.17647058823529413, 0.17647058823529413, 0.19047619047619047, 0.19047619047619047, 0.20481927710843373, 0.20481927710843373, 0.21951219512195122, 0.21951219512195122, 0.25, 0.25, 0.26582278481012656, 0.26582278481012656, 0.28205128205128205, 0.28205128205128205, 0.2987012987012987, 0.2987012987012987, 0.3157894736842105, 0.3157894736842105, 0.3333333333333333, 0.3333333333333333, 0.35135135135135137, 0.35135135135135137, 0.3888888888888889, 0.3888888888888889, 0.4084507042253521, 0.4084507042253521, 0.42857142857142855, 0.42857142857142855, 0.05263157894736842, 0.05263157894736842, 0.06382978723404255, 0.06382978723404255, 0.07526881720430108, 0.07526881720430108, 0.08695652173913043, 0.08695652173913043, 0.0989010989010989, 0.0989010989010989, 0.1111111111111111, 0.1111111111111111, 0.12359550561797752, 0.12359550561797752, 0.14942528735632185, 0.14942528735632185, 0.16279069767441862, 0.16279069767441862, 0.17647058823529413, 0.17647058823529413, 0.19047619047619047, 0.19047619047619047, 0.20481927710843373, 0.20481927710843373, 0.21951219512195122, 0.21951219512195122, 0.25, 0.25, 0.26582278481012656, 0.26582278481012656, 0.28205128205128205, 0.28205128205128205, 0.2987012987012987, 0.2987012987012987, 0.3157894736842105, 0.3157894736842105, 0.3333333333333333, 0.3333333333333333, 0.35135135135135137, 0.35135135135135137, 0.3888888888888889, 0.3888888888888889, 0.4084507042253521, 0.4084507042253521, 0.42857142857142855, 0.42857142857142855, 0.4492753623188406, 0.4492753623188406, 0.47058823529411764, 0.47058823529411764, 0.4925373134328358, 0.4925373134328358, 0.5384615384615384, 0.5384615384615384, 0.5625, 0.5625, 0.5873015873015873, 0.5873015873015873, 0.6129032258064516, 0.6129032258064516, 0.639344262295082, 0.639344262295082, 0.6666666666666666, 0.6666666666666666, 0.6949152542372882, 0.6949152542372882, 0.7543859649122807, 0.7543859649122807, 0.7857142857142857, 0.7857142857142857, 0.8181818181818182, 0.8181818181818182, 0.8518518518518519, 0.8518518518518519, 0.8867924528301887, 0.8867924528301887, 0.9230769230769231, 0.9230769230769231, 1.0, 1.0, 0.28205128205128205, 0.28205128205128205, 0.28205128205128205, 0.28205128205128205, 0.4925373134328358, 0.4925373134328358, 0.05263157894736842, 0.05263157894736842, 1.0, 1.0], \"y\": [0.7262701078411306, 0.7262701078411306, 0.7284175226578177, 0.7284175226578177, 0.6917036989435456, 0.6917036989435456, 0.7170808510141616, 0.7170808510141616, 0.768872534808123, 0.768872534808123, 0.7020656755941416, 0.7020656755941416, 0.7255897160161684, 0.7255897160161684, 0.6859860510963594, 0.6859860510963594, 0.6972327353657072, 0.6972327353657072, 0.7682937743238405, 0.7682937743238406, 0.7601624813575377, 0.7601624813575377, 0.7270118120404904, 0.7270118120404904, 0.751796604234379, 0.751796604234379, 0.761508674683971, 0.761508674683971, 0.6756268189628392, 0.6756268189628392, 0.7322903008382319, 0.7322903008382319, 0.7355485554155964, 0.7355485554155964, 0.718980907896437, 0.718980907896437, 0.7478876671288784, 0.7478876671288784, 0.6535056307978652, 0.6535056307978652, 0.6978869690077195, 0.6978869690077195, 0.6928208358112729, 0.6928208358112729, 0.6663863142310277, 0.6663863142310277, 0.6787911884622231, 0.6787911884622231, 0.7042357531645944, 0.7042357531645944, 0.6923764938046805, 0.6923764938046806, 0.6590003942923173, 0.6590003942923173, 0.7151705784460848, 0.7151705784460848, 0.6628326630216858, 0.6628326630216858, 0.7318552261978023, 0.7318552261978023, 0.6693999545986591, 0.6693999545986591, 0.7382697820960041, 0.7382697820960041, 0.6773749403705791, 0.6773749403705791, 0.6667365191735731, 0.6667365191735731, 0.6741071969448695, 0.6741071969448695, 0.7027278687501144, 0.7027278687501144, 0.6831925320624971, 0.6831925320624971, 0.675982188934685, 0.675982188934685, 0.6568480782987532, 0.6568480782987532, 0.6719778250260363, 0.6719778250260363, 0.6491661735338305, 0.6491661735338305, 0.6275087497660378, 0.6275087497660378, 0.6535056307978652, 0.6535056307978652, 0.6978869690077195, 0.6978869690077195, 0.6928208358112729, 0.6928208358112729, 0.6663863142310277, 0.6663863142310277, 0.6787911884622231, 0.6787911884622231, 0.7042357531645944, 0.7042357531645944, 0.6923764938046805, 0.6923764938046806, 0.6590003942923173, 0.6590003942923173, 0.7151705784460848, 0.7151705784460848, 0.6628326630216858, 0.6628326630216858, 0.7318552261978023, 0.7318552261978023, 0.6693999545986591, 0.6693999545986591, 0.7382697820960041, 0.7382697820960041, 0.6773749403705791, 0.6773749403705791, 0.6667365191735731, 0.6667365191735731, 0.6741071969448695, 0.6741071969448695, 0.7027278687501144, 0.7027278687501144, 0.6831925320624971, 0.6831925320624971, 0.675982188934685, 0.675982188934685, 0.6568480782987532, 0.6568480782987532, 0.6719778250260363, 0.6719778250260363, 0.6491661735338305, 0.6491661735338305, 0.6275087497660378, 0.6275087497660378, 0.66494457857471, 0.66494457857471, 0.6853346509886874, 0.6853346509886874, 0.6890681904651647, 0.6890681904651647, 0.6646800524755068, 0.6646800524755069, 0.6693463087410683, 0.6693463087410683, 0.673581321777693, 0.673581321777693, 0.6904325815178424, 0.6904325815178424, 0.6383024799071492, 0.6383024799071492, 0.6461570499825543, 0.6461570499825543, 0.6960202118351116, 0.6960202118351116, 0.6593093746071661, 0.6593093746071661, 0.7055113565458613, 0.7055113565458613, 0.6944880552793666, 0.6944880552793666, 0.6618318659062138, 0.6618318659062139, 0.6713880513829178, 0.6713880513829178, 0.6986222444694494, 0.6986222444694493, 0.701649941551811, 0.701649941551811, 0.6741071969448695, 0.6741071969448695, 0.6741071969448695, 0.6741071969448695, 0.6890681904651647, 0.6890681904651647, 0.6558132212419815, 0.6558132212419815, 0.6890897245327348, 0.6890897245327348]}],\n",
       "                        {\"font\": {\"color\": \"#7f7f7f\", \"family\": \"Courier New, monospace\", \"size\": 15}, \"template\": {\"data\": {\"bar\": [{\"error_x\": {\"color\": \"#2a3f5f\"}, \"error_y\": {\"color\": \"#2a3f5f\"}, \"marker\": {\"line\": {\"color\": \"#E5ECF6\", \"width\": 0.5}}, \"type\": \"bar\"}], \"barpolar\": [{\"marker\": {\"line\": {\"color\": \"#E5ECF6\", \"width\": 0.5}}, \"type\": \"barpolar\"}], \"carpet\": [{\"aaxis\": {\"endlinecolor\": \"#2a3f5f\", \"gridcolor\": \"white\", \"linecolor\": \"white\", \"minorgridcolor\": \"white\", \"startlinecolor\": \"#2a3f5f\"}, \"baxis\": {\"endlinecolor\": \"#2a3f5f\", \"gridcolor\": \"white\", \"linecolor\": \"white\", \"minorgridcolor\": \"white\", \"startlinecolor\": \"#2a3f5f\"}, \"type\": \"carpet\"}], \"choropleth\": [{\"colorbar\": {\"outlinewidth\": 0, \"ticks\": \"\"}, \"type\": \"choropleth\"}], \"contour\": [{\"colorbar\": {\"outlinewidth\": 0, \"ticks\": \"\"}, \"colorscale\": [[0.0, \"#0d0887\"], [0.1111111111111111, \"#46039f\"], [0.2222222222222222, \"#7201a8\"], [0.3333333333333333, \"#9c179e\"], [0.4444444444444444, \"#bd3786\"], [0.5555555555555556, \"#d8576b\"], [0.6666666666666666, \"#ed7953\"], [0.7777777777777778, \"#fb9f3a\"], [0.8888888888888888, \"#fdca26\"], [1.0, \"#f0f921\"]], \"type\": \"contour\"}], \"contourcarpet\": [{\"colorbar\": {\"outlinewidth\": 0, \"ticks\": \"\"}, \"type\": \"contourcarpet\"}], \"heatmap\": [{\"colorbar\": {\"outlinewidth\": 0, \"ticks\": \"\"}, \"colorscale\": [[0.0, \"#0d0887\"], [0.1111111111111111, \"#46039f\"], [0.2222222222222222, \"#7201a8\"], [0.3333333333333333, \"#9c179e\"], [0.4444444444444444, \"#bd3786\"], [0.5555555555555556, \"#d8576b\"], [0.6666666666666666, \"#ed7953\"], [0.7777777777777778, \"#fb9f3a\"], [0.8888888888888888, \"#fdca26\"], [1.0, \"#f0f921\"]], \"type\": \"heatmap\"}], \"heatmapgl\": [{\"colorbar\": {\"outlinewidth\": 0, \"ticks\": \"\"}, \"colorscale\": [[0.0, \"#0d0887\"], [0.1111111111111111, \"#46039f\"], [0.2222222222222222, \"#7201a8\"], [0.3333333333333333, \"#9c179e\"], [0.4444444444444444, \"#bd3786\"], [0.5555555555555556, \"#d8576b\"], [0.6666666666666666, \"#ed7953\"], [0.7777777777777778, \"#fb9f3a\"], [0.8888888888888888, \"#fdca26\"], [1.0, \"#f0f921\"]], \"type\": \"heatmapgl\"}], \"histogram\": [{\"marker\": {\"colorbar\": {\"outlinewidth\": 0, \"ticks\": \"\"}}, \"type\": \"histogram\"}], \"histogram2d\": [{\"colorbar\": {\"outlinewidth\": 0, \"ticks\": \"\"}, \"colorscale\": [[0.0, \"#0d0887\"], [0.1111111111111111, \"#46039f\"], [0.2222222222222222, \"#7201a8\"], [0.3333333333333333, \"#9c179e\"], [0.4444444444444444, \"#bd3786\"], [0.5555555555555556, \"#d8576b\"], [0.6666666666666666, \"#ed7953\"], [0.7777777777777778, \"#fb9f3a\"], [0.8888888888888888, \"#fdca26\"], [1.0, \"#f0f921\"]], \"type\": \"histogram2d\"}], \"histogram2dcontour\": [{\"colorbar\": {\"outlinewidth\": 0, \"ticks\": \"\"}, \"colorscale\": [[0.0, \"#0d0887\"], [0.1111111111111111, \"#46039f\"], [0.2222222222222222, \"#7201a8\"], [0.3333333333333333, \"#9c179e\"], [0.4444444444444444, \"#bd3786\"], [0.5555555555555556, \"#d8576b\"], [0.6666666666666666, \"#ed7953\"], [0.7777777777777778, \"#fb9f3a\"], [0.8888888888888888, \"#fdca26\"], [1.0, \"#f0f921\"]], \"type\": \"histogram2dcontour\"}], \"mesh3d\": [{\"colorbar\": {\"outlinewidth\": 0, \"ticks\": \"\"}, \"type\": \"mesh3d\"}], \"parcoords\": [{\"line\": {\"colorbar\": {\"outlinewidth\": 0, \"ticks\": \"\"}}, \"type\": \"parcoords\"}], \"pie\": [{\"automargin\": true, \"type\": \"pie\"}], \"scatter\": [{\"marker\": {\"colorbar\": {\"outlinewidth\": 0, \"ticks\": \"\"}}, \"type\": \"scatter\"}], \"scatter3d\": [{\"line\": {\"colorbar\": {\"outlinewidth\": 0, \"ticks\": \"\"}}, \"marker\": {\"colorbar\": {\"outlinewidth\": 0, \"ticks\": \"\"}}, \"type\": \"scatter3d\"}], \"scattercarpet\": [{\"marker\": {\"colorbar\": {\"outlinewidth\": 0, \"ticks\": \"\"}}, \"type\": \"scattercarpet\"}], \"scattergeo\": [{\"marker\": {\"colorbar\": {\"outlinewidth\": 0, \"ticks\": \"\"}}, \"type\": \"scattergeo\"}], \"scattergl\": [{\"marker\": {\"colorbar\": {\"outlinewidth\": 0, \"ticks\": \"\"}}, \"type\": \"scattergl\"}], \"scattermapbox\": [{\"marker\": {\"colorbar\": {\"outlinewidth\": 0, \"ticks\": \"\"}}, \"type\": \"scattermapbox\"}], \"scatterpolar\": [{\"marker\": {\"colorbar\": {\"outlinewidth\": 0, \"ticks\": \"\"}}, \"type\": \"scatterpolar\"}], \"scatterpolargl\": [{\"marker\": {\"colorbar\": {\"outlinewidth\": 0, \"ticks\": \"\"}}, \"type\": \"scatterpolargl\"}], \"scatterternary\": [{\"marker\": {\"colorbar\": {\"outlinewidth\": 0, \"ticks\": \"\"}}, \"type\": \"scatterternary\"}], \"surface\": [{\"colorbar\": {\"outlinewidth\": 0, \"ticks\": \"\"}, \"colorscale\": [[0.0, \"#0d0887\"], [0.1111111111111111, \"#46039f\"], [0.2222222222222222, \"#7201a8\"], [0.3333333333333333, \"#9c179e\"], [0.4444444444444444, \"#bd3786\"], [0.5555555555555556, \"#d8576b\"], [0.6666666666666666, \"#ed7953\"], [0.7777777777777778, \"#fb9f3a\"], [0.8888888888888888, \"#fdca26\"], [1.0, \"#f0f921\"]], \"type\": \"surface\"}], \"table\": [{\"cells\": {\"fill\": {\"color\": \"#EBF0F8\"}, \"line\": {\"color\": \"white\"}}, \"header\": {\"fill\": {\"color\": \"#C8D4E3\"}, \"line\": {\"color\": \"white\"}}, \"type\": \"table\"}]}, \"layout\": {\"annotationdefaults\": {\"arrowcolor\": \"#2a3f5f\", \"arrowhead\": 0, \"arrowwidth\": 1}, \"coloraxis\": {\"colorbar\": {\"outlinewidth\": 0, \"ticks\": \"\"}}, \"colorscale\": {\"diverging\": [[0, \"#8e0152\"], [0.1, \"#c51b7d\"], [0.2, \"#de77ae\"], [0.3, \"#f1b6da\"], [0.4, \"#fde0ef\"], [0.5, \"#f7f7f7\"], [0.6, \"#e6f5d0\"], [0.7, \"#b8e186\"], [0.8, \"#7fbc41\"], [0.9, \"#4d9221\"], [1, \"#276419\"]], \"sequential\": [[0.0, \"#0d0887\"], [0.1111111111111111, \"#46039f\"], [0.2222222222222222, \"#7201a8\"], [0.3333333333333333, \"#9c179e\"], [0.4444444444444444, \"#bd3786\"], [0.5555555555555556, \"#d8576b\"], [0.6666666666666666, \"#ed7953\"], [0.7777777777777778, \"#fb9f3a\"], [0.8888888888888888, \"#fdca26\"], [1.0, \"#f0f921\"]], \"sequentialminus\": [[0.0, \"#0d0887\"], [0.1111111111111111, \"#46039f\"], [0.2222222222222222, \"#7201a8\"], [0.3333333333333333, \"#9c179e\"], [0.4444444444444444, \"#bd3786\"], [0.5555555555555556, \"#d8576b\"], [0.6666666666666666, \"#ed7953\"], [0.7777777777777778, \"#fb9f3a\"], [0.8888888888888888, \"#fdca26\"], [1.0, \"#f0f921\"]]}, \"colorway\": [\"#636efa\", \"#EF553B\", \"#00cc96\", \"#ab63fa\", \"#FFA15A\", \"#19d3f3\", \"#FF6692\", \"#B6E880\", \"#FF97FF\", \"#FECB52\"], \"font\": {\"color\": \"#2a3f5f\"}, \"geo\": {\"bgcolor\": \"white\", \"lakecolor\": \"white\", \"landcolor\": \"#E5ECF6\", \"showlakes\": true, \"showland\": true, \"subunitcolor\": \"white\"}, \"hoverlabel\": {\"align\": \"left\"}, \"hovermode\": \"closest\", \"mapbox\": {\"style\": \"light\"}, \"paper_bgcolor\": \"white\", \"plot_bgcolor\": \"#E5ECF6\", \"polar\": {\"angularaxis\": {\"gridcolor\": \"white\", \"linecolor\": \"white\", \"ticks\": \"\"}, \"bgcolor\": \"#E5ECF6\", \"radialaxis\": {\"gridcolor\": \"white\", \"linecolor\": \"white\", \"ticks\": \"\"}}, \"scene\": {\"xaxis\": {\"backgroundcolor\": \"#E5ECF6\", \"gridcolor\": \"white\", \"gridwidth\": 2, \"linecolor\": \"white\", \"showbackground\": true, \"ticks\": \"\", \"zerolinecolor\": \"white\"}, \"yaxis\": {\"backgroundcolor\": \"#E5ECF6\", \"gridcolor\": \"white\", \"gridwidth\": 2, \"linecolor\": \"white\", \"showbackground\": true, \"ticks\": \"\", \"zerolinecolor\": \"white\"}, \"zaxis\": {\"backgroundcolor\": \"#E5ECF6\", \"gridcolor\": \"white\", \"gridwidth\": 2, \"linecolor\": \"white\", \"showbackground\": true, \"ticks\": \"\", \"zerolinecolor\": \"white\"}}, \"shapedefaults\": {\"line\": {\"color\": \"#2a3f5f\"}}, \"ternary\": {\"aaxis\": {\"gridcolor\": \"white\", \"linecolor\": \"white\", \"ticks\": \"\"}, \"baxis\": {\"gridcolor\": \"white\", \"linecolor\": \"white\", \"ticks\": \"\"}, \"bgcolor\": \"#E5ECF6\", \"caxis\": {\"gridcolor\": \"white\", \"linecolor\": \"white\", \"ticks\": \"\"}}, \"title\": {\"x\": 0.05}, \"xaxis\": {\"automargin\": true, \"gridcolor\": \"white\", \"linecolor\": \"white\", \"ticks\": \"\", \"title\": {\"standoff\": 15}, \"zerolinecolor\": \"white\", \"zerolinewidth\": 2}, \"yaxis\": {\"automargin\": true, \"gridcolor\": \"white\", \"linecolor\": \"white\", \"ticks\": \"\", \"title\": {\"standoff\": 15}, \"zerolinecolor\": \"white\", \"zerolinewidth\": 2}}}, \"title\": {\"text\": \"Mutation spectrum divergence and relative sampling\"}, \"xaxis\": {\"title\": {\"text\": \"relative sampling\"}}, \"yaxis\": {\"title\": {\"text\": \"mean  matrix p-val\"}}},\n",
       "                        {\"responsive\": true}\n",
       "                    ).then(function(){\n",
       "                            \n",
       "var gd = document.getElementById('6819767a-aa72-4b28-a74d-755179c0300f');\n",
       "var x = new MutationObserver(function (mutations, observer) {{\n",
       "        var display = window.getComputedStyle(gd).display;\n",
       "        if (!display || display === 'none') {{\n",
       "            console.log([gd, 'removed!']);\n",
       "            Plotly.purge(gd);\n",
       "            observer.disconnect();\n",
       "        }}\n",
       "}});\n",
       "\n",
       "// Listen for the removal of the full notebook cells\n",
       "var notebookContainer = gd.closest('#notebook-container');\n",
       "if (notebookContainer) {{\n",
       "    x.observe(notebookContainer, {childList: true});\n",
       "}}\n",
       "\n",
       "// Listen for the clearing of the current output cell\n",
       "var outputEl = gd.closest('.output');\n",
       "if (outputEl) {{\n",
       "    x.observe(outputEl, {childList: true});\n",
       "}}\n",
       "\n",
       "                        })\n",
       "                };\n",
       "                });\n",
       "            </script>\n",
       "        </div>"
      ]
     },
     "metadata": {},
     "output_type": "display_data"
    }
   ],
   "source": [
    "from _plotly_future_ import v4_subplots\n",
    "import plotly.graph_objs as go\n",
    "from plotly.offline import download_plotlyjs, init_notebook_mode, plot, iplot\n",
    "from plotly.graph_objs import *\n",
    "\n",
    "from ipywidgets import interact, interactive, fixed, interact_manual\n",
    "import ipywidgets as widgets\n",
    "init_notebook_mode(connected=True)\n",
    "\n",
    "####\n",
    "####\n",
    "fig= [go.Scatter(\n",
    "    x= pop_proportions,\n",
    "    y= grid_var, \n",
    "    mode= 'markers'\n",
    ")]\n",
    "\n",
    "layout= go.Layout(\n",
    "    title= 'Mutation spectrum divergence and relative sampling',\n",
    "    xaxis= dict(\n",
    "        title= 'relative sampling'\n",
    "    ),\n",
    "    yaxis= dict(\n",
    "        title= 'mean  matrix p-val'\n",
    "    ),\n",
    "    font=dict(\n",
    "        family=\"Courier New, monospace\",\n",
    "        size=15,\n",
    "        color=\"#7f7f7f\"\n",
    "    )\n",
    ")\n",
    "\n",
    "figure= go.Figure(data= fig,layout= layout)\n",
    "\n",
    "iplot(figure)"
   ]
  },
  {
   "cell_type": "code",
   "execution_count": null,
   "metadata": {},
   "outputs": [],
   "source": []
  }
 ],
 "metadata": {
  "kernelspec": {
   "display_name": "Python 2",
   "language": "python",
   "name": "python2"
  },
  "language_info": {
   "codemirror_mode": {
    "name": "ipython",
    "version": 3
   },
   "file_extension": ".py",
   "mimetype": "text/x-python",
   "name": "python",
   "nbconvert_exporter": "python",
   "pygments_lexer": "ipython3",
   "version": "3.6.9"
  }
 },
 "nbformat": 4,
 "nbformat_minor": 2
}
