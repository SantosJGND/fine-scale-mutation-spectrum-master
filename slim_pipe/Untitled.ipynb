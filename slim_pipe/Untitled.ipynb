{
 "cells": [
  {
   "cell_type": "code",
   "execution_count": 1,
   "metadata": {},
   "outputs": [
    {
     "data": {
      "text/html": [
       "        <script type=\"text/javascript\">\n",
       "        window.PlotlyConfig = {MathJaxConfig: 'local'};\n",
       "        if (window.MathJax) {MathJax.Hub.Config({SVG: {font: \"STIX-Web\"}});}\n",
       "        if (typeof require !== 'undefined') {\n",
       "        require.undef(\"plotly\");\n",
       "        requirejs.config({\n",
       "            paths: {\n",
       "                'plotly': ['https://cdn.plot.ly/plotly-latest.min']\n",
       "            }\n",
       "        });\n",
       "        require(['plotly'], function(Plotly) {\n",
       "            window._Plotly = Plotly;\n",
       "        });\n",
       "        }\n",
       "        </script>\n",
       "        "
      ]
     },
     "metadata": {},
     "output_type": "display_data"
    }
   ],
   "source": [
    "import sys\n",
    "import argparse\n",
    "import numpy as np\n",
    "from scipy.stats import chi2_contingency\n",
    "from itertools import product\n",
    "import itertools as it\n",
    "\n",
    "import allel\n",
    "import pandas as pd\n",
    "\n",
    "from _plotly_future_ import v4_subplots\n",
    "import plotly.graph_objs as go\n",
    "from plotly.offline import download_plotlyjs, init_notebook_mode, plot, iplot\n",
    "from plotly.graph_objs import *\n",
    "\n",
    "from ipywidgets import interact, interactive, fixed, interact_manual\n",
    "import ipywidgets as widgets\n",
    "init_notebook_mode(connected=True)\n",
    "    \n",
    "from datetime import datetime\n",
    "import tempfile\n",
    "import os\n",
    "import gzip\n",
    "import subprocess\n",
    "import time\n",
    "\n",
    "import collections\n",
    "def recursively_default_dict():\n",
    "    return collections.defaultdict(recursively_default_dict)\n"
   ]
  },
  {
   "cell_type": "code",
   "execution_count": 2,
   "metadata": {},
   "outputs": [],
   "source": [
    "filetest='/mnt/d/SLiM/Rmut_var/mut_matrices/mut_matrix_v0.txt'\n",
    "with open(filetest,'r') as fp:\n",
    "    lines= fp.readlines()\n",
    "    "
   ]
  },
  {
   "cell_type": "code",
   "execution_count": 3,
   "metadata": {},
   "outputs": [
    {
     "data": {
      "text/plain": [
       "['AAA\\t0,3.3333333333333334e-09,3.3333333333333334e-09,3.3333333333333334e-09\\n',\n",
       " 'AAT\\t0,3.3333333333333334e-09,3.3333333333333334e-09,3.3333333333333334e-09\\n',\n",
       " 'AAC\\t0,3.3333333333333334e-09,3.3333333333333334e-09,3.3333333333333334e-09\\n',\n",
       " 'AAG\\t0,3.3333333333333334e-09,3.3333333333333334e-09,3.3333333333333334e-09\\n',\n",
       " 'ATA\\t3.3333333333333334e-09,3.3333333333333334e-09,3.3333333333333334e-09,0\\n',\n",
       " 'ATT\\t3.3333333333333334e-09,3.3333333333333334e-09,3.3333333333333334e-09,0\\n',\n",
       " 'ATC\\t3.3333333333333334e-09,3.3333333333333334e-09,3.3333333333333334e-09,0\\n',\n",
       " 'ATG\\t3.3333333333333334e-09,3.3333333333333334e-09,3.3333333333333334e-09,0\\n',\n",
       " 'ACA\\t3.3333333333333334e-09,0,3.3333333333333334e-09,3.3333333333333334e-09\\n',\n",
       " 'ACT\\t3.3333333333333334e-09,0,3.3333333333333334e-09,3.3333333333333334e-09\\n',\n",
       " 'ACC\\t3.3333333333333334e-09,0,3.3333333333333334e-09,3.3333333333333334e-09\\n',\n",
       " 'ACG\\t3.3333333333333334e-09,0,3.3333333333333334e-09,3.3333333333333334e-09\\n',\n",
       " 'AGA\\t3.3333333333333334e-09,3.3333333333333334e-09,0,3.3333333333333334e-09\\n',\n",
       " 'AGT\\t3.3333333333333334e-09,3.3333333333333334e-09,0,3.3333333333333334e-09\\n',\n",
       " 'AGC\\t3.3333333333333334e-09,3.3333333333333334e-09,0,3.3333333333333334e-09\\n',\n",
       " 'AGG\\t3.3333333333333334e-09,3.3333333333333334e-09,0,3.3333333333333334e-09\\n',\n",
       " 'TAA\\t0,3.3333333333333334e-09,3.3333333333333334e-09,3.3333333333333334e-09\\n',\n",
       " 'TAT\\t0,3.3333333333333334e-09,3.3333333333333334e-09,3.3333333333333334e-09\\n',\n",
       " 'TAC\\t0,3.3333333333333334e-09,3.3333333333333334e-09,3.3333333333333334e-09\\n',\n",
       " 'TAG\\t0,3.3333333333333334e-09,3.3333333333333334e-09,3.3333333333333334e-09\\n',\n",
       " 'TTA\\t3.3333333333333334e-09,3.3333333333333334e-09,3.3333333333333334e-09,0\\n',\n",
       " 'TTT\\t3.3333333333333334e-09,3.3333333333333334e-09,3.3333333333333334e-09,0\\n',\n",
       " 'TTC\\t3.3333333333333334e-09,3.3333333333333334e-09,3.3333333333333334e-09,0\\n',\n",
       " 'TTG\\t3.3333333333333334e-09,3.3333333333333334e-09,3.3333333333333334e-09,0\\n',\n",
       " 'TCA\\t3.3333333333333334e-09,0,3.3333333333333334e-09,3.3333333333333334e-09\\n',\n",
       " 'TCT\\t3.3333333333333334e-09,0,3.3333333333333334e-09,3.3333333333333334e-09\\n',\n",
       " 'TCC\\t3.3333333333333334e-09,0,3.3333333333333334e-09,3.3333333333333334e-09\\n',\n",
       " 'TCG\\t3.3333333333333334e-09,0,3.3333333333333334e-09,3.3333333333333334e-09\\n',\n",
       " 'TGA\\t3.3333333333333334e-09,3.3333333333333334e-09,0,3.3333333333333334e-09\\n',\n",
       " 'TGT\\t3.3333333333333334e-09,3.3333333333333334e-09,0,3.3333333333333334e-09\\n',\n",
       " 'TGC\\t3.3333333333333334e-09,3.3333333333333334e-09,0,3.3333333333333334e-09\\n',\n",
       " 'TGG\\t3.3333333333333334e-09,3.3333333333333334e-09,0,3.3333333333333334e-09\\n',\n",
       " 'CAA\\t0,3.3333333333333334e-09,3.3333333333333334e-09,3.3333333333333334e-09\\n',\n",
       " 'CAT\\t0,3.3333333333333334e-09,3.3333333333333334e-09,3.3333333333333334e-09\\n',\n",
       " 'CAC\\t0,3.3333333333333334e-09,3.3333333333333334e-09,3.3333333333333334e-09\\n',\n",
       " 'CAG\\t0,3.3333333333333334e-09,3.3333333333333334e-09,3.3333333333333334e-09\\n',\n",
       " 'CTA\\t3.3333333333333334e-09,3.3333333333333334e-09,3.3333333333333334e-09,0\\n',\n",
       " 'CTT\\t3.3333333333333334e-09,3.3333333333333334e-09,3.3333333333333334e-09,0\\n',\n",
       " 'CTC\\t3.3333333333333334e-09,3.3333333333333334e-09,3.3333333333333334e-09,0\\n',\n",
       " 'CTG\\t3.3333333333333334e-09,3.3333333333333334e-09,3.3333333333333334e-09,0\\n',\n",
       " 'CCA\\t3.3333333333333334e-09,0,3.3333333333333334e-09,3.3333333333333334e-09\\n',\n",
       " 'CCT\\t3.3333333333333334e-09,0,3.3333333333333334e-09,3.3333333333333334e-09\\n',\n",
       " 'CCC\\t3.3333333333333334e-09,0,3.3333333333333334e-09,3.3333333333333334e-09\\n',\n",
       " 'CCG\\t3.3333333333333334e-09,0,3.3333333333333334e-09,3.3333333333333334e-09\\n',\n",
       " 'CGA\\t3.3333333333333334e-09,3.3333333333333334e-09,0,3.3333333333333334e-09\\n',\n",
       " 'CGT\\t3.3333333333333334e-09,3.3333333333333334e-09,0,3.3333333333333334e-09\\n',\n",
       " 'CGC\\t3.3333333333333334e-09,3.3333333333333334e-09,0,3.3333333333333334e-09\\n',\n",
       " 'CGG\\t3.3333333333333334e-09,3.3333333333333334e-09,0,3.3333333333333334e-09\\n',\n",
       " 'GAA\\t0,3.3333333333333334e-09,3.3333333333333334e-09,3.3333333333333334e-09\\n',\n",
       " 'GAT\\t0,3.3333333333333334e-09,3.3333333333333334e-09,3.3333333333333334e-09\\n',\n",
       " 'GAC\\t0,3.3333333333333334e-09,3.3333333333333334e-09,3.3333333333333334e-09\\n',\n",
       " 'GAG\\t0,3.3333333333333334e-09,3.3333333333333334e-09,3.3333333333333334e-09\\n',\n",
       " 'GTA\\t3.3333333333333334e-09,3.3333333333333334e-09,3.3333333333333334e-09,0\\n',\n",
       " 'GTT\\t3.3333333333333334e-09,3.3333333333333334e-09,3.3333333333333334e-09,0\\n',\n",
       " 'GTC\\t3.3333333333333334e-09,3.3333333333333334e-09,3.3333333333333334e-09,0\\n',\n",
       " 'GTG\\t3.3333333333333334e-09,3.3333333333333334e-09,3.3333333333333334e-09,0\\n',\n",
       " 'GCA\\t3.3333333333333334e-09,0,3.3333333333333334e-09,3.3333333333333334e-09\\n',\n",
       " 'GCT\\t3.3333333333333334e-09,0,3.3333333333333334e-09,3.3333333333333334e-09\\n',\n",
       " 'GCC\\t3.3333333333333334e-09,0,3.3333333333333334e-09,3.3333333333333334e-09\\n',\n",
       " 'GCG\\t3.3333333333333334e-09,0,3.3333333333333334e-09,3.3333333333333334e-09\\n',\n",
       " 'GGA\\t3.3333333333333334e-09,3.3333333333333334e-09,0,3.3333333333333334e-09\\n',\n",
       " 'GGT\\t3.3333333333333334e-09,3.3333333333333334e-09,0,3.3333333333333334e-09\\n',\n",
       " 'GGC\\t3.3333333333333334e-09,3.3333333333333334e-09,0,3.3333333333333334e-09\\n',\n",
       " 'GGG\\t3.3333333333333334e-09,3.3333333333333334e-09,0,3.3333333333333334e-09\\n']"
      ]
     },
     "execution_count": 3,
     "metadata": {},
     "output_type": "execute_result"
    }
   ],
   "source": [
    "lines"
   ]
  },
  {
   "cell_type": "code",
   "execution_count": 6,
   "metadata": {},
   "outputs": [],
   "source": [
    "from tools.mcounter_tools import (\n",
    "    read_vcf_allel, ind_assignment_scatter_v1, MC_sample_matrix_v1,\n",
    "    heatmap_v2, ind_assignment_SFS, read_windows_SFS\n",
    ")"
   ]
  },
  {
   "cell_type": "code",
   "execution_count": null,
   "metadata": {},
   "outputs": [],
   "source": [
    "\n",
    "\n",
    "\n",
    "\n",
    "\n",
    "\n",
    "def mcounter_deploy(data,p_value= 1e-5, test_m= 'fisher', individually= False,\n",
    "                            exclude= False, frequency_range= [0,1], data_freqs= {}, extract= 'pval',\n",
    "                            muted_dir= '', tag_ref= '_ss'):\n",
    "    '''\n",
    "    Parse data dictionary.\n",
    "        data: {sim: {counts:{pop:g}, Nvars:{pop:g}, sizes:{pop:g}}}\n",
    "    i: use sim and pop IDs to create dictionary connecting original populations to \n",
    "    subset populations created using ind_assignment_scatter_v1.\n",
    "    ii: for each pair of reference/subset populations, launch heatmapv2. return grid pvals or proportions,\n",
    "    and proportion of mutations in subset population. allows for fisher or chi2 test for pval.\n",
    "    '''\n",
    "    \n",
    "    avail= list(data.keys())\n",
    "    ref_idx= [int(tag_ref in avail[x]) for x in range(len(avail) )]\n",
    "    categ= {\n",
    "        z: [x for x in range(len(avail)) if ref_idx[x] == z] for z in [0,1]\n",
    "    }\n",
    "\n",
    "    pop_asso= {avail[x]:recursively_default_dict() for x in categ[0]}\n",
    "\n",
    "    for av in categ[1]:\n",
    "        dat= [x for x in data[avail[av]]['counts'].keys() if tag_ref in x]\n",
    "        ref_sim= avail[av].split(tag_ref)[0]\n",
    "        ref_pop= [x.split('.')[0].strip(tag_ref) for x in dat]\n",
    "        for p in range(len(dat)):\n",
    "            pop_asso[ref_sim][ref_pop[p]][avail[av]]= dat[p]\n",
    "\n",
    "    d= 0\n",
    "    count_data= recursively_default_dict()\n",
    "\n",
    "    for ref in pop_asso.keys():\n",
    "\n",
    "        for pop in pop_asso[ref].keys():\n",
    "            for sub in pop_asso[ref][pop].keys():\n",
    "\n",
    "                batch= ref.split('C')[0]\n",
    "\n",
    "                pop_dict= {\n",
    "                    ref: pop,\n",
    "                    sub: pop_asso[ref][pop][sub]\n",
    "                }\n",
    "\n",
    "                sizes= [data[ref]['sizes'][pop], data[sub]['sizes'][pop_asso[ref][pop][sub]]]\n",
    "                #print(sizes)\n",
    "\n",
    "                chromosomes= [x.split('.')[0].split('C')[1] for x in pop_dict.keys()]\n",
    "\n",
    "                pop_counts= {\n",
    "                    x: data[x]['counts'][z] for x,z in pop_dict.items() \n",
    "                }\n",
    "\n",
    "                num_variants= {\n",
    "                    x: data[x]['Nvars'][z] for x,z in pop_dict.items() \n",
    "                }\n",
    "\n",
    "                ratio_grid, sig_cells= heatmap_v2(chromosomes,pop_counts,num_variants,\n",
    "                                                  pop_dict,frequency_range, exclude, \n",
    "                                                    p_value, muted_dir,tag= '',test= test_m,output= 'pval')\n",
    "\n",
    "                pop_counts[sub]= pop_counts[sub] / np.sum(pop_counts[sub])\n",
    "                pop_counts[ref]= pop_counts[ref] / np.sum(pop_counts[ref])\n",
    "\n",
    "                dist_prop= pop_counts[sub] / pop_counts[ref]\n",
    "                grid_diffs= pop_counts[sub] - pop_counts[ref]\n",
    "\n",
    "                count_data[d]= {\n",
    "                    'grids': ratio_grid,\n",
    "                    'sigs': sig_cells,\n",
    "                    'sizes': sizes,\n",
    "                    'batch': batch,\n",
    "                    'prop': dist_prop,\n",
    "                    'pop': pop,\n",
    "                    'diffs': grid_diffs\n",
    "                }\n",
    "\n",
    "                if data_freqs:\n",
    "                    count_data[d]['freqs']= {\n",
    "                        0: data_freqs[ref][pop],\n",
    "                        1: data_freqs[sub][pop_asso[ref][pop][sub]]\n",
    "                    }\n",
    "\n",
    "\n",
    "                d += 1\n",
    "    \n",
    "    return pop_asso, count_data\n"
   ]
  },
  {
   "cell_type": "code",
   "execution_count": null,
   "metadata": {},
   "outputs": [],
   "source": [
    "#from tools.SLiM_pipe_tools import mutation_counter_launch\n",
    "import re\n",
    "import pandas as pd\n",
    "\n",
    "\n",
    "## directories\n",
    "main_dir= os.getcwd() + '/'\n",
    "sims_dir= main_dir + 'mutation_counter/data/sims_dem/'\n",
    "diffs= False\n",
    "frequency_range= [0,1]\n",
    "args_present= False\n",
    "\n",
    "data_kmer, data= read_windows_SFS(diffs= diffs, frequency_range= frequency_range,indfile= 'ind_assignments.txt', outemp= 'ind_assignments{}.txt',\n",
    "                    sim_dir= sims_dir, muted_dir= 'mutation_counter/data/mutation_count/',\n",
    "                    outlog= 'indy.log', row= 24,col= 4, single= True, exclude= False, args= args_present)\n",
    "\n"
   ]
  },
  {
   "cell_type": "code",
   "execution_count": 40,
   "metadata": {},
   "outputs": [],
   "source": [
    "\n",
    "####\n",
    "def get_mutations(bases= 'ACGT',ksize= 3):\n",
    "    '''return list of possible kmer mutations'''\n",
    "    \n",
    "    mutations=[]\n",
    "    \n",
    "    base_set= [bases]*ksize\n",
    "\n",
    "    for trimer in product(*base_set):\n",
    "        for base in bases:\n",
    "            if trimer[int(ksize / 2)] != base:\n",
    "                mutations.append((''.join(trimer), base))\n",
    "    \n",
    "    return mutations\n",
    "\n",
    "\n",
    "def kmer_comp_index(mutations):\n",
    "    ''' return nested dictionaries of kmer mutations w/ index'''\n",
    "    kmers= {}\n",
    "    kmer_idx= {}\n",
    "    d= 0\n",
    "    for kmer in mutations:\n",
    "\n",
    "        comp= get_complement(kmer[0]) + get_complement(kmer[1])\n",
    "        comp= ''.join(comp)\n",
    "        kmer= ''.join(kmer)\n",
    "        \n",
    "        if comp in kmers.keys():\n",
    "            idx= kmers[comp]\n",
    "            kmers[kmer]= idx\n",
    "            kmer_idx[idx].append(kmer)\n",
    "        else:\n",
    "            kmers[kmer]= len(kmer_idx)\n",
    "            kmer_idx[len(kmer_idx)]= [kmer]\n",
    "\n",
    "        d += 1\n",
    "    \n",
    "    return kmers, kmer_idx\n",
    "\n",
    "\n",
    "def kmer_mut_index(mutations):\n",
    "    '''produce nested dictionary of nucs for a particular mutation list'''\n",
    "    mut_lib= recursively_default_dict()\n",
    "    \n",
    "    for mut in range(len(mutations)):\n",
    "        trimer= ''.join(mutations[mut])\n",
    "        get_by_path(mut_lib, trimer[:-1])[trimer[-1]]= mut\n",
    "    \n",
    "    return mut_lib\n",
    "\n",
    "\n",
    "\n",
    "\n",
    "def get_complement(kmer):\n",
    "    '''Return complement of a given kmer'''\n",
    "    complements= {\n",
    "        'A': 'T',\n",
    "        'T': 'A',\n",
    "        'C': 'G',\n",
    "        'G': 'C'\n",
    "    }\n",
    "    \n",
    "    comp= [complements[x] for x in kmer][::-1]\n",
    "    return comp\n",
    "\n",
    "def get_by_path(root, items):\n",
    "    \"\"\"Access a nested object in root by item sequence.\"\"\"\n",
    "    return reduce(operator.getitem, items, root)\n",
    "\n",
    "def set_by_path(root, items, value):\n",
    "    \"\"\"Set a value in a nested object in root by item sequence.\"\"\"\n",
    "    get_by_path(root, items[:-1])[items[-1]] = value\n",
    "\n",
    "####\n",
    "\n",
    "def mutation_dict_full(bases= 'ATCG',ksize= 3):\n",
    "    mutations= []\n",
    "    mut_lib= recursively_default_dict()\n",
    "    mut_org= []\n",
    "    \n",
    "    base_set= [bases]*ksize\n",
    "\n",
    "    for trimer in product(*base_set):\n",
    "        mut_org.append(trimer)\n",
    "        for base in bases:\n",
    "            mutations.append((''.join(trimer), base))\n",
    "            get_by_path(mut_lib, trimer[:-1])[trimer[-1]]= base\n",
    "            \n",
    "            \n",
    "    \n",
    "    return mut_lib,mutations,mut_org"
   ]
  },
  {
   "cell_type": "code",
   "execution_count": 41,
   "metadata": {},
   "outputs": [],
   "source": [
    "from functools import reduce  # forward compatibility for Python 3\n",
    "import operator\n",
    "\n",
    "bases= 'ATCG'\n",
    "ksize= 3\n",
    "mutations= get_mutations(bases= bases,ksize= ksize)\n",
    "kmers, kmer_idx= kmer_comp_index(mutations)\n",
    "\n",
    "mut_lib= kmer_mut_index(mutations)"
   ]
  },
  {
   "cell_type": "code",
   "execution_count": 42,
   "metadata": {},
   "outputs": [
    {
     "data": {
      "text/plain": [
       "256"
      ]
     },
     "execution_count": 42,
     "metadata": {},
     "output_type": "execute_result"
    }
   ],
   "source": [
    "mutations_full_dict, mutations_full_list, mut_org= mutation_dict_full(bases= bases,ksize= ksize)\n",
    "len(mutations_full_list)"
   ]
  },
  {
   "cell_type": "code",
   "execution_count": 45,
   "metadata": {},
   "outputs": [],
   "source": [
    "text_diff= 'mut_matrix_v0.txt'\n",
    "\n",
    "mu= 1e-8\n",
    "bases_slim= 'ACGT'\n",
    "\n",
    "with open(text_diff,'w') as fp:\n",
    "    for mut in mut_org:\n",
    "        mut_vector= [0] * len(bases)\n",
    "        for idx in range(len(bases_slim)):\n",
    "            bass= bases_slim[idx]\n",
    "            if bass != mut[1]:\n",
    "                mut_vector[idx]= mu / 3\n",
    "        \n",
    "        mut= ''.join(mut)\n",
    "        trans= ','.join([str(x) for x in mut_vector])\n",
    "        \n",
    "        fp.write('\\t'.join([mut,trans]) + '\\n')\n",
    "\n"
   ]
  },
  {
   "cell_type": "code",
   "execution_count": 9,
   "metadata": {},
   "outputs": [
    {
     "data": {
      "text/plain": [
       "array([['AAAT', 'AAAC', 'AAAG', 'AATT'],\n",
       "       ['AATC', 'AATG', 'AACT', 'AACC'],\n",
       "       ['AACG', 'AAGT', 'AAGC', 'AAGG'],\n",
       "       ['ATAA', 'ATAC', 'ATAG', 'ATCA'],\n",
       "       ['ATCC', 'ATCG', 'ATGA', 'ATGC'],\n",
       "       ['ATGG', 'ACAA', 'ACAT', 'ACAG'],\n",
       "       ['ACTA', 'ACTT', 'ACTG', 'ACCA'],\n",
       "       ['ACCT', 'ACCG', 'ACGA', 'ACGT'],\n",
       "       ['ACGG', 'AGAA', 'AGAT', 'AGAC'],\n",
       "       ['AGCA', 'AGCT', 'AGCC', 'AGGA'],\n",
       "       ['AGGT', 'AGGC', 'TAAT', 'TAAC'],\n",
       "       ['TAAG', 'TACT', 'TACC', 'TACG'],\n",
       "       ['TAGT', 'TAGC', 'TAGG', 'TTCA'],\n",
       "       ['TTCC', 'TTCG', 'TTGA', 'TTGC'],\n",
       "       ['TTGG', 'TCAA', 'TCAT', 'TCAG'],\n",
       "       ['TCCA', 'TCCT', 'TCCG', 'TCGA'],\n",
       "       ['TCGT', 'TCGG', 'TGCA', 'TGCT'],\n",
       "       ['TGCC', 'TGGA', 'TGGT', 'TGGC'],\n",
       "       ['CACT', 'CACC', 'CACG', 'CAGT'],\n",
       "       ['CAGC', 'CAGG', 'CTCA', 'CTCC'],\n",
       "       ['CTCG', 'CCCA', 'CCCT', 'CCCG'],\n",
       "       ['CCGA', 'CCGT', 'CCGG', 'CGCA'],\n",
       "       ['CGCT', 'CGCC', 'GACT', 'GACC'],\n",
       "       ['GACG', 'GCCA', 'GCCT', 'GCCG']], dtype='<U4')"
      ]
     },
     "execution_count": 9,
     "metadata": {},
     "output_type": "execute_result"
    }
   ],
   "source": [
    "t= [kmer_idx[x][0] for x in sorted(kmer_idx.keys())]\n",
    "grid= np.array(t).reshape(24,4)\n",
    "grid"
   ]
  },
  {
   "cell_type": "code",
   "execution_count": 10,
   "metadata": {},
   "outputs": [
    {
     "data": {
      "text/plain": [
       "(24, 4)"
      ]
     },
     "execution_count": 10,
     "metadata": {},
     "output_type": "execute_result"
    }
   ],
   "source": [
    "grid.shape"
   ]
  },
  {
   "cell_type": "code",
   "execution_count": 34,
   "metadata": {},
   "outputs": [
    {
     "data": {
      "text/plain": [
       "array(['AAAT', 'AAAC', 'AAAG', 'AATT', 'AATC', 'AATG', 'AACT', 'AACC',\n",
       "       'AACG', 'AAGT', 'AAGC', 'AAGG', 'ATAA', 'ATAC', 'ATAG', 'ATCA',\n",
       "       'ATCC', 'ATCG', 'ATGA', 'ATGC', 'ATGG', 'ACAA', 'ACAT', 'ACAG',\n",
       "       'ACTA', 'ACTT', 'ACTG', 'ACCA', 'ACCT', 'ACCG', 'ACGA', 'ACGT',\n",
       "       'ACGG', 'AGAA', 'AGAT', 'AGAC', 'AGCA', 'AGCT', 'AGCC', 'AGGA',\n",
       "       'AGGT', 'AGGC', 'TAAT', 'TAAC', 'TAAG', 'TACT', 'TACC', 'TACG',\n",
       "       'TAGT', 'TAGC', 'TAGG', 'TTCA', 'TTCC', 'TTCG', 'TTGA', 'TTGC',\n",
       "       'TTGG', 'TCAA', 'TCAT', 'TCAG', 'TCCA', 'TCCT', 'TCCG', 'TCGA',\n",
       "       'TCGT', 'TCGG', 'TGCA', 'TGCT', 'TGCC', 'TGGA', 'TGGT', 'TGGC',\n",
       "       'CACT', 'CACC', 'CACG', 'CAGT', 'CAGC', 'CAGG', 'CTCA', 'CTCC',\n",
       "       'CTCG', 'CCCA', 'CCCT', 'CCCG', 'CCGA', 'CCGT', 'CCGG', 'CGCA',\n",
       "       'CGCT', 'CGCC', 'GACT', 'GACC', 'GACG', 'GCCA', 'GCCT', 'GCCG'],\n",
       "      dtype='<U4')"
      ]
     },
     "execution_count": 34,
     "metadata": {},
     "output_type": "execute_result"
    }
   ],
   "source": [
    "grid_to_list= grid.reshape(1,np.prod(grid.shape))[0]\n",
    "grid_to_list"
   ]
  },
  {
   "cell_type": "code",
   "execution_count": 36,
   "metadata": {},
   "outputs": [
    {
     "data": {
      "text/plain": [
       "'ACAA'"
      ]
     },
     "execution_count": 36,
     "metadata": {},
     "output_type": "execute_result"
    }
   ],
   "source": [
    "grid_to_list[21]"
   ]
  },
  {
   "cell_type": "code",
   "execution_count": 23,
   "metadata": {},
   "outputs": [
    {
     "data": {
      "text/plain": [
       "{0: ['AAAT', 'TTTA'],\n",
       " 1: ['AAAC', 'TTTG'],\n",
       " 2: ['AAAG', 'TTTC'],\n",
       " 3: ['AATT', 'ATTA'],\n",
       " 4: ['AATC', 'ATTG'],\n",
       " 5: ['AATG', 'ATTC'],\n",
       " 6: ['AACT', 'GTTA'],\n",
       " 7: ['AACC', 'GTTG'],\n",
       " 8: ['AACG', 'GTTC'],\n",
       " 9: ['AAGT', 'CTTA'],\n",
       " 10: ['AAGC', 'CTTG'],\n",
       " 11: ['AAGG', 'CTTC'],\n",
       " 12: ['ATAA', 'TATT'],\n",
       " 13: ['ATAC', 'TATG'],\n",
       " 14: ['ATAG', 'TATC'],\n",
       " 15: ['ATCA', 'GATT'],\n",
       " 16: ['ATCC', 'GATG'],\n",
       " 17: ['ATCG', 'GATC'],\n",
       " 18: ['ATGA', 'CATT'],\n",
       " 19: ['ATGC', 'CATG'],\n",
       " 20: ['ATGG', 'CATC'],\n",
       " 21: ['ACAA', 'TGTT'],\n",
       " 22: ['ACAT', 'TGTA'],\n",
       " 23: ['ACAG', 'TGTC'],\n",
       " 24: ['ACTA', 'AGTT'],\n",
       " 25: ['ACTT', 'AGTA'],\n",
       " 26: ['ACTG', 'AGTC'],\n",
       " 27: ['ACCA', 'GGTT'],\n",
       " 28: ['ACCT', 'GGTA'],\n",
       " 29: ['ACCG', 'GGTC'],\n",
       " 30: ['ACGA', 'CGTT'],\n",
       " 31: ['ACGT', 'CGTA'],\n",
       " 32: ['ACGG', 'CGTC'],\n",
       " 33: ['AGAA', 'TCTT'],\n",
       " 34: ['AGAT', 'TCTA'],\n",
       " 35: ['AGAC', 'TCTG'],\n",
       " 36: ['AGCA', 'GCTT'],\n",
       " 37: ['AGCT', 'GCTA'],\n",
       " 38: ['AGCC', 'GCTG'],\n",
       " 39: ['AGGA', 'CCTT'],\n",
       " 40: ['AGGT', 'CCTA'],\n",
       " 41: ['AGGC', 'CCTG'],\n",
       " 42: ['TAAT', 'TTAA'],\n",
       " 43: ['TAAC', 'TTAG'],\n",
       " 44: ['TAAG', 'TTAC'],\n",
       " 45: ['TACT', 'GTAA'],\n",
       " 46: ['TACC', 'GTAG'],\n",
       " 47: ['TACG', 'GTAC'],\n",
       " 48: ['TAGT', 'CTAA'],\n",
       " 49: ['TAGC', 'CTAG'],\n",
       " 50: ['TAGG', 'CTAC'],\n",
       " 51: ['TTCA', 'GAAT'],\n",
       " 52: ['TTCC', 'GAAG'],\n",
       " 53: ['TTCG', 'GAAC'],\n",
       " 54: ['TTGA', 'CAAT'],\n",
       " 55: ['TTGC', 'CAAG'],\n",
       " 56: ['TTGG', 'CAAC'],\n",
       " 57: ['TCAA', 'TGAT'],\n",
       " 58: ['TCAT', 'TGAA'],\n",
       " 59: ['TCAG', 'TGAC'],\n",
       " 60: ['TCCA', 'GGAT'],\n",
       " 61: ['TCCT', 'GGAA'],\n",
       " 62: ['TCCG', 'GGAC'],\n",
       " 63: ['TCGA', 'CGAT'],\n",
       " 64: ['TCGT', 'CGAA'],\n",
       " 65: ['TCGG', 'CGAC'],\n",
       " 66: ['TGCA', 'GCAT'],\n",
       " 67: ['TGCT', 'GCAA'],\n",
       " 68: ['TGCC', 'GCAG'],\n",
       " 69: ['TGGA', 'CCAT'],\n",
       " 70: ['TGGT', 'CCAA'],\n",
       " 71: ['TGGC', 'CCAG'],\n",
       " 72: ['CACT', 'GTGA'],\n",
       " 73: ['CACC', 'GTGG'],\n",
       " 74: ['CACG', 'GTGC'],\n",
       " 75: ['CAGT', 'CTGA'],\n",
       " 76: ['CAGC', 'CTGG'],\n",
       " 77: ['CAGG', 'CTGC'],\n",
       " 78: ['CTCA', 'GAGT'],\n",
       " 79: ['CTCC', 'GAGG'],\n",
       " 80: ['CTCG', 'GAGC'],\n",
       " 81: ['CCCA', 'GGGT'],\n",
       " 82: ['CCCT', 'GGGA'],\n",
       " 83: ['CCCG', 'GGGC'],\n",
       " 84: ['CCGA', 'CGGT'],\n",
       " 85: ['CCGT', 'CGGA'],\n",
       " 86: ['CCGG', 'CGGC'],\n",
       " 87: ['CGCA', 'GCGT'],\n",
       " 88: ['CGCT', 'GCGA'],\n",
       " 89: ['CGCC', 'GCGG'],\n",
       " 90: ['GACT', 'GTCA'],\n",
       " 91: ['GACC', 'GTCG'],\n",
       " 92: ['GACG', 'GTCC'],\n",
       " 93: ['GCCA', 'GGCT'],\n",
       " 94: ['GCCT', 'GGCA'],\n",
       " 95: ['GCCG', 'GGCC']}"
      ]
     },
     "execution_count": 23,
     "metadata": {},
     "output_type": "execute_result"
    }
   ],
   "source": [
    "kmer_idx"
   ]
  },
  {
   "cell_type": "code",
   "execution_count": 27,
   "metadata": {},
   "outputs": [
    {
     "data": {
      "text/plain": [
       "71"
      ]
     },
     "execution_count": 27,
     "metadata": {},
     "output_type": "execute_result"
    }
   ],
   "source": []
  },
  {
   "cell_type": "code",
   "execution_count": null,
   "metadata": {},
   "outputs": [],
   "source": []
  }
 ],
 "metadata": {
  "kernelspec": {
   "display_name": "Python 3",
   "language": "python",
   "name": "python3"
  },
  "language_info": {
   "codemirror_mode": {
    "name": "ipython",
    "version": 3
   },
   "file_extension": ".py",
   "mimetype": "text/x-python",
   "name": "python",
   "nbconvert_exporter": "python",
   "pygments_lexer": "ipython3",
   "version": "3.6.9"
  }
 },
 "nbformat": 4,
 "nbformat_minor": 2
}
