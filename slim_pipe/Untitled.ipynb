{
 "cells": [
  {
   "cell_type": "code",
   "execution_count": 1,
   "metadata": {},
   "outputs": [
    {
     "data": {
      "text/html": [
       "        <script type=\"text/javascript\">\n",
       "        window.PlotlyConfig = {MathJaxConfig: 'local'};\n",
       "        if (window.MathJax) {MathJax.Hub.Config({SVG: {font: \"STIX-Web\"}});}\n",
       "        if (typeof require !== 'undefined') {\n",
       "        require.undef(\"plotly\");\n",
       "        requirejs.config({\n",
       "            paths: {\n",
       "                'plotly': ['https://cdn.plot.ly/plotly-latest.min']\n",
       "            }\n",
       "        });\n",
       "        require(['plotly'], function(Plotly) {\n",
       "            window._Plotly = Plotly;\n",
       "        });\n",
       "        }\n",
       "        </script>\n",
       "        "
      ]
     },
     "metadata": {},
     "output_type": "display_data"
    }
   ],
   "source": [
    "import sys\n",
    "import argparse\n",
    "import numpy as np\n",
    "from scipy.stats import chi2_contingency\n",
    "from itertools import product\n",
    "import itertools as it\n",
    "\n",
    "import allel\n",
    "import pandas as pd\n",
    "\n",
    "from _plotly_future_ import v4_subplots\n",
    "import plotly.graph_objs as go\n",
    "from plotly.offline import download_plotlyjs, init_notebook_mode, plot, iplot\n",
    "from plotly.graph_objs import *\n",
    "\n",
    "from ipywidgets import interact, interactive, fixed, interact_manual\n",
    "import ipywidgets as widgets\n",
    "init_notebook_mode(connected=True)\n",
    "    \n",
    "from datetime import datetime\n",
    "import tempfile\n",
    "import os\n",
    "import gzip\n",
    "import subprocess\n",
    "import time\n",
    "\n",
    "import collections\n",
    "def recursively_default_dict():\n",
    "    return collections.defaultdict(recursively_default_dict)"
   ]
  },
  {
   "cell_type": "code",
   "execution_count": 7,
   "metadata": {},
   "outputs": [
    {
     "data": {
      "text/plain": [
       "4"
      ]
     },
     "execution_count": 7,
     "metadata": {},
     "output_type": "execute_result"
    }
   ],
   "source": [
    "t= (1,4)\n",
    "np.prod(t)"
   ]
  },
  {
   "cell_type": "code",
   "execution_count": 2,
   "metadata": {},
   "outputs": [],
   "source": [
    "from tools.mcounter_tools import (\n",
    "    read_vcf_allel, ind_assignment_scatter_v1, MC_sample_matrix_v1,\n",
    "    heatmap_v2, ind_assignment_SFS, read_windows_SFS\n",
    ")"
   ]
  },
  {
   "cell_type": "code",
   "execution_count": 3,
   "metadata": {},
   "outputs": [
    {
     "name": "stdout",
     "output_type": "stream",
     "text": [
      "missing: 0, no vcf: 89\n",
      "31\n",
      "time elapsed: 390.0622878074646s\n"
     ]
    }
   ],
   "source": [
    "#from tools.SLiM_pipe_tools import mutation_counter_launch\n",
    "import re\n",
    "import pandas as pd\n",
    "\n",
    "\n",
    "## directories\n",
    "main_dir= os.getcwd() + '/'\n",
    "sims_dir= main_dir + 'mutation_counter/data/sims_dem/'\n",
    "diffs= False\n",
    "frequency_range= [0,1]\n",
    "args_present= False\n",
    "\n",
    "data_kmer, data= read_windows_SFS(diffs= diffs, frequency_range= frequency_range,indfile= 'ind_assignments.txt', outemp= 'ind_assignments{}.txt',\n",
    "                    sim_dir= sims_dir, muted_dir= 'mutation_counter/data/mutation_count/',\n",
    "                    outlog= 'indy.log', row= 24,col= 4, single= True, exclude= False, args= args_present)\n",
    "\n"
   ]
  },
  {
   "cell_type": "code",
   "execution_count": 12,
   "metadata": {},
   "outputs": [],
   "source": [
    "\n",
    "####\n",
    "def get_mutations(bases= 'ACGT',ksize= 3):\n",
    "    '''return list of possible kmer mutations'''\n",
    "    \n",
    "    mutations=[]\n",
    "    \n",
    "    base_set= [bases]*ksize\n",
    "\n",
    "    for trimer in product(*base_set):\n",
    "        for base in bases:\n",
    "            if trimer[int(ksize / 2)] != base:\n",
    "                mutations.append((''.join(trimer), base))\n",
    "    \n",
    "    return mutations\n",
    "\n",
    "\n",
    "def kmer_comp_index(mutations):\n",
    "    ''' return nested dictionaries of kmer mutations w/ index'''\n",
    "    kmers= {}\n",
    "    kmer_idx= {}\n",
    "    d= 0\n",
    "    for kmer in mutations:\n",
    "\n",
    "        comp= get_complement(kmer[0]) + get_complement(kmer[1])\n",
    "        comp= ''.join(comp)\n",
    "        kmer= ''.join(kmer)\n",
    "        \n",
    "        if comp in kmers.keys():\n",
    "            idx= kmers[comp]\n",
    "            kmers[kmer]= idx\n",
    "            kmer_idx[idx].append(kmer)\n",
    "        else:\n",
    "            kmers[kmer]= len(kmer_idx)\n",
    "            kmer_idx[len(kmer_idx)]= [kmer]\n",
    "\n",
    "        d += 1\n",
    "    \n",
    "    return kmers, kmer_idx\n",
    "\n",
    "\n",
    "def kmer_mut_index(mutations):\n",
    "    '''produce nested dictionary of nucs for a particular mutation list'''\n",
    "    mut_lib= recursively_default_dict()\n",
    "    \n",
    "    for mut in range(len(mutations)):\n",
    "        trimer= ''.join(mutations[mut])\n",
    "        get_by_path(mut_lib, trimer[:-1])[trimer[-1]]= mut\n",
    "    \n",
    "    return mut_lib\n",
    "\n",
    "\n",
    "\n",
    "\n",
    "def get_complement(kmer):\n",
    "    '''Return complement of a given kmer'''\n",
    "    complements= {\n",
    "        'A': 'T',\n",
    "        'T': 'A',\n",
    "        'C': 'G',\n",
    "        'G': 'C'\n",
    "    }\n",
    "    \n",
    "    comp= [complements[x] for x in kmer][::-1]\n",
    "    return comp\n",
    "\n",
    "def get_by_path(root, items):\n",
    "    \"\"\"Access a nested object in root by item sequence.\"\"\"\n",
    "    return reduce(operator.getitem, items, root)\n",
    "\n",
    "def set_by_path(root, items, value):\n",
    "    \"\"\"Set a value in a nested object in root by item sequence.\"\"\"\n",
    "    get_by_path(root, items[:-1])[items[-1]] = value\n",
    "\n",
    "####\n"
   ]
  },
  {
   "cell_type": "code",
   "execution_count": 15,
   "metadata": {},
   "outputs": [],
   "source": [
    "from functools import reduce  # forward compatibility for Python 3\n",
    "import operator\n",
    "\n",
    "bases= 'ATCG'\n",
    "ksize= 3\n",
    "mutations= get_mutations(bases= bases,ksize= ksize)\n",
    "kmers, kmer_idx= kmer_comp_index(mutations)\n",
    "\n",
    "mut_lib= kmer_mut_index(mutations)"
   ]
  },
  {
   "cell_type": "code",
   "execution_count": 28,
   "metadata": {},
   "outputs": [
    {
     "data": {
      "text/plain": [
       "array([['AAAT', 'AAAC', 'AAAG', 'AATT'],\n",
       "       ['AATC', 'AATG', 'AACT', 'AACC'],\n",
       "       ['AACG', 'AAGT', 'AAGC', 'AAGG'],\n",
       "       ['ATAA', 'ATAC', 'ATAG', 'ATCA'],\n",
       "       ['ATCC', 'ATCG', 'ATGA', 'ATGC'],\n",
       "       ['ATGG', 'ACAA', 'ACAT', 'ACAG'],\n",
       "       ['ACTA', 'ACTT', 'ACTG', 'ACCA'],\n",
       "       ['ACCT', 'ACCG', 'ACGA', 'ACGT'],\n",
       "       ['ACGG', 'AGAA', 'AGAT', 'AGAC'],\n",
       "       ['AGCA', 'AGCT', 'AGCC', 'AGGA'],\n",
       "       ['AGGT', 'AGGC', 'TAAT', 'TAAC'],\n",
       "       ['TAAG', 'TACT', 'TACC', 'TACG'],\n",
       "       ['TAGT', 'TAGC', 'TAGG', 'TTCA'],\n",
       "       ['TTCC', 'TTCG', 'TTGA', 'TTGC'],\n",
       "       ['TTGG', 'TCAA', 'TCAT', 'TCAG'],\n",
       "       ['TCCA', 'TCCT', 'TCCG', 'TCGA'],\n",
       "       ['TCGT', 'TCGG', 'TGCA', 'TGCT'],\n",
       "       ['TGCC', 'TGGA', 'TGGT', 'TGGC'],\n",
       "       ['CACT', 'CACC', 'CACG', 'CAGT'],\n",
       "       ['CAGC', 'CAGG', 'CTCA', 'CTCC'],\n",
       "       ['CTCG', 'CCCA', 'CCCT', 'CCCG'],\n",
       "       ['CCGA', 'CCGT', 'CCGG', 'CGCA'],\n",
       "       ['CGCT', 'CGCC', 'GACT', 'GACC'],\n",
       "       ['GACG', 'GCCA', 'GCCT', 'GCCG']], dtype='<U4')"
      ]
     },
     "execution_count": 28,
     "metadata": {},
     "output_type": "execute_result"
    }
   ],
   "source": [
    "t= [kmer_idx[x][0] for x in sorted(kmer_idx.keys())]\n",
    "grid= np.array(t).reshape(24,4)\n",
    "grid"
   ]
  },
  {
   "cell_type": "code",
   "execution_count": 34,
   "metadata": {},
   "outputs": [
    {
     "data": {
      "text/plain": [
       "array(['AAAT', 'AAAC', 'AAAG', 'AATT', 'AATC', 'AATG', 'AACT', 'AACC',\n",
       "       'AACG', 'AAGT', 'AAGC', 'AAGG', 'ATAA', 'ATAC', 'ATAG', 'ATCA',\n",
       "       'ATCC', 'ATCG', 'ATGA', 'ATGC', 'ATGG', 'ACAA', 'ACAT', 'ACAG',\n",
       "       'ACTA', 'ACTT', 'ACTG', 'ACCA', 'ACCT', 'ACCG', 'ACGA', 'ACGT',\n",
       "       'ACGG', 'AGAA', 'AGAT', 'AGAC', 'AGCA', 'AGCT', 'AGCC', 'AGGA',\n",
       "       'AGGT', 'AGGC', 'TAAT', 'TAAC', 'TAAG', 'TACT', 'TACC', 'TACG',\n",
       "       'TAGT', 'TAGC', 'TAGG', 'TTCA', 'TTCC', 'TTCG', 'TTGA', 'TTGC',\n",
       "       'TTGG', 'TCAA', 'TCAT', 'TCAG', 'TCCA', 'TCCT', 'TCCG', 'TCGA',\n",
       "       'TCGT', 'TCGG', 'TGCA', 'TGCT', 'TGCC', 'TGGA', 'TGGT', 'TGGC',\n",
       "       'CACT', 'CACC', 'CACG', 'CAGT', 'CAGC', 'CAGG', 'CTCA', 'CTCC',\n",
       "       'CTCG', 'CCCA', 'CCCT', 'CCCG', 'CCGA', 'CCGT', 'CCGG', 'CGCA',\n",
       "       'CGCT', 'CGCC', 'GACT', 'GACC', 'GACG', 'GCCA', 'GCCT', 'GCCG'],\n",
       "      dtype='<U4')"
      ]
     },
     "execution_count": 34,
     "metadata": {},
     "output_type": "execute_result"
    }
   ],
   "source": [
    "grid_to_list= grid.reshape(1,np.prod(grid.shape))[0]\n",
    "grid_to_list"
   ]
  },
  {
   "cell_type": "code",
   "execution_count": 36,
   "metadata": {},
   "outputs": [
    {
     "data": {
      "text/plain": [
       "'ACAA'"
      ]
     },
     "execution_count": 36,
     "metadata": {},
     "output_type": "execute_result"
    }
   ],
   "source": [
    "grid_to_list[21]"
   ]
  },
  {
   "cell_type": "code",
   "execution_count": 23,
   "metadata": {},
   "outputs": [
    {
     "data": {
      "text/plain": [
       "{0: ['AAAT', 'TTTA'],\n",
       " 1: ['AAAC', 'TTTG'],\n",
       " 2: ['AAAG', 'TTTC'],\n",
       " 3: ['AATT', 'ATTA'],\n",
       " 4: ['AATC', 'ATTG'],\n",
       " 5: ['AATG', 'ATTC'],\n",
       " 6: ['AACT', 'GTTA'],\n",
       " 7: ['AACC', 'GTTG'],\n",
       " 8: ['AACG', 'GTTC'],\n",
       " 9: ['AAGT', 'CTTA'],\n",
       " 10: ['AAGC', 'CTTG'],\n",
       " 11: ['AAGG', 'CTTC'],\n",
       " 12: ['ATAA', 'TATT'],\n",
       " 13: ['ATAC', 'TATG'],\n",
       " 14: ['ATAG', 'TATC'],\n",
       " 15: ['ATCA', 'GATT'],\n",
       " 16: ['ATCC', 'GATG'],\n",
       " 17: ['ATCG', 'GATC'],\n",
       " 18: ['ATGA', 'CATT'],\n",
       " 19: ['ATGC', 'CATG'],\n",
       " 20: ['ATGG', 'CATC'],\n",
       " 21: ['ACAA', 'TGTT'],\n",
       " 22: ['ACAT', 'TGTA'],\n",
       " 23: ['ACAG', 'TGTC'],\n",
       " 24: ['ACTA', 'AGTT'],\n",
       " 25: ['ACTT', 'AGTA'],\n",
       " 26: ['ACTG', 'AGTC'],\n",
       " 27: ['ACCA', 'GGTT'],\n",
       " 28: ['ACCT', 'GGTA'],\n",
       " 29: ['ACCG', 'GGTC'],\n",
       " 30: ['ACGA', 'CGTT'],\n",
       " 31: ['ACGT', 'CGTA'],\n",
       " 32: ['ACGG', 'CGTC'],\n",
       " 33: ['AGAA', 'TCTT'],\n",
       " 34: ['AGAT', 'TCTA'],\n",
       " 35: ['AGAC', 'TCTG'],\n",
       " 36: ['AGCA', 'GCTT'],\n",
       " 37: ['AGCT', 'GCTA'],\n",
       " 38: ['AGCC', 'GCTG'],\n",
       " 39: ['AGGA', 'CCTT'],\n",
       " 40: ['AGGT', 'CCTA'],\n",
       " 41: ['AGGC', 'CCTG'],\n",
       " 42: ['TAAT', 'TTAA'],\n",
       " 43: ['TAAC', 'TTAG'],\n",
       " 44: ['TAAG', 'TTAC'],\n",
       " 45: ['TACT', 'GTAA'],\n",
       " 46: ['TACC', 'GTAG'],\n",
       " 47: ['TACG', 'GTAC'],\n",
       " 48: ['TAGT', 'CTAA'],\n",
       " 49: ['TAGC', 'CTAG'],\n",
       " 50: ['TAGG', 'CTAC'],\n",
       " 51: ['TTCA', 'GAAT'],\n",
       " 52: ['TTCC', 'GAAG'],\n",
       " 53: ['TTCG', 'GAAC'],\n",
       " 54: ['TTGA', 'CAAT'],\n",
       " 55: ['TTGC', 'CAAG'],\n",
       " 56: ['TTGG', 'CAAC'],\n",
       " 57: ['TCAA', 'TGAT'],\n",
       " 58: ['TCAT', 'TGAA'],\n",
       " 59: ['TCAG', 'TGAC'],\n",
       " 60: ['TCCA', 'GGAT'],\n",
       " 61: ['TCCT', 'GGAA'],\n",
       " 62: ['TCCG', 'GGAC'],\n",
       " 63: ['TCGA', 'CGAT'],\n",
       " 64: ['TCGT', 'CGAA'],\n",
       " 65: ['TCGG', 'CGAC'],\n",
       " 66: ['TGCA', 'GCAT'],\n",
       " 67: ['TGCT', 'GCAA'],\n",
       " 68: ['TGCC', 'GCAG'],\n",
       " 69: ['TGGA', 'CCAT'],\n",
       " 70: ['TGGT', 'CCAA'],\n",
       " 71: ['TGGC', 'CCAG'],\n",
       " 72: ['CACT', 'GTGA'],\n",
       " 73: ['CACC', 'GTGG'],\n",
       " 74: ['CACG', 'GTGC'],\n",
       " 75: ['CAGT', 'CTGA'],\n",
       " 76: ['CAGC', 'CTGG'],\n",
       " 77: ['CAGG', 'CTGC'],\n",
       " 78: ['CTCA', 'GAGT'],\n",
       " 79: ['CTCC', 'GAGG'],\n",
       " 80: ['CTCG', 'GAGC'],\n",
       " 81: ['CCCA', 'GGGT'],\n",
       " 82: ['CCCT', 'GGGA'],\n",
       " 83: ['CCCG', 'GGGC'],\n",
       " 84: ['CCGA', 'CGGT'],\n",
       " 85: ['CCGT', 'CGGA'],\n",
       " 86: ['CCGG', 'CGGC'],\n",
       " 87: ['CGCA', 'GCGT'],\n",
       " 88: ['CGCT', 'GCGA'],\n",
       " 89: ['CGCC', 'GCGG'],\n",
       " 90: ['GACT', 'GTCA'],\n",
       " 91: ['GACC', 'GTCG'],\n",
       " 92: ['GACG', 'GTCC'],\n",
       " 93: ['GCCA', 'GGCT'],\n",
       " 94: ['GCCT', 'GGCA'],\n",
       " 95: ['GCCG', 'GGCC']}"
      ]
     },
     "execution_count": 23,
     "metadata": {},
     "output_type": "execute_result"
    }
   ],
   "source": [
    "kmer_idx"
   ]
  },
  {
   "cell_type": "code",
   "execution_count": 27,
   "metadata": {},
   "outputs": [
    {
     "data": {
      "text/plain": [
       "71"
      ]
     },
     "execution_count": 27,
     "metadata": {},
     "output_type": "execute_result"
    }
   ],
   "source": []
  },
  {
   "cell_type": "code",
   "execution_count": null,
   "metadata": {},
   "outputs": [],
   "source": []
  }
 ],
 "metadata": {
  "kernelspec": {
   "display_name": "Python 3",
   "language": "python",
   "name": "python3"
  },
  "language_info": {
   "codemirror_mode": {
    "name": "ipython",
    "version": 3
   },
   "file_extension": ".py",
   "mimetype": "text/x-python",
   "name": "python",
   "nbconvert_exporter": "python",
   "pygments_lexer": "ipython3",
   "version": "3.6.9"
  }
 },
 "nbformat": 4,
 "nbformat_minor": 2
}
