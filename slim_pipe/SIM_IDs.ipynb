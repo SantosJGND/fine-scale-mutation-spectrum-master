{
 "cells": [
  {
   "cell_type": "code",
   "execution_count": 1,
   "metadata": {},
   "outputs": [],
   "source": [
    "import numpy as np\n"
   ]
  },
  {
   "cell_type": "markdown",
   "metadata": {},
   "source": [
    "### ID and population identifiers for simulated data sets. \n",
    "\n",
    "Has to be done separately. Until a script that launches SLiM is written at least. "
   ]
  },
  {
   "cell_type": "code",
   "execution_count": 2,
   "metadata": {},
   "outputs": [],
   "source": [
    "sampleSizes= [216,108,206]\n",
    "popNames= ['Af','Eu','EA']\n",
    "\n",
    "indSuff= 'i'\n",
    "indIDs= [indSuff + str(x) for x in range(sum(sampleSizes))]\n",
    "popIDs= np.repeat(np.array(popNames),sampleSizes)\n",
    "data= np.array([\n",
    "    indIDs,\n",
    "    popIDs\n",
    "]).T\n",
    "\n",
    "filedir= 'C:/Users/floyd/Desktop/AZ/SuzLab/SLiM/mutation_counter/count/'\n",
    "filename= filedir + 'ind_assignments.txt'\n",
    "\n",
    "\n",
    "with open(filename,'w') as f:\n",
    "    vector= ['\\t'.join(x) for x in data]\n",
    "    vector= '\\n'.join(vector)\n",
    "    f.write(vector)\n",
    "\n"
   ]
  },
  {
   "cell_type": "code",
   "execution_count": null,
   "metadata": {},
   "outputs": [],
   "source": []
  }
 ],
 "metadata": {
  "kernelspec": {
   "display_name": "Python 3",
   "language": "python",
   "name": "python3"
  },
  "language_info": {
   "codemirror_mode": {
    "name": "ipython",
    "version": 3
   },
   "file_extension": ".py",
   "mimetype": "text/x-python",
   "name": "python",
   "nbconvert_exporter": "python",
   "pygments_lexer": "ipython3",
   "version": "3.7.3"
  }
 },
 "nbformat": 4,
 "nbformat_minor": 2
}
