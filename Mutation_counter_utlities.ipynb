{
 "cells": [
  {
   "cell_type": "code",
   "execution_count": 2,
   "metadata": {},
   "outputs": [
    {
     "data": {
      "text/html": [
       "        <script type=\"text/javascript\">\n",
       "        window.PlotlyConfig = {MathJaxConfig: 'local'};\n",
       "        if (window.MathJax) {MathJax.Hub.Config({SVG: {font: \"STIX-Web\"}});}\n",
       "        if (typeof require !== 'undefined') {\n",
       "        require.undef(\"plotly\");\n",
       "        requirejs.config({\n",
       "            paths: {\n",
       "                'plotly': ['https://cdn.plot.ly/plotly-latest.min']\n",
       "            }\n",
       "        });\n",
       "        require(['plotly'], function(Plotly) {\n",
       "            window._Plotly = Plotly;\n",
       "        });\n",
       "        }\n",
       "        </script>\n",
       "        "
      ]
     },
     "metadata": {},
     "output_type": "display_data"
    }
   ],
   "source": [
    "import itertools as it\n",
    "import numpy as np\n",
    "from itertools import product\n",
    "from scipy.stats import gamma\n",
    "from sklearn.neighbors import KernelDensity\n",
    "import plotly\n",
    "import chart_studio.plotly as py\n",
    "import plotly.graph_objs as go\n",
    "from plotly.offline import download_plotlyjs, init_notebook_mode, plot, iplot\n",
    "from plotly.graph_objs import *\n",
    "import plotly.figure_factory as ff\n",
    "\n",
    "from IPython.display import clear_output\n",
    "\n",
    "from ipywidgets import interact, interactive, fixed, interact_manual\n",
    "import ipywidgets as widgets\n",
    "init_notebook_mode(connected=True)\n"
   ]
  },
  {
   "cell_type": "code",
   "execution_count": 3,
   "metadata": {},
   "outputs": [],
   "source": [
    "\n",
    "bases = 'ACGT'\n",
    "\n",
    "mutations=[]\n",
    "\n",
    "kmer= 3 ## must be odd\n",
    "base_set= [bases]*kmer\n",
    "\n",
    "for trimer in product(*base_set):\n",
    "    for base in bases:\n",
    "        if trimer[int(kmer / 2)] != base:\n",
    "            mutations.append((''.join(trimer), base))\n"
   ]
  },
  {
   "cell_type": "code",
   "execution_count": 4,
   "metadata": {},
   "outputs": [
    {
     "data": {
      "text/plain": [
       "'ATAAGGTGACTAACACGCGCATAGCCACGTAAGCCGTGGCCGTCGGAGCCTATACTCCCGGGGTATAGTACGGATACATGCAGGACTCCGGTGATGGACG'"
      ]
     },
     "execution_count": 4,
     "metadata": {},
     "output_type": "execute_result"
    }
   ],
   "source": [
    "bases_probs= [.25] * 4\n",
    "L= 10000\n",
    "random_fasta= np.random.choice(list(bases),size=L,p= bases_probs,replace= True)\n",
    "random_fasta= ''.join(random_fasta)\n",
    "random_fasta[:100]"
   ]
  },
  {
   "cell_type": "markdown",
   "metadata": {},
   "source": [
    "## read fasta and get mutation count"
   ]
  },
  {
   "cell_type": "code",
   "execution_count": 5,
   "metadata": {},
   "outputs": [],
   "source": [
    "from functools import reduce  # forward compatibility for Python 3\n",
    "import operator\n",
    "import collections\n",
    "\n",
    "def recursively_default_dict():\n",
    "    return collections.defaultdict(recursively_default_dict)\n",
    "\n",
    "\n",
    "####\n",
    "####\n",
    "def get_by_path(root, items):\n",
    "    \"\"\"Access a nested object in root by item sequence.\"\"\"\n",
    "    return reduce(operator.getitem, items, root)\n",
    "\n",
    "def set_by_path(root, items, value):\n",
    "    \"\"\"Set a value in a nested object in root by item sequence.\"\"\"\n",
    "    get_by_path(root, items[:-1])[items[-1]] = value\n",
    "\n",
    "####\n",
    "####\n",
    "\n",
    "def kmer_dict_init(ksize= 3,bases='ATCG'):\n",
    "    '''produce nested dictionary of nucs for a particular kmer size'''\n",
    "    mut_lib= recursively_default_dict()\n",
    "\n",
    "    ksize= 3\n",
    "    base_set= [bases]*ksize\n",
    "\n",
    "    for trimer in product(*base_set):\n",
    "        set_by_path(mut_lib,list(trimer),0)\n",
    "    \n",
    "    return mut_lib\n",
    "\n",
    "\n",
    "def fasta_get_freq(seq,start= 0,end= 0,step= 1,ksize=3,bases= 'ATCG'):\n",
    "    '''return count of kmer across fasta region'''\n",
    "    kmer_dict= kmer_dict_init(ksize= ksize,bases=bases)\n",
    "    if end == 0:\n",
    "        end= len(seq) - ksize\n",
    "    \n",
    "    for ki in range(start,end,step):\n",
    "        kmer= seq[ki:ki+ksize] \n",
    "        get_by_path(kmer_dict, kmer[:-1])[kmer[-1]] += 1\n",
    "    \n",
    "    return kmer_dict\n",
    "        \n",
    "\n",
    "\n",
    "def get_complement(kmer):\n",
    "    '''Return complement of a given kmer'''\n",
    "    complements= {\n",
    "        'A': 'T',\n",
    "        'T': 'A',\n",
    "        'C': 'G',\n",
    "        'G': 'C'\n",
    "    }\n",
    "    \n",
    "    comp= [complements[x] for x in kmer][::-1]\n",
    "    return comp\n",
    "\n",
    "\n",
    "def complement_dicts(bases= 'ACGT',ksize= 3):\n",
    "    '''return dict of comp kmers + index dict to parse with'''\n",
    "    comp_dict= {}\n",
    "    comp_index= {}\n",
    "    d= 0\n",
    "    base_set= [bases] * ksize\n",
    "    mers= product(*base_set)\n",
    "    \n",
    "    for kmer in mers:\n",
    "        kmer= ''.join(kmer)\n",
    "        if kmer not in comp_dict.keys():\n",
    "            comp_dict[kmer]= d\n",
    "            \n",
    "            comp= get_complement(kmer)\n",
    "            comp= ''.join(comp)\n",
    "            comp_dict[comp]= d\n",
    "            \n",
    "            comp_index[d]= (kmer,comp)\n",
    "            d += 1\n",
    "    \n",
    "    return comp_dict,comp_index\n",
    "\n",
    "\n",
    "def collapse_freqs(kmer_dict,comp_index):\n",
    "    '''return vector of collapsed counts by kmer'''\n",
    "    counts= []\n",
    "    \n",
    "    for kdx in comp_index.keys():\n",
    "        total= [get_by_path(kmer_dict, list(comp)) for comp in comp_index[kdx]]\n",
    "        total= sum(total)\n",
    "        counts.append(total)\n",
    "        \n",
    "    return counts\n",
    "            \n",
    "    \n",
    "    \n",
    "    \n"
   ]
  },
  {
   "cell_type": "code",
   "execution_count": 6,
   "metadata": {},
   "outputs": [
    {
     "data": {
      "text/plain": [
       "{0: ('AAA', 'TTT'),\n",
       " 1: ('AAT', 'ATT'),\n",
       " 2: ('AAC', 'GTT'),\n",
       " 3: ('AAG', 'CTT'),\n",
       " 4: ('ATA', 'TAT'),\n",
       " 5: ('ATC', 'GAT'),\n",
       " 6: ('ATG', 'CAT'),\n",
       " 7: ('ACA', 'TGT'),\n",
       " 8: ('ACT', 'AGT'),\n",
       " 9: ('ACC', 'GGT'),\n",
       " 10: ('ACG', 'CGT'),\n",
       " 11: ('AGA', 'TCT'),\n",
       " 12: ('AGC', 'GCT'),\n",
       " 13: ('AGG', 'CCT'),\n",
       " 14: ('TAA', 'TTA'),\n",
       " 15: ('TAC', 'GTA'),\n",
       " 16: ('TAG', 'CTA'),\n",
       " 17: ('TTC', 'GAA'),\n",
       " 18: ('TTG', 'CAA'),\n",
       " 19: ('TCA', 'TGA'),\n",
       " 20: ('TCC', 'GGA'),\n",
       " 21: ('TCG', 'CGA'),\n",
       " 22: ('TGC', 'GCA'),\n",
       " 23: ('TGG', 'CCA'),\n",
       " 24: ('CAC', 'GTG'),\n",
       " 25: ('CAG', 'CTG'),\n",
       " 26: ('CTC', 'GAG'),\n",
       " 27: ('CCC', 'GGG'),\n",
       " 28: ('CCG', 'CGG'),\n",
       " 29: ('CGC', 'GCG'),\n",
       " 30: ('GAC', 'GTC'),\n",
       " 31: ('GCC', 'GGC')}"
      ]
     },
     "execution_count": 6,
     "metadata": {},
     "output_type": "execute_result"
    }
   ],
   "source": [
    "bases= 'ATCG'\n",
    "ksize= 3\n",
    "\n",
    "kmer_dict= fasta_get_freq(random_fasta,start= 0,end= 0,step= 1,ksize=ksize,bases= bases)\n",
    "comp_dict, comp_index= complement_dicts(bases= bases,ksize= ksize)\n",
    "collapsed_freqs= collapse_freqs(kmer_dict,comp_index)\n",
    "collapsed_freqs= np.array(collapsed_freqs) / sum(collapsed_freqs)\n",
    "comp_index"
   ]
  },
  {
   "cell_type": "markdown",
   "metadata": {},
   "source": [
    "## Markov Chain\n",
    "\n",
    "We will consider possible only transitions where middle nucleotide changes. And we will make the probability of remaining the same nucleotide pretty large. \n"
   ]
  },
  {
   "cell_type": "code",
   "execution_count": 7,
   "metadata": {},
   "outputs": [],
   "source": [
    "def isAmatch(kmer1,kmer2):\n",
    "    '''are two kmers identical across flanking-to-middle nucs? return 1 if yes, 0 if not.'''\n",
    "    \n",
    "    middle= int(len(kmer1) / 2)\n",
    "    compat= [kmer1[:middle] == kmer2[:middle],kmer1[middle+1:] == kmer2[middle+1:]]\n",
    "    compat= sum(compat)\n",
    "    \n",
    "    return int(compat == 2)\n",
    "\n",
    "def match_lists(kmers1,kmers2):\n",
    "    '''flank compatibility across lists of kmers'''\n",
    "    results= 0\n",
    "    for km in kmers1:\n",
    "        for kl in kmers2:\n",
    "            results += isAmatch(km,kl)\n",
    "    \n",
    "    return results\n",
    "\n",
    "\n",
    "def get_possible(idx,comp_index):\n",
    "    '''return binary vector of possible transition states'''\n",
    "    \n",
    "    test= [int(match_lists(comp_index[idx],comp_index[x]) > 0) for x in comp_index.keys()]\n",
    "    \n",
    "    return test\n"
   ]
  },
  {
   "cell_type": "code",
   "execution_count": 8,
   "metadata": {},
   "outputs": [],
   "source": [
    "\n",
    "def matrixFill_randomGamma(comp_index,alpha= 0.05):\n",
    "    '''return transition matrix with gamma drawn values'''\n",
    "    \n",
    "    bin_matrix= [get_possible(x,comp_index) for x in comp_index.keys()]\n",
    "    bin_matrix= np.array(bin_matrix,dtype= float)\n",
    "        \n",
    "    where_poss= np.where(bin_matrix == 1)\n",
    "    where_poss= [[where_poss[0][x],where_poss[1][x]] for x in range(len(where_poss[0]))]\n",
    "    \n",
    "    for idx in where_poss:\n",
    "        \n",
    "        if idx[0] != idx[1]:\n",
    "            \n",
    "            new_val= 0.5\n",
    "            while new_val >= 0.5:\n",
    "                new_val= gamma.rvs(alpha, size=1)[0]\n",
    "            bin_matrix[idx[0],idx[1]]= new_val\n",
    "            \n",
    "    \n",
    "    rowSums= np.sum(bin_matrix,axis= 1)\n",
    "    \n",
    "    for row in range(bin_matrix.shape[0]):\n",
    "        total= 2 - rowSums[row]\n",
    "        bin_matrix[row,row]= total\n",
    "    \n",
    "    return bin_matrix\n",
    "        \n",
    "        "
   ]
  },
  {
   "cell_type": "code",
   "execution_count": null,
   "metadata": {},
   "outputs": [],
   "source": []
  },
  {
   "cell_type": "code",
   "execution_count": 9,
   "metadata": {},
   "outputs": [
    {
     "data": {
      "application/vnd.plotly.v1+json": {
       "config": {
        "linkText": "Export to plot.ly",
        "plotlyServerURL": "https://plot.ly",
        "showLink": false
       },
       "data": [
        {
         "type": "bar",
         "x": [
          "AAA",
          "AAT",
          "AAC",
          "AAG",
          "ATA",
          "ATC",
          "ATG",
          "ACA",
          "ACT",
          "ACC",
          "ACG",
          "AGA",
          "AGC",
          "AGG",
          "TAA",
          "TAC",
          "TAG",
          "TTC",
          "TTG",
          "TCA",
          "TCC",
          "TCG",
          "TGC",
          "TGG",
          "CAC",
          "CAG",
          "CTC",
          "CCC",
          "CCG",
          "CGC",
          "GAC",
          "GCC"
         ],
         "y": [
          0.028308492547764328,
          0.02960888266479944,
          0.030009002700810243,
          0.03080924277283185,
          0.027908372511753526,
          0.03130939281784535,
          0.028308492547764328,
          0.03080924277283185,
          0.031709512853856155,
          0.03070921276382915,
          0.034110233069920975,
          0.03361008302490747,
          0.03230969290787236,
          0.030009002700810243,
          0.030509152745823748,
          0.029808942682804842,
          0.03200960288086426,
          0.030009002700810243,
          0.02990897269180754,
          0.03070921276382915,
          0.03421026307892368,
          0.03080924277283185,
          0.02720816244873462,
          0.033810143042912875,
          0.03330999299789937,
          0.031009302790837252,
          0.033810143042912875,
          0.03471041312393718,
          0.030409122736821045,
          0.03471041312393718,
          0.03421026307892368,
          0.029308792637791337
         ]
        }
       ],
       "layout": {
        "template": {
         "data": {
          "bar": [
           {
            "error_x": {
             "color": "#2a3f5f"
            },
            "error_y": {
             "color": "#2a3f5f"
            },
            "marker": {
             "line": {
              "color": "#E5ECF6",
              "width": 0.5
             }
            },
            "type": "bar"
           }
          ],
          "barpolar": [
           {
            "marker": {
             "line": {
              "color": "#E5ECF6",
              "width": 0.5
             }
            },
            "type": "barpolar"
           }
          ],
          "carpet": [
           {
            "aaxis": {
             "endlinecolor": "#2a3f5f",
             "gridcolor": "white",
             "linecolor": "white",
             "minorgridcolor": "white",
             "startlinecolor": "#2a3f5f"
            },
            "baxis": {
             "endlinecolor": "#2a3f5f",
             "gridcolor": "white",
             "linecolor": "white",
             "minorgridcolor": "white",
             "startlinecolor": "#2a3f5f"
            },
            "type": "carpet"
           }
          ],
          "choropleth": [
           {
            "colorbar": {
             "outlinewidth": 0,
             "ticks": ""
            },
            "type": "choropleth"
           }
          ],
          "contour": [
           {
            "colorbar": {
             "outlinewidth": 0,
             "ticks": ""
            },
            "colorscale": [
             [
              0,
              "#0d0887"
             ],
             [
              0.1111111111111111,
              "#46039f"
             ],
             [
              0.2222222222222222,
              "#7201a8"
             ],
             [
              0.3333333333333333,
              "#9c179e"
             ],
             [
              0.4444444444444444,
              "#bd3786"
             ],
             [
              0.5555555555555556,
              "#d8576b"
             ],
             [
              0.6666666666666666,
              "#ed7953"
             ],
             [
              0.7777777777777778,
              "#fb9f3a"
             ],
             [
              0.8888888888888888,
              "#fdca26"
             ],
             [
              1,
              "#f0f921"
             ]
            ],
            "type": "contour"
           }
          ],
          "contourcarpet": [
           {
            "colorbar": {
             "outlinewidth": 0,
             "ticks": ""
            },
            "type": "contourcarpet"
           }
          ],
          "heatmap": [
           {
            "colorbar": {
             "outlinewidth": 0,
             "ticks": ""
            },
            "colorscale": [
             [
              0,
              "#0d0887"
             ],
             [
              0.1111111111111111,
              "#46039f"
             ],
             [
              0.2222222222222222,
              "#7201a8"
             ],
             [
              0.3333333333333333,
              "#9c179e"
             ],
             [
              0.4444444444444444,
              "#bd3786"
             ],
             [
              0.5555555555555556,
              "#d8576b"
             ],
             [
              0.6666666666666666,
              "#ed7953"
             ],
             [
              0.7777777777777778,
              "#fb9f3a"
             ],
             [
              0.8888888888888888,
              "#fdca26"
             ],
             [
              1,
              "#f0f921"
             ]
            ],
            "type": "heatmap"
           }
          ],
          "heatmapgl": [
           {
            "colorbar": {
             "outlinewidth": 0,
             "ticks": ""
            },
            "colorscale": [
             [
              0,
              "#0d0887"
             ],
             [
              0.1111111111111111,
              "#46039f"
             ],
             [
              0.2222222222222222,
              "#7201a8"
             ],
             [
              0.3333333333333333,
              "#9c179e"
             ],
             [
              0.4444444444444444,
              "#bd3786"
             ],
             [
              0.5555555555555556,
              "#d8576b"
             ],
             [
              0.6666666666666666,
              "#ed7953"
             ],
             [
              0.7777777777777778,
              "#fb9f3a"
             ],
             [
              0.8888888888888888,
              "#fdca26"
             ],
             [
              1,
              "#f0f921"
             ]
            ],
            "type": "heatmapgl"
           }
          ],
          "histogram": [
           {
            "marker": {
             "colorbar": {
              "outlinewidth": 0,
              "ticks": ""
             }
            },
            "type": "histogram"
           }
          ],
          "histogram2d": [
           {
            "colorbar": {
             "outlinewidth": 0,
             "ticks": ""
            },
            "colorscale": [
             [
              0,
              "#0d0887"
             ],
             [
              0.1111111111111111,
              "#46039f"
             ],
             [
              0.2222222222222222,
              "#7201a8"
             ],
             [
              0.3333333333333333,
              "#9c179e"
             ],
             [
              0.4444444444444444,
              "#bd3786"
             ],
             [
              0.5555555555555556,
              "#d8576b"
             ],
             [
              0.6666666666666666,
              "#ed7953"
             ],
             [
              0.7777777777777778,
              "#fb9f3a"
             ],
             [
              0.8888888888888888,
              "#fdca26"
             ],
             [
              1,
              "#f0f921"
             ]
            ],
            "type": "histogram2d"
           }
          ],
          "histogram2dcontour": [
           {
            "colorbar": {
             "outlinewidth": 0,
             "ticks": ""
            },
            "colorscale": [
             [
              0,
              "#0d0887"
             ],
             [
              0.1111111111111111,
              "#46039f"
             ],
             [
              0.2222222222222222,
              "#7201a8"
             ],
             [
              0.3333333333333333,
              "#9c179e"
             ],
             [
              0.4444444444444444,
              "#bd3786"
             ],
             [
              0.5555555555555556,
              "#d8576b"
             ],
             [
              0.6666666666666666,
              "#ed7953"
             ],
             [
              0.7777777777777778,
              "#fb9f3a"
             ],
             [
              0.8888888888888888,
              "#fdca26"
             ],
             [
              1,
              "#f0f921"
             ]
            ],
            "type": "histogram2dcontour"
           }
          ],
          "mesh3d": [
           {
            "colorbar": {
             "outlinewidth": 0,
             "ticks": ""
            },
            "type": "mesh3d"
           }
          ],
          "parcoords": [
           {
            "line": {
             "colorbar": {
              "outlinewidth": 0,
              "ticks": ""
             }
            },
            "type": "parcoords"
           }
          ],
          "pie": [
           {
            "automargin": true,
            "type": "pie"
           }
          ],
          "scatter": [
           {
            "marker": {
             "colorbar": {
              "outlinewidth": 0,
              "ticks": ""
             }
            },
            "type": "scatter"
           }
          ],
          "scatter3d": [
           {
            "line": {
             "colorbar": {
              "outlinewidth": 0,
              "ticks": ""
             }
            },
            "marker": {
             "colorbar": {
              "outlinewidth": 0,
              "ticks": ""
             }
            },
            "type": "scatter3d"
           }
          ],
          "scattercarpet": [
           {
            "marker": {
             "colorbar": {
              "outlinewidth": 0,
              "ticks": ""
             }
            },
            "type": "scattercarpet"
           }
          ],
          "scattergeo": [
           {
            "marker": {
             "colorbar": {
              "outlinewidth": 0,
              "ticks": ""
             }
            },
            "type": "scattergeo"
           }
          ],
          "scattergl": [
           {
            "marker": {
             "colorbar": {
              "outlinewidth": 0,
              "ticks": ""
             }
            },
            "type": "scattergl"
           }
          ],
          "scattermapbox": [
           {
            "marker": {
             "colorbar": {
              "outlinewidth": 0,
              "ticks": ""
             }
            },
            "type": "scattermapbox"
           }
          ],
          "scatterpolar": [
           {
            "marker": {
             "colorbar": {
              "outlinewidth": 0,
              "ticks": ""
             }
            },
            "type": "scatterpolar"
           }
          ],
          "scatterpolargl": [
           {
            "marker": {
             "colorbar": {
              "outlinewidth": 0,
              "ticks": ""
             }
            },
            "type": "scatterpolargl"
           }
          ],
          "scatterternary": [
           {
            "marker": {
             "colorbar": {
              "outlinewidth": 0,
              "ticks": ""
             }
            },
            "type": "scatterternary"
           }
          ],
          "surface": [
           {
            "colorbar": {
             "outlinewidth": 0,
             "ticks": ""
            },
            "colorscale": [
             [
              0,
              "#0d0887"
             ],
             [
              0.1111111111111111,
              "#46039f"
             ],
             [
              0.2222222222222222,
              "#7201a8"
             ],
             [
              0.3333333333333333,
              "#9c179e"
             ],
             [
              0.4444444444444444,
              "#bd3786"
             ],
             [
              0.5555555555555556,
              "#d8576b"
             ],
             [
              0.6666666666666666,
              "#ed7953"
             ],
             [
              0.7777777777777778,
              "#fb9f3a"
             ],
             [
              0.8888888888888888,
              "#fdca26"
             ],
             [
              1,
              "#f0f921"
             ]
            ],
            "type": "surface"
           }
          ],
          "table": [
           {
            "cells": {
             "fill": {
              "color": "#EBF0F8"
             },
             "line": {
              "color": "white"
             }
            },
            "header": {
             "fill": {
              "color": "#C8D4E3"
             },
             "line": {
              "color": "white"
             }
            },
            "type": "table"
           }
          ]
         },
         "layout": {
          "annotationdefaults": {
           "arrowcolor": "#2a3f5f",
           "arrowhead": 0,
           "arrowwidth": 1
          },
          "coloraxis": {
           "colorbar": {
            "outlinewidth": 0,
            "ticks": ""
           }
          },
          "colorscale": {
           "diverging": [
            [
             0,
             "#8e0152"
            ],
            [
             0.1,
             "#c51b7d"
            ],
            [
             0.2,
             "#de77ae"
            ],
            [
             0.3,
             "#f1b6da"
            ],
            [
             0.4,
             "#fde0ef"
            ],
            [
             0.5,
             "#f7f7f7"
            ],
            [
             0.6,
             "#e6f5d0"
            ],
            [
             0.7,
             "#b8e186"
            ],
            [
             0.8,
             "#7fbc41"
            ],
            [
             0.9,
             "#4d9221"
            ],
            [
             1,
             "#276419"
            ]
           ],
           "sequential": [
            [
             0,
             "#0d0887"
            ],
            [
             0.1111111111111111,
             "#46039f"
            ],
            [
             0.2222222222222222,
             "#7201a8"
            ],
            [
             0.3333333333333333,
             "#9c179e"
            ],
            [
             0.4444444444444444,
             "#bd3786"
            ],
            [
             0.5555555555555556,
             "#d8576b"
            ],
            [
             0.6666666666666666,
             "#ed7953"
            ],
            [
             0.7777777777777778,
             "#fb9f3a"
            ],
            [
             0.8888888888888888,
             "#fdca26"
            ],
            [
             1,
             "#f0f921"
            ]
           ],
           "sequentialminus": [
            [
             0,
             "#0d0887"
            ],
            [
             0.1111111111111111,
             "#46039f"
            ],
            [
             0.2222222222222222,
             "#7201a8"
            ],
            [
             0.3333333333333333,
             "#9c179e"
            ],
            [
             0.4444444444444444,
             "#bd3786"
            ],
            [
             0.5555555555555556,
             "#d8576b"
            ],
            [
             0.6666666666666666,
             "#ed7953"
            ],
            [
             0.7777777777777778,
             "#fb9f3a"
            ],
            [
             0.8888888888888888,
             "#fdca26"
            ],
            [
             1,
             "#f0f921"
            ]
           ]
          },
          "colorway": [
           "#636efa",
           "#EF553B",
           "#00cc96",
           "#ab63fa",
           "#FFA15A",
           "#19d3f3",
           "#FF6692",
           "#B6E880",
           "#FF97FF",
           "#FECB52"
          ],
          "font": {
           "color": "#2a3f5f"
          },
          "geo": {
           "bgcolor": "white",
           "lakecolor": "white",
           "landcolor": "#E5ECF6",
           "showlakes": true,
           "showland": true,
           "subunitcolor": "white"
          },
          "hoverlabel": {
           "align": "left"
          },
          "hovermode": "closest",
          "mapbox": {
           "style": "light"
          },
          "paper_bgcolor": "white",
          "plot_bgcolor": "#E5ECF6",
          "polar": {
           "angularaxis": {
            "gridcolor": "white",
            "linecolor": "white",
            "ticks": ""
           },
           "bgcolor": "#E5ECF6",
           "radialaxis": {
            "gridcolor": "white",
            "linecolor": "white",
            "ticks": ""
           }
          },
          "scene": {
           "xaxis": {
            "backgroundcolor": "#E5ECF6",
            "gridcolor": "white",
            "gridwidth": 2,
            "linecolor": "white",
            "showbackground": true,
            "ticks": "",
            "zerolinecolor": "white"
           },
           "yaxis": {
            "backgroundcolor": "#E5ECF6",
            "gridcolor": "white",
            "gridwidth": 2,
            "linecolor": "white",
            "showbackground": true,
            "ticks": "",
            "zerolinecolor": "white"
           },
           "zaxis": {
            "backgroundcolor": "#E5ECF6",
            "gridcolor": "white",
            "gridwidth": 2,
            "linecolor": "white",
            "showbackground": true,
            "ticks": "",
            "zerolinecolor": "white"
           }
          },
          "shapedefaults": {
           "line": {
            "color": "#2a3f5f"
           }
          },
          "ternary": {
           "aaxis": {
            "gridcolor": "white",
            "linecolor": "white",
            "ticks": ""
           },
           "baxis": {
            "gridcolor": "white",
            "linecolor": "white",
            "ticks": ""
           },
           "bgcolor": "#E5ECF6",
           "caxis": {
            "gridcolor": "white",
            "linecolor": "white",
            "ticks": ""
           }
          },
          "title": {
           "x": 0.05
          },
          "xaxis": {
           "automargin": true,
           "gridcolor": "white",
           "linecolor": "white",
           "ticks": "",
           "title": {
            "standoff": 15
           },
           "zerolinecolor": "white",
           "zerolinewidth": 2
          },
          "yaxis": {
           "automargin": true,
           "gridcolor": "white",
           "linecolor": "white",
           "ticks": "",
           "title": {
            "standoff": 15
           },
           "zerolinecolor": "white",
           "zerolinewidth": 2
          }
         }
        }
       }
      },
      "text/html": [
       "<div>\n",
       "        \n",
       "        \n",
       "            <div id=\"66d8eb26-d941-4366-9df5-fdb741a0f742\" class=\"plotly-graph-div\" style=\"height:525px; width:100%;\"></div>\n",
       "            <script type=\"text/javascript\">\n",
       "                require([\"plotly\"], function(Plotly) {\n",
       "                    window.PLOTLYENV=window.PLOTLYENV || {};\n",
       "                    \n",
       "                if (document.getElementById(\"66d8eb26-d941-4366-9df5-fdb741a0f742\")) {\n",
       "                    Plotly.newPlot(\n",
       "                        '66d8eb26-d941-4366-9df5-fdb741a0f742',\n",
       "                        [{\"type\": \"bar\", \"x\": [\"AAA\", \"AAT\", \"AAC\", \"AAG\", \"ATA\", \"ATC\", \"ATG\", \"ACA\", \"ACT\", \"ACC\", \"ACG\", \"AGA\", \"AGC\", \"AGG\", \"TAA\", \"TAC\", \"TAG\", \"TTC\", \"TTG\", \"TCA\", \"TCC\", \"TCG\", \"TGC\", \"TGG\", \"CAC\", \"CAG\", \"CTC\", \"CCC\", \"CCG\", \"CGC\", \"GAC\", \"GCC\"], \"y\": [0.028308492547764328, 0.02960888266479944, 0.030009002700810243, 0.03080924277283185, 0.027908372511753526, 0.03130939281784535, 0.028308492547764328, 0.03080924277283185, 0.031709512853856155, 0.03070921276382915, 0.034110233069920975, 0.03361008302490747, 0.03230969290787236, 0.030009002700810243, 0.030509152745823748, 0.029808942682804842, 0.03200960288086426, 0.030009002700810243, 0.02990897269180754, 0.03070921276382915, 0.03421026307892368, 0.03080924277283185, 0.02720816244873462, 0.033810143042912875, 0.03330999299789937, 0.031009302790837252, 0.033810143042912875, 0.03471041312393718, 0.030409122736821045, 0.03471041312393718, 0.03421026307892368, 0.029308792637791337]}],\n",
       "                        {\"template\": {\"data\": {\"bar\": [{\"error_x\": {\"color\": \"#2a3f5f\"}, \"error_y\": {\"color\": \"#2a3f5f\"}, \"marker\": {\"line\": {\"color\": \"#E5ECF6\", \"width\": 0.5}}, \"type\": \"bar\"}], \"barpolar\": [{\"marker\": {\"line\": {\"color\": \"#E5ECF6\", \"width\": 0.5}}, \"type\": \"barpolar\"}], \"carpet\": [{\"aaxis\": {\"endlinecolor\": \"#2a3f5f\", \"gridcolor\": \"white\", \"linecolor\": \"white\", \"minorgridcolor\": \"white\", \"startlinecolor\": \"#2a3f5f\"}, \"baxis\": {\"endlinecolor\": \"#2a3f5f\", \"gridcolor\": \"white\", \"linecolor\": \"white\", \"minorgridcolor\": \"white\", \"startlinecolor\": \"#2a3f5f\"}, \"type\": \"carpet\"}], \"choropleth\": [{\"colorbar\": {\"outlinewidth\": 0, \"ticks\": \"\"}, \"type\": \"choropleth\"}], \"contour\": [{\"colorbar\": {\"outlinewidth\": 0, \"ticks\": \"\"}, \"colorscale\": [[0.0, \"#0d0887\"], [0.1111111111111111, \"#46039f\"], [0.2222222222222222, \"#7201a8\"], [0.3333333333333333, \"#9c179e\"], [0.4444444444444444, \"#bd3786\"], [0.5555555555555556, \"#d8576b\"], [0.6666666666666666, \"#ed7953\"], [0.7777777777777778, \"#fb9f3a\"], [0.8888888888888888, \"#fdca26\"], [1.0, \"#f0f921\"]], \"type\": \"contour\"}], \"contourcarpet\": [{\"colorbar\": {\"outlinewidth\": 0, \"ticks\": \"\"}, \"type\": \"contourcarpet\"}], \"heatmap\": [{\"colorbar\": {\"outlinewidth\": 0, \"ticks\": \"\"}, \"colorscale\": [[0.0, \"#0d0887\"], [0.1111111111111111, \"#46039f\"], [0.2222222222222222, \"#7201a8\"], [0.3333333333333333, \"#9c179e\"], [0.4444444444444444, \"#bd3786\"], [0.5555555555555556, \"#d8576b\"], [0.6666666666666666, \"#ed7953\"], [0.7777777777777778, \"#fb9f3a\"], [0.8888888888888888, \"#fdca26\"], [1.0, \"#f0f921\"]], \"type\": \"heatmap\"}], \"heatmapgl\": [{\"colorbar\": {\"outlinewidth\": 0, \"ticks\": \"\"}, \"colorscale\": [[0.0, \"#0d0887\"], [0.1111111111111111, \"#46039f\"], [0.2222222222222222, \"#7201a8\"], [0.3333333333333333, \"#9c179e\"], [0.4444444444444444, \"#bd3786\"], [0.5555555555555556, \"#d8576b\"], [0.6666666666666666, \"#ed7953\"], [0.7777777777777778, \"#fb9f3a\"], [0.8888888888888888, \"#fdca26\"], [1.0, \"#f0f921\"]], \"type\": \"heatmapgl\"}], \"histogram\": [{\"marker\": {\"colorbar\": {\"outlinewidth\": 0, \"ticks\": \"\"}}, \"type\": \"histogram\"}], \"histogram2d\": [{\"colorbar\": {\"outlinewidth\": 0, \"ticks\": \"\"}, \"colorscale\": [[0.0, \"#0d0887\"], [0.1111111111111111, \"#46039f\"], [0.2222222222222222, \"#7201a8\"], [0.3333333333333333, \"#9c179e\"], [0.4444444444444444, \"#bd3786\"], [0.5555555555555556, \"#d8576b\"], [0.6666666666666666, \"#ed7953\"], [0.7777777777777778, \"#fb9f3a\"], [0.8888888888888888, \"#fdca26\"], [1.0, \"#f0f921\"]], \"type\": \"histogram2d\"}], \"histogram2dcontour\": [{\"colorbar\": {\"outlinewidth\": 0, \"ticks\": \"\"}, \"colorscale\": [[0.0, \"#0d0887\"], [0.1111111111111111, \"#46039f\"], [0.2222222222222222, \"#7201a8\"], [0.3333333333333333, \"#9c179e\"], [0.4444444444444444, \"#bd3786\"], [0.5555555555555556, \"#d8576b\"], [0.6666666666666666, \"#ed7953\"], [0.7777777777777778, \"#fb9f3a\"], [0.8888888888888888, \"#fdca26\"], [1.0, \"#f0f921\"]], \"type\": \"histogram2dcontour\"}], \"mesh3d\": [{\"colorbar\": {\"outlinewidth\": 0, \"ticks\": \"\"}, \"type\": \"mesh3d\"}], \"parcoords\": [{\"line\": {\"colorbar\": {\"outlinewidth\": 0, \"ticks\": \"\"}}, \"type\": \"parcoords\"}], \"pie\": [{\"automargin\": true, \"type\": \"pie\"}], \"scatter\": [{\"marker\": {\"colorbar\": {\"outlinewidth\": 0, \"ticks\": \"\"}}, \"type\": \"scatter\"}], \"scatter3d\": [{\"line\": {\"colorbar\": {\"outlinewidth\": 0, \"ticks\": \"\"}}, \"marker\": {\"colorbar\": {\"outlinewidth\": 0, \"ticks\": \"\"}}, \"type\": \"scatter3d\"}], \"scattercarpet\": [{\"marker\": {\"colorbar\": {\"outlinewidth\": 0, \"ticks\": \"\"}}, \"type\": \"scattercarpet\"}], \"scattergeo\": [{\"marker\": {\"colorbar\": {\"outlinewidth\": 0, \"ticks\": \"\"}}, \"type\": \"scattergeo\"}], \"scattergl\": [{\"marker\": {\"colorbar\": {\"outlinewidth\": 0, \"ticks\": \"\"}}, \"type\": \"scattergl\"}], \"scattermapbox\": [{\"marker\": {\"colorbar\": {\"outlinewidth\": 0, \"ticks\": \"\"}}, \"type\": \"scattermapbox\"}], \"scatterpolar\": [{\"marker\": {\"colorbar\": {\"outlinewidth\": 0, \"ticks\": \"\"}}, \"type\": \"scatterpolar\"}], \"scatterpolargl\": [{\"marker\": {\"colorbar\": {\"outlinewidth\": 0, \"ticks\": \"\"}}, \"type\": \"scatterpolargl\"}], \"scatterternary\": [{\"marker\": {\"colorbar\": {\"outlinewidth\": 0, \"ticks\": \"\"}}, \"type\": \"scatterternary\"}], \"surface\": [{\"colorbar\": {\"outlinewidth\": 0, \"ticks\": \"\"}, \"colorscale\": [[0.0, \"#0d0887\"], [0.1111111111111111, \"#46039f\"], [0.2222222222222222, \"#7201a8\"], [0.3333333333333333, \"#9c179e\"], [0.4444444444444444, \"#bd3786\"], [0.5555555555555556, \"#d8576b\"], [0.6666666666666666, \"#ed7953\"], [0.7777777777777778, \"#fb9f3a\"], [0.8888888888888888, \"#fdca26\"], [1.0, \"#f0f921\"]], \"type\": \"surface\"}], \"table\": [{\"cells\": {\"fill\": {\"color\": \"#EBF0F8\"}, \"line\": {\"color\": \"white\"}}, \"header\": {\"fill\": {\"color\": \"#C8D4E3\"}, \"line\": {\"color\": \"white\"}}, \"type\": \"table\"}]}, \"layout\": {\"annotationdefaults\": {\"arrowcolor\": \"#2a3f5f\", \"arrowhead\": 0, \"arrowwidth\": 1}, \"coloraxis\": {\"colorbar\": {\"outlinewidth\": 0, \"ticks\": \"\"}}, \"colorscale\": {\"diverging\": [[0, \"#8e0152\"], [0.1, \"#c51b7d\"], [0.2, \"#de77ae\"], [0.3, \"#f1b6da\"], [0.4, \"#fde0ef\"], [0.5, \"#f7f7f7\"], [0.6, \"#e6f5d0\"], [0.7, \"#b8e186\"], [0.8, \"#7fbc41\"], [0.9, \"#4d9221\"], [1, \"#276419\"]], \"sequential\": [[0.0, \"#0d0887\"], [0.1111111111111111, \"#46039f\"], [0.2222222222222222, \"#7201a8\"], [0.3333333333333333, \"#9c179e\"], [0.4444444444444444, \"#bd3786\"], [0.5555555555555556, \"#d8576b\"], [0.6666666666666666, \"#ed7953\"], [0.7777777777777778, \"#fb9f3a\"], [0.8888888888888888, \"#fdca26\"], [1.0, \"#f0f921\"]], \"sequentialminus\": [[0.0, \"#0d0887\"], [0.1111111111111111, \"#46039f\"], [0.2222222222222222, \"#7201a8\"], [0.3333333333333333, \"#9c179e\"], [0.4444444444444444, \"#bd3786\"], [0.5555555555555556, \"#d8576b\"], [0.6666666666666666, \"#ed7953\"], [0.7777777777777778, \"#fb9f3a\"], [0.8888888888888888, \"#fdca26\"], [1.0, \"#f0f921\"]]}, \"colorway\": [\"#636efa\", \"#EF553B\", \"#00cc96\", \"#ab63fa\", \"#FFA15A\", \"#19d3f3\", \"#FF6692\", \"#B6E880\", \"#FF97FF\", \"#FECB52\"], \"font\": {\"color\": \"#2a3f5f\"}, \"geo\": {\"bgcolor\": \"white\", \"lakecolor\": \"white\", \"landcolor\": \"#E5ECF6\", \"showlakes\": true, \"showland\": true, \"subunitcolor\": \"white\"}, \"hoverlabel\": {\"align\": \"left\"}, \"hovermode\": \"closest\", \"mapbox\": {\"style\": \"light\"}, \"paper_bgcolor\": \"white\", \"plot_bgcolor\": \"#E5ECF6\", \"polar\": {\"angularaxis\": {\"gridcolor\": \"white\", \"linecolor\": \"white\", \"ticks\": \"\"}, \"bgcolor\": \"#E5ECF6\", \"radialaxis\": {\"gridcolor\": \"white\", \"linecolor\": \"white\", \"ticks\": \"\"}}, \"scene\": {\"xaxis\": {\"backgroundcolor\": \"#E5ECF6\", \"gridcolor\": \"white\", \"gridwidth\": 2, \"linecolor\": \"white\", \"showbackground\": true, \"ticks\": \"\", \"zerolinecolor\": \"white\"}, \"yaxis\": {\"backgroundcolor\": \"#E5ECF6\", \"gridcolor\": \"white\", \"gridwidth\": 2, \"linecolor\": \"white\", \"showbackground\": true, \"ticks\": \"\", \"zerolinecolor\": \"white\"}, \"zaxis\": {\"backgroundcolor\": \"#E5ECF6\", \"gridcolor\": \"white\", \"gridwidth\": 2, \"linecolor\": \"white\", \"showbackground\": true, \"ticks\": \"\", \"zerolinecolor\": \"white\"}}, \"shapedefaults\": {\"line\": {\"color\": \"#2a3f5f\"}}, \"ternary\": {\"aaxis\": {\"gridcolor\": \"white\", \"linecolor\": \"white\", \"ticks\": \"\"}, \"baxis\": {\"gridcolor\": \"white\", \"linecolor\": \"white\", \"ticks\": \"\"}, \"bgcolor\": \"#E5ECF6\", \"caxis\": {\"gridcolor\": \"white\", \"linecolor\": \"white\", \"ticks\": \"\"}}, \"title\": {\"x\": 0.05}, \"xaxis\": {\"automargin\": true, \"gridcolor\": \"white\", \"linecolor\": \"white\", \"ticks\": \"\", \"title\": {\"standoff\": 15}, \"zerolinecolor\": \"white\", \"zerolinewidth\": 2}, \"yaxis\": {\"automargin\": true, \"gridcolor\": \"white\", \"linecolor\": \"white\", \"ticks\": \"\", \"title\": {\"standoff\": 15}, \"zerolinecolor\": \"white\", \"zerolinewidth\": 2}}}},\n",
       "                        {\"responsive\": true}\n",
       "                    ).then(function(){\n",
       "                            \n",
       "var gd = document.getElementById('66d8eb26-d941-4366-9df5-fdb741a0f742');\n",
       "var x = new MutationObserver(function (mutations, observer) {{\n",
       "        var display = window.getComputedStyle(gd).display;\n",
       "        if (!display || display === 'none') {{\n",
       "            console.log([gd, 'removed!']);\n",
       "            Plotly.purge(gd);\n",
       "            observer.disconnect();\n",
       "        }}\n",
       "}});\n",
       "\n",
       "// Listen for the removal of the full notebook cells\n",
       "var notebookContainer = gd.closest('#notebook-container');\n",
       "if (notebookContainer) {{\n",
       "    x.observe(notebookContainer, {childList: true});\n",
       "}}\n",
       "\n",
       "// Listen for the clearing of the current output cell\n",
       "var outputEl = gd.closest('.output');\n",
       "if (outputEl) {{\n",
       "    x.observe(outputEl, {childList: true});\n",
       "}}\n",
       "\n",
       "                        })\n",
       "                };\n",
       "                });\n",
       "            </script>\n",
       "        </div>"
      ]
     },
     "metadata": {},
     "output_type": "display_data"
    },
    {
     "data": {
      "application/vnd.plotly.v1+json": {
       "config": {
        "linkText": "Export to plot.ly",
        "plotlyServerURL": "https://plot.ly",
        "showLink": false
       },
       "data": [
        {
         "type": "bar",
         "x": [
          "AAA",
          "AAT",
          "AAC",
          "AAG",
          "ATA",
          "ATC",
          "ATG",
          "ACA",
          "ACT",
          "ACC",
          "ACG",
          "AGA",
          "AGC",
          "AGG",
          "TAA",
          "TAC",
          "TAG",
          "TTC",
          "TTG",
          "TCA",
          "TCC",
          "TCG",
          "TGC",
          "TGG",
          "CAC",
          "CAG",
          "CTC",
          "CCC",
          "CCG",
          "CGC",
          "GAC",
          "GCC"
         ],
         "y": [
          0.01604294617090056,
          0.06131837808817656,
          0.030009002700810243,
          0.03059328676635658,
          0.02790837246077694,
          0.031309392817883516,
          0.02856785351368624,
          0.043074789200672474,
          1.743047901824073e-08,
          0.030544552256454985,
          0.034066829908502516,
          0.03361008302490747,
          0.03247435341520675,
          0.030009000902778034,
          0.030509152745823748,
          0.03215441025598911,
          0.032255187305421304,
          0.02766353512817551,
          0.029909191557439933,
          0.03070921276382915,
          0.03421026307892368,
          0.030070664677056578,
          0.027208162448184713,
          0.03430291784849962,
          0.033691584986415266,
          0.03100926085555168,
          0.05183047547637487,
          0.016308488701958525,
          0.030409164672106682,
          0.03471041312394065,
          0.03421026307892368,
          0.029308792637791337
         ]
        }
       ],
       "layout": {
        "template": {
         "data": {
          "bar": [
           {
            "error_x": {
             "color": "#2a3f5f"
            },
            "error_y": {
             "color": "#2a3f5f"
            },
            "marker": {
             "line": {
              "color": "#E5ECF6",
              "width": 0.5
             }
            },
            "type": "bar"
           }
          ],
          "barpolar": [
           {
            "marker": {
             "line": {
              "color": "#E5ECF6",
              "width": 0.5
             }
            },
            "type": "barpolar"
           }
          ],
          "carpet": [
           {
            "aaxis": {
             "endlinecolor": "#2a3f5f",
             "gridcolor": "white",
             "linecolor": "white",
             "minorgridcolor": "white",
             "startlinecolor": "#2a3f5f"
            },
            "baxis": {
             "endlinecolor": "#2a3f5f",
             "gridcolor": "white",
             "linecolor": "white",
             "minorgridcolor": "white",
             "startlinecolor": "#2a3f5f"
            },
            "type": "carpet"
           }
          ],
          "choropleth": [
           {
            "colorbar": {
             "outlinewidth": 0,
             "ticks": ""
            },
            "type": "choropleth"
           }
          ],
          "contour": [
           {
            "colorbar": {
             "outlinewidth": 0,
             "ticks": ""
            },
            "colorscale": [
             [
              0,
              "#0d0887"
             ],
             [
              0.1111111111111111,
              "#46039f"
             ],
             [
              0.2222222222222222,
              "#7201a8"
             ],
             [
              0.3333333333333333,
              "#9c179e"
             ],
             [
              0.4444444444444444,
              "#bd3786"
             ],
             [
              0.5555555555555556,
              "#d8576b"
             ],
             [
              0.6666666666666666,
              "#ed7953"
             ],
             [
              0.7777777777777778,
              "#fb9f3a"
             ],
             [
              0.8888888888888888,
              "#fdca26"
             ],
             [
              1,
              "#f0f921"
             ]
            ],
            "type": "contour"
           }
          ],
          "contourcarpet": [
           {
            "colorbar": {
             "outlinewidth": 0,
             "ticks": ""
            },
            "type": "contourcarpet"
           }
          ],
          "heatmap": [
           {
            "colorbar": {
             "outlinewidth": 0,
             "ticks": ""
            },
            "colorscale": [
             [
              0,
              "#0d0887"
             ],
             [
              0.1111111111111111,
              "#46039f"
             ],
             [
              0.2222222222222222,
              "#7201a8"
             ],
             [
              0.3333333333333333,
              "#9c179e"
             ],
             [
              0.4444444444444444,
              "#bd3786"
             ],
             [
              0.5555555555555556,
              "#d8576b"
             ],
             [
              0.6666666666666666,
              "#ed7953"
             ],
             [
              0.7777777777777778,
              "#fb9f3a"
             ],
             [
              0.8888888888888888,
              "#fdca26"
             ],
             [
              1,
              "#f0f921"
             ]
            ],
            "type": "heatmap"
           }
          ],
          "heatmapgl": [
           {
            "colorbar": {
             "outlinewidth": 0,
             "ticks": ""
            },
            "colorscale": [
             [
              0,
              "#0d0887"
             ],
             [
              0.1111111111111111,
              "#46039f"
             ],
             [
              0.2222222222222222,
              "#7201a8"
             ],
             [
              0.3333333333333333,
              "#9c179e"
             ],
             [
              0.4444444444444444,
              "#bd3786"
             ],
             [
              0.5555555555555556,
              "#d8576b"
             ],
             [
              0.6666666666666666,
              "#ed7953"
             ],
             [
              0.7777777777777778,
              "#fb9f3a"
             ],
             [
              0.8888888888888888,
              "#fdca26"
             ],
             [
              1,
              "#f0f921"
             ]
            ],
            "type": "heatmapgl"
           }
          ],
          "histogram": [
           {
            "marker": {
             "colorbar": {
              "outlinewidth": 0,
              "ticks": ""
             }
            },
            "type": "histogram"
           }
          ],
          "histogram2d": [
           {
            "colorbar": {
             "outlinewidth": 0,
             "ticks": ""
            },
            "colorscale": [
             [
              0,
              "#0d0887"
             ],
             [
              0.1111111111111111,
              "#46039f"
             ],
             [
              0.2222222222222222,
              "#7201a8"
             ],
             [
              0.3333333333333333,
              "#9c179e"
             ],
             [
              0.4444444444444444,
              "#bd3786"
             ],
             [
              0.5555555555555556,
              "#d8576b"
             ],
             [
              0.6666666666666666,
              "#ed7953"
             ],
             [
              0.7777777777777778,
              "#fb9f3a"
             ],
             [
              0.8888888888888888,
              "#fdca26"
             ],
             [
              1,
              "#f0f921"
             ]
            ],
            "type": "histogram2d"
           }
          ],
          "histogram2dcontour": [
           {
            "colorbar": {
             "outlinewidth": 0,
             "ticks": ""
            },
            "colorscale": [
             [
              0,
              "#0d0887"
             ],
             [
              0.1111111111111111,
              "#46039f"
             ],
             [
              0.2222222222222222,
              "#7201a8"
             ],
             [
              0.3333333333333333,
              "#9c179e"
             ],
             [
              0.4444444444444444,
              "#bd3786"
             ],
             [
              0.5555555555555556,
              "#d8576b"
             ],
             [
              0.6666666666666666,
              "#ed7953"
             ],
             [
              0.7777777777777778,
              "#fb9f3a"
             ],
             [
              0.8888888888888888,
              "#fdca26"
             ],
             [
              1,
              "#f0f921"
             ]
            ],
            "type": "histogram2dcontour"
           }
          ],
          "mesh3d": [
           {
            "colorbar": {
             "outlinewidth": 0,
             "ticks": ""
            },
            "type": "mesh3d"
           }
          ],
          "parcoords": [
           {
            "line": {
             "colorbar": {
              "outlinewidth": 0,
              "ticks": ""
             }
            },
            "type": "parcoords"
           }
          ],
          "pie": [
           {
            "automargin": true,
            "type": "pie"
           }
          ],
          "scatter": [
           {
            "marker": {
             "colorbar": {
              "outlinewidth": 0,
              "ticks": ""
             }
            },
            "type": "scatter"
           }
          ],
          "scatter3d": [
           {
            "line": {
             "colorbar": {
              "outlinewidth": 0,
              "ticks": ""
             }
            },
            "marker": {
             "colorbar": {
              "outlinewidth": 0,
              "ticks": ""
             }
            },
            "type": "scatter3d"
           }
          ],
          "scattercarpet": [
           {
            "marker": {
             "colorbar": {
              "outlinewidth": 0,
              "ticks": ""
             }
            },
            "type": "scattercarpet"
           }
          ],
          "scattergeo": [
           {
            "marker": {
             "colorbar": {
              "outlinewidth": 0,
              "ticks": ""
             }
            },
            "type": "scattergeo"
           }
          ],
          "scattergl": [
           {
            "marker": {
             "colorbar": {
              "outlinewidth": 0,
              "ticks": ""
             }
            },
            "type": "scattergl"
           }
          ],
          "scattermapbox": [
           {
            "marker": {
             "colorbar": {
              "outlinewidth": 0,
              "ticks": ""
             }
            },
            "type": "scattermapbox"
           }
          ],
          "scatterpolar": [
           {
            "marker": {
             "colorbar": {
              "outlinewidth": 0,
              "ticks": ""
             }
            },
            "type": "scatterpolar"
           }
          ],
          "scatterpolargl": [
           {
            "marker": {
             "colorbar": {
              "outlinewidth": 0,
              "ticks": ""
             }
            },
            "type": "scatterpolargl"
           }
          ],
          "scatterternary": [
           {
            "marker": {
             "colorbar": {
              "outlinewidth": 0,
              "ticks": ""
             }
            },
            "type": "scatterternary"
           }
          ],
          "surface": [
           {
            "colorbar": {
             "outlinewidth": 0,
             "ticks": ""
            },
            "colorscale": [
             [
              0,
              "#0d0887"
             ],
             [
              0.1111111111111111,
              "#46039f"
             ],
             [
              0.2222222222222222,
              "#7201a8"
             ],
             [
              0.3333333333333333,
              "#9c179e"
             ],
             [
              0.4444444444444444,
              "#bd3786"
             ],
             [
              0.5555555555555556,
              "#d8576b"
             ],
             [
              0.6666666666666666,
              "#ed7953"
             ],
             [
              0.7777777777777778,
              "#fb9f3a"
             ],
             [
              0.8888888888888888,
              "#fdca26"
             ],
             [
              1,
              "#f0f921"
             ]
            ],
            "type": "surface"
           }
          ],
          "table": [
           {
            "cells": {
             "fill": {
              "color": "#EBF0F8"
             },
             "line": {
              "color": "white"
             }
            },
            "header": {
             "fill": {
              "color": "#C8D4E3"
             },
             "line": {
              "color": "white"
             }
            },
            "type": "table"
           }
          ]
         },
         "layout": {
          "annotationdefaults": {
           "arrowcolor": "#2a3f5f",
           "arrowhead": 0,
           "arrowwidth": 1
          },
          "coloraxis": {
           "colorbar": {
            "outlinewidth": 0,
            "ticks": ""
           }
          },
          "colorscale": {
           "diverging": [
            [
             0,
             "#8e0152"
            ],
            [
             0.1,
             "#c51b7d"
            ],
            [
             0.2,
             "#de77ae"
            ],
            [
             0.3,
             "#f1b6da"
            ],
            [
             0.4,
             "#fde0ef"
            ],
            [
             0.5,
             "#f7f7f7"
            ],
            [
             0.6,
             "#e6f5d0"
            ],
            [
             0.7,
             "#b8e186"
            ],
            [
             0.8,
             "#7fbc41"
            ],
            [
             0.9,
             "#4d9221"
            ],
            [
             1,
             "#276419"
            ]
           ],
           "sequential": [
            [
             0,
             "#0d0887"
            ],
            [
             0.1111111111111111,
             "#46039f"
            ],
            [
             0.2222222222222222,
             "#7201a8"
            ],
            [
             0.3333333333333333,
             "#9c179e"
            ],
            [
             0.4444444444444444,
             "#bd3786"
            ],
            [
             0.5555555555555556,
             "#d8576b"
            ],
            [
             0.6666666666666666,
             "#ed7953"
            ],
            [
             0.7777777777777778,
             "#fb9f3a"
            ],
            [
             0.8888888888888888,
             "#fdca26"
            ],
            [
             1,
             "#f0f921"
            ]
           ],
           "sequentialminus": [
            [
             0,
             "#0d0887"
            ],
            [
             0.1111111111111111,
             "#46039f"
            ],
            [
             0.2222222222222222,
             "#7201a8"
            ],
            [
             0.3333333333333333,
             "#9c179e"
            ],
            [
             0.4444444444444444,
             "#bd3786"
            ],
            [
             0.5555555555555556,
             "#d8576b"
            ],
            [
             0.6666666666666666,
             "#ed7953"
            ],
            [
             0.7777777777777778,
             "#fb9f3a"
            ],
            [
             0.8888888888888888,
             "#fdca26"
            ],
            [
             1,
             "#f0f921"
            ]
           ]
          },
          "colorway": [
           "#636efa",
           "#EF553B",
           "#00cc96",
           "#ab63fa",
           "#FFA15A",
           "#19d3f3",
           "#FF6692",
           "#B6E880",
           "#FF97FF",
           "#FECB52"
          ],
          "font": {
           "color": "#2a3f5f"
          },
          "geo": {
           "bgcolor": "white",
           "lakecolor": "white",
           "landcolor": "#E5ECF6",
           "showlakes": true,
           "showland": true,
           "subunitcolor": "white"
          },
          "hoverlabel": {
           "align": "left"
          },
          "hovermode": "closest",
          "mapbox": {
           "style": "light"
          },
          "paper_bgcolor": "white",
          "plot_bgcolor": "#E5ECF6",
          "polar": {
           "angularaxis": {
            "gridcolor": "white",
            "linecolor": "white",
            "ticks": ""
           },
           "bgcolor": "#E5ECF6",
           "radialaxis": {
            "gridcolor": "white",
            "linecolor": "white",
            "ticks": ""
           }
          },
          "scene": {
           "xaxis": {
            "backgroundcolor": "#E5ECF6",
            "gridcolor": "white",
            "gridwidth": 2,
            "linecolor": "white",
            "showbackground": true,
            "ticks": "",
            "zerolinecolor": "white"
           },
           "yaxis": {
            "backgroundcolor": "#E5ECF6",
            "gridcolor": "white",
            "gridwidth": 2,
            "linecolor": "white",
            "showbackground": true,
            "ticks": "",
            "zerolinecolor": "white"
           },
           "zaxis": {
            "backgroundcolor": "#E5ECF6",
            "gridcolor": "white",
            "gridwidth": 2,
            "linecolor": "white",
            "showbackground": true,
            "ticks": "",
            "zerolinecolor": "white"
           }
          },
          "shapedefaults": {
           "line": {
            "color": "#2a3f5f"
           }
          },
          "ternary": {
           "aaxis": {
            "gridcolor": "white",
            "linecolor": "white",
            "ticks": ""
           },
           "baxis": {
            "gridcolor": "white",
            "linecolor": "white",
            "ticks": ""
           },
           "bgcolor": "#E5ECF6",
           "caxis": {
            "gridcolor": "white",
            "linecolor": "white",
            "ticks": ""
           }
          },
          "title": {
           "x": 0.05
          },
          "xaxis": {
           "automargin": true,
           "gridcolor": "white",
           "linecolor": "white",
           "ticks": "",
           "title": {
            "standoff": 15
           },
           "zerolinecolor": "white",
           "zerolinewidth": 2
          },
          "yaxis": {
           "automargin": true,
           "gridcolor": "white",
           "linecolor": "white",
           "ticks": "",
           "title": {
            "standoff": 15
           },
           "zerolinecolor": "white",
           "zerolinewidth": 2
          }
         }
        }
       }
      },
      "text/html": [
       "<div>\n",
       "        \n",
       "        \n",
       "            <div id=\"c6940774-64fb-4767-a5b5-b4414c693912\" class=\"plotly-graph-div\" style=\"height:525px; width:100%;\"></div>\n",
       "            <script type=\"text/javascript\">\n",
       "                require([\"plotly\"], function(Plotly) {\n",
       "                    window.PLOTLYENV=window.PLOTLYENV || {};\n",
       "                    \n",
       "                if (document.getElementById(\"c6940774-64fb-4767-a5b5-b4414c693912\")) {\n",
       "                    Plotly.newPlot(\n",
       "                        'c6940774-64fb-4767-a5b5-b4414c693912',\n",
       "                        [{\"type\": \"bar\", \"x\": [\"AAA\", \"AAT\", \"AAC\", \"AAG\", \"ATA\", \"ATC\", \"ATG\", \"ACA\", \"ACT\", \"ACC\", \"ACG\", \"AGA\", \"AGC\", \"AGG\", \"TAA\", \"TAC\", \"TAG\", \"TTC\", \"TTG\", \"TCA\", \"TCC\", \"TCG\", \"TGC\", \"TGG\", \"CAC\", \"CAG\", \"CTC\", \"CCC\", \"CCG\", \"CGC\", \"GAC\", \"GCC\"], \"y\": [0.01604294617090056, 0.06131837808817656, 0.030009002700810243, 0.03059328676635658, 0.02790837246077694, 0.031309392817883516, 0.02856785351368624, 0.043074789200672474, 1.743047901824073e-08, 0.030544552256454985, 0.034066829908502516, 0.03361008302490747, 0.03247435341520675, 0.030009000902778034, 0.030509152745823748, 0.03215441025598911, 0.032255187305421304, 0.02766353512817551, 0.029909191557439933, 0.03070921276382915, 0.03421026307892368, 0.030070664677056578, 0.027208162448184713, 0.03430291784849962, 0.033691584986415266, 0.03100926085555168, 0.05183047547637487, 0.016308488701958525, 0.030409164672106682, 0.03471041312394065, 0.03421026307892368, 0.029308792637791337]}],\n",
       "                        {\"template\": {\"data\": {\"bar\": [{\"error_x\": {\"color\": \"#2a3f5f\"}, \"error_y\": {\"color\": \"#2a3f5f\"}, \"marker\": {\"line\": {\"color\": \"#E5ECF6\", \"width\": 0.5}}, \"type\": \"bar\"}], \"barpolar\": [{\"marker\": {\"line\": {\"color\": \"#E5ECF6\", \"width\": 0.5}}, \"type\": \"barpolar\"}], \"carpet\": [{\"aaxis\": {\"endlinecolor\": \"#2a3f5f\", \"gridcolor\": \"white\", \"linecolor\": \"white\", \"minorgridcolor\": \"white\", \"startlinecolor\": \"#2a3f5f\"}, \"baxis\": {\"endlinecolor\": \"#2a3f5f\", \"gridcolor\": \"white\", \"linecolor\": \"white\", \"minorgridcolor\": \"white\", \"startlinecolor\": \"#2a3f5f\"}, \"type\": \"carpet\"}], \"choropleth\": [{\"colorbar\": {\"outlinewidth\": 0, \"ticks\": \"\"}, \"type\": \"choropleth\"}], \"contour\": [{\"colorbar\": {\"outlinewidth\": 0, \"ticks\": \"\"}, \"colorscale\": [[0.0, \"#0d0887\"], [0.1111111111111111, \"#46039f\"], [0.2222222222222222, \"#7201a8\"], [0.3333333333333333, \"#9c179e\"], [0.4444444444444444, \"#bd3786\"], [0.5555555555555556, \"#d8576b\"], [0.6666666666666666, \"#ed7953\"], [0.7777777777777778, \"#fb9f3a\"], [0.8888888888888888, \"#fdca26\"], [1.0, \"#f0f921\"]], \"type\": \"contour\"}], \"contourcarpet\": [{\"colorbar\": {\"outlinewidth\": 0, \"ticks\": \"\"}, \"type\": \"contourcarpet\"}], \"heatmap\": [{\"colorbar\": {\"outlinewidth\": 0, \"ticks\": \"\"}, \"colorscale\": [[0.0, \"#0d0887\"], [0.1111111111111111, \"#46039f\"], [0.2222222222222222, \"#7201a8\"], [0.3333333333333333, \"#9c179e\"], [0.4444444444444444, \"#bd3786\"], [0.5555555555555556, \"#d8576b\"], [0.6666666666666666, \"#ed7953\"], [0.7777777777777778, \"#fb9f3a\"], [0.8888888888888888, \"#fdca26\"], [1.0, \"#f0f921\"]], \"type\": \"heatmap\"}], \"heatmapgl\": [{\"colorbar\": {\"outlinewidth\": 0, \"ticks\": \"\"}, \"colorscale\": [[0.0, \"#0d0887\"], [0.1111111111111111, \"#46039f\"], [0.2222222222222222, \"#7201a8\"], [0.3333333333333333, \"#9c179e\"], [0.4444444444444444, \"#bd3786\"], [0.5555555555555556, \"#d8576b\"], [0.6666666666666666, \"#ed7953\"], [0.7777777777777778, \"#fb9f3a\"], [0.8888888888888888, \"#fdca26\"], [1.0, \"#f0f921\"]], \"type\": \"heatmapgl\"}], \"histogram\": [{\"marker\": {\"colorbar\": {\"outlinewidth\": 0, \"ticks\": \"\"}}, \"type\": \"histogram\"}], \"histogram2d\": [{\"colorbar\": {\"outlinewidth\": 0, \"ticks\": \"\"}, \"colorscale\": [[0.0, \"#0d0887\"], [0.1111111111111111, \"#46039f\"], [0.2222222222222222, \"#7201a8\"], [0.3333333333333333, \"#9c179e\"], [0.4444444444444444, \"#bd3786\"], [0.5555555555555556, \"#d8576b\"], [0.6666666666666666, \"#ed7953\"], [0.7777777777777778, \"#fb9f3a\"], [0.8888888888888888, \"#fdca26\"], [1.0, \"#f0f921\"]], \"type\": \"histogram2d\"}], \"histogram2dcontour\": [{\"colorbar\": {\"outlinewidth\": 0, \"ticks\": \"\"}, \"colorscale\": [[0.0, \"#0d0887\"], [0.1111111111111111, \"#46039f\"], [0.2222222222222222, \"#7201a8\"], [0.3333333333333333, \"#9c179e\"], [0.4444444444444444, \"#bd3786\"], [0.5555555555555556, \"#d8576b\"], [0.6666666666666666, \"#ed7953\"], [0.7777777777777778, \"#fb9f3a\"], [0.8888888888888888, \"#fdca26\"], [1.0, \"#f0f921\"]], \"type\": \"histogram2dcontour\"}], \"mesh3d\": [{\"colorbar\": {\"outlinewidth\": 0, \"ticks\": \"\"}, \"type\": \"mesh3d\"}], \"parcoords\": [{\"line\": {\"colorbar\": {\"outlinewidth\": 0, \"ticks\": \"\"}}, \"type\": \"parcoords\"}], \"pie\": [{\"automargin\": true, \"type\": \"pie\"}], \"scatter\": [{\"marker\": {\"colorbar\": {\"outlinewidth\": 0, \"ticks\": \"\"}}, \"type\": \"scatter\"}], \"scatter3d\": [{\"line\": {\"colorbar\": {\"outlinewidth\": 0, \"ticks\": \"\"}}, \"marker\": {\"colorbar\": {\"outlinewidth\": 0, \"ticks\": \"\"}}, \"type\": \"scatter3d\"}], \"scattercarpet\": [{\"marker\": {\"colorbar\": {\"outlinewidth\": 0, \"ticks\": \"\"}}, \"type\": \"scattercarpet\"}], \"scattergeo\": [{\"marker\": {\"colorbar\": {\"outlinewidth\": 0, \"ticks\": \"\"}}, \"type\": \"scattergeo\"}], \"scattergl\": [{\"marker\": {\"colorbar\": {\"outlinewidth\": 0, \"ticks\": \"\"}}, \"type\": \"scattergl\"}], \"scattermapbox\": [{\"marker\": {\"colorbar\": {\"outlinewidth\": 0, \"ticks\": \"\"}}, \"type\": \"scattermapbox\"}], \"scatterpolar\": [{\"marker\": {\"colorbar\": {\"outlinewidth\": 0, \"ticks\": \"\"}}, \"type\": \"scatterpolar\"}], \"scatterpolargl\": [{\"marker\": {\"colorbar\": {\"outlinewidth\": 0, \"ticks\": \"\"}}, \"type\": \"scatterpolargl\"}], \"scatterternary\": [{\"marker\": {\"colorbar\": {\"outlinewidth\": 0, \"ticks\": \"\"}}, \"type\": \"scatterternary\"}], \"surface\": [{\"colorbar\": {\"outlinewidth\": 0, \"ticks\": \"\"}, \"colorscale\": [[0.0, \"#0d0887\"], [0.1111111111111111, \"#46039f\"], [0.2222222222222222, \"#7201a8\"], [0.3333333333333333, \"#9c179e\"], [0.4444444444444444, \"#bd3786\"], [0.5555555555555556, \"#d8576b\"], [0.6666666666666666, \"#ed7953\"], [0.7777777777777778, \"#fb9f3a\"], [0.8888888888888888, \"#fdca26\"], [1.0, \"#f0f921\"]], \"type\": \"surface\"}], \"table\": [{\"cells\": {\"fill\": {\"color\": \"#EBF0F8\"}, \"line\": {\"color\": \"white\"}}, \"header\": {\"fill\": {\"color\": \"#C8D4E3\"}, \"line\": {\"color\": \"white\"}}, \"type\": \"table\"}]}, \"layout\": {\"annotationdefaults\": {\"arrowcolor\": \"#2a3f5f\", \"arrowhead\": 0, \"arrowwidth\": 1}, \"coloraxis\": {\"colorbar\": {\"outlinewidth\": 0, \"ticks\": \"\"}}, \"colorscale\": {\"diverging\": [[0, \"#8e0152\"], [0.1, \"#c51b7d\"], [0.2, \"#de77ae\"], [0.3, \"#f1b6da\"], [0.4, \"#fde0ef\"], [0.5, \"#f7f7f7\"], [0.6, \"#e6f5d0\"], [0.7, \"#b8e186\"], [0.8, \"#7fbc41\"], [0.9, \"#4d9221\"], [1, \"#276419\"]], \"sequential\": [[0.0, \"#0d0887\"], [0.1111111111111111, \"#46039f\"], [0.2222222222222222, \"#7201a8\"], [0.3333333333333333, \"#9c179e\"], [0.4444444444444444, \"#bd3786\"], [0.5555555555555556, \"#d8576b\"], [0.6666666666666666, \"#ed7953\"], [0.7777777777777778, \"#fb9f3a\"], [0.8888888888888888, \"#fdca26\"], [1.0, \"#f0f921\"]], \"sequentialminus\": [[0.0, \"#0d0887\"], [0.1111111111111111, \"#46039f\"], [0.2222222222222222, \"#7201a8\"], [0.3333333333333333, \"#9c179e\"], [0.4444444444444444, \"#bd3786\"], [0.5555555555555556, \"#d8576b\"], [0.6666666666666666, \"#ed7953\"], [0.7777777777777778, \"#fb9f3a\"], [0.8888888888888888, \"#fdca26\"], [1.0, \"#f0f921\"]]}, \"colorway\": [\"#636efa\", \"#EF553B\", \"#00cc96\", \"#ab63fa\", \"#FFA15A\", \"#19d3f3\", \"#FF6692\", \"#B6E880\", \"#FF97FF\", \"#FECB52\"], \"font\": {\"color\": \"#2a3f5f\"}, \"geo\": {\"bgcolor\": \"white\", \"lakecolor\": \"white\", \"landcolor\": \"#E5ECF6\", \"showlakes\": true, \"showland\": true, \"subunitcolor\": \"white\"}, \"hoverlabel\": {\"align\": \"left\"}, \"hovermode\": \"closest\", \"mapbox\": {\"style\": \"light\"}, \"paper_bgcolor\": \"white\", \"plot_bgcolor\": \"#E5ECF6\", \"polar\": {\"angularaxis\": {\"gridcolor\": \"white\", \"linecolor\": \"white\", \"ticks\": \"\"}, \"bgcolor\": \"#E5ECF6\", \"radialaxis\": {\"gridcolor\": \"white\", \"linecolor\": \"white\", \"ticks\": \"\"}}, \"scene\": {\"xaxis\": {\"backgroundcolor\": \"#E5ECF6\", \"gridcolor\": \"white\", \"gridwidth\": 2, \"linecolor\": \"white\", \"showbackground\": true, \"ticks\": \"\", \"zerolinecolor\": \"white\"}, \"yaxis\": {\"backgroundcolor\": \"#E5ECF6\", \"gridcolor\": \"white\", \"gridwidth\": 2, \"linecolor\": \"white\", \"showbackground\": true, \"ticks\": \"\", \"zerolinecolor\": \"white\"}, \"zaxis\": {\"backgroundcolor\": \"#E5ECF6\", \"gridcolor\": \"white\", \"gridwidth\": 2, \"linecolor\": \"white\", \"showbackground\": true, \"ticks\": \"\", \"zerolinecolor\": \"white\"}}, \"shapedefaults\": {\"line\": {\"color\": \"#2a3f5f\"}}, \"ternary\": {\"aaxis\": {\"gridcolor\": \"white\", \"linecolor\": \"white\", \"ticks\": \"\"}, \"baxis\": {\"gridcolor\": \"white\", \"linecolor\": \"white\", \"ticks\": \"\"}, \"bgcolor\": \"#E5ECF6\", \"caxis\": {\"gridcolor\": \"white\", \"linecolor\": \"white\", \"ticks\": \"\"}}, \"title\": {\"x\": 0.05}, \"xaxis\": {\"automargin\": true, \"gridcolor\": \"white\", \"linecolor\": \"white\", \"ticks\": \"\", \"title\": {\"standoff\": 15}, \"zerolinecolor\": \"white\", \"zerolinewidth\": 2}, \"yaxis\": {\"automargin\": true, \"gridcolor\": \"white\", \"linecolor\": \"white\", \"ticks\": \"\", \"title\": {\"standoff\": 15}, \"zerolinecolor\": \"white\", \"zerolinewidth\": 2}}}},\n",
       "                        {\"responsive\": true}\n",
       "                    ).then(function(){\n",
       "                            \n",
       "var gd = document.getElementById('c6940774-64fb-4767-a5b5-b4414c693912');\n",
       "var x = new MutationObserver(function (mutations, observer) {{\n",
       "        var display = window.getComputedStyle(gd).display;\n",
       "        if (!display || display === 'none') {{\n",
       "            console.log([gd, 'removed!']);\n",
       "            Plotly.purge(gd);\n",
       "            observer.disconnect();\n",
       "        }}\n",
       "}});\n",
       "\n",
       "// Listen for the removal of the full notebook cells\n",
       "var notebookContainer = gd.closest('#notebook-container');\n",
       "if (notebookContainer) {{\n",
       "    x.observe(notebookContainer, {childList: true});\n",
       "}}\n",
       "\n",
       "// Listen for the clearing of the current output cell\n",
       "var outputEl = gd.closest('.output');\n",
       "if (outputEl) {{\n",
       "    x.observe(outputEl, {childList: true});\n",
       "}}\n",
       "\n",
       "                        })\n",
       "                };\n",
       "                });\n",
       "            </script>\n",
       "        </div>"
      ]
     },
     "metadata": {},
     "output_type": "display_data"
    }
   ],
   "source": [
    "import time\n",
    "Tmat= matrixFill_randomGamma(comp_index,alpha= 0.01)\n",
    "\n",
    "f= list(collapsed_freqs)\n",
    "burnin= 500\n",
    "previous= list(collapsed_freqs)\n",
    "\n",
    "diff_tally= []\n",
    "\n",
    "for run in range(burnin):\n",
    "    #clear_output()\n",
    "\n",
    "    \n",
    "    f= f @ Tmat\n",
    "    diff_tally.append(np.std(previous - f))\n",
    "    previous= list(f)\n",
    "    \n",
    "    #time.sleep(1)\n",
    "\n",
    "\n",
    "fig = [go.Bar(\n",
    "    x= [comp_index[x][0] for x in comp_index.keys()],\n",
    "    y= collapsed_freqs\n",
    ")]\n",
    "iplot(fig)\n",
    "\n",
    "\n",
    "fig = [go.Bar(\n",
    "    x= [comp_index[x][0] for x in comp_index.keys()],\n",
    "    y= f\n",
    ")]\n",
    "iplot(fig)\n"
   ]
  },
  {
   "cell_type": "code",
   "execution_count": 10,
   "metadata": {},
   "outputs": [
    {
     "data": {
      "application/vnd.plotly.v1+json": {
       "config": {
        "linkText": "Export to plot.ly",
        "plotlyServerURL": "https://plot.ly",
        "showLink": false
       },
       "data": [
        {
         "type": "scatter",
         "x": [
          0,
          1,
          2,
          3,
          4,
          5,
          6,
          7,
          8,
          9,
          10,
          11,
          12,
          13,
          14,
          15,
          16,
          17,
          18,
          19,
          20,
          21,
          22,
          23,
          24,
          25,
          26,
          27,
          28,
          29,
          30,
          31,
          32,
          33,
          34,
          35,
          36,
          37,
          38,
          39,
          40,
          41,
          42,
          43,
          44,
          45,
          46,
          47,
          48,
          49,
          50,
          51,
          52,
          53,
          54,
          55,
          56,
          57,
          58,
          59,
          60,
          61,
          62,
          63,
          64,
          65,
          66,
          67,
          68,
          69,
          70,
          71,
          72,
          73,
          74,
          75,
          76,
          77,
          78,
          79,
          80,
          81,
          82,
          83,
          84,
          85,
          86,
          87,
          88,
          89,
          90,
          91,
          92,
          93,
          94,
          95,
          96,
          97,
          98,
          99,
          100,
          101,
          102,
          103,
          104,
          105,
          106,
          107,
          108,
          109,
          110,
          111,
          112,
          113,
          114,
          115,
          116,
          117,
          118,
          119,
          120,
          121,
          122,
          123,
          124,
          125,
          126,
          127,
          128,
          129,
          130,
          131,
          132,
          133,
          134,
          135,
          136,
          137,
          138,
          139,
          140,
          141,
          142,
          143,
          144,
          145,
          146,
          147,
          148,
          149,
          150,
          151,
          152,
          153,
          154,
          155,
          156,
          157,
          158,
          159,
          160,
          161,
          162,
          163,
          164,
          165,
          166,
          167,
          168,
          169,
          170,
          171,
          172,
          173,
          174,
          175,
          176,
          177,
          178,
          179,
          180,
          181,
          182,
          183,
          184,
          185,
          186,
          187,
          188,
          189,
          190,
          191,
          192,
          193,
          194,
          195,
          196,
          197,
          198,
          199,
          200,
          201,
          202,
          203,
          204,
          205,
          206,
          207,
          208,
          209,
          210,
          211,
          212,
          213,
          214,
          215,
          216,
          217,
          218,
          219,
          220,
          221,
          222,
          223,
          224,
          225,
          226,
          227,
          228,
          229,
          230,
          231,
          232,
          233,
          234,
          235,
          236,
          237,
          238,
          239,
          240,
          241,
          242,
          243,
          244,
          245,
          246,
          247,
          248,
          249,
          250,
          251,
          252,
          253,
          254,
          255,
          256,
          257,
          258,
          259,
          260,
          261,
          262,
          263,
          264,
          265,
          266,
          267,
          268,
          269,
          270,
          271,
          272,
          273,
          274,
          275,
          276,
          277,
          278,
          279,
          280,
          281,
          282,
          283,
          284,
          285,
          286,
          287,
          288,
          289,
          290,
          291,
          292,
          293,
          294,
          295,
          296,
          297,
          298,
          299,
          300,
          301,
          302,
          303,
          304,
          305,
          306,
          307,
          308,
          309,
          310,
          311,
          312,
          313,
          314,
          315,
          316,
          317,
          318,
          319,
          320,
          321,
          322,
          323,
          324,
          325,
          326,
          327,
          328,
          329,
          330,
          331,
          332,
          333,
          334,
          335,
          336,
          337,
          338,
          339,
          340,
          341,
          342,
          343,
          344,
          345,
          346,
          347,
          348,
          349,
          350,
          351,
          352,
          353,
          354,
          355,
          356,
          357,
          358,
          359,
          360,
          361,
          362,
          363,
          364,
          365,
          366,
          367,
          368,
          369,
          370,
          371,
          372,
          373,
          374,
          375,
          376,
          377,
          378,
          379,
          380,
          381,
          382,
          383,
          384,
          385,
          386,
          387,
          388,
          389,
          390,
          391,
          392,
          393,
          394,
          395,
          396,
          397,
          398,
          399,
          400,
          401,
          402,
          403,
          404,
          405,
          406,
          407,
          408,
          409,
          410,
          411,
          412,
          413,
          414,
          415,
          416,
          417,
          418,
          419,
          420,
          421,
          422,
          423,
          424,
          425,
          426,
          427,
          428,
          429,
          430,
          431,
          432,
          433,
          434,
          435,
          436,
          437,
          438,
          439,
          440,
          441,
          442,
          443,
          444,
          445,
          446,
          447,
          448,
          449,
          450,
          451,
          452,
          453,
          454,
          455,
          456,
          457,
          458,
          459,
          460,
          461,
          462,
          463,
          464,
          465,
          466,
          467,
          468,
          469,
          470,
          471,
          472,
          473,
          474,
          475,
          476,
          477,
          478,
          479,
          480,
          481,
          482,
          483,
          484,
          485,
          486,
          487,
          488,
          489,
          490,
          491,
          492,
          493,
          494,
          495,
          496,
          497,
          498,
          499
         ],
         "y": [
          0.00023075321768042928,
          0.00022439199934432005,
          0.00021821293684374507,
          0.00021221086053228888,
          0.00020638074750119596,
          0.00020071771739886747,
          0.00019521702836874805,
          0.00018987407310224778,
          0.00018468437500340141,
          0.000179643584462116,
          0.00017474747523288305,
          0.00016999194091598055,
          0.00016537299153824864,
          0.00016088675023059036,
          0.00015652944999947237,
          0.0001522974305897396,
          0.000148187135436163,
          0.000144195108701198,
          0.00014031799239651275,
          0.00013655252358591114,
          0.00013289553166735766,
          0.00012934393573185596,
          0.0001258947419970209,
          0.0001225450413132361,
          0.00011929200674035401,
          0.00011613289119296279,
          0.00011306502515228198,
          0.00011008581444283648,
          0.00010719273807209862,
          0.00010438334613133,
          0.00010165525775593925,
          9.900615914369657e-05,
          9.643380162920273e-05,
          9.39359998130738e-05,
          9.151062974432844e-05,
          8.915562715452633e-05,
          8.686898574224655e-05,
          8.464875550653809e-05,
          8.249304112801699e-05,
          8.040000039632943e-05,
          7.8367842682735e-05,
          7.639482745660583e-05,
          7.447926284467257e-05,
          7.261950423189595e-05,
          7.081395290284857e-05,
          6.90610547225693e-05,
          6.735929885583646e-05,
          6.570721652387794e-05,
          6.410337979754506e-05,
          6.254640042599689e-05,
          6.10349287000092e-05,
          5.956765234898575e-05,
          5.814329547084233e-05,
          5.676061749389718e-05,
          5.541841216996911e-05,
          5.411550659786901e-05,
          5.285076027652541e-05,
          5.162306418696218e-05,
          5.0431339902405984e-05,
          4.9274538725780765e-05,
          4.815164085387762e-05,
          4.706165456750415e-05,
          4.600361544691822e-05,
          4.497658561187186e-05,
          4.3979652985588364e-05,
          4.3011930582025614e-05,
          4.207255581575944e-05,
          4.116068983385235e-05,
          4.027551686905692e-05,
          3.9416243613742253e-05,
          3.8582098613884905e-05,
          3.777233168252944e-05,
          3.6986213332089286e-05,
          3.622303422487326e-05,
          3.5482104641231623e-05,
          3.476275396471721e-05,
          3.4064330183664235e-05,
          3.338619940859298e-05,
          3.272774540484608e-05,
          3.2088369139880916e-05,
          3.1467488344640613e-05,
          3.08645370884428e-05,
          3.027896536682173e-05,
          2.9710238701773203e-05,
          2.9157837753880098e-05,
          2.862125794577072e-05,
          2.8100009096407542e-05,
          2.759361506570546e-05,
          2.710161340899205e-05,
          2.662355504083858e-05,
          2.615900390779402e-05,
          2.570753666961362e-05,
          2.526874238852638e-05,
          2.4842222226168474e-05,
          2.4427589147782194e-05,
          2.402446763332323e-05,
          2.363249339513625e-05,
          2.325131310186598e-05,
          2.2880584108319416e-05,
          2.251997419097001e-05,
          2.216916128887461e-05,
          2.182783324973112e-05,
          2.149568758088045e-05,
          2.117243120503354e-05,
          2.085778022054486e-05,
          2.0551459666075365e-05,
          2.0253203289486326e-05,
          1.996275332084198e-05,
          1.967986024939251e-05,
          1.9404282604461604e-05,
          1.9135786740124432e-05,
          1.8874146623626092e-05,
          1.8619143627457806e-05,
          1.8370566325065553e-05,
          1.8128210290123334e-05,
          1.7891877899354095e-05,
          1.7661378138874223e-05,
          1.7436526414038093e-05,
          1.7217144362763207e-05,
          1.7003059672349696e-05,
          1.679410589975936e-05,
          1.6590122295379714e-05,
          1.639095363026047e-05,
          1.6196450026818303e-05,
          1.6006466793025066e-05,
          1.5820864260076938e-05,
          1.56395076235411e-05,
          1.5462266787980266e-05,
          1.528901621506745e-05,
          1.5119634775164461e-05,
          1.4954005602385774e-05,
          1.4792015953111817e-05,
          1.4633557067965635e-05,
          1.4478524037223193e-05,
          1.4326815669646748e-05,
          1.4178334364719857e-05,
          1.4032985988263199e-05,
          1.3890679751405225e-05,
          1.3751328092872722e-05,
          1.3614846564575769e-05,
          1.3481153720447326e-05,
          1.3350171008506181e-05,
          1.3221822666086679e-05,
          1.3096035618218605e-05,
          1.2972739379072821e-05,
          1.2851865956471209e-05,
          1.2733349759367834e-05,
          1.26171275082694e-05,
          1.2503138148553288e-05,
          1.2391322766587582e-05,
          1.2281624508650847e-05,
          1.2173988502535633e-05,
          1.2068361781829699e-05,
          1.1964693212774788e-05,
          1.186293342366282e-05,
          1.1763034736703286e-05,
          1.1664951102303234e-05,
          1.1568638035689822e-05,
          1.1474052555822611e-05,
          1.1381153126531927e-05,
          1.1289899599819482e-05,
          1.1200253161254507e-05,
          1.1112176277423254e-05,
          1.1025632645350678e-05,
          1.0940587143849247e-05,
          1.0857005786720447e-05,
          1.0774855677779384e-05,
          1.0694104967606812e-05,
          1.0614722812004034e-05,
          1.0536679332085928e-05,
          1.0459945575943372e-05,
          1.038449348185046e-05,
          1.0310295842931746e-05,
          1.0237326273269023e-05,
          1.0165559175373489e-05,
          1.0094969708991094e-05,
          1.0025533761188546e-05,
          9.957227917661965e-06,
          9.890029435249604e-06,
          9.823916215576298e-06,
          9.758866779808002e-06,
          9.694860244461006e-06,
          9.631876298234032e-06,
          9.569895179822617e-06,
          9.508897656676988e-06,
          9.448865004664646e-06,
          9.389778988603592e-06,
          9.33162184364e-06,
          9.274376257414292e-06,
          9.218025353018295e-06,
          9.162552672675613e-06,
          9.10794216214329e-06,
          9.054178155787003e-06,
          9.00124536231479e-06,
          8.949128851139307e-06,
          8.897814039327206e-06,
          8.847286679140301e-06,
          8.797532846116957e-06,
          8.748538927682754e-06,
          8.700291612264228e-06,
          8.652777878895559e-06,
          8.605984987269961e-06,
          8.55990046825207e-06,
          8.514512114798054e-06,
          8.46980797329097e-06,
          8.42577633525559e-06,
          8.38240572944534e-06,
          8.339684914283228e-06,
          8.297602870635655e-06,
          8.256148794913873e-06,
          8.215312092475573e-06,
          8.175082371327985e-06,
          8.135449436103152e-06,
          8.096403282302877e-06,
          8.057934090799436e-06,
          8.020032222579307e-06,
          7.982688213714569e-06,
          7.945892770555489e-06,
          7.909636765137484e-06,
          7.873911230782627e-06,
          7.838707357897193e-06,
          7.80401648994025e-06,
          7.769830119579087e-06,
          7.736139884993165e-06,
          7.702937566349735e-06,
          7.670215082415744e-06,
          7.637964487315099e-06,
          7.606177967421079e-06,
          7.574847838376114e-06,
          7.543966542228699e-06,
          7.513526644691682e-06,
          7.4835208325040276e-06,
          7.453941910896945e-06,
          7.424782801165459e-06,
          7.3960365383177045e-06,
          7.3676962688330165e-06,
          7.339755248485898e-06,
          7.3122068402601334e-06,
          7.28504451233185e-06,
          7.258261836133143e-06,
          7.231852484470351e-06,
          7.205810229720531e-06,
          7.180128942073192e-06,
          7.154802587849043e-06,
          7.12982522785252e-06,
          7.105191015789235e-06,
          7.080894196731843e-06,
          7.05692910562267e-06,
          7.033290165832467e-06,
          7.009971887750751e-06,
          6.986968867421014e-06,
          6.964275785208813e-06,
          6.941887404513671e-06,
          6.919798570496928e-06,
          6.89800420886668e-06,
          6.876499324663453e-06,
          6.855279001101043e-06,
          6.8343383984139786e-06,
          6.813672752741416e-06,
          6.79327737503367e-06,
          6.773147649976561e-06,
          6.753279034944369e-06,
          6.7336670589677344e-06,
          6.71430732172386e-06,
          6.69519549254599e-06,
          6.676327309448797e-06,
          6.65769857817265e-06,
          6.639305171238767e-06,
          6.62114302703013e-06,
          6.6032081488757805e-06,
          6.585496604154848e-06,
          6.5680045234144296e-06,
          6.550728099499998e-06,
          6.5336635866938916e-06,
          6.516807299872272e-06,
          6.500155613669354e-06,
          6.483704961653422e-06,
          6.467451835511611e-06,
          6.4513927842513204e-06,
          6.435524413403279e-06,
          6.4198433842397296e-06,
          6.40434641300135e-06,
          6.389030270128619e-06,
          6.373891779509802e-06,
          6.358927817729605e-06,
          6.344135313333748e-06,
          6.329511246094816e-06,
          6.315052646288896e-06,
          6.300756593983847e-06,
          6.286620218329046e-06,
          6.2726406968560955e-06,
          6.258815254787355e-06,
          6.2451411643497665e-06,
          6.2316157440966474e-06,
          6.218236358241261e-06,
          6.205000415987237e-06,
          6.1919053708764315e-06,
          6.178948720139108e-06,
          6.166128004048674e-06,
          6.1534408052885984e-06,
          6.140884748323689e-06,
          6.128457498773848e-06,
          6.116156762802629e-06,
          6.103980286507388e-06,
          6.091925855316195e-06,
          6.079991293389836e-06,
          6.068174463037538e-06,
          6.05647326413067e-06,
          6.044885633526407e-06,
          6.033409544498994e-06,
          6.022043006177249e-06,
          6.010784062983331e-06,
          5.999630794088227e-06,
          5.988581312861101e-06,
          5.97763376633715e-06,
          5.9667863346799955e-06,
          5.9560372306615784e-06,
          5.9453846991395355e-06,
          5.934827016547533e-06,
          5.924362490382494e-06,
          5.913989458711124e-06,
          5.90370628967097e-06,
          5.893511380984904e-06,
          5.883403159475756e-06,
          5.8733800805938964e-06,
          5.863440627944087e-06,
          5.853583312823135e-06,
          5.843806673763367e-06,
          5.834109276076748e-06,
          5.824489711411221e-06,
          5.814946597311564e-06,
          5.805478576783737e-06,
          5.796084317865081e-06,
          5.786762513204334e-06,
          5.777511879643692e-06,
          5.7683311578074695e-06,
          5.759219111696291e-06,
          5.750174528287887e-06,
          5.741196217142442e-06,
          5.7322830100167485e-06,
          5.723433760474327e-06,
          5.714647343517276e-06,
          5.7059226552056e-06,
          5.697258612295942e-06,
          5.688654151876918e-06,
          5.68010823101709e-06,
          5.6716198264100865e-06,
          5.663187934030127e-06,
          5.65481156879518e-06,
          5.646489764226462e-06,
          5.638221572121196e-06,
          5.630006062228e-06,
          5.62184232192557e-06,
          5.613729455908263e-06,
          5.605666585876525e-06,
          5.5976528502283225e-06,
          5.589687403763089e-06,
          5.581769417381256e-06,
          5.5738980777983665e-06,
          5.566072587252511e-06,
          5.558292163225838e-06,
          5.550556038170178e-06,
          5.542863459225325e-06,
          5.535213687959457e-06,
          5.527606000099408e-06,
          5.520039685272753e-06,
          5.512514046752883e-06,
          5.505028401206889e-06,
          5.497582078447308e-06,
          5.490174421192695e-06,
          5.482804784822039e-06,
          5.475472537146962e-06,
          5.468177058177527e-06,
          5.460917739892142e-06,
          5.453693986020753e-06,
          5.446505211819476e-06,
          5.43935084385823e-06,
          5.4322303198067335e-06,
          5.4251430882273915e-06,
          5.418088608370914e-06,
          5.411066349973012e-06,
          5.404075793058578e-06,
          5.397116427746231e-06,
          5.3901877540584376e-06,
          5.383289281733069e-06,
          5.376420530038596e-06,
          5.369581027596263e-06,
          5.362770312196728e-06,
          5.355987930629946e-06,
          5.349233438513024e-06,
          5.342506400119512e-06,
          5.335806388215878e-06,
          5.329132983898345e-06,
          5.32248577643308e-06,
          5.315864363100192e-06,
          5.309268349038475e-06,
          5.3026973470960975e-06,
          5.296150977679757e-06,
          5.2896288686123585e-06,
          5.28313065498626e-06,
          5.276655979026526e-06,
          5.270204489950003e-06,
          5.263775843831044e-06,
          5.257369703470165e-06,
          5.2509857382606955e-06,
          5.244623624064005e-06,
          5.238283043081057e-06,
          5.231963683732565e-06,
          5.225665240532234e-06,
          5.219387413974965e-06,
          5.213129910415245e-06,
          5.206892441955672e-06,
          5.200674726331851e-06,
          5.194476486804976e-06,
          5.188297452052387e-06,
          5.1821373560635515e-06,
          5.175995938031501e-06,
          5.169872942256362e-06,
          5.163768118040851e-06,
          5.1576812195926795e-06,
          5.151612005931985e-06,
          5.145560240791154e-06,
          5.139525692527428e-06,
          5.133508134025899e-06,
          5.127507342616367e-06,
          5.121523099981347e-06,
          5.115555192073432e-06,
          5.109603409026323e-06,
          5.103667545078845e-06,
          5.097747398488858e-06,
          5.091842771452068e-06,
          5.085953470032375e-06,
          5.0800793040757935e-06,
          5.074220087143281e-06,
          5.0683756364290186e-06,
          5.062545772697694e-06,
          5.056730320206594e-06,
          5.050929106638311e-06,
          5.045141963032334e-06,
          5.039368723721342e-06,
          5.033609226261258e-06,
          5.02786331136928e-06,
          5.022130822861263e-06,
          5.016411607589812e-06,
          5.0107055153835415e-06,
          5.005012398986234e-06,
          4.999332114003015e-06,
          4.993664518838393e-06,
          4.988009474642814e-06,
          4.982366845257249e-06,
          4.9767364971618806e-06,
          4.971118299418076e-06,
          4.965512123621831e-06,
          4.959917843850614e-06,
          4.954335336614931e-06,
          4.9487644808076415e-06,
          4.9432051576595425e-06,
          4.937657250688698e-06,
          4.932120645657672e-06,
          4.926595230528269e-06,
          4.921080895413722e-06,
          4.9155775325406216e-06,
          4.910085036204892e-06,
          4.90460330272812e-06,
          4.8991322304187075e-06,
          4.893671719532944e-06,
          4.888221672233291e-06,
          4.882781992552629e-06,
          4.877352586354465e-06,
          4.8719333612980185e-06,
          4.866524226801063e-06,
          4.861125094005461e-06,
          4.855735875739951e-06,
          4.85035648649078e-06,
          4.844986842363569e-06,
          4.83962686105342e-06,
          4.83427646181143e-06,
          4.828935565416985e-06,
          4.8236040941406935e-06,
          4.818281971719438e-06,
          4.812969123327063e-06,
          4.807665475539702e-06,
          4.802370956314624e-06,
          4.797085494957854e-06,
          4.791809022097839e-06,
          4.786541469660337e-06,
          4.7812827708402205e-06,
          4.776032860077315e-06,
          4.770791673029608e-06,
          4.765559146551563e-06,
          4.760335218665908e-06,
          4.755119828544062e-06,
          4.749912916481497e-06,
          4.744714423872561e-06,
          4.73952429319176e-06,
          4.734342467970396e-06,
          4.7291688927760005e-06,
          4.724003513190257e-06,
          4.718846275788606e-06,
          4.713697128120947e-06
         ]
        }
       ],
       "layout": {
        "template": {
         "data": {
          "bar": [
           {
            "error_x": {
             "color": "#2a3f5f"
            },
            "error_y": {
             "color": "#2a3f5f"
            },
            "marker": {
             "line": {
              "color": "#E5ECF6",
              "width": 0.5
             }
            },
            "type": "bar"
           }
          ],
          "barpolar": [
           {
            "marker": {
             "line": {
              "color": "#E5ECF6",
              "width": 0.5
             }
            },
            "type": "barpolar"
           }
          ],
          "carpet": [
           {
            "aaxis": {
             "endlinecolor": "#2a3f5f",
             "gridcolor": "white",
             "linecolor": "white",
             "minorgridcolor": "white",
             "startlinecolor": "#2a3f5f"
            },
            "baxis": {
             "endlinecolor": "#2a3f5f",
             "gridcolor": "white",
             "linecolor": "white",
             "minorgridcolor": "white",
             "startlinecolor": "#2a3f5f"
            },
            "type": "carpet"
           }
          ],
          "choropleth": [
           {
            "colorbar": {
             "outlinewidth": 0,
             "ticks": ""
            },
            "type": "choropleth"
           }
          ],
          "contour": [
           {
            "colorbar": {
             "outlinewidth": 0,
             "ticks": ""
            },
            "colorscale": [
             [
              0,
              "#0d0887"
             ],
             [
              0.1111111111111111,
              "#46039f"
             ],
             [
              0.2222222222222222,
              "#7201a8"
             ],
             [
              0.3333333333333333,
              "#9c179e"
             ],
             [
              0.4444444444444444,
              "#bd3786"
             ],
             [
              0.5555555555555556,
              "#d8576b"
             ],
             [
              0.6666666666666666,
              "#ed7953"
             ],
             [
              0.7777777777777778,
              "#fb9f3a"
             ],
             [
              0.8888888888888888,
              "#fdca26"
             ],
             [
              1,
              "#f0f921"
             ]
            ],
            "type": "contour"
           }
          ],
          "contourcarpet": [
           {
            "colorbar": {
             "outlinewidth": 0,
             "ticks": ""
            },
            "type": "contourcarpet"
           }
          ],
          "heatmap": [
           {
            "colorbar": {
             "outlinewidth": 0,
             "ticks": ""
            },
            "colorscale": [
             [
              0,
              "#0d0887"
             ],
             [
              0.1111111111111111,
              "#46039f"
             ],
             [
              0.2222222222222222,
              "#7201a8"
             ],
             [
              0.3333333333333333,
              "#9c179e"
             ],
             [
              0.4444444444444444,
              "#bd3786"
             ],
             [
              0.5555555555555556,
              "#d8576b"
             ],
             [
              0.6666666666666666,
              "#ed7953"
             ],
             [
              0.7777777777777778,
              "#fb9f3a"
             ],
             [
              0.8888888888888888,
              "#fdca26"
             ],
             [
              1,
              "#f0f921"
             ]
            ],
            "type": "heatmap"
           }
          ],
          "heatmapgl": [
           {
            "colorbar": {
             "outlinewidth": 0,
             "ticks": ""
            },
            "colorscale": [
             [
              0,
              "#0d0887"
             ],
             [
              0.1111111111111111,
              "#46039f"
             ],
             [
              0.2222222222222222,
              "#7201a8"
             ],
             [
              0.3333333333333333,
              "#9c179e"
             ],
             [
              0.4444444444444444,
              "#bd3786"
             ],
             [
              0.5555555555555556,
              "#d8576b"
             ],
             [
              0.6666666666666666,
              "#ed7953"
             ],
             [
              0.7777777777777778,
              "#fb9f3a"
             ],
             [
              0.8888888888888888,
              "#fdca26"
             ],
             [
              1,
              "#f0f921"
             ]
            ],
            "type": "heatmapgl"
           }
          ],
          "histogram": [
           {
            "marker": {
             "colorbar": {
              "outlinewidth": 0,
              "ticks": ""
             }
            },
            "type": "histogram"
           }
          ],
          "histogram2d": [
           {
            "colorbar": {
             "outlinewidth": 0,
             "ticks": ""
            },
            "colorscale": [
             [
              0,
              "#0d0887"
             ],
             [
              0.1111111111111111,
              "#46039f"
             ],
             [
              0.2222222222222222,
              "#7201a8"
             ],
             [
              0.3333333333333333,
              "#9c179e"
             ],
             [
              0.4444444444444444,
              "#bd3786"
             ],
             [
              0.5555555555555556,
              "#d8576b"
             ],
             [
              0.6666666666666666,
              "#ed7953"
             ],
             [
              0.7777777777777778,
              "#fb9f3a"
             ],
             [
              0.8888888888888888,
              "#fdca26"
             ],
             [
              1,
              "#f0f921"
             ]
            ],
            "type": "histogram2d"
           }
          ],
          "histogram2dcontour": [
           {
            "colorbar": {
             "outlinewidth": 0,
             "ticks": ""
            },
            "colorscale": [
             [
              0,
              "#0d0887"
             ],
             [
              0.1111111111111111,
              "#46039f"
             ],
             [
              0.2222222222222222,
              "#7201a8"
             ],
             [
              0.3333333333333333,
              "#9c179e"
             ],
             [
              0.4444444444444444,
              "#bd3786"
             ],
             [
              0.5555555555555556,
              "#d8576b"
             ],
             [
              0.6666666666666666,
              "#ed7953"
             ],
             [
              0.7777777777777778,
              "#fb9f3a"
             ],
             [
              0.8888888888888888,
              "#fdca26"
             ],
             [
              1,
              "#f0f921"
             ]
            ],
            "type": "histogram2dcontour"
           }
          ],
          "mesh3d": [
           {
            "colorbar": {
             "outlinewidth": 0,
             "ticks": ""
            },
            "type": "mesh3d"
           }
          ],
          "parcoords": [
           {
            "line": {
             "colorbar": {
              "outlinewidth": 0,
              "ticks": ""
             }
            },
            "type": "parcoords"
           }
          ],
          "pie": [
           {
            "automargin": true,
            "type": "pie"
           }
          ],
          "scatter": [
           {
            "marker": {
             "colorbar": {
              "outlinewidth": 0,
              "ticks": ""
             }
            },
            "type": "scatter"
           }
          ],
          "scatter3d": [
           {
            "line": {
             "colorbar": {
              "outlinewidth": 0,
              "ticks": ""
             }
            },
            "marker": {
             "colorbar": {
              "outlinewidth": 0,
              "ticks": ""
             }
            },
            "type": "scatter3d"
           }
          ],
          "scattercarpet": [
           {
            "marker": {
             "colorbar": {
              "outlinewidth": 0,
              "ticks": ""
             }
            },
            "type": "scattercarpet"
           }
          ],
          "scattergeo": [
           {
            "marker": {
             "colorbar": {
              "outlinewidth": 0,
              "ticks": ""
             }
            },
            "type": "scattergeo"
           }
          ],
          "scattergl": [
           {
            "marker": {
             "colorbar": {
              "outlinewidth": 0,
              "ticks": ""
             }
            },
            "type": "scattergl"
           }
          ],
          "scattermapbox": [
           {
            "marker": {
             "colorbar": {
              "outlinewidth": 0,
              "ticks": ""
             }
            },
            "type": "scattermapbox"
           }
          ],
          "scatterpolar": [
           {
            "marker": {
             "colorbar": {
              "outlinewidth": 0,
              "ticks": ""
             }
            },
            "type": "scatterpolar"
           }
          ],
          "scatterpolargl": [
           {
            "marker": {
             "colorbar": {
              "outlinewidth": 0,
              "ticks": ""
             }
            },
            "type": "scatterpolargl"
           }
          ],
          "scatterternary": [
           {
            "marker": {
             "colorbar": {
              "outlinewidth": 0,
              "ticks": ""
             }
            },
            "type": "scatterternary"
           }
          ],
          "surface": [
           {
            "colorbar": {
             "outlinewidth": 0,
             "ticks": ""
            },
            "colorscale": [
             [
              0,
              "#0d0887"
             ],
             [
              0.1111111111111111,
              "#46039f"
             ],
             [
              0.2222222222222222,
              "#7201a8"
             ],
             [
              0.3333333333333333,
              "#9c179e"
             ],
             [
              0.4444444444444444,
              "#bd3786"
             ],
             [
              0.5555555555555556,
              "#d8576b"
             ],
             [
              0.6666666666666666,
              "#ed7953"
             ],
             [
              0.7777777777777778,
              "#fb9f3a"
             ],
             [
              0.8888888888888888,
              "#fdca26"
             ],
             [
              1,
              "#f0f921"
             ]
            ],
            "type": "surface"
           }
          ],
          "table": [
           {
            "cells": {
             "fill": {
              "color": "#EBF0F8"
             },
             "line": {
              "color": "white"
             }
            },
            "header": {
             "fill": {
              "color": "#C8D4E3"
             },
             "line": {
              "color": "white"
             }
            },
            "type": "table"
           }
          ]
         },
         "layout": {
          "annotationdefaults": {
           "arrowcolor": "#2a3f5f",
           "arrowhead": 0,
           "arrowwidth": 1
          },
          "coloraxis": {
           "colorbar": {
            "outlinewidth": 0,
            "ticks": ""
           }
          },
          "colorscale": {
           "diverging": [
            [
             0,
             "#8e0152"
            ],
            [
             0.1,
             "#c51b7d"
            ],
            [
             0.2,
             "#de77ae"
            ],
            [
             0.3,
             "#f1b6da"
            ],
            [
             0.4,
             "#fde0ef"
            ],
            [
             0.5,
             "#f7f7f7"
            ],
            [
             0.6,
             "#e6f5d0"
            ],
            [
             0.7,
             "#b8e186"
            ],
            [
             0.8,
             "#7fbc41"
            ],
            [
             0.9,
             "#4d9221"
            ],
            [
             1,
             "#276419"
            ]
           ],
           "sequential": [
            [
             0,
             "#0d0887"
            ],
            [
             0.1111111111111111,
             "#46039f"
            ],
            [
             0.2222222222222222,
             "#7201a8"
            ],
            [
             0.3333333333333333,
             "#9c179e"
            ],
            [
             0.4444444444444444,
             "#bd3786"
            ],
            [
             0.5555555555555556,
             "#d8576b"
            ],
            [
             0.6666666666666666,
             "#ed7953"
            ],
            [
             0.7777777777777778,
             "#fb9f3a"
            ],
            [
             0.8888888888888888,
             "#fdca26"
            ],
            [
             1,
             "#f0f921"
            ]
           ],
           "sequentialminus": [
            [
             0,
             "#0d0887"
            ],
            [
             0.1111111111111111,
             "#46039f"
            ],
            [
             0.2222222222222222,
             "#7201a8"
            ],
            [
             0.3333333333333333,
             "#9c179e"
            ],
            [
             0.4444444444444444,
             "#bd3786"
            ],
            [
             0.5555555555555556,
             "#d8576b"
            ],
            [
             0.6666666666666666,
             "#ed7953"
            ],
            [
             0.7777777777777778,
             "#fb9f3a"
            ],
            [
             0.8888888888888888,
             "#fdca26"
            ],
            [
             1,
             "#f0f921"
            ]
           ]
          },
          "colorway": [
           "#636efa",
           "#EF553B",
           "#00cc96",
           "#ab63fa",
           "#FFA15A",
           "#19d3f3",
           "#FF6692",
           "#B6E880",
           "#FF97FF",
           "#FECB52"
          ],
          "font": {
           "color": "#2a3f5f"
          },
          "geo": {
           "bgcolor": "white",
           "lakecolor": "white",
           "landcolor": "#E5ECF6",
           "showlakes": true,
           "showland": true,
           "subunitcolor": "white"
          },
          "hoverlabel": {
           "align": "left"
          },
          "hovermode": "closest",
          "mapbox": {
           "style": "light"
          },
          "paper_bgcolor": "white",
          "plot_bgcolor": "#E5ECF6",
          "polar": {
           "angularaxis": {
            "gridcolor": "white",
            "linecolor": "white",
            "ticks": ""
           },
           "bgcolor": "#E5ECF6",
           "radialaxis": {
            "gridcolor": "white",
            "linecolor": "white",
            "ticks": ""
           }
          },
          "scene": {
           "xaxis": {
            "backgroundcolor": "#E5ECF6",
            "gridcolor": "white",
            "gridwidth": 2,
            "linecolor": "white",
            "showbackground": true,
            "ticks": "",
            "zerolinecolor": "white"
           },
           "yaxis": {
            "backgroundcolor": "#E5ECF6",
            "gridcolor": "white",
            "gridwidth": 2,
            "linecolor": "white",
            "showbackground": true,
            "ticks": "",
            "zerolinecolor": "white"
           },
           "zaxis": {
            "backgroundcolor": "#E5ECF6",
            "gridcolor": "white",
            "gridwidth": 2,
            "linecolor": "white",
            "showbackground": true,
            "ticks": "",
            "zerolinecolor": "white"
           }
          },
          "shapedefaults": {
           "line": {
            "color": "#2a3f5f"
           }
          },
          "ternary": {
           "aaxis": {
            "gridcolor": "white",
            "linecolor": "white",
            "ticks": ""
           },
           "baxis": {
            "gridcolor": "white",
            "linecolor": "white",
            "ticks": ""
           },
           "bgcolor": "#E5ECF6",
           "caxis": {
            "gridcolor": "white",
            "linecolor": "white",
            "ticks": ""
           }
          },
          "title": {
           "x": 0.05
          },
          "xaxis": {
           "automargin": true,
           "gridcolor": "white",
           "linecolor": "white",
           "ticks": "",
           "title": {
            "standoff": 15
           },
           "zerolinecolor": "white",
           "zerolinewidth": 2
          },
          "yaxis": {
           "automargin": true,
           "gridcolor": "white",
           "linecolor": "white",
           "ticks": "",
           "title": {
            "standoff": 15
           },
           "zerolinecolor": "white",
           "zerolinewidth": 2
          }
         }
        }
       }
      },
      "text/html": [
       "<div>\n",
       "        \n",
       "        \n",
       "            <div id=\"d68e6339-2a54-4062-aa30-d9f951a98dbc\" class=\"plotly-graph-div\" style=\"height:525px; width:100%;\"></div>\n",
       "            <script type=\"text/javascript\">\n",
       "                require([\"plotly\"], function(Plotly) {\n",
       "                    window.PLOTLYENV=window.PLOTLYENV || {};\n",
       "                    \n",
       "                if (document.getElementById(\"d68e6339-2a54-4062-aa30-d9f951a98dbc\")) {\n",
       "                    Plotly.newPlot(\n",
       "                        'd68e6339-2a54-4062-aa30-d9f951a98dbc',\n",
       "                        [{\"type\": \"scatter\", \"x\": [0, 1, 2, 3, 4, 5, 6, 7, 8, 9, 10, 11, 12, 13, 14, 15, 16, 17, 18, 19, 20, 21, 22, 23, 24, 25, 26, 27, 28, 29, 30, 31, 32, 33, 34, 35, 36, 37, 38, 39, 40, 41, 42, 43, 44, 45, 46, 47, 48, 49, 50, 51, 52, 53, 54, 55, 56, 57, 58, 59, 60, 61, 62, 63, 64, 65, 66, 67, 68, 69, 70, 71, 72, 73, 74, 75, 76, 77, 78, 79, 80, 81, 82, 83, 84, 85, 86, 87, 88, 89, 90, 91, 92, 93, 94, 95, 96, 97, 98, 99, 100, 101, 102, 103, 104, 105, 106, 107, 108, 109, 110, 111, 112, 113, 114, 115, 116, 117, 118, 119, 120, 121, 122, 123, 124, 125, 126, 127, 128, 129, 130, 131, 132, 133, 134, 135, 136, 137, 138, 139, 140, 141, 142, 143, 144, 145, 146, 147, 148, 149, 150, 151, 152, 153, 154, 155, 156, 157, 158, 159, 160, 161, 162, 163, 164, 165, 166, 167, 168, 169, 170, 171, 172, 173, 174, 175, 176, 177, 178, 179, 180, 181, 182, 183, 184, 185, 186, 187, 188, 189, 190, 191, 192, 193, 194, 195, 196, 197, 198, 199, 200, 201, 202, 203, 204, 205, 206, 207, 208, 209, 210, 211, 212, 213, 214, 215, 216, 217, 218, 219, 220, 221, 222, 223, 224, 225, 226, 227, 228, 229, 230, 231, 232, 233, 234, 235, 236, 237, 238, 239, 240, 241, 242, 243, 244, 245, 246, 247, 248, 249, 250, 251, 252, 253, 254, 255, 256, 257, 258, 259, 260, 261, 262, 263, 264, 265, 266, 267, 268, 269, 270, 271, 272, 273, 274, 275, 276, 277, 278, 279, 280, 281, 282, 283, 284, 285, 286, 287, 288, 289, 290, 291, 292, 293, 294, 295, 296, 297, 298, 299, 300, 301, 302, 303, 304, 305, 306, 307, 308, 309, 310, 311, 312, 313, 314, 315, 316, 317, 318, 319, 320, 321, 322, 323, 324, 325, 326, 327, 328, 329, 330, 331, 332, 333, 334, 335, 336, 337, 338, 339, 340, 341, 342, 343, 344, 345, 346, 347, 348, 349, 350, 351, 352, 353, 354, 355, 356, 357, 358, 359, 360, 361, 362, 363, 364, 365, 366, 367, 368, 369, 370, 371, 372, 373, 374, 375, 376, 377, 378, 379, 380, 381, 382, 383, 384, 385, 386, 387, 388, 389, 390, 391, 392, 393, 394, 395, 396, 397, 398, 399, 400, 401, 402, 403, 404, 405, 406, 407, 408, 409, 410, 411, 412, 413, 414, 415, 416, 417, 418, 419, 420, 421, 422, 423, 424, 425, 426, 427, 428, 429, 430, 431, 432, 433, 434, 435, 436, 437, 438, 439, 440, 441, 442, 443, 444, 445, 446, 447, 448, 449, 450, 451, 452, 453, 454, 455, 456, 457, 458, 459, 460, 461, 462, 463, 464, 465, 466, 467, 468, 469, 470, 471, 472, 473, 474, 475, 476, 477, 478, 479, 480, 481, 482, 483, 484, 485, 486, 487, 488, 489, 490, 491, 492, 493, 494, 495, 496, 497, 498, 499], \"y\": [0.00023075321768042928, 0.00022439199934432005, 0.00021821293684374507, 0.00021221086053228888, 0.00020638074750119596, 0.00020071771739886747, 0.00019521702836874805, 0.00018987407310224778, 0.00018468437500340141, 0.000179643584462116, 0.00017474747523288305, 0.00016999194091598055, 0.00016537299153824864, 0.00016088675023059036, 0.00015652944999947237, 0.0001522974305897396, 0.000148187135436163, 0.000144195108701198, 0.00014031799239651275, 0.00013655252358591114, 0.00013289553166735766, 0.00012934393573185596, 0.0001258947419970209, 0.0001225450413132361, 0.00011929200674035401, 0.00011613289119296279, 0.00011306502515228198, 0.00011008581444283648, 0.00010719273807209862, 0.00010438334613133, 0.00010165525775593925, 9.900615914369657e-05, 9.643380162920273e-05, 9.39359998130738e-05, 9.151062974432844e-05, 8.915562715452633e-05, 8.686898574224655e-05, 8.464875550653809e-05, 8.249304112801699e-05, 8.040000039632943e-05, 7.8367842682735e-05, 7.639482745660583e-05, 7.447926284467257e-05, 7.261950423189595e-05, 7.081395290284857e-05, 6.90610547225693e-05, 6.735929885583646e-05, 6.570721652387794e-05, 6.410337979754506e-05, 6.254640042599689e-05, 6.10349287000092e-05, 5.956765234898575e-05, 5.814329547084233e-05, 5.676061749389718e-05, 5.541841216996911e-05, 5.411550659786901e-05, 5.285076027652541e-05, 5.162306418696218e-05, 5.0431339902405984e-05, 4.9274538725780765e-05, 4.815164085387762e-05, 4.706165456750415e-05, 4.600361544691822e-05, 4.497658561187186e-05, 4.3979652985588364e-05, 4.3011930582025614e-05, 4.207255581575944e-05, 4.116068983385235e-05, 4.027551686905692e-05, 3.9416243613742253e-05, 3.8582098613884905e-05, 3.777233168252944e-05, 3.6986213332089286e-05, 3.622303422487326e-05, 3.5482104641231623e-05, 3.476275396471721e-05, 3.4064330183664235e-05, 3.338619940859298e-05, 3.272774540484608e-05, 3.2088369139880916e-05, 3.1467488344640613e-05, 3.08645370884428e-05, 3.027896536682173e-05, 2.9710238701773203e-05, 2.9157837753880098e-05, 2.862125794577072e-05, 2.8100009096407542e-05, 2.759361506570546e-05, 2.710161340899205e-05, 2.662355504083858e-05, 2.615900390779402e-05, 2.570753666961362e-05, 2.526874238852638e-05, 2.4842222226168474e-05, 2.4427589147782194e-05, 2.402446763332323e-05, 2.363249339513625e-05, 2.325131310186598e-05, 2.2880584108319416e-05, 2.251997419097001e-05, 2.216916128887461e-05, 2.182783324973112e-05, 2.149568758088045e-05, 2.117243120503354e-05, 2.085778022054486e-05, 2.0551459666075365e-05, 2.0253203289486326e-05, 1.996275332084198e-05, 1.967986024939251e-05, 1.9404282604461604e-05, 1.9135786740124432e-05, 1.8874146623626092e-05, 1.8619143627457806e-05, 1.8370566325065553e-05, 1.8128210290123334e-05, 1.7891877899354095e-05, 1.7661378138874223e-05, 1.7436526414038093e-05, 1.7217144362763207e-05, 1.7003059672349696e-05, 1.679410589975936e-05, 1.6590122295379714e-05, 1.639095363026047e-05, 1.6196450026818303e-05, 1.6006466793025066e-05, 1.5820864260076938e-05, 1.56395076235411e-05, 1.5462266787980266e-05, 1.528901621506745e-05, 1.5119634775164461e-05, 1.4954005602385774e-05, 1.4792015953111817e-05, 1.4633557067965635e-05, 1.4478524037223193e-05, 1.4326815669646748e-05, 1.4178334364719857e-05, 1.4032985988263199e-05, 1.3890679751405225e-05, 1.3751328092872722e-05, 1.3614846564575769e-05, 1.3481153720447326e-05, 1.3350171008506181e-05, 1.3221822666086679e-05, 1.3096035618218605e-05, 1.2972739379072821e-05, 1.2851865956471209e-05, 1.2733349759367834e-05, 1.26171275082694e-05, 1.2503138148553288e-05, 1.2391322766587582e-05, 1.2281624508650847e-05, 1.2173988502535633e-05, 1.2068361781829699e-05, 1.1964693212774788e-05, 1.186293342366282e-05, 1.1763034736703286e-05, 1.1664951102303234e-05, 1.1568638035689822e-05, 1.1474052555822611e-05, 1.1381153126531927e-05, 1.1289899599819482e-05, 1.1200253161254507e-05, 1.1112176277423254e-05, 1.1025632645350678e-05, 1.0940587143849247e-05, 1.0857005786720447e-05, 1.0774855677779384e-05, 1.0694104967606812e-05, 1.0614722812004034e-05, 1.0536679332085928e-05, 1.0459945575943372e-05, 1.038449348185046e-05, 1.0310295842931746e-05, 1.0237326273269023e-05, 1.0165559175373489e-05, 1.0094969708991094e-05, 1.0025533761188546e-05, 9.957227917661965e-06, 9.890029435249604e-06, 9.823916215576298e-06, 9.758866779808002e-06, 9.694860244461006e-06, 9.631876298234032e-06, 9.569895179822617e-06, 9.508897656676988e-06, 9.448865004664646e-06, 9.389778988603592e-06, 9.33162184364e-06, 9.274376257414292e-06, 9.218025353018295e-06, 9.162552672675613e-06, 9.10794216214329e-06, 9.054178155787003e-06, 9.00124536231479e-06, 8.949128851139307e-06, 8.897814039327206e-06, 8.847286679140301e-06, 8.797532846116957e-06, 8.748538927682754e-06, 8.700291612264228e-06, 8.652777878895559e-06, 8.605984987269961e-06, 8.55990046825207e-06, 8.514512114798054e-06, 8.46980797329097e-06, 8.42577633525559e-06, 8.38240572944534e-06, 8.339684914283228e-06, 8.297602870635655e-06, 8.256148794913873e-06, 8.215312092475573e-06, 8.175082371327985e-06, 8.135449436103152e-06, 8.096403282302877e-06, 8.057934090799436e-06, 8.020032222579307e-06, 7.982688213714569e-06, 7.945892770555489e-06, 7.909636765137484e-06, 7.873911230782627e-06, 7.838707357897193e-06, 7.80401648994025e-06, 7.769830119579087e-06, 7.736139884993165e-06, 7.702937566349735e-06, 7.670215082415744e-06, 7.637964487315099e-06, 7.606177967421079e-06, 7.574847838376114e-06, 7.543966542228699e-06, 7.513526644691682e-06, 7.4835208325040276e-06, 7.453941910896945e-06, 7.424782801165459e-06, 7.3960365383177045e-06, 7.3676962688330165e-06, 7.339755248485898e-06, 7.3122068402601334e-06, 7.28504451233185e-06, 7.258261836133143e-06, 7.231852484470351e-06, 7.205810229720531e-06, 7.180128942073192e-06, 7.154802587849043e-06, 7.12982522785252e-06, 7.105191015789235e-06, 7.080894196731843e-06, 7.05692910562267e-06, 7.033290165832467e-06, 7.009971887750751e-06, 6.986968867421014e-06, 6.964275785208813e-06, 6.941887404513671e-06, 6.919798570496928e-06, 6.89800420886668e-06, 6.876499324663453e-06, 6.855279001101043e-06, 6.8343383984139786e-06, 6.813672752741416e-06, 6.79327737503367e-06, 6.773147649976561e-06, 6.753279034944369e-06, 6.7336670589677344e-06, 6.71430732172386e-06, 6.69519549254599e-06, 6.676327309448797e-06, 6.65769857817265e-06, 6.639305171238767e-06, 6.62114302703013e-06, 6.6032081488757805e-06, 6.585496604154848e-06, 6.5680045234144296e-06, 6.550728099499998e-06, 6.5336635866938916e-06, 6.516807299872272e-06, 6.500155613669354e-06, 6.483704961653422e-06, 6.467451835511611e-06, 6.4513927842513204e-06, 6.435524413403279e-06, 6.4198433842397296e-06, 6.40434641300135e-06, 6.389030270128619e-06, 6.373891779509802e-06, 6.358927817729605e-06, 6.344135313333748e-06, 6.329511246094816e-06, 6.315052646288896e-06, 6.300756593983847e-06, 6.286620218329046e-06, 6.2726406968560955e-06, 6.258815254787355e-06, 6.2451411643497665e-06, 6.2316157440966474e-06, 6.218236358241261e-06, 6.205000415987237e-06, 6.1919053708764315e-06, 6.178948720139108e-06, 6.166128004048674e-06, 6.1534408052885984e-06, 6.140884748323689e-06, 6.128457498773848e-06, 6.116156762802629e-06, 6.103980286507388e-06, 6.091925855316195e-06, 6.079991293389836e-06, 6.068174463037538e-06, 6.05647326413067e-06, 6.044885633526407e-06, 6.033409544498994e-06, 6.022043006177249e-06, 6.010784062983331e-06, 5.999630794088227e-06, 5.988581312861101e-06, 5.97763376633715e-06, 5.9667863346799955e-06, 5.9560372306615784e-06, 5.9453846991395355e-06, 5.934827016547533e-06, 5.924362490382494e-06, 5.913989458711124e-06, 5.90370628967097e-06, 5.893511380984904e-06, 5.883403159475756e-06, 5.8733800805938964e-06, 5.863440627944087e-06, 5.853583312823135e-06, 5.843806673763367e-06, 5.834109276076748e-06, 5.824489711411221e-06, 5.814946597311564e-06, 5.805478576783737e-06, 5.796084317865081e-06, 5.786762513204334e-06, 5.777511879643692e-06, 5.7683311578074695e-06, 5.759219111696291e-06, 5.750174528287887e-06, 5.741196217142442e-06, 5.7322830100167485e-06, 5.723433760474327e-06, 5.714647343517276e-06, 5.7059226552056e-06, 5.697258612295942e-06, 5.688654151876918e-06, 5.68010823101709e-06, 5.6716198264100865e-06, 5.663187934030127e-06, 5.65481156879518e-06, 5.646489764226462e-06, 5.638221572121196e-06, 5.630006062228e-06, 5.62184232192557e-06, 5.613729455908263e-06, 5.605666585876525e-06, 5.5976528502283225e-06, 5.589687403763089e-06, 5.581769417381256e-06, 5.5738980777983665e-06, 5.566072587252511e-06, 5.558292163225838e-06, 5.550556038170178e-06, 5.542863459225325e-06, 5.535213687959457e-06, 5.527606000099408e-06, 5.520039685272753e-06, 5.512514046752883e-06, 5.505028401206889e-06, 5.497582078447308e-06, 5.490174421192695e-06, 5.482804784822039e-06, 5.475472537146962e-06, 5.468177058177527e-06, 5.460917739892142e-06, 5.453693986020753e-06, 5.446505211819476e-06, 5.43935084385823e-06, 5.4322303198067335e-06, 5.4251430882273915e-06, 5.418088608370914e-06, 5.411066349973012e-06, 5.404075793058578e-06, 5.397116427746231e-06, 5.3901877540584376e-06, 5.383289281733069e-06, 5.376420530038596e-06, 5.369581027596263e-06, 5.362770312196728e-06, 5.355987930629946e-06, 5.349233438513024e-06, 5.342506400119512e-06, 5.335806388215878e-06, 5.329132983898345e-06, 5.32248577643308e-06, 5.315864363100192e-06, 5.309268349038475e-06, 5.3026973470960975e-06, 5.296150977679757e-06, 5.2896288686123585e-06, 5.28313065498626e-06, 5.276655979026526e-06, 5.270204489950003e-06, 5.263775843831044e-06, 5.257369703470165e-06, 5.2509857382606955e-06, 5.244623624064005e-06, 5.238283043081057e-06, 5.231963683732565e-06, 5.225665240532234e-06, 5.219387413974965e-06, 5.213129910415245e-06, 5.206892441955672e-06, 5.200674726331851e-06, 5.194476486804976e-06, 5.188297452052387e-06, 5.1821373560635515e-06, 5.175995938031501e-06, 5.169872942256362e-06, 5.163768118040851e-06, 5.1576812195926795e-06, 5.151612005931985e-06, 5.145560240791154e-06, 5.139525692527428e-06, 5.133508134025899e-06, 5.127507342616367e-06, 5.121523099981347e-06, 5.115555192073432e-06, 5.109603409026323e-06, 5.103667545078845e-06, 5.097747398488858e-06, 5.091842771452068e-06, 5.085953470032375e-06, 5.0800793040757935e-06, 5.074220087143281e-06, 5.0683756364290186e-06, 5.062545772697694e-06, 5.056730320206594e-06, 5.050929106638311e-06, 5.045141963032334e-06, 5.039368723721342e-06, 5.033609226261258e-06, 5.02786331136928e-06, 5.022130822861263e-06, 5.016411607589812e-06, 5.0107055153835415e-06, 5.005012398986234e-06, 4.999332114003015e-06, 4.993664518838393e-06, 4.988009474642814e-06, 4.982366845257249e-06, 4.9767364971618806e-06, 4.971118299418076e-06, 4.965512123621831e-06, 4.959917843850614e-06, 4.954335336614931e-06, 4.9487644808076415e-06, 4.9432051576595425e-06, 4.937657250688698e-06, 4.932120645657672e-06, 4.926595230528269e-06, 4.921080895413722e-06, 4.9155775325406216e-06, 4.910085036204892e-06, 4.90460330272812e-06, 4.8991322304187075e-06, 4.893671719532944e-06, 4.888221672233291e-06, 4.882781992552629e-06, 4.877352586354465e-06, 4.8719333612980185e-06, 4.866524226801063e-06, 4.861125094005461e-06, 4.855735875739951e-06, 4.85035648649078e-06, 4.844986842363569e-06, 4.83962686105342e-06, 4.83427646181143e-06, 4.828935565416985e-06, 4.8236040941406935e-06, 4.818281971719438e-06, 4.812969123327063e-06, 4.807665475539702e-06, 4.802370956314624e-06, 4.797085494957854e-06, 4.791809022097839e-06, 4.786541469660337e-06, 4.7812827708402205e-06, 4.776032860077315e-06, 4.770791673029608e-06, 4.765559146551563e-06, 4.760335218665908e-06, 4.755119828544062e-06, 4.749912916481497e-06, 4.744714423872561e-06, 4.73952429319176e-06, 4.734342467970396e-06, 4.7291688927760005e-06, 4.724003513190257e-06, 4.718846275788606e-06, 4.713697128120947e-06]}],\n",
       "                        {\"template\": {\"data\": {\"bar\": [{\"error_x\": {\"color\": \"#2a3f5f\"}, \"error_y\": {\"color\": \"#2a3f5f\"}, \"marker\": {\"line\": {\"color\": \"#E5ECF6\", \"width\": 0.5}}, \"type\": \"bar\"}], \"barpolar\": [{\"marker\": {\"line\": {\"color\": \"#E5ECF6\", \"width\": 0.5}}, \"type\": \"barpolar\"}], \"carpet\": [{\"aaxis\": {\"endlinecolor\": \"#2a3f5f\", \"gridcolor\": \"white\", \"linecolor\": \"white\", \"minorgridcolor\": \"white\", \"startlinecolor\": \"#2a3f5f\"}, \"baxis\": {\"endlinecolor\": \"#2a3f5f\", \"gridcolor\": \"white\", \"linecolor\": \"white\", \"minorgridcolor\": \"white\", \"startlinecolor\": \"#2a3f5f\"}, \"type\": \"carpet\"}], \"choropleth\": [{\"colorbar\": {\"outlinewidth\": 0, \"ticks\": \"\"}, \"type\": \"choropleth\"}], \"contour\": [{\"colorbar\": {\"outlinewidth\": 0, \"ticks\": \"\"}, \"colorscale\": [[0.0, \"#0d0887\"], [0.1111111111111111, \"#46039f\"], [0.2222222222222222, \"#7201a8\"], [0.3333333333333333, \"#9c179e\"], [0.4444444444444444, \"#bd3786\"], [0.5555555555555556, \"#d8576b\"], [0.6666666666666666, \"#ed7953\"], [0.7777777777777778, \"#fb9f3a\"], [0.8888888888888888, \"#fdca26\"], [1.0, \"#f0f921\"]], \"type\": \"contour\"}], \"contourcarpet\": [{\"colorbar\": {\"outlinewidth\": 0, \"ticks\": \"\"}, \"type\": \"contourcarpet\"}], \"heatmap\": [{\"colorbar\": {\"outlinewidth\": 0, \"ticks\": \"\"}, \"colorscale\": [[0.0, \"#0d0887\"], [0.1111111111111111, \"#46039f\"], [0.2222222222222222, \"#7201a8\"], [0.3333333333333333, \"#9c179e\"], [0.4444444444444444, \"#bd3786\"], [0.5555555555555556, \"#d8576b\"], [0.6666666666666666, \"#ed7953\"], [0.7777777777777778, \"#fb9f3a\"], [0.8888888888888888, \"#fdca26\"], [1.0, \"#f0f921\"]], \"type\": \"heatmap\"}], \"heatmapgl\": [{\"colorbar\": {\"outlinewidth\": 0, \"ticks\": \"\"}, \"colorscale\": [[0.0, \"#0d0887\"], [0.1111111111111111, \"#46039f\"], [0.2222222222222222, \"#7201a8\"], [0.3333333333333333, \"#9c179e\"], [0.4444444444444444, \"#bd3786\"], [0.5555555555555556, \"#d8576b\"], [0.6666666666666666, \"#ed7953\"], [0.7777777777777778, \"#fb9f3a\"], [0.8888888888888888, \"#fdca26\"], [1.0, \"#f0f921\"]], \"type\": \"heatmapgl\"}], \"histogram\": [{\"marker\": {\"colorbar\": {\"outlinewidth\": 0, \"ticks\": \"\"}}, \"type\": \"histogram\"}], \"histogram2d\": [{\"colorbar\": {\"outlinewidth\": 0, \"ticks\": \"\"}, \"colorscale\": [[0.0, \"#0d0887\"], [0.1111111111111111, \"#46039f\"], [0.2222222222222222, \"#7201a8\"], [0.3333333333333333, \"#9c179e\"], [0.4444444444444444, \"#bd3786\"], [0.5555555555555556, \"#d8576b\"], [0.6666666666666666, \"#ed7953\"], [0.7777777777777778, \"#fb9f3a\"], [0.8888888888888888, \"#fdca26\"], [1.0, \"#f0f921\"]], \"type\": \"histogram2d\"}], \"histogram2dcontour\": [{\"colorbar\": {\"outlinewidth\": 0, \"ticks\": \"\"}, \"colorscale\": [[0.0, \"#0d0887\"], [0.1111111111111111, \"#46039f\"], [0.2222222222222222, \"#7201a8\"], [0.3333333333333333, \"#9c179e\"], [0.4444444444444444, \"#bd3786\"], [0.5555555555555556, \"#d8576b\"], [0.6666666666666666, \"#ed7953\"], [0.7777777777777778, \"#fb9f3a\"], [0.8888888888888888, \"#fdca26\"], [1.0, \"#f0f921\"]], \"type\": \"histogram2dcontour\"}], \"mesh3d\": [{\"colorbar\": {\"outlinewidth\": 0, \"ticks\": \"\"}, \"type\": \"mesh3d\"}], \"parcoords\": [{\"line\": {\"colorbar\": {\"outlinewidth\": 0, \"ticks\": \"\"}}, \"type\": \"parcoords\"}], \"pie\": [{\"automargin\": true, \"type\": \"pie\"}], \"scatter\": [{\"marker\": {\"colorbar\": {\"outlinewidth\": 0, \"ticks\": \"\"}}, \"type\": \"scatter\"}], \"scatter3d\": [{\"line\": {\"colorbar\": {\"outlinewidth\": 0, \"ticks\": \"\"}}, \"marker\": {\"colorbar\": {\"outlinewidth\": 0, \"ticks\": \"\"}}, \"type\": \"scatter3d\"}], \"scattercarpet\": [{\"marker\": {\"colorbar\": {\"outlinewidth\": 0, \"ticks\": \"\"}}, \"type\": \"scattercarpet\"}], \"scattergeo\": [{\"marker\": {\"colorbar\": {\"outlinewidth\": 0, \"ticks\": \"\"}}, \"type\": \"scattergeo\"}], \"scattergl\": [{\"marker\": {\"colorbar\": {\"outlinewidth\": 0, \"ticks\": \"\"}}, \"type\": \"scattergl\"}], \"scattermapbox\": [{\"marker\": {\"colorbar\": {\"outlinewidth\": 0, \"ticks\": \"\"}}, \"type\": \"scattermapbox\"}], \"scatterpolar\": [{\"marker\": {\"colorbar\": {\"outlinewidth\": 0, \"ticks\": \"\"}}, \"type\": \"scatterpolar\"}], \"scatterpolargl\": [{\"marker\": {\"colorbar\": {\"outlinewidth\": 0, \"ticks\": \"\"}}, \"type\": \"scatterpolargl\"}], \"scatterternary\": [{\"marker\": {\"colorbar\": {\"outlinewidth\": 0, \"ticks\": \"\"}}, \"type\": \"scatterternary\"}], \"surface\": [{\"colorbar\": {\"outlinewidth\": 0, \"ticks\": \"\"}, \"colorscale\": [[0.0, \"#0d0887\"], [0.1111111111111111, \"#46039f\"], [0.2222222222222222, \"#7201a8\"], [0.3333333333333333, \"#9c179e\"], [0.4444444444444444, \"#bd3786\"], [0.5555555555555556, \"#d8576b\"], [0.6666666666666666, \"#ed7953\"], [0.7777777777777778, \"#fb9f3a\"], [0.8888888888888888, \"#fdca26\"], [1.0, \"#f0f921\"]], \"type\": \"surface\"}], \"table\": [{\"cells\": {\"fill\": {\"color\": \"#EBF0F8\"}, \"line\": {\"color\": \"white\"}}, \"header\": {\"fill\": {\"color\": \"#C8D4E3\"}, \"line\": {\"color\": \"white\"}}, \"type\": \"table\"}]}, \"layout\": {\"annotationdefaults\": {\"arrowcolor\": \"#2a3f5f\", \"arrowhead\": 0, \"arrowwidth\": 1}, \"coloraxis\": {\"colorbar\": {\"outlinewidth\": 0, \"ticks\": \"\"}}, \"colorscale\": {\"diverging\": [[0, \"#8e0152\"], [0.1, \"#c51b7d\"], [0.2, \"#de77ae\"], [0.3, \"#f1b6da\"], [0.4, \"#fde0ef\"], [0.5, \"#f7f7f7\"], [0.6, \"#e6f5d0\"], [0.7, \"#b8e186\"], [0.8, \"#7fbc41\"], [0.9, \"#4d9221\"], [1, \"#276419\"]], \"sequential\": [[0.0, \"#0d0887\"], [0.1111111111111111, \"#46039f\"], [0.2222222222222222, \"#7201a8\"], [0.3333333333333333, \"#9c179e\"], [0.4444444444444444, \"#bd3786\"], [0.5555555555555556, \"#d8576b\"], [0.6666666666666666, \"#ed7953\"], [0.7777777777777778, \"#fb9f3a\"], [0.8888888888888888, \"#fdca26\"], [1.0, \"#f0f921\"]], \"sequentialminus\": [[0.0, \"#0d0887\"], [0.1111111111111111, \"#46039f\"], [0.2222222222222222, \"#7201a8\"], [0.3333333333333333, \"#9c179e\"], [0.4444444444444444, \"#bd3786\"], [0.5555555555555556, \"#d8576b\"], [0.6666666666666666, \"#ed7953\"], [0.7777777777777778, \"#fb9f3a\"], [0.8888888888888888, \"#fdca26\"], [1.0, \"#f0f921\"]]}, \"colorway\": [\"#636efa\", \"#EF553B\", \"#00cc96\", \"#ab63fa\", \"#FFA15A\", \"#19d3f3\", \"#FF6692\", \"#B6E880\", \"#FF97FF\", \"#FECB52\"], \"font\": {\"color\": \"#2a3f5f\"}, \"geo\": {\"bgcolor\": \"white\", \"lakecolor\": \"white\", \"landcolor\": \"#E5ECF6\", \"showlakes\": true, \"showland\": true, \"subunitcolor\": \"white\"}, \"hoverlabel\": {\"align\": \"left\"}, \"hovermode\": \"closest\", \"mapbox\": {\"style\": \"light\"}, \"paper_bgcolor\": \"white\", \"plot_bgcolor\": \"#E5ECF6\", \"polar\": {\"angularaxis\": {\"gridcolor\": \"white\", \"linecolor\": \"white\", \"ticks\": \"\"}, \"bgcolor\": \"#E5ECF6\", \"radialaxis\": {\"gridcolor\": \"white\", \"linecolor\": \"white\", \"ticks\": \"\"}}, \"scene\": {\"xaxis\": {\"backgroundcolor\": \"#E5ECF6\", \"gridcolor\": \"white\", \"gridwidth\": 2, \"linecolor\": \"white\", \"showbackground\": true, \"ticks\": \"\", \"zerolinecolor\": \"white\"}, \"yaxis\": {\"backgroundcolor\": \"#E5ECF6\", \"gridcolor\": \"white\", \"gridwidth\": 2, \"linecolor\": \"white\", \"showbackground\": true, \"ticks\": \"\", \"zerolinecolor\": \"white\"}, \"zaxis\": {\"backgroundcolor\": \"#E5ECF6\", \"gridcolor\": \"white\", \"gridwidth\": 2, \"linecolor\": \"white\", \"showbackground\": true, \"ticks\": \"\", \"zerolinecolor\": \"white\"}}, \"shapedefaults\": {\"line\": {\"color\": \"#2a3f5f\"}}, \"ternary\": {\"aaxis\": {\"gridcolor\": \"white\", \"linecolor\": \"white\", \"ticks\": \"\"}, \"baxis\": {\"gridcolor\": \"white\", \"linecolor\": \"white\", \"ticks\": \"\"}, \"bgcolor\": \"#E5ECF6\", \"caxis\": {\"gridcolor\": \"white\", \"linecolor\": \"white\", \"ticks\": \"\"}}, \"title\": {\"x\": 0.05}, \"xaxis\": {\"automargin\": true, \"gridcolor\": \"white\", \"linecolor\": \"white\", \"ticks\": \"\", \"title\": {\"standoff\": 15}, \"zerolinecolor\": \"white\", \"zerolinewidth\": 2}, \"yaxis\": {\"automargin\": true, \"gridcolor\": \"white\", \"linecolor\": \"white\", \"ticks\": \"\", \"title\": {\"standoff\": 15}, \"zerolinecolor\": \"white\", \"zerolinewidth\": 2}}}},\n",
       "                        {\"responsive\": true}\n",
       "                    ).then(function(){\n",
       "                            \n",
       "var gd = document.getElementById('d68e6339-2a54-4062-aa30-d9f951a98dbc');\n",
       "var x = new MutationObserver(function (mutations, observer) {{\n",
       "        var display = window.getComputedStyle(gd).display;\n",
       "        if (!display || display === 'none') {{\n",
       "            console.log([gd, 'removed!']);\n",
       "            Plotly.purge(gd);\n",
       "            observer.disconnect();\n",
       "        }}\n",
       "}});\n",
       "\n",
       "// Listen for the removal of the full notebook cells\n",
       "var notebookContainer = gd.closest('#notebook-container');\n",
       "if (notebookContainer) {{\n",
       "    x.observe(notebookContainer, {childList: true});\n",
       "}}\n",
       "\n",
       "// Listen for the clearing of the current output cell\n",
       "var outputEl = gd.closest('.output');\n",
       "if (outputEl) {{\n",
       "    x.observe(outputEl, {childList: true});\n",
       "}}\n",
       "\n",
       "                        })\n",
       "                };\n",
       "                });\n",
       "            </script>\n",
       "        </div>"
      ]
     },
     "metadata": {},
     "output_type": "display_data"
    }
   ],
   "source": [
    "fig= [go.Scatter(\n",
    "    x= list(range(len(diff_tally))),\n",
    "    y= diff_tally\n",
    ")]\n",
    "\n",
    "\n",
    "layout= go.Layout()\n",
    "\n",
    "\n",
    "fig = go.Figure(data=fig, layout= layout)\n",
    "iplot(fig)"
   ]
  },
  {
   "cell_type": "code",
   "execution_count": 11,
   "metadata": {},
   "outputs": [
    {
     "data": {
      "application/vnd.plotly.v1+json": {
       "config": {
        "linkText": "Export to plot.ly",
        "plotlyServerURL": "https://plot.ly",
        "showLink": false
       },
       "data": [
        {
         "fill": "tozeroy",
         "line": {
          "color": "blue",
          "width": 2
         },
         "mode": "lines",
         "type": "scatter",
         "x": [
          0,
          0.001001001001001001,
          0.002002002002002002,
          0.003003003003003003,
          0.004004004004004004,
          0.005005005005005005,
          0.006006006006006006,
          0.007007007007007007,
          0.008008008008008008,
          0.009009009009009009,
          0.01001001001001001,
          0.011011011011011011,
          0.012012012012012012,
          0.013013013013013013,
          0.014014014014014014,
          0.015015015015015015,
          0.016016016016016016,
          0.017017017017017015,
          0.018018018018018018,
          0.01901901901901902,
          0.02002002002002002,
          0.02102102102102102,
          0.022022022022022022,
          0.023023023023023025,
          0.024024024024024024,
          0.025025025025025023,
          0.026026026026026026,
          0.02702702702702703,
          0.028028028028028028,
          0.029029029029029027,
          0.03003003003003003,
          0.031031031031031032,
          0.03203203203203203,
          0.03303303303303303,
          0.03403403403403403,
          0.035035035035035036,
          0.036036036036036036,
          0.037037037037037035,
          0.03803803803803804,
          0.03903903903903904,
          0.04004004004004004,
          0.04104104104104104,
          0.04204204204204204,
          0.043043043043043044,
          0.044044044044044044,
          0.04504504504504504,
          0.04604604604604605,
          0.04704704704704705,
          0.04804804804804805,
          0.04904904904904905,
          0.050050050050050046,
          0.05105105105105105,
          0.05205205205205205,
          0.05305305305305305,
          0.05405405405405406,
          0.055055055055055056,
          0.056056056056056056,
          0.057057057057057055,
          0.058058058058058054,
          0.05905905905905906,
          0.06006006006006006,
          0.06106106106106106,
          0.062062062062062065,
          0.06306306306306306,
          0.06406406406406406,
          0.06506506506506507,
          0.06606606606606606,
          0.06706706706706707,
          0.06806806806806806,
          0.06906906906906907,
          0.07007007007007007,
          0.07107107107107107,
          0.07207207207207207,
          0.07307307307307308,
          0.07407407407407407,
          0.07507507507507508,
          0.07607607607607608,
          0.07707707707707707,
          0.07807807807807808,
          0.07907907907907907,
          0.08008008008008008,
          0.08108108108108109,
          0.08208208208208208,
          0.08308308308308308,
          0.08408408408408408,
          0.08508508508508508,
          0.08608608608608609,
          0.08708708708708708,
          0.08808808808808809,
          0.0890890890890891,
          0.09009009009009009,
          0.09109109109109109,
          0.0920920920920921,
          0.09309309309309309,
          0.0940940940940941,
          0.09509509509509509,
          0.0960960960960961,
          0.0970970970970971,
          0.0980980980980981,
          0.0990990990990991,
          0.10010010010010009,
          0.1011011011011011,
          0.1021021021021021,
          0.1031031031031031,
          0.1041041041041041,
          0.10510510510510511,
          0.1061061061061061,
          0.10710710710710711,
          0.10810810810810811,
          0.1091091091091091,
          0.11011011011011011,
          0.1111111111111111,
          0.11211211211211211,
          0.11311311311311312,
          0.11411411411411411,
          0.11511511511511512,
          0.11611611611611611,
          0.11711711711711711,
          0.11811811811811812,
          0.11911911911911911,
          0.12012012012012012,
          0.12112112112112113,
          0.12212212212212212,
          0.12312312312312312,
          0.12412412412412413,
          0.12512512512512514,
          0.12612612612612611,
          0.12712712712712712,
          0.12812812812812813,
          0.12912912912912913,
          0.13013013013013014,
          0.13113113113113112,
          0.13213213213213212,
          0.13313313313313313,
          0.13413413413413414,
          0.13513513513513514,
          0.13613613613613612,
          0.13713713713713713,
          0.13813813813813813,
          0.13913913913913914,
          0.14014014014014015,
          0.14114114114114115,
          0.14214214214214213,
          0.14314314314314314,
          0.14414414414414414,
          0.14514514514514515,
          0.14614614614614616,
          0.14714714714714713,
          0.14814814814814814,
          0.14914914914914915,
          0.15015015015015015,
          0.15115115115115116,
          0.15215215215215216,
          0.15315315315315314,
          0.15415415415415415,
          0.15515515515515516,
          0.15615615615615616,
          0.15715715715715717,
          0.15815815815815815,
          0.15915915915915915,
          0.16016016016016016,
          0.16116116116116116,
          0.16216216216216217,
          0.16316316316316315,
          0.16416416416416416,
          0.16516516516516516,
          0.16616616616616617,
          0.16716716716716717,
          0.16816816816816815,
          0.16916916916916916,
          0.17017017017017017,
          0.17117117117117117,
          0.17217217217217218,
          0.17317317317317318,
          0.17417417417417416,
          0.17517517517517517,
          0.17617617617617617,
          0.17717717717717718,
          0.1781781781781782,
          0.17917917917917917,
          0.18018018018018017,
          0.18118118118118118,
          0.18218218218218218,
          0.1831831831831832,
          0.1841841841841842,
          0.18518518518518517,
          0.18618618618618618,
          0.1871871871871872,
          0.1881881881881882,
          0.1891891891891892,
          0.19019019019019018,
          0.19119119119119118,
          0.1921921921921922,
          0.1931931931931932,
          0.1941941941941942,
          0.19519519519519518,
          0.1961961961961962,
          0.1971971971971972,
          0.1981981981981982,
          0.1991991991991992,
          0.20020020020020018,
          0.2012012012012012,
          0.2022022022022022,
          0.2032032032032032,
          0.2042042042042042,
          0.20520520520520522,
          0.2062062062062062,
          0.2072072072072072,
          0.2082082082082082,
          0.2092092092092092,
          0.21021021021021022,
          0.2112112112112112,
          0.2122122122122122,
          0.2132132132132132,
          0.21421421421421422,
          0.21521521521521522,
          0.21621621621621623,
          0.2172172172172172,
          0.2182182182182182,
          0.21921921921921922,
          0.22022022022022023,
          0.22122122122122123,
          0.2222222222222222,
          0.22322322322322322,
          0.22422422422422422,
          0.22522522522522523,
          0.22622622622622623,
          0.2272272272272272,
          0.22822822822822822,
          0.22922922922922923,
          0.23023023023023023,
          0.23123123123123124,
          0.23223223223223222,
          0.23323323323323322,
          0.23423423423423423,
          0.23523523523523523,
          0.23623623623623624,
          0.23723723723723725,
          0.23823823823823823,
          0.23923923923923923,
          0.24024024024024024,
          0.24124124124124124,
          0.24224224224224225,
          0.24324324324324323,
          0.24424424424424424,
          0.24524524524524524,
          0.24624624624624625,
          0.24724724724724725,
          0.24824824824824826,
          0.24924924924924924,
          0.2502502502502503,
          0.25125125125125125,
          0.25225225225225223,
          0.25325325325325326,
          0.25425425425425424,
          0.2552552552552553,
          0.25625625625625625,
          0.25725725725725723,
          0.25825825825825827,
          0.25925925925925924,
          0.2602602602602603,
          0.26126126126126126,
          0.26226226226226224,
          0.26326326326326327,
          0.26426426426426425,
          0.2652652652652653,
          0.26626626626626626,
          0.26726726726726724,
          0.2682682682682683,
          0.26926926926926925,
          0.2702702702702703,
          0.27127127127127126,
          0.27227227227227224,
          0.2732732732732733,
          0.27427427427427425,
          0.2752752752752753,
          0.27627627627627627,
          0.2772772772772773,
          0.2782782782782783,
          0.27927927927927926,
          0.2802802802802803,
          0.28128128128128127,
          0.2822822822822823,
          0.2832832832832833,
          0.28428428428428426,
          0.2852852852852853,
          0.2862862862862863,
          0.2872872872872873,
          0.2882882882882883,
          0.28928928928928926,
          0.2902902902902903,
          0.2912912912912913,
          0.2922922922922923,
          0.2932932932932933,
          0.29429429429429427,
          0.2952952952952953,
          0.2962962962962963,
          0.2972972972972973,
          0.2982982982982983,
          0.29929929929929927,
          0.3003003003003003,
          0.3013013013013013,
          0.3023023023023023,
          0.3033033033033033,
          0.30430430430430433,
          0.3053053053053053,
          0.3063063063063063,
          0.3073073073073073,
          0.3083083083083083,
          0.30930930930930933,
          0.3103103103103103,
          0.3113113113113113,
          0.3123123123123123,
          0.3133133133133133,
          0.31431431431431434,
          0.3153153153153153,
          0.3163163163163163,
          0.3173173173173173,
          0.3183183183183183,
          0.31931931931931934,
          0.3203203203203203,
          0.3213213213213213,
          0.32232232232232233,
          0.3233233233233233,
          0.32432432432432434,
          0.3253253253253253,
          0.3263263263263263,
          0.32732732732732733,
          0.3283283283283283,
          0.32932932932932935,
          0.3303303303303303,
          0.3313313313313313,
          0.33233233233233234,
          0.3333333333333333,
          0.33433433433433435,
          0.3353353353353353,
          0.3363363363363363,
          0.33733733733733734,
          0.3383383383383383,
          0.33933933933933935,
          0.34034034034034033,
          0.34134134134134136,
          0.34234234234234234,
          0.3433433433433433,
          0.34434434434434436,
          0.34534534534534533,
          0.34634634634634637,
          0.34734734734734735,
          0.3483483483483483,
          0.34934934934934936,
          0.35035035035035034,
          0.35135135135135137,
          0.35235235235235235,
          0.3533533533533533,
          0.35435435435435436,
          0.35535535535535534,
          0.3563563563563564,
          0.35735735735735735,
          0.35835835835835833,
          0.35935935935935936,
          0.36036036036036034,
          0.3613613613613614,
          0.36236236236236236,
          0.36336336336336333,
          0.36436436436436437,
          0.36536536536536535,
          0.3663663663663664,
          0.36736736736736736,
          0.3683683683683684,
          0.36936936936936937,
          0.37037037037037035,
          0.3713713713713714,
          0.37237237237237236,
          0.3733733733733734,
          0.3743743743743744,
          0.37537537537537535,
          0.3763763763763764,
          0.37737737737737737,
          0.3783783783783784,
          0.3793793793793794,
          0.38038038038038036,
          0.3813813813813814,
          0.38238238238238237,
          0.3833833833833834,
          0.3843843843843844,
          0.38538538538538536,
          0.3863863863863864,
          0.38738738738738737,
          0.3883883883883884,
          0.3893893893893894,
          0.39039039039039036,
          0.3913913913913914,
          0.3923923923923924,
          0.3933933933933934,
          0.3943943943943944,
          0.39539539539539537,
          0.3963963963963964,
          0.3973973973973974,
          0.3983983983983984,
          0.3993993993993994,
          0.40040040040040037,
          0.4014014014014014,
          0.4024024024024024,
          0.4034034034034034,
          0.4044044044044044,
          0.40540540540540543,
          0.4064064064064064,
          0.4074074074074074,
          0.4084084084084084,
          0.4094094094094094,
          0.41041041041041043,
          0.4114114114114114,
          0.4124124124124124,
          0.4134134134134134,
          0.4144144144144144,
          0.41541541541541543,
          0.4164164164164164,
          0.4174174174174174,
          0.4184184184184184,
          0.4194194194194194,
          0.42042042042042044,
          0.4214214214214214,
          0.4224224224224224,
          0.42342342342342343,
          0.4244244244244244,
          0.42542542542542544,
          0.4264264264264264,
          0.4274274274274274,
          0.42842842842842843,
          0.4294294294294294,
          0.43043043043043044,
          0.4314314314314314,
          0.43243243243243246,
          0.43343343343343343,
          0.4344344344344344,
          0.43543543543543545,
          0.4364364364364364,
          0.43743743743743746,
          0.43843843843843844,
          0.4394394394394394,
          0.44044044044044045,
          0.44144144144144143,
          0.44244244244244246,
          0.44344344344344344,
          0.4444444444444444,
          0.44544544544544545,
          0.44644644644644643,
          0.44744744744744747,
          0.44844844844844844,
          0.4494494494494494,
          0.45045045045045046,
          0.45145145145145144,
          0.45245245245245247,
          0.45345345345345345,
          0.4544544544544544,
          0.45545545545545546,
          0.45645645645645644,
          0.4574574574574575,
          0.45845845845845845,
          0.45945945945945943,
          0.46046046046046046,
          0.46146146146146144,
          0.4624624624624625,
          0.46346346346346345,
          0.46446446446446443,
          0.46546546546546547,
          0.46646646646646645,
          0.4674674674674675,
          0.46846846846846846,
          0.4694694694694695,
          0.47047047047047047,
          0.47147147147147145,
          0.4724724724724725,
          0.47347347347347346,
          0.4744744744744745,
          0.4754754754754755,
          0.47647647647647645,
          0.4774774774774775,
          0.47847847847847846,
          0.4794794794794795,
          0.4804804804804805,
          0.48148148148148145,
          0.4824824824824825,
          0.48348348348348347,
          0.4844844844844845,
          0.4854854854854855,
          0.48648648648648646,
          0.4874874874874875,
          0.48848848848848847,
          0.4894894894894895,
          0.4904904904904905,
          0.49149149149149146,
          0.4924924924924925,
          0.4934934934934935,
          0.4944944944944945,
          0.4954954954954955,
          0.4964964964964965,
          0.4974974974974975,
          0.4984984984984985,
          0.4994994994994995,
          0.5005005005005005,
          0.5015015015015015,
          0.5025025025025025,
          0.5035035035035035,
          0.5045045045045045,
          0.5055055055055055,
          0.5065065065065065,
          0.5075075075075075,
          0.5085085085085085,
          0.5095095095095095,
          0.5105105105105106,
          0.5115115115115115,
          0.5125125125125125,
          0.5135135135135135,
          0.5145145145145145,
          0.5155155155155156,
          0.5165165165165165,
          0.5175175175175175,
          0.5185185185185185,
          0.5195195195195195,
          0.5205205205205206,
          0.5215215215215215,
          0.5225225225225225,
          0.5235235235235235,
          0.5245245245245245,
          0.5255255255255256,
          0.5265265265265265,
          0.5275275275275275,
          0.5285285285285285,
          0.5295295295295295,
          0.5305305305305306,
          0.5315315315315315,
          0.5325325325325325,
          0.5335335335335335,
          0.5345345345345345,
          0.5355355355355356,
          0.5365365365365365,
          0.5375375375375375,
          0.5385385385385385,
          0.5395395395395395,
          0.5405405405405406,
          0.5415415415415415,
          0.5425425425425425,
          0.5435435435435435,
          0.5445445445445445,
          0.5455455455455456,
          0.5465465465465466,
          0.5475475475475475,
          0.5485485485485485,
          0.5495495495495496,
          0.5505505505505506,
          0.5515515515515516,
          0.5525525525525525,
          0.5535535535535535,
          0.5545545545545546,
          0.5555555555555556,
          0.5565565565565566,
          0.5575575575575575,
          0.5585585585585585,
          0.5595595595595596,
          0.5605605605605606,
          0.5615615615615616,
          0.5625625625625625,
          0.5635635635635635,
          0.5645645645645646,
          0.5655655655655656,
          0.5665665665665666,
          0.5675675675675675,
          0.5685685685685685,
          0.5695695695695696,
          0.5705705705705706,
          0.5715715715715716,
          0.5725725725725725,
          0.5735735735735735,
          0.5745745745745746,
          0.5755755755755756,
          0.5765765765765766,
          0.5775775775775776,
          0.5785785785785785,
          0.5795795795795796,
          0.5805805805805806,
          0.5815815815815816,
          0.5825825825825826,
          0.5835835835835835,
          0.5845845845845846,
          0.5855855855855856,
          0.5865865865865866,
          0.5875875875875876,
          0.5885885885885885,
          0.5895895895895896,
          0.5905905905905906,
          0.5915915915915916,
          0.5925925925925926,
          0.5935935935935935,
          0.5945945945945946,
          0.5955955955955956,
          0.5965965965965966,
          0.5975975975975976,
          0.5985985985985985,
          0.5995995995995996,
          0.6006006006006006,
          0.6016016016016016,
          0.6026026026026026,
          0.6036036036036035,
          0.6046046046046046,
          0.6056056056056056,
          0.6066066066066066,
          0.6076076076076076,
          0.6086086086086087,
          0.6096096096096096,
          0.6106106106106106,
          0.6116116116116116,
          0.6126126126126126,
          0.6136136136136137,
          0.6146146146146146,
          0.6156156156156156,
          0.6166166166166166,
          0.6176176176176176,
          0.6186186186186187,
          0.6196196196196196,
          0.6206206206206206,
          0.6216216216216216,
          0.6226226226226226,
          0.6236236236236237,
          0.6246246246246246,
          0.6256256256256256,
          0.6266266266266266,
          0.6276276276276276,
          0.6286286286286287,
          0.6296296296296297,
          0.6306306306306306,
          0.6316316316316316,
          0.6326326326326326,
          0.6336336336336337,
          0.6346346346346347,
          0.6356356356356356,
          0.6366366366366366,
          0.6376376376376376,
          0.6386386386386387,
          0.6396396396396397,
          0.6406406406406406,
          0.6416416416416416,
          0.6426426426426426,
          0.6436436436436437,
          0.6446446446446447,
          0.6456456456456456,
          0.6466466466466466,
          0.6476476476476476,
          0.6486486486486487,
          0.6496496496496497,
          0.6506506506506506,
          0.6516516516516516,
          0.6526526526526526,
          0.6536536536536537,
          0.6546546546546547,
          0.6556556556556556,
          0.6566566566566566,
          0.6576576576576576,
          0.6586586586586587,
          0.6596596596596597,
          0.6606606606606606,
          0.6616616616616616,
          0.6626626626626626,
          0.6636636636636637,
          0.6646646646646647,
          0.6656656656656657,
          0.6666666666666666,
          0.6676676676676676,
          0.6686686686686687,
          0.6696696696696697,
          0.6706706706706707,
          0.6716716716716716,
          0.6726726726726726,
          0.6736736736736737,
          0.6746746746746747,
          0.6756756756756757,
          0.6766766766766766,
          0.6776776776776777,
          0.6786786786786787,
          0.6796796796796797,
          0.6806806806806807,
          0.6816816816816816,
          0.6826826826826827,
          0.6836836836836837,
          0.6846846846846847,
          0.6856856856856857,
          0.6866866866866866,
          0.6876876876876877,
          0.6886886886886887,
          0.6896896896896897,
          0.6906906906906907,
          0.6916916916916916,
          0.6926926926926927,
          0.6936936936936937,
          0.6946946946946947,
          0.6956956956956957,
          0.6966966966966966,
          0.6976976976976977,
          0.6986986986986987,
          0.6996996996996997,
          0.7007007007007007,
          0.7017017017017017,
          0.7027027027027027,
          0.7037037037037037,
          0.7047047047047047,
          0.7057057057057057,
          0.7067067067067067,
          0.7077077077077077,
          0.7087087087087087,
          0.7097097097097097,
          0.7107107107107107,
          0.7117117117117117,
          0.7127127127127127,
          0.7137137137137137,
          0.7147147147147147,
          0.7157157157157157,
          0.7167167167167167,
          0.7177177177177178,
          0.7187187187187187,
          0.7197197197197197,
          0.7207207207207207,
          0.7217217217217217,
          0.7227227227227228,
          0.7237237237237237,
          0.7247247247247247,
          0.7257257257257257,
          0.7267267267267267,
          0.7277277277277278,
          0.7287287287287287,
          0.7297297297297297,
          0.7307307307307307,
          0.7317317317317317,
          0.7327327327327328,
          0.7337337337337337,
          0.7347347347347347,
          0.7357357357357357,
          0.7367367367367368,
          0.7377377377377378,
          0.7387387387387387,
          0.7397397397397397,
          0.7407407407407407,
          0.7417417417417418,
          0.7427427427427428,
          0.7437437437437437,
          0.7447447447447447,
          0.7457457457457457,
          0.7467467467467468,
          0.7477477477477478,
          0.7487487487487487,
          0.7497497497497497,
          0.7507507507507507,
          0.7517517517517518,
          0.7527527527527528,
          0.7537537537537538,
          0.7547547547547547,
          0.7557557557557557,
          0.7567567567567568,
          0.7577577577577578,
          0.7587587587587588,
          0.7597597597597597,
          0.7607607607607607,
          0.7617617617617618,
          0.7627627627627628,
          0.7637637637637638,
          0.7647647647647647,
          0.7657657657657657,
          0.7667667667667668,
          0.7677677677677678,
          0.7687687687687688,
          0.7697697697697697,
          0.7707707707707707,
          0.7717717717717718,
          0.7727727727727728,
          0.7737737737737738,
          0.7747747747747747,
          0.7757757757757757,
          0.7767767767767768,
          0.7777777777777778,
          0.7787787787787788,
          0.7797797797797797,
          0.7807807807807807,
          0.7817817817817818,
          0.7827827827827828,
          0.7837837837837838,
          0.7847847847847848,
          0.7857857857857857,
          0.7867867867867868,
          0.7877877877877878,
          0.7887887887887888,
          0.7897897897897898,
          0.7907907907907907,
          0.7917917917917918,
          0.7927927927927928,
          0.7937937937937938,
          0.7947947947947948,
          0.7957957957957957,
          0.7967967967967968,
          0.7977977977977978,
          0.7987987987987988,
          0.7997997997997998,
          0.8008008008008007,
          0.8018018018018018,
          0.8028028028028028,
          0.8038038038038038,
          0.8048048048048048,
          0.8058058058058059,
          0.8068068068068068,
          0.8078078078078078,
          0.8088088088088088,
          0.8098098098098098,
          0.8108108108108109,
          0.8118118118118118,
          0.8128128128128128,
          0.8138138138138138,
          0.8148148148148148,
          0.8158158158158159,
          0.8168168168168168,
          0.8178178178178178,
          0.8188188188188188,
          0.8198198198198198,
          0.8208208208208209,
          0.8218218218218218,
          0.8228228228228228,
          0.8238238238238238,
          0.8248248248248248,
          0.8258258258258259,
          0.8268268268268268,
          0.8278278278278278,
          0.8288288288288288,
          0.8298298298298298,
          0.8308308308308309,
          0.8318318318318318,
          0.8328328328328328,
          0.8338338338338338,
          0.8348348348348348,
          0.8358358358358359,
          0.8368368368368369,
          0.8378378378378378,
          0.8388388388388388,
          0.8398398398398398,
          0.8408408408408409,
          0.8418418418418419,
          0.8428428428428428,
          0.8438438438438438,
          0.8448448448448448,
          0.8458458458458459,
          0.8468468468468469,
          0.8478478478478478,
          0.8488488488488488,
          0.8498498498498498,
          0.8508508508508509,
          0.8518518518518519,
          0.8528528528528528,
          0.8538538538538538,
          0.8548548548548548,
          0.8558558558558559,
          0.8568568568568569,
          0.8578578578578578,
          0.8588588588588588,
          0.8598598598598598,
          0.8608608608608609,
          0.8618618618618619,
          0.8628628628628628,
          0.8638638638638638,
          0.8648648648648649,
          0.8658658658658659,
          0.8668668668668669,
          0.8678678678678678,
          0.8688688688688688,
          0.8698698698698699,
          0.8708708708708709,
          0.8718718718718719,
          0.8728728728728729,
          0.8738738738738738,
          0.8748748748748749,
          0.8758758758758759,
          0.8768768768768769,
          0.8778778778778779,
          0.8788788788788788,
          0.8798798798798799,
          0.8808808808808809,
          0.8818818818818819,
          0.8828828828828829,
          0.8838838838838838,
          0.8848848848848849,
          0.8858858858858859,
          0.8868868868868869,
          0.8878878878878879,
          0.8888888888888888,
          0.8898898898898899,
          0.8908908908908909,
          0.8918918918918919,
          0.8928928928928929,
          0.8938938938938938,
          0.8948948948948949,
          0.8958958958958959,
          0.8968968968968969,
          0.8978978978978979,
          0.8988988988988988,
          0.8998998998998999,
          0.9009009009009009,
          0.9019019019019019,
          0.9029029029029029,
          0.9039039039039038,
          0.9049049049049049,
          0.9059059059059059,
          0.9069069069069069,
          0.9079079079079079,
          0.9089089089089089,
          0.9099099099099099,
          0.9109109109109109,
          0.9119119119119119,
          0.9129129129129129,
          0.9139139139139139,
          0.914914914914915,
          0.9159159159159159,
          0.9169169169169169,
          0.9179179179179179,
          0.9189189189189189,
          0.91991991991992,
          0.9209209209209209,
          0.9219219219219219,
          0.9229229229229229,
          0.9239239239239239,
          0.924924924924925,
          0.9259259259259259,
          0.9269269269269269,
          0.9279279279279279,
          0.9289289289289289,
          0.92992992992993,
          0.9309309309309309,
          0.9319319319319319,
          0.9329329329329329,
          0.933933933933934,
          0.934934934934935,
          0.9359359359359359,
          0.9369369369369369,
          0.9379379379379379,
          0.938938938938939,
          0.93993993993994,
          0.9409409409409409,
          0.9419419419419419,
          0.9429429429429429,
          0.943943943943944,
          0.944944944944945,
          0.9459459459459459,
          0.9469469469469469,
          0.9479479479479479,
          0.948948948948949,
          0.94994994994995,
          0.950950950950951,
          0.9519519519519519,
          0.9529529529529529,
          0.953953953953954,
          0.954954954954955,
          0.955955955955956,
          0.9569569569569569,
          0.9579579579579579,
          0.958958958958959,
          0.95995995995996,
          0.960960960960961,
          0.9619619619619619,
          0.9629629629629629,
          0.963963963963964,
          0.964964964964965,
          0.965965965965966,
          0.9669669669669669,
          0.9679679679679679,
          0.968968968968969,
          0.96996996996997,
          0.970970970970971,
          0.9719719719719719,
          0.9729729729729729,
          0.973973973973974,
          0.974974974974975,
          0.975975975975976,
          0.9769769769769769,
          0.9779779779779779,
          0.978978978978979,
          0.97997997997998,
          0.980980980980981,
          0.9819819819819819,
          0.9829829829829829,
          0.983983983983984,
          0.984984984984985,
          0.985985985985986,
          0.986986986986987,
          0.9879879879879879,
          0.988988988988989,
          0.98998998998999,
          0.990990990990991,
          0.991991991991992,
          0.992992992992993,
          0.993993993993994,
          0.994994994994995,
          0.995995995995996,
          0.996996996996997,
          0.997997997997998,
          0.998998998998999,
          1
         ],
         "y": [
          7.175912623294056,
          7.182861827808644,
          7.18699654368662,
          7.1883151453373495,
          7.186819421196851,
          7.182514567266408,
          7.175409173731461,
          7.165515204702408,
          7.152847971143703,
          7.137426097069531,
          7.119271479108566,
          7.098409239555943,
          7.074867673052293,
          7.0486781870418165,
          7.019875236185855,
          6.988496250917359,
          6.954581560342525,
          6.918174309708928,
          6.8793203726736465,
          6.838068258619918,
          6.794469015279943,
          6.748576126936682,
          6.700445408486612,
          6.650134895653347,
          6.597704731653133,
          6.54321705062031,
          6.486735858105257,
          6.428326908964794,
          6.368057582969027,
          6.3059967584503065,
          6.242214684324796,
          6.176782850812959,
          6.10977385919328,
          6.041261290914855,
          5.971319576394344,
          5.900023863822818,
          5.82744988829966,
          5.753673841606911,
          5.678772242932137,
          5.602821810839747,
          5.525899336781168,
          5.448081560431056,
          5.369445047119556,
          5.290066067626191,
          5.210020480586889,
          5.129383617754899,
          5.048230172345634,
          4.9666340906782125,
          4.884668467319651,
          4.802405443917318,
          4.7199161118970165,
          4.637270419185247,
          4.554537081104124,
          4.4717834955656395,
          4.389075662687656,
          4.306478108927407,
          4.224053815822,
          4.141864153407212,
          4.059968818369526,
          3.978425776976025,
          3.897291212806539,
          3.816619479304489,
          3.7364630571431143,
          3.656872516394538,
          3.5778964834733897,
          3.499581612814616,
          3.4219725632331897,
          3.3451119789007353,
          3.269040474863604,
          3.1937966270150686,
          3.1194169664252493,
          3.045935977921545,
          2.973386102804332,
          2.901797745573821,
          2.831199284535688,
          2.761617086146699,
          2.693075522955911,
          2.6255969949878257,
          2.559201954413778,
          2.4939089333482465,
          2.429734574607235,
          2.3666936652595867,
          2.3047991728013733,
          2.2440622837809885,
          2.1844924447008887,
          2.1260974050224455,
          2.068883262098786,
          2.012854507862497,
          1.9580140770940453,
          1.904363397101424,
          1.8519024386397795,
          1.8006297679057603,
          1.7505425994419097,
          1.7016368497909151,
          1.6539071917433616,
          1.6073471090256717,
          1.5619489512816704,
          1.517703989202786,
          1.4746024696701612,
          1.4326336707754155,
          1.3917859565925252,
          1.3520468315794845,
          1.3134029944944237,
          1.275840391716239,
          1.2393442698664798,
          1.2038992276349922,
          1.1694892667191363,
          1.1360978417911678,
          1.1037079094160702,
          1.0723019758475378,
          1.0418621436368198,
          1.0123701569945898,
          0.983807445852693,
          0.9561551685783676,
          0.9293942532997317,
          0.9035054378066584,
          0.8784693079974017,
          0.8542663348461569,
          0.8308769098725598,
          0.8082813790991508,
          0.7864600754872261,
          0.7653933498473523,
          0.7450616002238165,
          0.7254452997581886,
          0.7065250230396349,
          0.6882814709550096,
          0.6706954940541776,
          0.6537481144497853,
          0.637420546274488,
          0.6216942147201076,
          0.6065507736876897,
          0.5919721220781757,
          0.5779404187569235,
          0.564438096226597,
          0.5514478730451154,
          0.538952765026617,
          0.5269360952650762,
          0.5153815030211792,
          0.5042729515141394,
          0.4935947346608433,
          0.48333148280549926,
          0.47346816748313303,
          0.4639901052607852,
          0.4548829607002281,
          0.446132748486192,
          0.43772583476349913,
          0.429648937726808,
          0.42188912750563595,
          0.4144338253872221,
          0.4072708024189205,
          0.40038817743116073,
          0.3937744145211486,
          0.3874183200365557,
          0.38130903909753766,
          0.375436051694206,
          0.36978916839579756,
          0.36435852570644556,
          0.3591345811012442,
          0.3541081077753487,
          0.349270189137134,
          0.3446122130755484,
          0.3401258660303048,
          0.33580312689223596,
          0.3316362607599086,
          0.32761781257719136,
          0.32374060067517,
          0.31999771024055146,
          0.3163824867313653,
          0.31288852925941113,
          0.3095096839578662,
          0.3062400373509453,
          0.30307390974159387,
          0.30000584863172,
          0.29703062218862697,
          0.2941432127699224,
          0.2913388105182989,
          0.28861280703642367,
          0.2859607891512356,
          0.2833785327759638,
          0.2808619968772113,
          0.27840731755367887,
          0.2760108022320994,
          0.2736689239853496,
          0.27137831597670353,
          0.269135766033739,
          0.26693821135450496,
          0.26478273334800084,
          0.2626665526105486,
          0.26058702403877626,
          0.2585416320797943,
          0.2565279861182724,
          0.2545438160000432,
          0.2525869676911467,
          0.25065539907103446,
          0.24874717585833095,
          0.24686046766702696,
          0.2449935441909728,
          0.2431447715141168,
          0.241312608543784,
          0.23949560356408267,
          0.23769239090634212,
          0.23590168773342612,
          0.23412229093452913,
          0.2323530741271041,
          0.23059298476237358,
          0.2288410413309523,
          0.22709633066492774,
          0.22535800533292244,
          0.2236252811244311,
          0.22189743462000966,
          0.2201738008436588,
          0.21845377099398827,
          0.21673679025073136,
          0.21502235565317376,
          0.21331001404732725,
          0.2115993600985339,
          0.20989003436646447,
          0.20818172143945085,
          0.20647414812531004,
          0.20476708169580266,
          0.2030603281820893,
          0.20135373071859897,
          0.19964716793291867,
          0.19794055237930636,
          0.19623382901370756,
          0.19452697370822075,
          0.19281999180296316,
          0.19111291669364083,
          0.1894058084530897,
          0.18769875248519807,
          0.18599185820970976,
          0.18428525777682414,
          0.18257910480989684,
          0.1808735731758082,
          0.17916885578126354,
          0.1774651633947362,
          0.175762723492976,
          0.17406177913136633,
          0.1723625878377717,
          0.170665420529061,
          0.16897056045004283,
          0.16727830213461553,
          0.16558895038839405,
          0.16390281929323597,
          0.16222023123297383,
          0.16054151594059143,
          0.15886700956670108,
          0.15719705376935034,
          0.15553199482535932,
          0.1538721827629958,
          0.1522179705164499,
          0.15056971310208817,
          0.14892776681678477,
          0.14729248845833,
          0.14566423456855748,
          0.14404336069900223,
          0.1424302206995243,
          0.14082516603026266,
          0.13922854509697913,
          0.1376407026100968,
          0.13606197896775155,
          0.1344927096629879,
          0.13293322471545863,
          0.13138384812760404,
          0.1298448973656963,
          0.12831668286590922,
          0.12679950756527758,
          0.1252936664581637,
          0.12379944617768593,
          0.12231712460283749,
          0.12084697049073918,
          0.11938924313435384,
          0.117944192045614,
          0.11651205666374753,
          0.11509306608884023,
          0.11368743884040132,
          0.11229538264087,
          0.11091709422376911,
          0.10955275916634487,
          0.10820255174637385,
          0.10686663482289104,
          0.10554515974046177,
          0.1042382662566954,
          0.10294608249254188,
          0.10166872490503799,
          0.10040629828198058,
          0.09915889575811598,
          0.09792659885230803,
          0.09670947752519896,
          0.09550759025680561,
          0.09432098414346946,
          0.09314969501364176,
          0.0919937475618251,
          0.09085315550012105,
          0.08972792172671444,
          0.08861803851070854,
          0.0875234876925267,
          0.08644424089945457,
          0.08538025977534677,
          0.08433149622410159,
          0.08329789266602448,
          0.08227938230656404,
          0.08127588941647478,
          0.08028732962305614,
          0.07931361021145912,
          0.07835463043561615,
          0.07741028183787645,
          0.07648044857696962,
          0.07556500776319718,
          0.07466382980063364,
          0.0737767787353357,
          0.07290371260900567,
          0.07204448381752594,
          0.07119893947359422,
          0.07036692177286241,
          0.06954826836305099,
          0.06874281271520333,
          0.06795038449672615,
          0.06717080994534791,
          0.06640391224365293,
          0.06564951189338361,
          0.0649074270891105,
          0.06417747409063661,
          0.06345946759353124,
          0.06275322109731488,
          0.06205854727081239,
          0.06137525831397917,
          0.06070316631581938,
          0.06004208360789686,
          0.059391823112865394,
          0.05875219868748832,
          0.05812302545989838,
          0.05750412016030084,
          0.056895301444927195,
          0.056296390212617724,
          0.05570720991365559,
          0.05512758685044047,
          0.05455735046945964,
          0.05399633364424821,
          0.0534443729488915,
          0.0529013089216107,
          0.052366986318107545,
          0.05184125435424291,
          0.05132396693765736,
          0.05081498288801574,
          0.050314166145450354,
          0.04982138596690243,
          0.04933651711002149,
          0.04885944000425775,
          0.0483900409088734,
          0.04792821205757777,
          0.047473851789441975,
          0.04702686466589518,
          0.0465871615734984,
          0.046154659812247464,
          0.04572928316922854,
          0.04531096197738749,
          0.04489963315920219,
          0.04449524025517491,
          0.04409773343687068,
          0.04370706950451488,
          0.04332321186895177,
          0.04294613051792382,
          0.042575801966629495,
          0.04221220919248348,
          0.04185534155414731,
          0.04150519469481651,
          0.04116177042982435,
          0.04082507661863688,
          0.04049512702141514,
          0.04017194114017879,
          0.039855544044886386,
          0.039545966184527256,
          0.03924324318349944,
          0.038947415623631826,
          0.03865852881198107,
          0.03837663253496729,
          0.03810178079899943,
          0.037834031558196805,
          0.03757344642951536,
          0.0373200903957841,
          0.03707403149723936,
          0.036835340511972944,
          0.036604090625957264,
          0.03638035709322903,
          0.03616421688687152,
          0.03595574834143493,
          0.03575503078751638,
          0.03556214417925625,
          0.035377168715395646,
          0.03520018445479339,
          0.03503127092713677,
          0.03487050673964975,
          0.03471796918071195,
          0.03457373382117436,
          0.03443787411430678,
          0.03431046099525276,
          0.03419156248089701,
          0.034081243271069823,
          0.03397956435201513,
          0.03388658260307128,
          0.03380235040749508,
          0.033726915268376303,
          0.03366031943059264,
          0.03360259950971441,
          0.03355378612889727,
          0.03351390356452492,
          0.03348296940172235,
          0.033460994200462287,
          0.03344798117330247,
          0.033443925875577235,
          0.0334488159088551,
          0.03346263063860119,
          0.03348534092677739,
          0.033516908880198364,
          0.033557287615408084,
          0.03360642104078866,
          0.03366424365658002,
          0.03373068037353604,
          0.03380564635075804,
          0.03388904685333164,
          0.03398077713031,
          0.03408072231351614,
          0.034188757337650116,
          0.034304746882072364,
          0.03442854533466122,
          0.03455999677802095,
          0.034698934998324375,
          0.034845183516986934,
          0.03499855564533448,
          0.035158854562364776,
          0.0353258734156581,
          0.035499395445426046,
          0.035679194131644706,
          0.03586503336415478,
          0.03605666763556324,
          0.03625384225671748,
          0.03645629359447668,
          0.03666374933144482,
          0.03687592874727767,
          0.03709254302112334,
          0.037313295554699685,
          0.037537882315467716,
          0.0377659921992966,
          0.03799730741198389,
          0.03823150386892557,
          0.038468251612205094,
          0.03870721524430696,
          0.038948054377630006,
          0.03919042409892693,
          0.039433975447759506,
          0.03967835590802199,
          0.039923209911548296,
          0.04016817935278526,
          0.04041290411348861,
          0.04065702259636264,
          0.040900172266545354,
          0.04114199019981531,
          0.041382113636377504,
          0.041620180539067075,
          0.041855830154796866,
          0.04208870357806426,
          0.04231844431532012,
          0.04254469884900326,
          0.042767117200037126,
          0.04298535348758816,
          0.043199066484888506,
          0.04340792016993286,
          0.04361158426986933,
          0.04380973479791716,
          0.04400205458166027,
          0.04418823378158417,
          0.04436797039874674,
          0.04454097077049799,
          0.044706950053191,
          0.04486563269085738,
          0.04501675286885462,
          0.0451600549515262,
          0.04529529390295718,
          0.04542223568994426,
          0.04554065766634783,
          0.04565034893803299,
          0.045751110707659234,
          0.04584275659862284,
          0.045925112957511345,
          0.045998019134478485,
          0.0460613277410053,
          0.04611490488456506,
          0.04615863037976947,
          0.046192397935630646,
          0.04621611531862748,
          0.04622970449133233,
          0.04623310172640426,
          0.04622625769582217,
          0.046209137535286014,
          0.04618172088377782,
          0.04614400189832989,
          0.04609598924411107,
          0.046037706059994826,
          0.045969189899836754,
          0.04589049264974032,
          0.045801680421646146,
          0.045702833423638255,
          0.045594045807405725,
          0.04547542549335646,
          0.0453470939739219,
          0.04520918609564534,
          0.045061849820682454,
          0.04490524596839455,
          0.04473954793774656,
          0.044564941411265234,
          0.044381624041343916,
          0.04418980511971263,
          0.0439897052309235,
          0.04378155589072503,
          0.043565599170221965,
          0.04334208730673882,
          0.043111282302320815,
          0.04287345551081879,
          0.042628887214516804,
          0.04237786619126715,
          0.04212068927310049,
          0.04185766089728184,
          0.04158909265077846,
          0.04131530280910188,
          0.04103661587047516,
          0.04075336208626906,
          0.04046587698863019,
          0.04017450091621294,
          0.03987957853890299,
          0.0395814583823975,
          0.03928049235348479,
          0.038977035266834874,
          0.03867144437408541,
          0.03836407889597398,
          0.0380552995582356,
          0.037745468131946326,
          0.03743494697896027,
          0.03712409860304669,
          0.036813285207294995,
          0.03650286825831564,
          0.036193208057724954,
          0.035884663321356654,
          0.03557759076660645,
          0.0352723447082694,
          0.03496927666319116,
          0.03466873496401115,
          0.03437106438223499,
          0.03407660576083481,
          0.03378569565653443,
          0.033498665991900614,
          0.033215843717323855,
          0.032937550482936236,
          0.0326641023204825,
          0.03239580933512629,
          0.03213297540714597,
          0.03187589790344489,
          0.031624867398778136,
          0.031380167406572394,
          0.031142074119196946,
          0.0309108561575256,
          0.030686774329613763,
          0.030470081398303102,
          0.03026102185755631,
          0.030059831717317947,
          0.029866738296692976,
          0.029681960025233323,
          0.029505706252125643,
          0.02933817706307564,
          0.0291795631046938,
          0.029030045416194843,
          0.028889795268237504,
          0.028758974008743846,
          0.02863773291555608,
          0.028526213055807888,
          0.02842454515190625,
          0.028332849454046148,
          0.028251235619203344,
          0.028179802596576844,
          0.028118638519481605,
          0.028067820603718336,
          0.028027415052480242,
          0.027997476967884086,
          0.027978050269245137,
          0.02796916761824602,
          0.027970850351180927,
          0.027983108418486724,
          0.02800594033180272,
          0.028039333118830875,
          0.028083262286295263,
          0.02813769179132782,
          0.02820257402163214,
          0.0282778497848013,
          0.02836344830718692,
          0.02845928724273679,
          0.028565272692235192,
          0.028681299233394724,
          0.028807249962259966,
          0.02894299654639226,
          0.029088399290310596,
          0.029243307213665363,
          0.02940755814262142,
          0.02958097881492171,
          0.029763384999094627,
          0.029954581628256496,
          0.03015436294894465,
          0.030362512685397844,
          0.03057880421967594,
          0.0308030007879862,
          0.03103485569355011,
          0.03127411253631271,
          0.03152050545975653,
          0.03177375941504165,
          0.032033590442648086,
          0.032299705971648614,
          0.03257180513668907,
          0.03284957911269839,
          0.033132711467294025,
          0.0334208785307893,
          0.03371374978364684,
          0.0340109882611595,
          0.03431225097507371,
          0.03461718935180393,
          0.03492544968681954,
          0.035236673614714685,
          0.035550498594404824,
          0.0358665584088219,
          0.03618448367841223,
          0.036503902387671205,
          0.03682444042388163,
          0.037145722127155535,
          0.037467370850813114,
          0.03778900953107024,
          0.038110261264943567,
          0.038430749895224436,
          0.03875010060131665,
          0.03906794049468013,
          0.039383899217574195,
          0.03969760954374858,
          0.04000870797968889,
          0.04031683536498694,
          0.040621637470373964,
          0.04092276559192739,
          0.04121987713993985,
          0.04151263622092212,
          0.04180071421120034,
          0.04208379032056127,
          0.04236155214440037,
          0.04263369620283234,
          0.04289992846523484,
          0.04315996485871519,
          0.04341353175901121,
          0.04366036646236838,
          0.04390021763696973,
          0.044132845752536363,
          0.04435802348676337,
          0.044575536107308134,
          0.044785181828106084,
          0.04498677213885219,
          0.045180132106554735,
          0.04536510064814163,
          0.045541530773176464,
          0.04570928979582472,
          0.04586825951529646,
          0.04601833636408171,
          0.04615943152338895,
          0.04629147100529276,
          0.046414395701197514,
          0.046528161396323604,
          0.04663273875002877,
          0.04672811324188028,
          0.04681428508350116,
          0.04689126909632027,
          0.04695909455546398,
          0.04701780500013343,
          0.04706745801091911,
          0.04710812495460957,
          0.047139890697155074,
          0.04716285328555083,
          0.0471771235995027,
          0.04718282497383753,
          0.04718009279271427,
          0.04716907405678202,
          0.047149926924521114,
          0.04712282022908351,
          0.047087932972030025,
          0.047045453795433984,
          0.046995580433891425,
          0.04693851914804001,
          0.046874484141248035,
          0.046803696961185914,
          0.04672638588803954,
          0.046642785311164454,
          0.04655313509601292,
          0.04645767994319337,
          0.0463566687415433,
          0.046250353917107856,
          0.04613899077992671,
          0.04602283687053004,
          0.045902151308039506,
          0.045777194141756745,
          0.04564822570810326,
          0.04551550599474887,
          0.045379294013735014,
          0.0452398471853598,
          0.045097420734548116,
          0.044952267101380436,
          0.04480463536739692,
          0.04465477069923422,
          0.04450291381108485,
          0.044349300447399466,
          0.04419416088717562,
          0.0440377194710985,
          0.043880194152714824,
          0.04372179607473431,
          0.04356272917146382,
          0.04340318979828473,
          0.04324336638899167,
          0.04308343914170984,
          0.042923579734012146,
          0.04276395106775571,
          0.04260470704405599,
          0.042445992368715546,
          0.042287942388322786,
          0.042130682957133014,
          0.041974330334745166,
          0.04181899111448587,
          0.04166476218231457,
          0.041511730705965935,
          0.041359974153951394,
          0.041209560343948244,
          0.041060547520015055,
          0.04091298445798522,
          0.040766910598306366,
          0.040622356205512494,
          0.040479342553440455,
          0.040337882135228015,
          0.04019797889706389,
          0.04005962849459406,
          0.03992281857083161,
          0.03978752905436004,
          0.03965373247657139,
          0.0395213943066349,
          0.039390473302851975,
          0.03926092187901777,
          0.03913268648438096,
          0.03900570799576699,
          0.03887992212041194,
          0.038755259808039254,
          0.03863164767070253,
          0.03850900840891311,
          0.03838726124257323,
          0.03826632234523992,
          0.03814610528025677,
          0.038026521437306185,
          0.03790748046795379,
          0.037788890718782484,
          0.03767065966074203,
          0.037552694313372804,
          0.03743490166259997,
          0.03731718907083451,
          0.03719946467816217,
          0.03708163779344902,
          0.03696361927424303,
          0.03684532189440477,
          0.03672666069845688,
          0.036607553341700065,
          0.03648792041520601,
          0.03636768575485814,
          0.03624677673367815,
          0.0361251245367406,
          0.036002664418046754,
          0.03587933593879522,
          0.035755083186557936,
          0.03562985497493845,
          0.035503605023359176,
          0.03537629211669462,
          0.03524788024453684,
          0.035118338719948114,
          0.03498764227762531,
          0.03485577115146667,
          0.034722711131599256,
          0.03458845360099048,
          0.03445299555182973,
          0.0343163395819302,
          0.034178493871459416,
          0.034039472140366706,
          0.033899293586931264,
          0.03375798280790853,
          0.033615569700804544,
          0.0334720893488568,
          0.03332758188934579,
          0.033182092365906385,
          0.033035670565547806,
          0.03288837084112977,
          0.03274025192007658,
          0.032591376700143254,
          0.032441812033077,
          0.032291628497041855,
          0.03214090015869813,
          0.03198970432584711,
          0.03183812129156765,
          0.03168623407078476,
          0.03153412813021949,
          0.03138189111267736,
          0.031229612556634947,
          0.031077383612086385,
          0.030925296753607372,
          0.030773445491591372,
          0.03062192408260178,
          0.030470827239775823,
          0.03032024984419956,
          0.030170286658159254,
          0.030021032041154166,
          0.029872579669535562,
          0.0297250222606122,
          0.02957845130203796,
          0.029432956787268358,
          0.029288626957843775,
          0.029145548053225005,
          0.029003804068873765,
          0.028863476523235686,
          0.02872464423424729,
          0.028587383105950204,
          0.02845176592575818,
          0.02831786217288151,
          0.02818573783837352,
          0.02805545525722225,
          0.027927072952868615,
          0.027800645494489625,
          0.02767622336734283,
          0.027553852856425202,
          0.02743357594365667,
          0.027315430218756178,
          0.027199448803934916,
          0.02708566029248979,
          0.026974088701338318,
          0.026864753437495108,
          0.026757669278449532,
          0.02665284636636541,
          0.026550290215983794,
          0.026450001736073998,
          0.026351977264240087,
          0.02625620861485599,
          0.026162683139868616,
          0.02607138380217483,
          0.02598228926124863,
          0.025895373970664402,
          0.025810608287134756,
          0.025727958590654756,
          0.025647387415320518,
          0.025568853590366526,
          0.02549231239094489,
          0.025417715698151284,
          0.025345012167783166,
          0.025274147407301453,
          0.02520506416045159,
          0.02513770249898801,
          0.025072000020935722,
          0.025007892054812967,
          0.024945311869232566,
          0.024884190887293288,
          0.024824458905169294,
          0.02476604431430295,
          0.02470887432660539,
          0.024652875202070653,
          0.024597972478210106,
          0.024544091200718984,
          0.024491156154789653,
          0.024439092096494582,
          0.024387823983667213,
          0.024337277205718398,
          0.024287377811835452,
          0.024238052737020725,
          0.02418923002543831,
          0.024140839050549534,
          0.024092810731530644,
          0.024045077745479926,
          0.02399757473493539,
          0.023950238510239214,
          0.023903008246300164,
          0.023855825673321066,
          0.02380863526107439,
          0.02376138439632543,
          0.023714023553019176,
          0.023666506454863814,
          0.023618790229960798,
          0.023570835557148957,
          0.02352260680374648,
          0.02347407215439313,
          0.02342520373071119,
          0.023375977701521746,
          0.02332637438337012,
          0.023276378331131182,
          0.023225978418483076,
          0.023175167908054517,
          0.023123944511068598,
          0.02307231043632264,
          0.023020272428360956,
          0.022967841794714436,
          0.022915034422097854,
          0.022861870781472744,
          0.02280837592190089,
          0.02275457945313057,
          0.022700515516874565,
          0.022646222746756574,
          0.022591744216919646,
          0.022537127379308183,
          0.022482423989652025,
          0.02242769002219979,
          0.02237298557326605,
          0.02231837475367539,
          0.022263925570205352,
          0.02220970979614834,
          0.022155802831132575,
          0.02210228355036089,
          0.022049234143446457,
          0.021996739943044602,
          0.021944889243499924,
          0.02189377310974937,
          0.021843485176742772,
          0.021794121439663396,
          0.021745780035253848,
          0.021698561014573788,
          0.021652566107538587,
          0.021607898479610723,
          0.021564662481038277,
          0.02152296338905783,
          0.021482907143501734,
          0.021444600076273176,
          0.02140814863517489,
          0.02137365910260045,
          0.021341237309619437,
          0.021310988346010477,
          0.021283016266817497,
          0.021257423796026718,
          0.02123431202798221,
          0.021213780127178505,
          0.021195925027088103,
          0.021180841128700282,
          0.021168619999465246,
          0.02115935007335434,
          0.021153116352762,
          0.021150000112989446,
          0.02115007861006215,
          0.021153424792644614,
          0.021160107018824596,
          0.021170188778546796,
          0.021183728422481417,
          0.021200778898116255,
          0.021221387493862827,
          0.02124559559196565,
          0.021273438431001164,
          0.02130494487874686,
          0.021340137216193215,
          0.02137903093346084,
          0.02142163453837149,
          0.021467949378406303,
          0.021517969476766055,
          0.021571681383226526,
          0.021629064040459,
          0.021690088666458347,
          0.021754718653692346,
          0.02182290948555328,
          0.021894608670658358,
          0.02196975569550789,
          0.022048281995969705,
          0.02213011094801642,
          0.022215157878096237,
          0.022303330093471265,
          0.022394526932807166,
          0.022488639837246523,
          0.022585552442144323,
          0.022685140689588476,
          0.02278727296177099,
          0.022891810235216612,
          0.02299860625581565,
          0.023107507734546454,
          0.02321835456371075,
          0.023330980053442175,
          0.02344521118818517,
          0.023560868902776963,
          0.02367776837770245,
          0.023795719353027624,
          0.023914526460454177,
          0.02403398957287549,
          0.024153904170752423,
          0.02427406172456695,
          0.024394250092552843,
          0.024514253932844468,
          0.024633855129130487,
          0.02475283322884436,
          0.024870965892873756,
          0.024988029355721593,
          0.025103798895006652,
          0.025218049309147932,
          0.025330555402038844,
          0.025441092473479927,
          0.025549436814107686,
          0.025655366203527364
         ]
        }
       ],
       "layout": {
        "template": {
         "data": {
          "bar": [
           {
            "error_x": {
             "color": "#2a3f5f"
            },
            "error_y": {
             "color": "#2a3f5f"
            },
            "marker": {
             "line": {
              "color": "#E5ECF6",
              "width": 0.5
             }
            },
            "type": "bar"
           }
          ],
          "barpolar": [
           {
            "marker": {
             "line": {
              "color": "#E5ECF6",
              "width": 0.5
             }
            },
            "type": "barpolar"
           }
          ],
          "carpet": [
           {
            "aaxis": {
             "endlinecolor": "#2a3f5f",
             "gridcolor": "white",
             "linecolor": "white",
             "minorgridcolor": "white",
             "startlinecolor": "#2a3f5f"
            },
            "baxis": {
             "endlinecolor": "#2a3f5f",
             "gridcolor": "white",
             "linecolor": "white",
             "minorgridcolor": "white",
             "startlinecolor": "#2a3f5f"
            },
            "type": "carpet"
           }
          ],
          "choropleth": [
           {
            "colorbar": {
             "outlinewidth": 0,
             "ticks": ""
            },
            "type": "choropleth"
           }
          ],
          "contour": [
           {
            "colorbar": {
             "outlinewidth": 0,
             "ticks": ""
            },
            "colorscale": [
             [
              0,
              "#0d0887"
             ],
             [
              0.1111111111111111,
              "#46039f"
             ],
             [
              0.2222222222222222,
              "#7201a8"
             ],
             [
              0.3333333333333333,
              "#9c179e"
             ],
             [
              0.4444444444444444,
              "#bd3786"
             ],
             [
              0.5555555555555556,
              "#d8576b"
             ],
             [
              0.6666666666666666,
              "#ed7953"
             ],
             [
              0.7777777777777778,
              "#fb9f3a"
             ],
             [
              0.8888888888888888,
              "#fdca26"
             ],
             [
              1,
              "#f0f921"
             ]
            ],
            "type": "contour"
           }
          ],
          "contourcarpet": [
           {
            "colorbar": {
             "outlinewidth": 0,
             "ticks": ""
            },
            "type": "contourcarpet"
           }
          ],
          "heatmap": [
           {
            "colorbar": {
             "outlinewidth": 0,
             "ticks": ""
            },
            "colorscale": [
             [
              0,
              "#0d0887"
             ],
             [
              0.1111111111111111,
              "#46039f"
             ],
             [
              0.2222222222222222,
              "#7201a8"
             ],
             [
              0.3333333333333333,
              "#9c179e"
             ],
             [
              0.4444444444444444,
              "#bd3786"
             ],
             [
              0.5555555555555556,
              "#d8576b"
             ],
             [
              0.6666666666666666,
              "#ed7953"
             ],
             [
              0.7777777777777778,
              "#fb9f3a"
             ],
             [
              0.8888888888888888,
              "#fdca26"
             ],
             [
              1,
              "#f0f921"
             ]
            ],
            "type": "heatmap"
           }
          ],
          "heatmapgl": [
           {
            "colorbar": {
             "outlinewidth": 0,
             "ticks": ""
            },
            "colorscale": [
             [
              0,
              "#0d0887"
             ],
             [
              0.1111111111111111,
              "#46039f"
             ],
             [
              0.2222222222222222,
              "#7201a8"
             ],
             [
              0.3333333333333333,
              "#9c179e"
             ],
             [
              0.4444444444444444,
              "#bd3786"
             ],
             [
              0.5555555555555556,
              "#d8576b"
             ],
             [
              0.6666666666666666,
              "#ed7953"
             ],
             [
              0.7777777777777778,
              "#fb9f3a"
             ],
             [
              0.8888888888888888,
              "#fdca26"
             ],
             [
              1,
              "#f0f921"
             ]
            ],
            "type": "heatmapgl"
           }
          ],
          "histogram": [
           {
            "marker": {
             "colorbar": {
              "outlinewidth": 0,
              "ticks": ""
             }
            },
            "type": "histogram"
           }
          ],
          "histogram2d": [
           {
            "colorbar": {
             "outlinewidth": 0,
             "ticks": ""
            },
            "colorscale": [
             [
              0,
              "#0d0887"
             ],
             [
              0.1111111111111111,
              "#46039f"
             ],
             [
              0.2222222222222222,
              "#7201a8"
             ],
             [
              0.3333333333333333,
              "#9c179e"
             ],
             [
              0.4444444444444444,
              "#bd3786"
             ],
             [
              0.5555555555555556,
              "#d8576b"
             ],
             [
              0.6666666666666666,
              "#ed7953"
             ],
             [
              0.7777777777777778,
              "#fb9f3a"
             ],
             [
              0.8888888888888888,
              "#fdca26"
             ],
             [
              1,
              "#f0f921"
             ]
            ],
            "type": "histogram2d"
           }
          ],
          "histogram2dcontour": [
           {
            "colorbar": {
             "outlinewidth": 0,
             "ticks": ""
            },
            "colorscale": [
             [
              0,
              "#0d0887"
             ],
             [
              0.1111111111111111,
              "#46039f"
             ],
             [
              0.2222222222222222,
              "#7201a8"
             ],
             [
              0.3333333333333333,
              "#9c179e"
             ],
             [
              0.4444444444444444,
              "#bd3786"
             ],
             [
              0.5555555555555556,
              "#d8576b"
             ],
             [
              0.6666666666666666,
              "#ed7953"
             ],
             [
              0.7777777777777778,
              "#fb9f3a"
             ],
             [
              0.8888888888888888,
              "#fdca26"
             ],
             [
              1,
              "#f0f921"
             ]
            ],
            "type": "histogram2dcontour"
           }
          ],
          "mesh3d": [
           {
            "colorbar": {
             "outlinewidth": 0,
             "ticks": ""
            },
            "type": "mesh3d"
           }
          ],
          "parcoords": [
           {
            "line": {
             "colorbar": {
              "outlinewidth": 0,
              "ticks": ""
             }
            },
            "type": "parcoords"
           }
          ],
          "pie": [
           {
            "automargin": true,
            "type": "pie"
           }
          ],
          "scatter": [
           {
            "marker": {
             "colorbar": {
              "outlinewidth": 0,
              "ticks": ""
             }
            },
            "type": "scatter"
           }
          ],
          "scatter3d": [
           {
            "line": {
             "colorbar": {
              "outlinewidth": 0,
              "ticks": ""
             }
            },
            "marker": {
             "colorbar": {
              "outlinewidth": 0,
              "ticks": ""
             }
            },
            "type": "scatter3d"
           }
          ],
          "scattercarpet": [
           {
            "marker": {
             "colorbar": {
              "outlinewidth": 0,
              "ticks": ""
             }
            },
            "type": "scattercarpet"
           }
          ],
          "scattergeo": [
           {
            "marker": {
             "colorbar": {
              "outlinewidth": 0,
              "ticks": ""
             }
            },
            "type": "scattergeo"
           }
          ],
          "scattergl": [
           {
            "marker": {
             "colorbar": {
              "outlinewidth": 0,
              "ticks": ""
             }
            },
            "type": "scattergl"
           }
          ],
          "scattermapbox": [
           {
            "marker": {
             "colorbar": {
              "outlinewidth": 0,
              "ticks": ""
             }
            },
            "type": "scattermapbox"
           }
          ],
          "scatterpolar": [
           {
            "marker": {
             "colorbar": {
              "outlinewidth": 0,
              "ticks": ""
             }
            },
            "type": "scatterpolar"
           }
          ],
          "scatterpolargl": [
           {
            "marker": {
             "colorbar": {
              "outlinewidth": 0,
              "ticks": ""
             }
            },
            "type": "scatterpolargl"
           }
          ],
          "scatterternary": [
           {
            "marker": {
             "colorbar": {
              "outlinewidth": 0,
              "ticks": ""
             }
            },
            "type": "scatterternary"
           }
          ],
          "surface": [
           {
            "colorbar": {
             "outlinewidth": 0,
             "ticks": ""
            },
            "colorscale": [
             [
              0,
              "#0d0887"
             ],
             [
              0.1111111111111111,
              "#46039f"
             ],
             [
              0.2222222222222222,
              "#7201a8"
             ],
             [
              0.3333333333333333,
              "#9c179e"
             ],
             [
              0.4444444444444444,
              "#bd3786"
             ],
             [
              0.5555555555555556,
              "#d8576b"
             ],
             [
              0.6666666666666666,
              "#ed7953"
             ],
             [
              0.7777777777777778,
              "#fb9f3a"
             ],
             [
              0.8888888888888888,
              "#fdca26"
             ],
             [
              1,
              "#f0f921"
             ]
            ],
            "type": "surface"
           }
          ],
          "table": [
           {
            "cells": {
             "fill": {
              "color": "#EBF0F8"
             },
             "line": {
              "color": "white"
             }
            },
            "header": {
             "fill": {
              "color": "#C8D4E3"
             },
             "line": {
              "color": "white"
             }
            },
            "type": "table"
           }
          ]
         },
         "layout": {
          "annotationdefaults": {
           "arrowcolor": "#2a3f5f",
           "arrowhead": 0,
           "arrowwidth": 1
          },
          "coloraxis": {
           "colorbar": {
            "outlinewidth": 0,
            "ticks": ""
           }
          },
          "colorscale": {
           "diverging": [
            [
             0,
             "#8e0152"
            ],
            [
             0.1,
             "#c51b7d"
            ],
            [
             0.2,
             "#de77ae"
            ],
            [
             0.3,
             "#f1b6da"
            ],
            [
             0.4,
             "#fde0ef"
            ],
            [
             0.5,
             "#f7f7f7"
            ],
            [
             0.6,
             "#e6f5d0"
            ],
            [
             0.7,
             "#b8e186"
            ],
            [
             0.8,
             "#7fbc41"
            ],
            [
             0.9,
             "#4d9221"
            ],
            [
             1,
             "#276419"
            ]
           ],
           "sequential": [
            [
             0,
             "#0d0887"
            ],
            [
             0.1111111111111111,
             "#46039f"
            ],
            [
             0.2222222222222222,
             "#7201a8"
            ],
            [
             0.3333333333333333,
             "#9c179e"
            ],
            [
             0.4444444444444444,
             "#bd3786"
            ],
            [
             0.5555555555555556,
             "#d8576b"
            ],
            [
             0.6666666666666666,
             "#ed7953"
            ],
            [
             0.7777777777777778,
             "#fb9f3a"
            ],
            [
             0.8888888888888888,
             "#fdca26"
            ],
            [
             1,
             "#f0f921"
            ]
           ],
           "sequentialminus": [
            [
             0,
             "#0d0887"
            ],
            [
             0.1111111111111111,
             "#46039f"
            ],
            [
             0.2222222222222222,
             "#7201a8"
            ],
            [
             0.3333333333333333,
             "#9c179e"
            ],
            [
             0.4444444444444444,
             "#bd3786"
            ],
            [
             0.5555555555555556,
             "#d8576b"
            ],
            [
             0.6666666666666666,
             "#ed7953"
            ],
            [
             0.7777777777777778,
             "#fb9f3a"
            ],
            [
             0.8888888888888888,
             "#fdca26"
            ],
            [
             1,
             "#f0f921"
            ]
           ]
          },
          "colorway": [
           "#636efa",
           "#EF553B",
           "#00cc96",
           "#ab63fa",
           "#FFA15A",
           "#19d3f3",
           "#FF6692",
           "#B6E880",
           "#FF97FF",
           "#FECB52"
          ],
          "font": {
           "color": "#2a3f5f"
          },
          "geo": {
           "bgcolor": "white",
           "lakecolor": "white",
           "landcolor": "#E5ECF6",
           "showlakes": true,
           "showland": true,
           "subunitcolor": "white"
          },
          "hoverlabel": {
           "align": "left"
          },
          "hovermode": "closest",
          "mapbox": {
           "style": "light"
          },
          "paper_bgcolor": "white",
          "plot_bgcolor": "#E5ECF6",
          "polar": {
           "angularaxis": {
            "gridcolor": "white",
            "linecolor": "white",
            "ticks": ""
           },
           "bgcolor": "#E5ECF6",
           "radialaxis": {
            "gridcolor": "white",
            "linecolor": "white",
            "ticks": ""
           }
          },
          "scene": {
           "xaxis": {
            "backgroundcolor": "#E5ECF6",
            "gridcolor": "white",
            "gridwidth": 2,
            "linecolor": "white",
            "showbackground": true,
            "ticks": "",
            "zerolinecolor": "white"
           },
           "yaxis": {
            "backgroundcolor": "#E5ECF6",
            "gridcolor": "white",
            "gridwidth": 2,
            "linecolor": "white",
            "showbackground": true,
            "ticks": "",
            "zerolinecolor": "white"
           },
           "zaxis": {
            "backgroundcolor": "#E5ECF6",
            "gridcolor": "white",
            "gridwidth": 2,
            "linecolor": "white",
            "showbackground": true,
            "ticks": "",
            "zerolinecolor": "white"
           }
          },
          "shapedefaults": {
           "line": {
            "color": "#2a3f5f"
           }
          },
          "ternary": {
           "aaxis": {
            "gridcolor": "white",
            "linecolor": "white",
            "ticks": ""
           },
           "baxis": {
            "gridcolor": "white",
            "linecolor": "white",
            "ticks": ""
           },
           "bgcolor": "#E5ECF6",
           "caxis": {
            "gridcolor": "white",
            "linecolor": "white",
            "ticks": ""
           }
          },
          "title": {
           "x": 0.05
          },
          "xaxis": {
           "automargin": true,
           "gridcolor": "white",
           "linecolor": "white",
           "ticks": "",
           "title": {
            "standoff": 15
           },
           "zerolinecolor": "white",
           "zerolinewidth": 2
          },
          "yaxis": {
           "automargin": true,
           "gridcolor": "white",
           "linecolor": "white",
           "ticks": "",
           "title": {
            "standoff": 15
           },
           "zerolinecolor": "white",
           "zerolinewidth": 2
          }
         }
        }
       }
      },
      "text/html": [
       "<div>\n",
       "        \n",
       "        \n",
       "            <div id=\"f371d56d-92b7-4230-8777-1cb9596d310b\" class=\"plotly-graph-div\" style=\"height:525px; width:100%;\"></div>\n",
       "            <script type=\"text/javascript\">\n",
       "                require([\"plotly\"], function(Plotly) {\n",
       "                    window.PLOTLYENV=window.PLOTLYENV || {};\n",
       "                    \n",
       "                if (document.getElementById(\"f371d56d-92b7-4230-8777-1cb9596d310b\")) {\n",
       "                    Plotly.newPlot(\n",
       "                        'f371d56d-92b7-4230-8777-1cb9596d310b',\n",
       "                        [{\"fill\": \"tozeroy\", \"line\": {\"color\": \"blue\", \"width\": 2}, \"mode\": \"lines\", \"type\": \"scatter\", \"x\": [0.0, 0.001001001001001001, 0.002002002002002002, 0.003003003003003003, 0.004004004004004004, 0.005005005005005005, 0.006006006006006006, 0.007007007007007007, 0.008008008008008008, 0.009009009009009009, 0.01001001001001001, 0.011011011011011011, 0.012012012012012012, 0.013013013013013013, 0.014014014014014014, 0.015015015015015015, 0.016016016016016016, 0.017017017017017015, 0.018018018018018018, 0.01901901901901902, 0.02002002002002002, 0.02102102102102102, 0.022022022022022022, 0.023023023023023025, 0.024024024024024024, 0.025025025025025023, 0.026026026026026026, 0.02702702702702703, 0.028028028028028028, 0.029029029029029027, 0.03003003003003003, 0.031031031031031032, 0.03203203203203203, 0.03303303303303303, 0.03403403403403403, 0.035035035035035036, 0.036036036036036036, 0.037037037037037035, 0.03803803803803804, 0.03903903903903904, 0.04004004004004004, 0.04104104104104104, 0.04204204204204204, 0.043043043043043044, 0.044044044044044044, 0.04504504504504504, 0.04604604604604605, 0.04704704704704705, 0.04804804804804805, 0.04904904904904905, 0.050050050050050046, 0.05105105105105105, 0.05205205205205205, 0.05305305305305305, 0.05405405405405406, 0.055055055055055056, 0.056056056056056056, 0.057057057057057055, 0.058058058058058054, 0.05905905905905906, 0.06006006006006006, 0.06106106106106106, 0.062062062062062065, 0.06306306306306306, 0.06406406406406406, 0.06506506506506507, 0.06606606606606606, 0.06706706706706707, 0.06806806806806806, 0.06906906906906907, 0.07007007007007007, 0.07107107107107107, 0.07207207207207207, 0.07307307307307308, 0.07407407407407407, 0.07507507507507508, 0.07607607607607608, 0.07707707707707707, 0.07807807807807808, 0.07907907907907907, 0.08008008008008008, 0.08108108108108109, 0.08208208208208208, 0.08308308308308308, 0.08408408408408408, 0.08508508508508508, 0.08608608608608609, 0.08708708708708708, 0.08808808808808809, 0.0890890890890891, 0.09009009009009009, 0.09109109109109109, 0.0920920920920921, 0.09309309309309309, 0.0940940940940941, 0.09509509509509509, 0.0960960960960961, 0.0970970970970971, 0.0980980980980981, 0.0990990990990991, 0.10010010010010009, 0.1011011011011011, 0.1021021021021021, 0.1031031031031031, 0.1041041041041041, 0.10510510510510511, 0.1061061061061061, 0.10710710710710711, 0.10810810810810811, 0.1091091091091091, 0.11011011011011011, 0.1111111111111111, 0.11211211211211211, 0.11311311311311312, 0.11411411411411411, 0.11511511511511512, 0.11611611611611611, 0.11711711711711711, 0.11811811811811812, 0.11911911911911911, 0.12012012012012012, 0.12112112112112113, 0.12212212212212212, 0.12312312312312312, 0.12412412412412413, 0.12512512512512514, 0.12612612612612611, 0.12712712712712712, 0.12812812812812813, 0.12912912912912913, 0.13013013013013014, 0.13113113113113112, 0.13213213213213212, 0.13313313313313313, 0.13413413413413414, 0.13513513513513514, 0.13613613613613612, 0.13713713713713713, 0.13813813813813813, 0.13913913913913914, 0.14014014014014015, 0.14114114114114115, 0.14214214214214213, 0.14314314314314314, 0.14414414414414414, 0.14514514514514515, 0.14614614614614616, 0.14714714714714713, 0.14814814814814814, 0.14914914914914915, 0.15015015015015015, 0.15115115115115116, 0.15215215215215216, 0.15315315315315314, 0.15415415415415415, 0.15515515515515516, 0.15615615615615616, 0.15715715715715717, 0.15815815815815815, 0.15915915915915915, 0.16016016016016016, 0.16116116116116116, 0.16216216216216217, 0.16316316316316315, 0.16416416416416416, 0.16516516516516516, 0.16616616616616617, 0.16716716716716717, 0.16816816816816815, 0.16916916916916916, 0.17017017017017017, 0.17117117117117117, 0.17217217217217218, 0.17317317317317318, 0.17417417417417416, 0.17517517517517517, 0.17617617617617617, 0.17717717717717718, 0.1781781781781782, 0.17917917917917917, 0.18018018018018017, 0.18118118118118118, 0.18218218218218218, 0.1831831831831832, 0.1841841841841842, 0.18518518518518517, 0.18618618618618618, 0.1871871871871872, 0.1881881881881882, 0.1891891891891892, 0.19019019019019018, 0.19119119119119118, 0.1921921921921922, 0.1931931931931932, 0.1941941941941942, 0.19519519519519518, 0.1961961961961962, 0.1971971971971972, 0.1981981981981982, 0.1991991991991992, 0.20020020020020018, 0.2012012012012012, 0.2022022022022022, 0.2032032032032032, 0.2042042042042042, 0.20520520520520522, 0.2062062062062062, 0.2072072072072072, 0.2082082082082082, 0.2092092092092092, 0.21021021021021022, 0.2112112112112112, 0.2122122122122122, 0.2132132132132132, 0.21421421421421422, 0.21521521521521522, 0.21621621621621623, 0.2172172172172172, 0.2182182182182182, 0.21921921921921922, 0.22022022022022023, 0.22122122122122123, 0.2222222222222222, 0.22322322322322322, 0.22422422422422422, 0.22522522522522523, 0.22622622622622623, 0.2272272272272272, 0.22822822822822822, 0.22922922922922923, 0.23023023023023023, 0.23123123123123124, 0.23223223223223222, 0.23323323323323322, 0.23423423423423423, 0.23523523523523523, 0.23623623623623624, 0.23723723723723725, 0.23823823823823823, 0.23923923923923923, 0.24024024024024024, 0.24124124124124124, 0.24224224224224225, 0.24324324324324323, 0.24424424424424424, 0.24524524524524524, 0.24624624624624625, 0.24724724724724725, 0.24824824824824826, 0.24924924924924924, 0.2502502502502503, 0.25125125125125125, 0.25225225225225223, 0.25325325325325326, 0.25425425425425424, 0.2552552552552553, 0.25625625625625625, 0.25725725725725723, 0.25825825825825827, 0.25925925925925924, 0.2602602602602603, 0.26126126126126126, 0.26226226226226224, 0.26326326326326327, 0.26426426426426425, 0.2652652652652653, 0.26626626626626626, 0.26726726726726724, 0.2682682682682683, 0.26926926926926925, 0.2702702702702703, 0.27127127127127126, 0.27227227227227224, 0.2732732732732733, 0.27427427427427425, 0.2752752752752753, 0.27627627627627627, 0.2772772772772773, 0.2782782782782783, 0.27927927927927926, 0.2802802802802803, 0.28128128128128127, 0.2822822822822823, 0.2832832832832833, 0.28428428428428426, 0.2852852852852853, 0.2862862862862863, 0.2872872872872873, 0.2882882882882883, 0.28928928928928926, 0.2902902902902903, 0.2912912912912913, 0.2922922922922923, 0.2932932932932933, 0.29429429429429427, 0.2952952952952953, 0.2962962962962963, 0.2972972972972973, 0.2982982982982983, 0.29929929929929927, 0.3003003003003003, 0.3013013013013013, 0.3023023023023023, 0.3033033033033033, 0.30430430430430433, 0.3053053053053053, 0.3063063063063063, 0.3073073073073073, 0.3083083083083083, 0.30930930930930933, 0.3103103103103103, 0.3113113113113113, 0.3123123123123123, 0.3133133133133133, 0.31431431431431434, 0.3153153153153153, 0.3163163163163163, 0.3173173173173173, 0.3183183183183183, 0.31931931931931934, 0.3203203203203203, 0.3213213213213213, 0.32232232232232233, 0.3233233233233233, 0.32432432432432434, 0.3253253253253253, 0.3263263263263263, 0.32732732732732733, 0.3283283283283283, 0.32932932932932935, 0.3303303303303303, 0.3313313313313313, 0.33233233233233234, 0.3333333333333333, 0.33433433433433435, 0.3353353353353353, 0.3363363363363363, 0.33733733733733734, 0.3383383383383383, 0.33933933933933935, 0.34034034034034033, 0.34134134134134136, 0.34234234234234234, 0.3433433433433433, 0.34434434434434436, 0.34534534534534533, 0.34634634634634637, 0.34734734734734735, 0.3483483483483483, 0.34934934934934936, 0.35035035035035034, 0.35135135135135137, 0.35235235235235235, 0.3533533533533533, 0.35435435435435436, 0.35535535535535534, 0.3563563563563564, 0.35735735735735735, 0.35835835835835833, 0.35935935935935936, 0.36036036036036034, 0.3613613613613614, 0.36236236236236236, 0.36336336336336333, 0.36436436436436437, 0.36536536536536535, 0.3663663663663664, 0.36736736736736736, 0.3683683683683684, 0.36936936936936937, 0.37037037037037035, 0.3713713713713714, 0.37237237237237236, 0.3733733733733734, 0.3743743743743744, 0.37537537537537535, 0.3763763763763764, 0.37737737737737737, 0.3783783783783784, 0.3793793793793794, 0.38038038038038036, 0.3813813813813814, 0.38238238238238237, 0.3833833833833834, 0.3843843843843844, 0.38538538538538536, 0.3863863863863864, 0.38738738738738737, 0.3883883883883884, 0.3893893893893894, 0.39039039039039036, 0.3913913913913914, 0.3923923923923924, 0.3933933933933934, 0.3943943943943944, 0.39539539539539537, 0.3963963963963964, 0.3973973973973974, 0.3983983983983984, 0.3993993993993994, 0.40040040040040037, 0.4014014014014014, 0.4024024024024024, 0.4034034034034034, 0.4044044044044044, 0.40540540540540543, 0.4064064064064064, 0.4074074074074074, 0.4084084084084084, 0.4094094094094094, 0.41041041041041043, 0.4114114114114114, 0.4124124124124124, 0.4134134134134134, 0.4144144144144144, 0.41541541541541543, 0.4164164164164164, 0.4174174174174174, 0.4184184184184184, 0.4194194194194194, 0.42042042042042044, 0.4214214214214214, 0.4224224224224224, 0.42342342342342343, 0.4244244244244244, 0.42542542542542544, 0.4264264264264264, 0.4274274274274274, 0.42842842842842843, 0.4294294294294294, 0.43043043043043044, 0.4314314314314314, 0.43243243243243246, 0.43343343343343343, 0.4344344344344344, 0.43543543543543545, 0.4364364364364364, 0.43743743743743746, 0.43843843843843844, 0.4394394394394394, 0.44044044044044045, 0.44144144144144143, 0.44244244244244246, 0.44344344344344344, 0.4444444444444444, 0.44544544544544545, 0.44644644644644643, 0.44744744744744747, 0.44844844844844844, 0.4494494494494494, 0.45045045045045046, 0.45145145145145144, 0.45245245245245247, 0.45345345345345345, 0.4544544544544544, 0.45545545545545546, 0.45645645645645644, 0.4574574574574575, 0.45845845845845845, 0.45945945945945943, 0.46046046046046046, 0.46146146146146144, 0.4624624624624625, 0.46346346346346345, 0.46446446446446443, 0.46546546546546547, 0.46646646646646645, 0.4674674674674675, 0.46846846846846846, 0.4694694694694695, 0.47047047047047047, 0.47147147147147145, 0.4724724724724725, 0.47347347347347346, 0.4744744744744745, 0.4754754754754755, 0.47647647647647645, 0.4774774774774775, 0.47847847847847846, 0.4794794794794795, 0.4804804804804805, 0.48148148148148145, 0.4824824824824825, 0.48348348348348347, 0.4844844844844845, 0.4854854854854855, 0.48648648648648646, 0.4874874874874875, 0.48848848848848847, 0.4894894894894895, 0.4904904904904905, 0.49149149149149146, 0.4924924924924925, 0.4934934934934935, 0.4944944944944945, 0.4954954954954955, 0.4964964964964965, 0.4974974974974975, 0.4984984984984985, 0.4994994994994995, 0.5005005005005005, 0.5015015015015015, 0.5025025025025025, 0.5035035035035035, 0.5045045045045045, 0.5055055055055055, 0.5065065065065065, 0.5075075075075075, 0.5085085085085085, 0.5095095095095095, 0.5105105105105106, 0.5115115115115115, 0.5125125125125125, 0.5135135135135135, 0.5145145145145145, 0.5155155155155156, 0.5165165165165165, 0.5175175175175175, 0.5185185185185185, 0.5195195195195195, 0.5205205205205206, 0.5215215215215215, 0.5225225225225225, 0.5235235235235235, 0.5245245245245245, 0.5255255255255256, 0.5265265265265265, 0.5275275275275275, 0.5285285285285285, 0.5295295295295295, 0.5305305305305306, 0.5315315315315315, 0.5325325325325325, 0.5335335335335335, 0.5345345345345345, 0.5355355355355356, 0.5365365365365365, 0.5375375375375375, 0.5385385385385385, 0.5395395395395395, 0.5405405405405406, 0.5415415415415415, 0.5425425425425425, 0.5435435435435435, 0.5445445445445445, 0.5455455455455456, 0.5465465465465466, 0.5475475475475475, 0.5485485485485485, 0.5495495495495496, 0.5505505505505506, 0.5515515515515516, 0.5525525525525525, 0.5535535535535535, 0.5545545545545546, 0.5555555555555556, 0.5565565565565566, 0.5575575575575575, 0.5585585585585585, 0.5595595595595596, 0.5605605605605606, 0.5615615615615616, 0.5625625625625625, 0.5635635635635635, 0.5645645645645646, 0.5655655655655656, 0.5665665665665666, 0.5675675675675675, 0.5685685685685685, 0.5695695695695696, 0.5705705705705706, 0.5715715715715716, 0.5725725725725725, 0.5735735735735735, 0.5745745745745746, 0.5755755755755756, 0.5765765765765766, 0.5775775775775776, 0.5785785785785785, 0.5795795795795796, 0.5805805805805806, 0.5815815815815816, 0.5825825825825826, 0.5835835835835835, 0.5845845845845846, 0.5855855855855856, 0.5865865865865866, 0.5875875875875876, 0.5885885885885885, 0.5895895895895896, 0.5905905905905906, 0.5915915915915916, 0.5925925925925926, 0.5935935935935935, 0.5945945945945946, 0.5955955955955956, 0.5965965965965966, 0.5975975975975976, 0.5985985985985985, 0.5995995995995996, 0.6006006006006006, 0.6016016016016016, 0.6026026026026026, 0.6036036036036035, 0.6046046046046046, 0.6056056056056056, 0.6066066066066066, 0.6076076076076076, 0.6086086086086087, 0.6096096096096096, 0.6106106106106106, 0.6116116116116116, 0.6126126126126126, 0.6136136136136137, 0.6146146146146146, 0.6156156156156156, 0.6166166166166166, 0.6176176176176176, 0.6186186186186187, 0.6196196196196196, 0.6206206206206206, 0.6216216216216216, 0.6226226226226226, 0.6236236236236237, 0.6246246246246246, 0.6256256256256256, 0.6266266266266266, 0.6276276276276276, 0.6286286286286287, 0.6296296296296297, 0.6306306306306306, 0.6316316316316316, 0.6326326326326326, 0.6336336336336337, 0.6346346346346347, 0.6356356356356356, 0.6366366366366366, 0.6376376376376376, 0.6386386386386387, 0.6396396396396397, 0.6406406406406406, 0.6416416416416416, 0.6426426426426426, 0.6436436436436437, 0.6446446446446447, 0.6456456456456456, 0.6466466466466466, 0.6476476476476476, 0.6486486486486487, 0.6496496496496497, 0.6506506506506506, 0.6516516516516516, 0.6526526526526526, 0.6536536536536537, 0.6546546546546547, 0.6556556556556556, 0.6566566566566566, 0.6576576576576576, 0.6586586586586587, 0.6596596596596597, 0.6606606606606606, 0.6616616616616616, 0.6626626626626626, 0.6636636636636637, 0.6646646646646647, 0.6656656656656657, 0.6666666666666666, 0.6676676676676676, 0.6686686686686687, 0.6696696696696697, 0.6706706706706707, 0.6716716716716716, 0.6726726726726726, 0.6736736736736737, 0.6746746746746747, 0.6756756756756757, 0.6766766766766766, 0.6776776776776777, 0.6786786786786787, 0.6796796796796797, 0.6806806806806807, 0.6816816816816816, 0.6826826826826827, 0.6836836836836837, 0.6846846846846847, 0.6856856856856857, 0.6866866866866866, 0.6876876876876877, 0.6886886886886887, 0.6896896896896897, 0.6906906906906907, 0.6916916916916916, 0.6926926926926927, 0.6936936936936937, 0.6946946946946947, 0.6956956956956957, 0.6966966966966966, 0.6976976976976977, 0.6986986986986987, 0.6996996996996997, 0.7007007007007007, 0.7017017017017017, 0.7027027027027027, 0.7037037037037037, 0.7047047047047047, 0.7057057057057057, 0.7067067067067067, 0.7077077077077077, 0.7087087087087087, 0.7097097097097097, 0.7107107107107107, 0.7117117117117117, 0.7127127127127127, 0.7137137137137137, 0.7147147147147147, 0.7157157157157157, 0.7167167167167167, 0.7177177177177178, 0.7187187187187187, 0.7197197197197197, 0.7207207207207207, 0.7217217217217217, 0.7227227227227228, 0.7237237237237237, 0.7247247247247247, 0.7257257257257257, 0.7267267267267267, 0.7277277277277278, 0.7287287287287287, 0.7297297297297297, 0.7307307307307307, 0.7317317317317317, 0.7327327327327328, 0.7337337337337337, 0.7347347347347347, 0.7357357357357357, 0.7367367367367368, 0.7377377377377378, 0.7387387387387387, 0.7397397397397397, 0.7407407407407407, 0.7417417417417418, 0.7427427427427428, 0.7437437437437437, 0.7447447447447447, 0.7457457457457457, 0.7467467467467468, 0.7477477477477478, 0.7487487487487487, 0.7497497497497497, 0.7507507507507507, 0.7517517517517518, 0.7527527527527528, 0.7537537537537538, 0.7547547547547547, 0.7557557557557557, 0.7567567567567568, 0.7577577577577578, 0.7587587587587588, 0.7597597597597597, 0.7607607607607607, 0.7617617617617618, 0.7627627627627628, 0.7637637637637638, 0.7647647647647647, 0.7657657657657657, 0.7667667667667668, 0.7677677677677678, 0.7687687687687688, 0.7697697697697697, 0.7707707707707707, 0.7717717717717718, 0.7727727727727728, 0.7737737737737738, 0.7747747747747747, 0.7757757757757757, 0.7767767767767768, 0.7777777777777778, 0.7787787787787788, 0.7797797797797797, 0.7807807807807807, 0.7817817817817818, 0.7827827827827828, 0.7837837837837838, 0.7847847847847848, 0.7857857857857857, 0.7867867867867868, 0.7877877877877878, 0.7887887887887888, 0.7897897897897898, 0.7907907907907907, 0.7917917917917918, 0.7927927927927928, 0.7937937937937938, 0.7947947947947948, 0.7957957957957957, 0.7967967967967968, 0.7977977977977978, 0.7987987987987988, 0.7997997997997998, 0.8008008008008007, 0.8018018018018018, 0.8028028028028028, 0.8038038038038038, 0.8048048048048048, 0.8058058058058059, 0.8068068068068068, 0.8078078078078078, 0.8088088088088088, 0.8098098098098098, 0.8108108108108109, 0.8118118118118118, 0.8128128128128128, 0.8138138138138138, 0.8148148148148148, 0.8158158158158159, 0.8168168168168168, 0.8178178178178178, 0.8188188188188188, 0.8198198198198198, 0.8208208208208209, 0.8218218218218218, 0.8228228228228228, 0.8238238238238238, 0.8248248248248248, 0.8258258258258259, 0.8268268268268268, 0.8278278278278278, 0.8288288288288288, 0.8298298298298298, 0.8308308308308309, 0.8318318318318318, 0.8328328328328328, 0.8338338338338338, 0.8348348348348348, 0.8358358358358359, 0.8368368368368369, 0.8378378378378378, 0.8388388388388388, 0.8398398398398398, 0.8408408408408409, 0.8418418418418419, 0.8428428428428428, 0.8438438438438438, 0.8448448448448448, 0.8458458458458459, 0.8468468468468469, 0.8478478478478478, 0.8488488488488488, 0.8498498498498498, 0.8508508508508509, 0.8518518518518519, 0.8528528528528528, 0.8538538538538538, 0.8548548548548548, 0.8558558558558559, 0.8568568568568569, 0.8578578578578578, 0.8588588588588588, 0.8598598598598598, 0.8608608608608609, 0.8618618618618619, 0.8628628628628628, 0.8638638638638638, 0.8648648648648649, 0.8658658658658659, 0.8668668668668669, 0.8678678678678678, 0.8688688688688688, 0.8698698698698699, 0.8708708708708709, 0.8718718718718719, 0.8728728728728729, 0.8738738738738738, 0.8748748748748749, 0.8758758758758759, 0.8768768768768769, 0.8778778778778779, 0.8788788788788788, 0.8798798798798799, 0.8808808808808809, 0.8818818818818819, 0.8828828828828829, 0.8838838838838838, 0.8848848848848849, 0.8858858858858859, 0.8868868868868869, 0.8878878878878879, 0.8888888888888888, 0.8898898898898899, 0.8908908908908909, 0.8918918918918919, 0.8928928928928929, 0.8938938938938938, 0.8948948948948949, 0.8958958958958959, 0.8968968968968969, 0.8978978978978979, 0.8988988988988988, 0.8998998998998999, 0.9009009009009009, 0.9019019019019019, 0.9029029029029029, 0.9039039039039038, 0.9049049049049049, 0.9059059059059059, 0.9069069069069069, 0.9079079079079079, 0.9089089089089089, 0.9099099099099099, 0.9109109109109109, 0.9119119119119119, 0.9129129129129129, 0.9139139139139139, 0.914914914914915, 0.9159159159159159, 0.9169169169169169, 0.9179179179179179, 0.9189189189189189, 0.91991991991992, 0.9209209209209209, 0.9219219219219219, 0.9229229229229229, 0.9239239239239239, 0.924924924924925, 0.9259259259259259, 0.9269269269269269, 0.9279279279279279, 0.9289289289289289, 0.92992992992993, 0.9309309309309309, 0.9319319319319319, 0.9329329329329329, 0.933933933933934, 0.934934934934935, 0.9359359359359359, 0.9369369369369369, 0.9379379379379379, 0.938938938938939, 0.93993993993994, 0.9409409409409409, 0.9419419419419419, 0.9429429429429429, 0.943943943943944, 0.944944944944945, 0.9459459459459459, 0.9469469469469469, 0.9479479479479479, 0.948948948948949, 0.94994994994995, 0.950950950950951, 0.9519519519519519, 0.9529529529529529, 0.953953953953954, 0.954954954954955, 0.955955955955956, 0.9569569569569569, 0.9579579579579579, 0.958958958958959, 0.95995995995996, 0.960960960960961, 0.9619619619619619, 0.9629629629629629, 0.963963963963964, 0.964964964964965, 0.965965965965966, 0.9669669669669669, 0.9679679679679679, 0.968968968968969, 0.96996996996997, 0.970970970970971, 0.9719719719719719, 0.9729729729729729, 0.973973973973974, 0.974974974974975, 0.975975975975976, 0.9769769769769769, 0.9779779779779779, 0.978978978978979, 0.97997997997998, 0.980980980980981, 0.9819819819819819, 0.9829829829829829, 0.983983983983984, 0.984984984984985, 0.985985985985986, 0.986986986986987, 0.9879879879879879, 0.988988988988989, 0.98998998998999, 0.990990990990991, 0.991991991991992, 0.992992992992993, 0.993993993993994, 0.994994994994995, 0.995995995995996, 0.996996996996997, 0.997997997997998, 0.998998998998999, 1.0], \"y\": [7.175912623294056, 7.182861827808644, 7.18699654368662, 7.1883151453373495, 7.186819421196851, 7.182514567266408, 7.175409173731461, 7.165515204702408, 7.152847971143703, 7.137426097069531, 7.119271479108566, 7.098409239555943, 7.074867673052293, 7.0486781870418165, 7.019875236185855, 6.988496250917359, 6.954581560342525, 6.918174309708928, 6.8793203726736465, 6.838068258619918, 6.794469015279943, 6.748576126936682, 6.700445408486612, 6.650134895653347, 6.597704731653133, 6.54321705062031, 6.486735858105257, 6.428326908964794, 6.368057582969027, 6.3059967584503065, 6.242214684324796, 6.176782850812959, 6.10977385919328, 6.041261290914855, 5.971319576394344, 5.900023863822818, 5.82744988829966, 5.753673841606911, 5.678772242932137, 5.602821810839747, 5.525899336781168, 5.448081560431056, 5.369445047119556, 5.290066067626191, 5.210020480586889, 5.129383617754899, 5.048230172345634, 4.9666340906782125, 4.884668467319651, 4.802405443917318, 4.7199161118970165, 4.637270419185247, 4.554537081104124, 4.4717834955656395, 4.389075662687656, 4.306478108927407, 4.224053815822, 4.141864153407212, 4.059968818369526, 3.978425776976025, 3.897291212806539, 3.816619479304489, 3.7364630571431143, 3.656872516394538, 3.5778964834733897, 3.499581612814616, 3.4219725632331897, 3.3451119789007353, 3.269040474863604, 3.1937966270150686, 3.1194169664252493, 3.045935977921545, 2.973386102804332, 2.901797745573821, 2.831199284535688, 2.761617086146699, 2.693075522955911, 2.6255969949878257, 2.559201954413778, 2.4939089333482465, 2.429734574607235, 2.3666936652595867, 2.3047991728013733, 2.2440622837809885, 2.1844924447008887, 2.1260974050224455, 2.068883262098786, 2.012854507862497, 1.9580140770940453, 1.904363397101424, 1.8519024386397795, 1.8006297679057603, 1.7505425994419097, 1.7016368497909151, 1.6539071917433616, 1.6073471090256717, 1.5619489512816704, 1.517703989202786, 1.4746024696701612, 1.4326336707754155, 1.3917859565925252, 1.3520468315794845, 1.3134029944944237, 1.275840391716239, 1.2393442698664798, 1.2038992276349922, 1.1694892667191363, 1.1360978417911678, 1.1037079094160702, 1.0723019758475378, 1.0418621436368198, 1.0123701569945898, 0.983807445852693, 0.9561551685783676, 0.9293942532997317, 0.9035054378066584, 0.8784693079974017, 0.8542663348461569, 0.8308769098725598, 0.8082813790991508, 0.7864600754872261, 0.7653933498473523, 0.7450616002238165, 0.7254452997581886, 0.7065250230396349, 0.6882814709550096, 0.6706954940541776, 0.6537481144497853, 0.637420546274488, 0.6216942147201076, 0.6065507736876897, 0.5919721220781757, 0.5779404187569235, 0.564438096226597, 0.5514478730451154, 0.538952765026617, 0.5269360952650762, 0.5153815030211792, 0.5042729515141394, 0.4935947346608433, 0.48333148280549926, 0.47346816748313303, 0.4639901052607852, 0.4548829607002281, 0.446132748486192, 0.43772583476349913, 0.429648937726808, 0.42188912750563595, 0.4144338253872221, 0.4072708024189205, 0.40038817743116073, 0.3937744145211486, 0.3874183200365557, 0.38130903909753766, 0.375436051694206, 0.36978916839579756, 0.36435852570644556, 0.3591345811012442, 0.3541081077753487, 0.349270189137134, 0.3446122130755484, 0.3401258660303048, 0.33580312689223596, 0.3316362607599086, 0.32761781257719136, 0.32374060067517, 0.31999771024055146, 0.3163824867313653, 0.31288852925941113, 0.3095096839578662, 0.3062400373509453, 0.30307390974159387, 0.30000584863172, 0.29703062218862697, 0.2941432127699224, 0.2913388105182989, 0.28861280703642367, 0.2859607891512356, 0.2833785327759638, 0.2808619968772113, 0.27840731755367887, 0.2760108022320994, 0.2736689239853496, 0.27137831597670353, 0.269135766033739, 0.26693821135450496, 0.26478273334800084, 0.2626665526105486, 0.26058702403877626, 0.2585416320797943, 0.2565279861182724, 0.2545438160000432, 0.2525869676911467, 0.25065539907103446, 0.24874717585833095, 0.24686046766702696, 0.2449935441909728, 0.2431447715141168, 0.241312608543784, 0.23949560356408267, 0.23769239090634212, 0.23590168773342612, 0.23412229093452913, 0.2323530741271041, 0.23059298476237358, 0.2288410413309523, 0.22709633066492774, 0.22535800533292244, 0.2236252811244311, 0.22189743462000966, 0.2201738008436588, 0.21845377099398827, 0.21673679025073136, 0.21502235565317376, 0.21331001404732725, 0.2115993600985339, 0.20989003436646447, 0.20818172143945085, 0.20647414812531004, 0.20476708169580266, 0.2030603281820893, 0.20135373071859897, 0.19964716793291867, 0.19794055237930636, 0.19623382901370756, 0.19452697370822075, 0.19281999180296316, 0.19111291669364083, 0.1894058084530897, 0.18769875248519807, 0.18599185820970976, 0.18428525777682414, 0.18257910480989684, 0.1808735731758082, 0.17916885578126354, 0.1774651633947362, 0.175762723492976, 0.17406177913136633, 0.1723625878377717, 0.170665420529061, 0.16897056045004283, 0.16727830213461553, 0.16558895038839405, 0.16390281929323597, 0.16222023123297383, 0.16054151594059143, 0.15886700956670108, 0.15719705376935034, 0.15553199482535932, 0.1538721827629958, 0.1522179705164499, 0.15056971310208817, 0.14892776681678477, 0.14729248845833, 0.14566423456855748, 0.14404336069900223, 0.1424302206995243, 0.14082516603026266, 0.13922854509697913, 0.1376407026100968, 0.13606197896775155, 0.1344927096629879, 0.13293322471545863, 0.13138384812760404, 0.1298448973656963, 0.12831668286590922, 0.12679950756527758, 0.1252936664581637, 0.12379944617768593, 0.12231712460283749, 0.12084697049073918, 0.11938924313435384, 0.117944192045614, 0.11651205666374753, 0.11509306608884023, 0.11368743884040132, 0.11229538264087, 0.11091709422376911, 0.10955275916634487, 0.10820255174637385, 0.10686663482289104, 0.10554515974046177, 0.1042382662566954, 0.10294608249254188, 0.10166872490503799, 0.10040629828198058, 0.09915889575811598, 0.09792659885230803, 0.09670947752519896, 0.09550759025680561, 0.09432098414346946, 0.09314969501364176, 0.0919937475618251, 0.09085315550012105, 0.08972792172671444, 0.08861803851070854, 0.0875234876925267, 0.08644424089945457, 0.08538025977534677, 0.08433149622410159, 0.08329789266602448, 0.08227938230656404, 0.08127588941647478, 0.08028732962305614, 0.07931361021145912, 0.07835463043561615, 0.07741028183787645, 0.07648044857696962, 0.07556500776319718, 0.07466382980063364, 0.0737767787353357, 0.07290371260900567, 0.07204448381752594, 0.07119893947359422, 0.07036692177286241, 0.06954826836305099, 0.06874281271520333, 0.06795038449672615, 0.06717080994534791, 0.06640391224365293, 0.06564951189338361, 0.0649074270891105, 0.06417747409063661, 0.06345946759353124, 0.06275322109731488, 0.06205854727081239, 0.06137525831397917, 0.06070316631581938, 0.06004208360789686, 0.059391823112865394, 0.05875219868748832, 0.05812302545989838, 0.05750412016030084, 0.056895301444927195, 0.056296390212617724, 0.05570720991365559, 0.05512758685044047, 0.05455735046945964, 0.05399633364424821, 0.0534443729488915, 0.0529013089216107, 0.052366986318107545, 0.05184125435424291, 0.05132396693765736, 0.05081498288801574, 0.050314166145450354, 0.04982138596690243, 0.04933651711002149, 0.04885944000425775, 0.0483900409088734, 0.04792821205757777, 0.047473851789441975, 0.04702686466589518, 0.0465871615734984, 0.046154659812247464, 0.04572928316922854, 0.04531096197738749, 0.04489963315920219, 0.04449524025517491, 0.04409773343687068, 0.04370706950451488, 0.04332321186895177, 0.04294613051792382, 0.042575801966629495, 0.04221220919248348, 0.04185534155414731, 0.04150519469481651, 0.04116177042982435, 0.04082507661863688, 0.04049512702141514, 0.04017194114017879, 0.039855544044886386, 0.039545966184527256, 0.03924324318349944, 0.038947415623631826, 0.03865852881198107, 0.03837663253496729, 0.03810178079899943, 0.037834031558196805, 0.03757344642951536, 0.0373200903957841, 0.03707403149723936, 0.036835340511972944, 0.036604090625957264, 0.03638035709322903, 0.03616421688687152, 0.03595574834143493, 0.03575503078751638, 0.03556214417925625, 0.035377168715395646, 0.03520018445479339, 0.03503127092713677, 0.03487050673964975, 0.03471796918071195, 0.03457373382117436, 0.03443787411430678, 0.03431046099525276, 0.03419156248089701, 0.034081243271069823, 0.03397956435201513, 0.03388658260307128, 0.03380235040749508, 0.033726915268376303, 0.03366031943059264, 0.03360259950971441, 0.03355378612889727, 0.03351390356452492, 0.03348296940172235, 0.033460994200462287, 0.03344798117330247, 0.033443925875577235, 0.0334488159088551, 0.03346263063860119, 0.03348534092677739, 0.033516908880198364, 0.033557287615408084, 0.03360642104078866, 0.03366424365658002, 0.03373068037353604, 0.03380564635075804, 0.03388904685333164, 0.03398077713031, 0.03408072231351614, 0.034188757337650116, 0.034304746882072364, 0.03442854533466122, 0.03455999677802095, 0.034698934998324375, 0.034845183516986934, 0.03499855564533448, 0.035158854562364776, 0.0353258734156581, 0.035499395445426046, 0.035679194131644706, 0.03586503336415478, 0.03605666763556324, 0.03625384225671748, 0.03645629359447668, 0.03666374933144482, 0.03687592874727767, 0.03709254302112334, 0.037313295554699685, 0.037537882315467716, 0.0377659921992966, 0.03799730741198389, 0.03823150386892557, 0.038468251612205094, 0.03870721524430696, 0.038948054377630006, 0.03919042409892693, 0.039433975447759506, 0.03967835590802199, 0.039923209911548296, 0.04016817935278526, 0.04041290411348861, 0.04065702259636264, 0.040900172266545354, 0.04114199019981531, 0.041382113636377504, 0.041620180539067075, 0.041855830154796866, 0.04208870357806426, 0.04231844431532012, 0.04254469884900326, 0.042767117200037126, 0.04298535348758816, 0.043199066484888506, 0.04340792016993286, 0.04361158426986933, 0.04380973479791716, 0.04400205458166027, 0.04418823378158417, 0.04436797039874674, 0.04454097077049799, 0.044706950053191, 0.04486563269085738, 0.04501675286885462, 0.0451600549515262, 0.04529529390295718, 0.04542223568994426, 0.04554065766634783, 0.04565034893803299, 0.045751110707659234, 0.04584275659862284, 0.045925112957511345, 0.045998019134478485, 0.0460613277410053, 0.04611490488456506, 0.04615863037976947, 0.046192397935630646, 0.04621611531862748, 0.04622970449133233, 0.04623310172640426, 0.04622625769582217, 0.046209137535286014, 0.04618172088377782, 0.04614400189832989, 0.04609598924411107, 0.046037706059994826, 0.045969189899836754, 0.04589049264974032, 0.045801680421646146, 0.045702833423638255, 0.045594045807405725, 0.04547542549335646, 0.0453470939739219, 0.04520918609564534, 0.045061849820682454, 0.04490524596839455, 0.04473954793774656, 0.044564941411265234, 0.044381624041343916, 0.04418980511971263, 0.0439897052309235, 0.04378155589072503, 0.043565599170221965, 0.04334208730673882, 0.043111282302320815, 0.04287345551081879, 0.042628887214516804, 0.04237786619126715, 0.04212068927310049, 0.04185766089728184, 0.04158909265077846, 0.04131530280910188, 0.04103661587047516, 0.04075336208626906, 0.04046587698863019, 0.04017450091621294, 0.03987957853890299, 0.0395814583823975, 0.03928049235348479, 0.038977035266834874, 0.03867144437408541, 0.03836407889597398, 0.0380552995582356, 0.037745468131946326, 0.03743494697896027, 0.03712409860304669, 0.036813285207294995, 0.03650286825831564, 0.036193208057724954, 0.035884663321356654, 0.03557759076660645, 0.0352723447082694, 0.03496927666319116, 0.03466873496401115, 0.03437106438223499, 0.03407660576083481, 0.03378569565653443, 0.033498665991900614, 0.033215843717323855, 0.032937550482936236, 0.0326641023204825, 0.03239580933512629, 0.03213297540714597, 0.03187589790344489, 0.031624867398778136, 0.031380167406572394, 0.031142074119196946, 0.0309108561575256, 0.030686774329613763, 0.030470081398303102, 0.03026102185755631, 0.030059831717317947, 0.029866738296692976, 0.029681960025233323, 0.029505706252125643, 0.02933817706307564, 0.0291795631046938, 0.029030045416194843, 0.028889795268237504, 0.028758974008743846, 0.02863773291555608, 0.028526213055807888, 0.02842454515190625, 0.028332849454046148, 0.028251235619203344, 0.028179802596576844, 0.028118638519481605, 0.028067820603718336, 0.028027415052480242, 0.027997476967884086, 0.027978050269245137, 0.02796916761824602, 0.027970850351180927, 0.027983108418486724, 0.02800594033180272, 0.028039333118830875, 0.028083262286295263, 0.02813769179132782, 0.02820257402163214, 0.0282778497848013, 0.02836344830718692, 0.02845928724273679, 0.028565272692235192, 0.028681299233394724, 0.028807249962259966, 0.02894299654639226, 0.029088399290310596, 0.029243307213665363, 0.02940755814262142, 0.02958097881492171, 0.029763384999094627, 0.029954581628256496, 0.03015436294894465, 0.030362512685397844, 0.03057880421967594, 0.0308030007879862, 0.03103485569355011, 0.03127411253631271, 0.03152050545975653, 0.03177375941504165, 0.032033590442648086, 0.032299705971648614, 0.03257180513668907, 0.03284957911269839, 0.033132711467294025, 0.0334208785307893, 0.03371374978364684, 0.0340109882611595, 0.03431225097507371, 0.03461718935180393, 0.03492544968681954, 0.035236673614714685, 0.035550498594404824, 0.0358665584088219, 0.03618448367841223, 0.036503902387671205, 0.03682444042388163, 0.037145722127155535, 0.037467370850813114, 0.03778900953107024, 0.038110261264943567, 0.038430749895224436, 0.03875010060131665, 0.03906794049468013, 0.039383899217574195, 0.03969760954374858, 0.04000870797968889, 0.04031683536498694, 0.040621637470373964, 0.04092276559192739, 0.04121987713993985, 0.04151263622092212, 0.04180071421120034, 0.04208379032056127, 0.04236155214440037, 0.04263369620283234, 0.04289992846523484, 0.04315996485871519, 0.04341353175901121, 0.04366036646236838, 0.04390021763696973, 0.044132845752536363, 0.04435802348676337, 0.044575536107308134, 0.044785181828106084, 0.04498677213885219, 0.045180132106554735, 0.04536510064814163, 0.045541530773176464, 0.04570928979582472, 0.04586825951529646, 0.04601833636408171, 0.04615943152338895, 0.04629147100529276, 0.046414395701197514, 0.046528161396323604, 0.04663273875002877, 0.04672811324188028, 0.04681428508350116, 0.04689126909632027, 0.04695909455546398, 0.04701780500013343, 0.04706745801091911, 0.04710812495460957, 0.047139890697155074, 0.04716285328555083, 0.0471771235995027, 0.04718282497383753, 0.04718009279271427, 0.04716907405678202, 0.047149926924521114, 0.04712282022908351, 0.047087932972030025, 0.047045453795433984, 0.046995580433891425, 0.04693851914804001, 0.046874484141248035, 0.046803696961185914, 0.04672638588803954, 0.046642785311164454, 0.04655313509601292, 0.04645767994319337, 0.0463566687415433, 0.046250353917107856, 0.04613899077992671, 0.04602283687053004, 0.045902151308039506, 0.045777194141756745, 0.04564822570810326, 0.04551550599474887, 0.045379294013735014, 0.0452398471853598, 0.045097420734548116, 0.044952267101380436, 0.04480463536739692, 0.04465477069923422, 0.04450291381108485, 0.044349300447399466, 0.04419416088717562, 0.0440377194710985, 0.043880194152714824, 0.04372179607473431, 0.04356272917146382, 0.04340318979828473, 0.04324336638899167, 0.04308343914170984, 0.042923579734012146, 0.04276395106775571, 0.04260470704405599, 0.042445992368715546, 0.042287942388322786, 0.042130682957133014, 0.041974330334745166, 0.04181899111448587, 0.04166476218231457, 0.041511730705965935, 0.041359974153951394, 0.041209560343948244, 0.041060547520015055, 0.04091298445798522, 0.040766910598306366, 0.040622356205512494, 0.040479342553440455, 0.040337882135228015, 0.04019797889706389, 0.04005962849459406, 0.03992281857083161, 0.03978752905436004, 0.03965373247657139, 0.0395213943066349, 0.039390473302851975, 0.03926092187901777, 0.03913268648438096, 0.03900570799576699, 0.03887992212041194, 0.038755259808039254, 0.03863164767070253, 0.03850900840891311, 0.03838726124257323, 0.03826632234523992, 0.03814610528025677, 0.038026521437306185, 0.03790748046795379, 0.037788890718782484, 0.03767065966074203, 0.037552694313372804, 0.03743490166259997, 0.03731718907083451, 0.03719946467816217, 0.03708163779344902, 0.03696361927424303, 0.03684532189440477, 0.03672666069845688, 0.036607553341700065, 0.03648792041520601, 0.03636768575485814, 0.03624677673367815, 0.0361251245367406, 0.036002664418046754, 0.03587933593879522, 0.035755083186557936, 0.03562985497493845, 0.035503605023359176, 0.03537629211669462, 0.03524788024453684, 0.035118338719948114, 0.03498764227762531, 0.03485577115146667, 0.034722711131599256, 0.03458845360099048, 0.03445299555182973, 0.0343163395819302, 0.034178493871459416, 0.034039472140366706, 0.033899293586931264, 0.03375798280790853, 0.033615569700804544, 0.0334720893488568, 0.03332758188934579, 0.033182092365906385, 0.033035670565547806, 0.03288837084112977, 0.03274025192007658, 0.032591376700143254, 0.032441812033077, 0.032291628497041855, 0.03214090015869813, 0.03198970432584711, 0.03183812129156765, 0.03168623407078476, 0.03153412813021949, 0.03138189111267736, 0.031229612556634947, 0.031077383612086385, 0.030925296753607372, 0.030773445491591372, 0.03062192408260178, 0.030470827239775823, 0.03032024984419956, 0.030170286658159254, 0.030021032041154166, 0.029872579669535562, 0.0297250222606122, 0.02957845130203796, 0.029432956787268358, 0.029288626957843775, 0.029145548053225005, 0.029003804068873765, 0.028863476523235686, 0.02872464423424729, 0.028587383105950204, 0.02845176592575818, 0.02831786217288151, 0.02818573783837352, 0.02805545525722225, 0.027927072952868615, 0.027800645494489625, 0.02767622336734283, 0.027553852856425202, 0.02743357594365667, 0.027315430218756178, 0.027199448803934916, 0.02708566029248979, 0.026974088701338318, 0.026864753437495108, 0.026757669278449532, 0.02665284636636541, 0.026550290215983794, 0.026450001736073998, 0.026351977264240087, 0.02625620861485599, 0.026162683139868616, 0.02607138380217483, 0.02598228926124863, 0.025895373970664402, 0.025810608287134756, 0.025727958590654756, 0.025647387415320518, 0.025568853590366526, 0.02549231239094489, 0.025417715698151284, 0.025345012167783166, 0.025274147407301453, 0.02520506416045159, 0.02513770249898801, 0.025072000020935722, 0.025007892054812967, 0.024945311869232566, 0.024884190887293288, 0.024824458905169294, 0.02476604431430295, 0.02470887432660539, 0.024652875202070653, 0.024597972478210106, 0.024544091200718984, 0.024491156154789653, 0.024439092096494582, 0.024387823983667213, 0.024337277205718398, 0.024287377811835452, 0.024238052737020725, 0.02418923002543831, 0.024140839050549534, 0.024092810731530644, 0.024045077745479926, 0.02399757473493539, 0.023950238510239214, 0.023903008246300164, 0.023855825673321066, 0.02380863526107439, 0.02376138439632543, 0.023714023553019176, 0.023666506454863814, 0.023618790229960798, 0.023570835557148957, 0.02352260680374648, 0.02347407215439313, 0.02342520373071119, 0.023375977701521746, 0.02332637438337012, 0.023276378331131182, 0.023225978418483076, 0.023175167908054517, 0.023123944511068598, 0.02307231043632264, 0.023020272428360956, 0.022967841794714436, 0.022915034422097854, 0.022861870781472744, 0.02280837592190089, 0.02275457945313057, 0.022700515516874565, 0.022646222746756574, 0.022591744216919646, 0.022537127379308183, 0.022482423989652025, 0.02242769002219979, 0.02237298557326605, 0.02231837475367539, 0.022263925570205352, 0.02220970979614834, 0.022155802831132575, 0.02210228355036089, 0.022049234143446457, 0.021996739943044602, 0.021944889243499924, 0.02189377310974937, 0.021843485176742772, 0.021794121439663396, 0.021745780035253848, 0.021698561014573788, 0.021652566107538587, 0.021607898479610723, 0.021564662481038277, 0.02152296338905783, 0.021482907143501734, 0.021444600076273176, 0.02140814863517489, 0.02137365910260045, 0.021341237309619437, 0.021310988346010477, 0.021283016266817497, 0.021257423796026718, 0.02123431202798221, 0.021213780127178505, 0.021195925027088103, 0.021180841128700282, 0.021168619999465246, 0.02115935007335434, 0.021153116352762, 0.021150000112989446, 0.02115007861006215, 0.021153424792644614, 0.021160107018824596, 0.021170188778546796, 0.021183728422481417, 0.021200778898116255, 0.021221387493862827, 0.02124559559196565, 0.021273438431001164, 0.02130494487874686, 0.021340137216193215, 0.02137903093346084, 0.02142163453837149, 0.021467949378406303, 0.021517969476766055, 0.021571681383226526, 0.021629064040459, 0.021690088666458347, 0.021754718653692346, 0.02182290948555328, 0.021894608670658358, 0.02196975569550789, 0.022048281995969705, 0.02213011094801642, 0.022215157878096237, 0.022303330093471265, 0.022394526932807166, 0.022488639837246523, 0.022585552442144323, 0.022685140689588476, 0.02278727296177099, 0.022891810235216612, 0.02299860625581565, 0.023107507734546454, 0.02321835456371075, 0.023330980053442175, 0.02344521118818517, 0.023560868902776963, 0.02367776837770245, 0.023795719353027624, 0.023914526460454177, 0.02403398957287549, 0.024153904170752423, 0.02427406172456695, 0.024394250092552843, 0.024514253932844468, 0.024633855129130487, 0.02475283322884436, 0.024870965892873756, 0.024988029355721593, 0.025103798895006652, 0.025218049309147932, 0.025330555402038844, 0.025441092473479927, 0.025549436814107686, 0.025655366203527364]}],\n",
       "                        {\"template\": {\"data\": {\"bar\": [{\"error_x\": {\"color\": \"#2a3f5f\"}, \"error_y\": {\"color\": \"#2a3f5f\"}, \"marker\": {\"line\": {\"color\": \"#E5ECF6\", \"width\": 0.5}}, \"type\": \"bar\"}], \"barpolar\": [{\"marker\": {\"line\": {\"color\": \"#E5ECF6\", \"width\": 0.5}}, \"type\": \"barpolar\"}], \"carpet\": [{\"aaxis\": {\"endlinecolor\": \"#2a3f5f\", \"gridcolor\": \"white\", \"linecolor\": \"white\", \"minorgridcolor\": \"white\", \"startlinecolor\": \"#2a3f5f\"}, \"baxis\": {\"endlinecolor\": \"#2a3f5f\", \"gridcolor\": \"white\", \"linecolor\": \"white\", \"minorgridcolor\": \"white\", \"startlinecolor\": \"#2a3f5f\"}, \"type\": \"carpet\"}], \"choropleth\": [{\"colorbar\": {\"outlinewidth\": 0, \"ticks\": \"\"}, \"type\": \"choropleth\"}], \"contour\": [{\"colorbar\": {\"outlinewidth\": 0, \"ticks\": \"\"}, \"colorscale\": [[0.0, \"#0d0887\"], [0.1111111111111111, \"#46039f\"], [0.2222222222222222, \"#7201a8\"], [0.3333333333333333, \"#9c179e\"], [0.4444444444444444, \"#bd3786\"], [0.5555555555555556, \"#d8576b\"], [0.6666666666666666, \"#ed7953\"], [0.7777777777777778, \"#fb9f3a\"], [0.8888888888888888, \"#fdca26\"], [1.0, \"#f0f921\"]], \"type\": \"contour\"}], \"contourcarpet\": [{\"colorbar\": {\"outlinewidth\": 0, \"ticks\": \"\"}, \"type\": \"contourcarpet\"}], \"heatmap\": [{\"colorbar\": {\"outlinewidth\": 0, \"ticks\": \"\"}, \"colorscale\": [[0.0, \"#0d0887\"], [0.1111111111111111, \"#46039f\"], [0.2222222222222222, \"#7201a8\"], [0.3333333333333333, \"#9c179e\"], [0.4444444444444444, \"#bd3786\"], [0.5555555555555556, \"#d8576b\"], [0.6666666666666666, \"#ed7953\"], [0.7777777777777778, \"#fb9f3a\"], [0.8888888888888888, \"#fdca26\"], [1.0, \"#f0f921\"]], \"type\": \"heatmap\"}], \"heatmapgl\": [{\"colorbar\": {\"outlinewidth\": 0, \"ticks\": \"\"}, \"colorscale\": [[0.0, \"#0d0887\"], [0.1111111111111111, \"#46039f\"], [0.2222222222222222, \"#7201a8\"], [0.3333333333333333, \"#9c179e\"], [0.4444444444444444, \"#bd3786\"], [0.5555555555555556, \"#d8576b\"], [0.6666666666666666, \"#ed7953\"], [0.7777777777777778, \"#fb9f3a\"], [0.8888888888888888, \"#fdca26\"], [1.0, \"#f0f921\"]], \"type\": \"heatmapgl\"}], \"histogram\": [{\"marker\": {\"colorbar\": {\"outlinewidth\": 0, \"ticks\": \"\"}}, \"type\": \"histogram\"}], \"histogram2d\": [{\"colorbar\": {\"outlinewidth\": 0, \"ticks\": \"\"}, \"colorscale\": [[0.0, \"#0d0887\"], [0.1111111111111111, \"#46039f\"], [0.2222222222222222, \"#7201a8\"], [0.3333333333333333, \"#9c179e\"], [0.4444444444444444, \"#bd3786\"], [0.5555555555555556, \"#d8576b\"], [0.6666666666666666, \"#ed7953\"], [0.7777777777777778, \"#fb9f3a\"], [0.8888888888888888, \"#fdca26\"], [1.0, \"#f0f921\"]], \"type\": \"histogram2d\"}], \"histogram2dcontour\": [{\"colorbar\": {\"outlinewidth\": 0, \"ticks\": \"\"}, \"colorscale\": [[0.0, \"#0d0887\"], [0.1111111111111111, \"#46039f\"], [0.2222222222222222, \"#7201a8\"], [0.3333333333333333, \"#9c179e\"], [0.4444444444444444, \"#bd3786\"], [0.5555555555555556, \"#d8576b\"], [0.6666666666666666, \"#ed7953\"], [0.7777777777777778, \"#fb9f3a\"], [0.8888888888888888, \"#fdca26\"], [1.0, \"#f0f921\"]], \"type\": \"histogram2dcontour\"}], \"mesh3d\": [{\"colorbar\": {\"outlinewidth\": 0, \"ticks\": \"\"}, \"type\": \"mesh3d\"}], \"parcoords\": [{\"line\": {\"colorbar\": {\"outlinewidth\": 0, \"ticks\": \"\"}}, \"type\": \"parcoords\"}], \"pie\": [{\"automargin\": true, \"type\": \"pie\"}], \"scatter\": [{\"marker\": {\"colorbar\": {\"outlinewidth\": 0, \"ticks\": \"\"}}, \"type\": \"scatter\"}], \"scatter3d\": [{\"line\": {\"colorbar\": {\"outlinewidth\": 0, \"ticks\": \"\"}}, \"marker\": {\"colorbar\": {\"outlinewidth\": 0, \"ticks\": \"\"}}, \"type\": \"scatter3d\"}], \"scattercarpet\": [{\"marker\": {\"colorbar\": {\"outlinewidth\": 0, \"ticks\": \"\"}}, \"type\": \"scattercarpet\"}], \"scattergeo\": [{\"marker\": {\"colorbar\": {\"outlinewidth\": 0, \"ticks\": \"\"}}, \"type\": \"scattergeo\"}], \"scattergl\": [{\"marker\": {\"colorbar\": {\"outlinewidth\": 0, \"ticks\": \"\"}}, \"type\": \"scattergl\"}], \"scattermapbox\": [{\"marker\": {\"colorbar\": {\"outlinewidth\": 0, \"ticks\": \"\"}}, \"type\": \"scattermapbox\"}], \"scatterpolar\": [{\"marker\": {\"colorbar\": {\"outlinewidth\": 0, \"ticks\": \"\"}}, \"type\": \"scatterpolar\"}], \"scatterpolargl\": [{\"marker\": {\"colorbar\": {\"outlinewidth\": 0, \"ticks\": \"\"}}, \"type\": \"scatterpolargl\"}], \"scatterternary\": [{\"marker\": {\"colorbar\": {\"outlinewidth\": 0, \"ticks\": \"\"}}, \"type\": \"scatterternary\"}], \"surface\": [{\"colorbar\": {\"outlinewidth\": 0, \"ticks\": \"\"}, \"colorscale\": [[0.0, \"#0d0887\"], [0.1111111111111111, \"#46039f\"], [0.2222222222222222, \"#7201a8\"], [0.3333333333333333, \"#9c179e\"], [0.4444444444444444, \"#bd3786\"], [0.5555555555555556, \"#d8576b\"], [0.6666666666666666, \"#ed7953\"], [0.7777777777777778, \"#fb9f3a\"], [0.8888888888888888, \"#fdca26\"], [1.0, \"#f0f921\"]], \"type\": \"surface\"}], \"table\": [{\"cells\": {\"fill\": {\"color\": \"#EBF0F8\"}, \"line\": {\"color\": \"white\"}}, \"header\": {\"fill\": {\"color\": \"#C8D4E3\"}, \"line\": {\"color\": \"white\"}}, \"type\": \"table\"}]}, \"layout\": {\"annotationdefaults\": {\"arrowcolor\": \"#2a3f5f\", \"arrowhead\": 0, \"arrowwidth\": 1}, \"coloraxis\": {\"colorbar\": {\"outlinewidth\": 0, \"ticks\": \"\"}}, \"colorscale\": {\"diverging\": [[0, \"#8e0152\"], [0.1, \"#c51b7d\"], [0.2, \"#de77ae\"], [0.3, \"#f1b6da\"], [0.4, \"#fde0ef\"], [0.5, \"#f7f7f7\"], [0.6, \"#e6f5d0\"], [0.7, \"#b8e186\"], [0.8, \"#7fbc41\"], [0.9, \"#4d9221\"], [1, \"#276419\"]], \"sequential\": [[0.0, \"#0d0887\"], [0.1111111111111111, \"#46039f\"], [0.2222222222222222, \"#7201a8\"], [0.3333333333333333, \"#9c179e\"], [0.4444444444444444, \"#bd3786\"], [0.5555555555555556, \"#d8576b\"], [0.6666666666666666, \"#ed7953\"], [0.7777777777777778, \"#fb9f3a\"], [0.8888888888888888, \"#fdca26\"], [1.0, \"#f0f921\"]], \"sequentialminus\": [[0.0, \"#0d0887\"], [0.1111111111111111, \"#46039f\"], [0.2222222222222222, \"#7201a8\"], [0.3333333333333333, \"#9c179e\"], [0.4444444444444444, \"#bd3786\"], [0.5555555555555556, \"#d8576b\"], [0.6666666666666666, \"#ed7953\"], [0.7777777777777778, \"#fb9f3a\"], [0.8888888888888888, \"#fdca26\"], [1.0, \"#f0f921\"]]}, \"colorway\": [\"#636efa\", \"#EF553B\", \"#00cc96\", \"#ab63fa\", \"#FFA15A\", \"#19d3f3\", \"#FF6692\", \"#B6E880\", \"#FF97FF\", \"#FECB52\"], \"font\": {\"color\": \"#2a3f5f\"}, \"geo\": {\"bgcolor\": \"white\", \"lakecolor\": \"white\", \"landcolor\": \"#E5ECF6\", \"showlakes\": true, \"showland\": true, \"subunitcolor\": \"white\"}, \"hoverlabel\": {\"align\": \"left\"}, \"hovermode\": \"closest\", \"mapbox\": {\"style\": \"light\"}, \"paper_bgcolor\": \"white\", \"plot_bgcolor\": \"#E5ECF6\", \"polar\": {\"angularaxis\": {\"gridcolor\": \"white\", \"linecolor\": \"white\", \"ticks\": \"\"}, \"bgcolor\": \"#E5ECF6\", \"radialaxis\": {\"gridcolor\": \"white\", \"linecolor\": \"white\", \"ticks\": \"\"}}, \"scene\": {\"xaxis\": {\"backgroundcolor\": \"#E5ECF6\", \"gridcolor\": \"white\", \"gridwidth\": 2, \"linecolor\": \"white\", \"showbackground\": true, \"ticks\": \"\", \"zerolinecolor\": \"white\"}, \"yaxis\": {\"backgroundcolor\": \"#E5ECF6\", \"gridcolor\": \"white\", \"gridwidth\": 2, \"linecolor\": \"white\", \"showbackground\": true, \"ticks\": \"\", \"zerolinecolor\": \"white\"}, \"zaxis\": {\"backgroundcolor\": \"#E5ECF6\", \"gridcolor\": \"white\", \"gridwidth\": 2, \"linecolor\": \"white\", \"showbackground\": true, \"ticks\": \"\", \"zerolinecolor\": \"white\"}}, \"shapedefaults\": {\"line\": {\"color\": \"#2a3f5f\"}}, \"ternary\": {\"aaxis\": {\"gridcolor\": \"white\", \"linecolor\": \"white\", \"ticks\": \"\"}, \"baxis\": {\"gridcolor\": \"white\", \"linecolor\": \"white\", \"ticks\": \"\"}, \"bgcolor\": \"#E5ECF6\", \"caxis\": {\"gridcolor\": \"white\", \"linecolor\": \"white\", \"ticks\": \"\"}}, \"title\": {\"x\": 0.05}, \"xaxis\": {\"automargin\": true, \"gridcolor\": \"white\", \"linecolor\": \"white\", \"ticks\": \"\", \"title\": {\"standoff\": 15}, \"zerolinecolor\": \"white\", \"zerolinewidth\": 2}, \"yaxis\": {\"automargin\": true, \"gridcolor\": \"white\", \"linecolor\": \"white\", \"ticks\": \"\", \"title\": {\"standoff\": 15}, \"zerolinecolor\": \"white\", \"zerolinewidth\": 2}}}},\n",
       "                        {\"responsive\": true}\n",
       "                    ).then(function(){\n",
       "                            \n",
       "var gd = document.getElementById('f371d56d-92b7-4230-8777-1cb9596d310b');\n",
       "var x = new MutationObserver(function (mutations, observer) {{\n",
       "        var display = window.getComputedStyle(gd).display;\n",
       "        if (!display || display === 'none') {{\n",
       "            console.log([gd, 'removed!']);\n",
       "            Plotly.purge(gd);\n",
       "            observer.disconnect();\n",
       "        }}\n",
       "}});\n",
       "\n",
       "// Listen for the removal of the full notebook cells\n",
       "var notebookContainer = gd.closest('#notebook-container');\n",
       "if (notebookContainer) {{\n",
       "    x.observe(notebookContainer, {childList: true});\n",
       "}}\n",
       "\n",
       "// Listen for the clearing of the current output cell\n",
       "var outputEl = gd.closest('.output');\n",
       "if (outputEl) {{\n",
       "    x.observe(outputEl, {childList: true});\n",
       "}}\n",
       "\n",
       "                        })\n",
       "                };\n",
       "                });\n",
       "            </script>\n",
       "        </div>"
      ]
     },
     "metadata": {},
     "output_type": "display_data"
    }
   ],
   "source": [
    "from sklearn.cluster import MeanShift, estimate_bandwidth\n",
    "\n",
    "a= 0.05\n",
    "r = gamma.rvs(a, size=1000).reshape(-1,1)\n",
    "\n",
    "bandwidth = estimate_bandwidth(r, quantile=0.2, n_samples=len(r))\n",
    "\n",
    "X_plot = np.linspace(0,1,len(r))\n",
    "kde = KernelDensity(kernel='gaussian', bandwidth=bandwidth).fit(r)\n",
    "log_dens = kde.score_samples(X_plot.reshape(-1,1))\n",
    "\n",
    "\n",
    "fig= [go.Scatter(x=X_plot, y=np.exp(log_dens), \n",
    "                            mode='lines', fill='tozeroy',\n",
    "                            line=dict(color='blue', width=2))]\n",
    "##\n",
    "\n",
    "layout= go.Layout()\n",
    "\n",
    "\n",
    "fig = go.Figure(data=fig, layout= layout)\n",
    "iplot(fig)"
   ]
  },
  {
   "cell_type": "code",
   "execution_count": null,
   "metadata": {},
   "outputs": [],
   "source": []
  }
 ],
 "metadata": {
  "kernelspec": {
   "display_name": "Python 3",
   "language": "python",
   "name": "python3"
  },
  "language_info": {
   "codemirror_mode": {
    "name": "ipython",
    "version": 3
   },
   "file_extension": ".py",
   "mimetype": "text/x-python",
   "name": "python",
   "nbconvert_exporter": "python",
   "pygments_lexer": "ipython3",
   "version": "3.6.9"
  }
 },
 "nbformat": 4,
 "nbformat_minor": 2
}
